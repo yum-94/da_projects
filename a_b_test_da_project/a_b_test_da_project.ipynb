{
 "cells": [
  {
   "cell_type": "markdown",
   "metadata": {},
   "source": [
    "# Проект: Принятие решений в бизнесе."
   ]
  },
  {
   "cell_type": "markdown",
   "metadata": {},
   "source": [
    "\n",
    "**Описание проекта**: Вы — аналитик крупного интернет-магазина. Вместе с отделом маркетинга вы подготовили список гипотез для увеличения выручки. "
   ]
  },
  {
   "cell_type": "markdown",
   "metadata": {},
   "source": [
    "**Цель исследования**: Приоритизировать гипотезы, изучить кумулятивную выручку, кумулятивный средний чек, конверсию пользователей и их изменения. На основе этих данных запустить A/B-тест и проанализировать результаты. "
   ]
  },
  {
   "cell_type": "markdown",
   "metadata": {},
   "source": [
    "**Ход исследования**:\n",
    "- Приоритизация гипотез методами ICE и RICE\n",
    "- Построение графиков кумулятивной выручки, кумулятивного среднего чека, графиков их изменений, их анализ\n",
    "- Построение графиков конверсии, их анализ\n",
    "- Поиск аномальных пользователей и выбросов\n",
    "- Подсчет статистической значимости различий в среднем чеке и конверсии между пользователями по \"сырым\" данным\n",
    "- Подсчет статистической значимости различий в среднем чеке и конверсии между пользователями по \"очищенным\" данным\n",
    "- Решение по итогам теста."
   ]
  },
  {
   "cell_type": "code",
   "execution_count": 1,
   "metadata": {},
   "outputs": [],
   "source": [
    "# Импортируем библиотеки\n",
    "import pandas as pd\n",
    "import matplotlib.pyplot as plt\n",
    "import numpy as np\n",
    "import seaborn as sns\n",
    "sns.set(rc={'figure.figsize':(20, 15)})\n",
    "import datetime as dt\n",
    "import scipy.stats as stats\n",
    "import warnings\n",
    "warnings.simplefilter('ignore')"
   ]
  },
  {
   "cell_type": "code",
   "execution_count": 2,
   "metadata": {},
   "outputs": [],
   "source": [
    "# Загружаем датасеты\n",
    "pd.set_option('display.max_columns', None)\n",
    "df = pd.read_csv('/datasets/hypothesis.csv')\n",
    "orders = pd.read_csv('/datasets/orders.csv', parse_dates=['date'])\n",
    "visitors = pd.read_csv('/datasets/visitors.csv', parse_dates=['date'])"
   ]
  },
  {
   "cell_type": "code",
   "execution_count": 3,
   "metadata": {},
   "outputs": [
    {
     "name": "stdout",
     "output_type": "stream",
     "text": [
      "<class 'pandas.core.frame.DataFrame'>\n",
      "RangeIndex: 1197 entries, 0 to 1196\n",
      "Data columns (total 5 columns):\n",
      " #   Column         Non-Null Count  Dtype         \n",
      "---  ------         --------------  -----         \n",
      " 0   transactionId  1197 non-null   int64         \n",
      " 1   visitorId      1197 non-null   int64         \n",
      " 2   date           1197 non-null   datetime64[ns]\n",
      " 3   revenue        1197 non-null   int64         \n",
      " 4   group          1197 non-null   object        \n",
      "dtypes: datetime64[ns](1), int64(3), object(1)\n",
      "memory usage: 46.9+ KB\n"
     ]
    },
    {
     "data": {
      "text/plain": [
       "None"
      ]
     },
     "metadata": {},
     "output_type": "display_data"
    },
    {
     "name": "stdout",
     "output_type": "stream",
     "text": [
      "<class 'pandas.core.frame.DataFrame'>\n",
      "RangeIndex: 62 entries, 0 to 61\n",
      "Data columns (total 3 columns):\n",
      " #   Column    Non-Null Count  Dtype         \n",
      "---  ------    --------------  -----         \n",
      " 0   date      62 non-null     datetime64[ns]\n",
      " 1   group     62 non-null     object        \n",
      " 2   visitors  62 non-null     int64         \n",
      "dtypes: datetime64[ns](1), int64(1), object(1)\n",
      "memory usage: 1.6+ KB\n"
     ]
    },
    {
     "data": {
      "text/plain": [
       "None"
      ]
     },
     "metadata": {},
     "output_type": "display_data"
    }
   ],
   "source": [
    "# Выведем общую информацию о датафреймах visitors и orders, проверяем тип данных\n",
    "display(orders.info())\n",
    "display(visitors.info())"
   ]
  },
  {
   "cell_type": "code",
   "execution_count": 4,
   "metadata": {},
   "outputs": [
    {
     "data": {
      "text/plain": [
       "0"
      ]
     },
     "metadata": {},
     "output_type": "display_data"
    },
    {
     "data": {
      "text/plain": [
       "0"
      ]
     },
     "metadata": {},
     "output_type": "display_data"
    }
   ],
   "source": [
    "# Проверим наличие явных дубликатов в датасетах orders и visitors\n",
    "display(orders.duplicated().sum())\n",
    "display(visitors.duplicated().sum())"
   ]
  },
  {
   "cell_type": "code",
   "execution_count": 5,
   "metadata": {},
   "outputs": [],
   "source": [
    "# Скорректируем наименование столбцов\n",
    "orders = orders.rename(columns={'transactionId': 'transaction_id', 'visitorId': 'visitor_id',})"
   ]
  },
  {
   "cell_type": "code",
   "execution_count": 6,
   "metadata": {},
   "outputs": [
    {
     "data": {
      "text/html": [
       "<div>\n",
       "<style scoped>\n",
       "    .dataframe tbody tr th:only-of-type {\n",
       "        vertical-align: middle;\n",
       "    }\n",
       "\n",
       "    .dataframe tbody tr th {\n",
       "        vertical-align: top;\n",
       "    }\n",
       "\n",
       "    .dataframe thead th {\n",
       "        text-align: right;\n",
       "    }\n",
       "</style>\n",
       "<table border=\"1\" class=\"dataframe\">\n",
       "  <thead>\n",
       "    <tr style=\"text-align: right;\">\n",
       "      <th></th>\n",
       "      <th>transaction_id</th>\n",
       "      <th>visitor_id</th>\n",
       "      <th>date</th>\n",
       "      <th>revenue</th>\n",
       "      <th>group</th>\n",
       "    </tr>\n",
       "  </thead>\n",
       "  <tbody>\n",
       "    <tr>\n",
       "      <th>0</th>\n",
       "      <td>3667963787</td>\n",
       "      <td>3312258926</td>\n",
       "      <td>2019-08-15</td>\n",
       "      <td>1650</td>\n",
       "      <td>B</td>\n",
       "    </tr>\n",
       "    <tr>\n",
       "      <th>1</th>\n",
       "      <td>2804400009</td>\n",
       "      <td>3642806036</td>\n",
       "      <td>2019-08-15</td>\n",
       "      <td>730</td>\n",
       "      <td>B</td>\n",
       "    </tr>\n",
       "    <tr>\n",
       "      <th>2</th>\n",
       "      <td>2961555356</td>\n",
       "      <td>4069496402</td>\n",
       "      <td>2019-08-15</td>\n",
       "      <td>400</td>\n",
       "      <td>A</td>\n",
       "    </tr>\n",
       "    <tr>\n",
       "      <th>3</th>\n",
       "      <td>3797467345</td>\n",
       "      <td>1196621759</td>\n",
       "      <td>2019-08-15</td>\n",
       "      <td>9759</td>\n",
       "      <td>B</td>\n",
       "    </tr>\n",
       "    <tr>\n",
       "      <th>4</th>\n",
       "      <td>2282983706</td>\n",
       "      <td>2322279887</td>\n",
       "      <td>2019-08-15</td>\n",
       "      <td>2308</td>\n",
       "      <td>B</td>\n",
       "    </tr>\n",
       "  </tbody>\n",
       "</table>\n",
       "</div>"
      ],
      "text/plain": [
       "   transaction_id  visitor_id       date  revenue group\n",
       "0      3667963787  3312258926 2019-08-15     1650     B\n",
       "1      2804400009  3642806036 2019-08-15      730     B\n",
       "2      2961555356  4069496402 2019-08-15      400     A\n",
       "3      3797467345  1196621759 2019-08-15     9759     B\n",
       "4      2282983706  2322279887 2019-08-15     2308     B"
      ]
     },
     "metadata": {},
     "output_type": "display_data"
    },
    {
     "data": {
      "text/html": [
       "<div>\n",
       "<style scoped>\n",
       "    .dataframe tbody tr th:only-of-type {\n",
       "        vertical-align: middle;\n",
       "    }\n",
       "\n",
       "    .dataframe tbody tr th {\n",
       "        vertical-align: top;\n",
       "    }\n",
       "\n",
       "    .dataframe thead th {\n",
       "        text-align: right;\n",
       "    }\n",
       "</style>\n",
       "<table border=\"1\" class=\"dataframe\">\n",
       "  <thead>\n",
       "    <tr style=\"text-align: right;\">\n",
       "      <th></th>\n",
       "      <th>date</th>\n",
       "      <th>group</th>\n",
       "      <th>visitors</th>\n",
       "    </tr>\n",
       "  </thead>\n",
       "  <tbody>\n",
       "    <tr>\n",
       "      <th>0</th>\n",
       "      <td>2019-08-01</td>\n",
       "      <td>A</td>\n",
       "      <td>719</td>\n",
       "    </tr>\n",
       "    <tr>\n",
       "      <th>1</th>\n",
       "      <td>2019-08-02</td>\n",
       "      <td>A</td>\n",
       "      <td>619</td>\n",
       "    </tr>\n",
       "    <tr>\n",
       "      <th>2</th>\n",
       "      <td>2019-08-03</td>\n",
       "      <td>A</td>\n",
       "      <td>507</td>\n",
       "    </tr>\n",
       "    <tr>\n",
       "      <th>3</th>\n",
       "      <td>2019-08-04</td>\n",
       "      <td>A</td>\n",
       "      <td>717</td>\n",
       "    </tr>\n",
       "    <tr>\n",
       "      <th>4</th>\n",
       "      <td>2019-08-05</td>\n",
       "      <td>A</td>\n",
       "      <td>756</td>\n",
       "    </tr>\n",
       "  </tbody>\n",
       "</table>\n",
       "</div>"
      ],
      "text/plain": [
       "        date group  visitors\n",
       "0 2019-08-01     A       719\n",
       "1 2019-08-02     A       619\n",
       "2 2019-08-03     A       507\n",
       "3 2019-08-04     A       717\n",
       "4 2019-08-05     A       756"
      ]
     },
     "metadata": {},
     "output_type": "display_data"
    }
   ],
   "source": [
    "# Выведем первые 5 строк датасетов orders и visitors\n",
    "display(orders.head())\n",
    "display(visitors.head())"
   ]
  },
  {
   "cell_type": "markdown",
   "metadata": {},
   "source": [
    "## Приоритизация гипотез."
   ]
  },
  {
   "cell_type": "markdown",
   "metadata": {},
   "source": [
    "### Примените фреймворк ICE для приоритизации гипотез. Отсортируйте их по убыванию приоритета."
   ]
  },
  {
   "cell_type": "code",
   "execution_count": 7,
   "metadata": {},
   "outputs": [
    {
     "data": {
      "text/html": [
       "<div>\n",
       "<style scoped>\n",
       "    .dataframe tbody tr th:only-of-type {\n",
       "        vertical-align: middle;\n",
       "    }\n",
       "\n",
       "    .dataframe tbody tr th {\n",
       "        vertical-align: top;\n",
       "    }\n",
       "\n",
       "    .dataframe thead th {\n",
       "        text-align: right;\n",
       "    }\n",
       "</style>\n",
       "<table border=\"1\" class=\"dataframe\">\n",
       "  <thead>\n",
       "    <tr style=\"text-align: right;\">\n",
       "      <th></th>\n",
       "      <th>Hypothesis</th>\n",
       "      <th>Reach</th>\n",
       "      <th>Impact</th>\n",
       "      <th>Confidence</th>\n",
       "      <th>Efforts</th>\n",
       "    </tr>\n",
       "  </thead>\n",
       "  <tbody>\n",
       "    <tr>\n",
       "      <th>0</th>\n",
       "      <td>Добавить два новых канала привлечения трафика, что позволит привлекать на 30% больше пользователей</td>\n",
       "      <td>3</td>\n",
       "      <td>10</td>\n",
       "      <td>8</td>\n",
       "      <td>6</td>\n",
       "    </tr>\n",
       "    <tr>\n",
       "      <th>1</th>\n",
       "      <td>Запустить собственную службу доставки, что сократит срок доставки заказов</td>\n",
       "      <td>2</td>\n",
       "      <td>5</td>\n",
       "      <td>4</td>\n",
       "      <td>10</td>\n",
       "    </tr>\n",
       "    <tr>\n",
       "      <th>2</th>\n",
       "      <td>Добавить блоки рекомендаций товаров на сайт интернет магазина, чтобы повысить конверсию и средний чек заказа</td>\n",
       "      <td>8</td>\n",
       "      <td>3</td>\n",
       "      <td>7</td>\n",
       "      <td>3</td>\n",
       "    </tr>\n",
       "    <tr>\n",
       "      <th>3</th>\n",
       "      <td>Изменить структура категорий, что увеличит конверсию, т.к. пользователи быстрее найдут нужный товар</td>\n",
       "      <td>8</td>\n",
       "      <td>3</td>\n",
       "      <td>3</td>\n",
       "      <td>8</td>\n",
       "    </tr>\n",
       "    <tr>\n",
       "      <th>4</th>\n",
       "      <td>Изменить цвет фона главной страницы, чтобы увеличить вовлеченность пользователей</td>\n",
       "      <td>3</td>\n",
       "      <td>1</td>\n",
       "      <td>1</td>\n",
       "      <td>1</td>\n",
       "    </tr>\n",
       "    <tr>\n",
       "      <th>5</th>\n",
       "      <td>Добавить страницу отзывов клиентов о магазине, что позволит увеличить количество заказов</td>\n",
       "      <td>3</td>\n",
       "      <td>2</td>\n",
       "      <td>2</td>\n",
       "      <td>3</td>\n",
       "    </tr>\n",
       "    <tr>\n",
       "      <th>6</th>\n",
       "      <td>Показать на главной странице баннеры с актуальными акциями и распродажами, чтобы увеличить конверсию</td>\n",
       "      <td>5</td>\n",
       "      <td>3</td>\n",
       "      <td>8</td>\n",
       "      <td>3</td>\n",
       "    </tr>\n",
       "    <tr>\n",
       "      <th>7</th>\n",
       "      <td>Добавить форму подписки на все основные страницы, чтобы собрать базу клиентов для email-рассылок</td>\n",
       "      <td>10</td>\n",
       "      <td>7</td>\n",
       "      <td>8</td>\n",
       "      <td>5</td>\n",
       "    </tr>\n",
       "    <tr>\n",
       "      <th>8</th>\n",
       "      <td>Запустить акцию, дающую скидку на товар в день рождения</td>\n",
       "      <td>1</td>\n",
       "      <td>9</td>\n",
       "      <td>9</td>\n",
       "      <td>5</td>\n",
       "    </tr>\n",
       "  </tbody>\n",
       "</table>\n",
       "</div>"
      ],
      "text/plain": [
       "                                                                                                     Hypothesis  \\\n",
       "0            Добавить два новых канала привлечения трафика, что позволит привлекать на 30% больше пользователей   \n",
       "1                                     Запустить собственную службу доставки, что сократит срок доставки заказов   \n",
       "2  Добавить блоки рекомендаций товаров на сайт интернет магазина, чтобы повысить конверсию и средний чек заказа   \n",
       "3           Изменить структура категорий, что увеличит конверсию, т.к. пользователи быстрее найдут нужный товар   \n",
       "4                              Изменить цвет фона главной страницы, чтобы увеличить вовлеченность пользователей   \n",
       "5                      Добавить страницу отзывов клиентов о магазине, что позволит увеличить количество заказов   \n",
       "6          Показать на главной странице баннеры с актуальными акциями и распродажами, чтобы увеличить конверсию   \n",
       "7              Добавить форму подписки на все основные страницы, чтобы собрать базу клиентов для email-рассылок   \n",
       "8                                                       Запустить акцию, дающую скидку на товар в день рождения   \n",
       "\n",
       "   Reach  Impact  Confidence  Efforts  \n",
       "0      3      10           8        6  \n",
       "1      2       5           4       10  \n",
       "2      8       3           7        3  \n",
       "3      8       3           3        8  \n",
       "4      3       1           1        1  \n",
       "5      3       2           2        3  \n",
       "6      5       3           8        3  \n",
       "7     10       7           8        5  \n",
       "8      1       9           9        5  "
      ]
     },
     "metadata": {},
     "output_type": "display_data"
    }
   ],
   "source": [
    "# Рассмотрим таблицу гипотез с параматерами Reach, Impact, Confidence, Effort.\n",
    "pd.options.display.max_colwidth = 120\n",
    "display(df)"
   ]
  },
  {
   "cell_type": "code",
   "execution_count": 8,
   "metadata": {},
   "outputs": [
    {
     "data": {
      "text/html": [
       "<div>\n",
       "<style scoped>\n",
       "    .dataframe tbody tr th:only-of-type {\n",
       "        vertical-align: middle;\n",
       "    }\n",
       "\n",
       "    .dataframe tbody tr th {\n",
       "        vertical-align: top;\n",
       "    }\n",
       "\n",
       "    .dataframe thead th {\n",
       "        text-align: right;\n",
       "    }\n",
       "</style>\n",
       "<table border=\"1\" class=\"dataframe\">\n",
       "  <thead>\n",
       "    <tr style=\"text-align: right;\">\n",
       "      <th></th>\n",
       "      <th>Hypothesis</th>\n",
       "      <th>Reach</th>\n",
       "      <th>Impact</th>\n",
       "      <th>Confidence</th>\n",
       "      <th>Efforts</th>\n",
       "      <th>ICE</th>\n",
       "    </tr>\n",
       "  </thead>\n",
       "  <tbody>\n",
       "    <tr>\n",
       "      <th>8</th>\n",
       "      <td>Запустить акцию, дающую скидку на товар в день рождения</td>\n",
       "      <td>1</td>\n",
       "      <td>9</td>\n",
       "      <td>9</td>\n",
       "      <td>5</td>\n",
       "      <td>16.20</td>\n",
       "    </tr>\n",
       "    <tr>\n",
       "      <th>0</th>\n",
       "      <td>Добавить два новых канала привлечения трафика, что позволит привлекать на 30% больше пользователей</td>\n",
       "      <td>3</td>\n",
       "      <td>10</td>\n",
       "      <td>8</td>\n",
       "      <td>6</td>\n",
       "      <td>13.33</td>\n",
       "    </tr>\n",
       "    <tr>\n",
       "      <th>7</th>\n",
       "      <td>Добавить форму подписки на все основные страницы, чтобы собрать базу клиентов для email-рассылок</td>\n",
       "      <td>10</td>\n",
       "      <td>7</td>\n",
       "      <td>8</td>\n",
       "      <td>5</td>\n",
       "      <td>11.20</td>\n",
       "    </tr>\n",
       "    <tr>\n",
       "      <th>6</th>\n",
       "      <td>Показать на главной странице баннеры с актуальными акциями и распродажами, чтобы увеличить конверсию</td>\n",
       "      <td>5</td>\n",
       "      <td>3</td>\n",
       "      <td>8</td>\n",
       "      <td>3</td>\n",
       "      <td>8.00</td>\n",
       "    </tr>\n",
       "    <tr>\n",
       "      <th>2</th>\n",
       "      <td>Добавить блоки рекомендаций товаров на сайт интернет магазина, чтобы повысить конверсию и средний чек заказа</td>\n",
       "      <td>8</td>\n",
       "      <td>3</td>\n",
       "      <td>7</td>\n",
       "      <td>3</td>\n",
       "      <td>7.00</td>\n",
       "    </tr>\n",
       "    <tr>\n",
       "      <th>1</th>\n",
       "      <td>Запустить собственную службу доставки, что сократит срок доставки заказов</td>\n",
       "      <td>2</td>\n",
       "      <td>5</td>\n",
       "      <td>4</td>\n",
       "      <td>10</td>\n",
       "      <td>2.00</td>\n",
       "    </tr>\n",
       "    <tr>\n",
       "      <th>5</th>\n",
       "      <td>Добавить страницу отзывов клиентов о магазине, что позволит увеличить количество заказов</td>\n",
       "      <td>3</td>\n",
       "      <td>2</td>\n",
       "      <td>2</td>\n",
       "      <td>3</td>\n",
       "      <td>1.33</td>\n",
       "    </tr>\n",
       "    <tr>\n",
       "      <th>3</th>\n",
       "      <td>Изменить структура категорий, что увеличит конверсию, т.к. пользователи быстрее найдут нужный товар</td>\n",
       "      <td>8</td>\n",
       "      <td>3</td>\n",
       "      <td>3</td>\n",
       "      <td>8</td>\n",
       "      <td>1.12</td>\n",
       "    </tr>\n",
       "    <tr>\n",
       "      <th>4</th>\n",
       "      <td>Изменить цвет фона главной страницы, чтобы увеличить вовлеченность пользователей</td>\n",
       "      <td>3</td>\n",
       "      <td>1</td>\n",
       "      <td>1</td>\n",
       "      <td>1</td>\n",
       "      <td>1.00</td>\n",
       "    </tr>\n",
       "  </tbody>\n",
       "</table>\n",
       "</div>"
      ],
      "text/plain": [
       "                                                                                                     Hypothesis  \\\n",
       "8                                                       Запустить акцию, дающую скидку на товар в день рождения   \n",
       "0            Добавить два новых канала привлечения трафика, что позволит привлекать на 30% больше пользователей   \n",
       "7              Добавить форму подписки на все основные страницы, чтобы собрать базу клиентов для email-рассылок   \n",
       "6          Показать на главной странице баннеры с актуальными акциями и распродажами, чтобы увеличить конверсию   \n",
       "2  Добавить блоки рекомендаций товаров на сайт интернет магазина, чтобы повысить конверсию и средний чек заказа   \n",
       "1                                     Запустить собственную службу доставки, что сократит срок доставки заказов   \n",
       "5                      Добавить страницу отзывов клиентов о магазине, что позволит увеличить количество заказов   \n",
       "3           Изменить структура категорий, что увеличит конверсию, т.к. пользователи быстрее найдут нужный товар   \n",
       "4                              Изменить цвет фона главной страницы, чтобы увеличить вовлеченность пользователей   \n",
       "\n",
       "   Reach  Impact  Confidence  Efforts    ICE  \n",
       "8      1       9           9        5  16.20  \n",
       "0      3      10           8        6  13.33  \n",
       "7     10       7           8        5  11.20  \n",
       "6      5       3           8        3   8.00  \n",
       "2      8       3           7        3   7.00  \n",
       "1      2       5           4       10   2.00  \n",
       "5      3       2           2        3   1.33  \n",
       "3      8       3           3        8   1.12  \n",
       "4      3       1           1        1   1.00  "
      ]
     },
     "execution_count": 8,
     "metadata": {},
     "output_type": "execute_result"
    }
   ],
   "source": [
    "# Применим фреймворк ICE как отношение произведения параметров Impact и Confidence к Efforts\n",
    "df['ICE'] = df['Impact'] * df['Confidence']/ df['Efforts']\n",
    "# Сортируем по убыванию приоритета\n",
    "df.sort_values(by = 'ICE', ascending=False).round(2)"
   ]
  },
  {
   "cell_type": "markdown",
   "metadata": {},
   "source": [
    "При применении фреймворка ICE наиболее приоритетной будет гипотеза 8: \"Запустить акцию, дающую скидку на товар в день рождения\t\"."
   ]
  },
  {
   "cell_type": "markdown",
   "metadata": {},
   "source": [
    "### Примените фреймворк RICE для приоритизации гипотез. Отсортируйте их по убыванию приоритета."
   ]
  },
  {
   "cell_type": "code",
   "execution_count": 28,
   "metadata": {
    "scrolled": true
   },
   "outputs": [
    {
     "data": {
      "text/html": [
       "<div>\n",
       "<style scoped>\n",
       "    .dataframe tbody tr th:only-of-type {\n",
       "        vertical-align: middle;\n",
       "    }\n",
       "\n",
       "    .dataframe tbody tr th {\n",
       "        vertical-align: top;\n",
       "    }\n",
       "\n",
       "    .dataframe thead th {\n",
       "        text-align: right;\n",
       "    }\n",
       "</style>\n",
       "<table border=\"1\" class=\"dataframe\">\n",
       "  <thead>\n",
       "    <tr style=\"text-align: right;\">\n",
       "      <th></th>\n",
       "      <th>Hypothesis</th>\n",
       "      <th>Reach</th>\n",
       "      <th>Impact</th>\n",
       "      <th>Confidence</th>\n",
       "      <th>Efforts</th>\n",
       "      <th>ICE</th>\n",
       "      <th>RICE</th>\n",
       "    </tr>\n",
       "  </thead>\n",
       "  <tbody>\n",
       "    <tr>\n",
       "      <th>7</th>\n",
       "      <td>Добавить форму подписки на все основные страницы, чтобы собрать базу клиентов для email-рассылок</td>\n",
       "      <td>10</td>\n",
       "      <td>7</td>\n",
       "      <td>8</td>\n",
       "      <td>5</td>\n",
       "      <td>11.20</td>\n",
       "      <td>112.0</td>\n",
       "    </tr>\n",
       "    <tr>\n",
       "      <th>2</th>\n",
       "      <td>Добавить блоки рекомендаций товаров на сайт интернет магазина, чтобы повысить конверсию и средний чек заказа</td>\n",
       "      <td>8</td>\n",
       "      <td>3</td>\n",
       "      <td>7</td>\n",
       "      <td>3</td>\n",
       "      <td>7.00</td>\n",
       "      <td>56.0</td>\n",
       "    </tr>\n",
       "    <tr>\n",
       "      <th>0</th>\n",
       "      <td>Добавить два новых канала привлечения трафика, что позволит привлекать на 30% больше пользователей</td>\n",
       "      <td>3</td>\n",
       "      <td>10</td>\n",
       "      <td>8</td>\n",
       "      <td>6</td>\n",
       "      <td>13.33</td>\n",
       "      <td>40.0</td>\n",
       "    </tr>\n",
       "    <tr>\n",
       "      <th>6</th>\n",
       "      <td>Показать на главной странице баннеры с актуальными акциями и распродажами, чтобы увеличить конверсию</td>\n",
       "      <td>5</td>\n",
       "      <td>3</td>\n",
       "      <td>8</td>\n",
       "      <td>3</td>\n",
       "      <td>8.00</td>\n",
       "      <td>40.0</td>\n",
       "    </tr>\n",
       "    <tr>\n",
       "      <th>8</th>\n",
       "      <td>Запустить акцию, дающую скидку на товар в день рождения</td>\n",
       "      <td>1</td>\n",
       "      <td>9</td>\n",
       "      <td>9</td>\n",
       "      <td>5</td>\n",
       "      <td>16.20</td>\n",
       "      <td>16.2</td>\n",
       "    </tr>\n",
       "    <tr>\n",
       "      <th>3</th>\n",
       "      <td>Изменить структура категорий, что увеличит конверсию, т.к. пользователи быстрее найдут нужный товар</td>\n",
       "      <td>8</td>\n",
       "      <td>3</td>\n",
       "      <td>3</td>\n",
       "      <td>8</td>\n",
       "      <td>1.12</td>\n",
       "      <td>9.0</td>\n",
       "    </tr>\n",
       "    <tr>\n",
       "      <th>1</th>\n",
       "      <td>Запустить собственную службу доставки, что сократит срок доставки заказов</td>\n",
       "      <td>2</td>\n",
       "      <td>5</td>\n",
       "      <td>4</td>\n",
       "      <td>10</td>\n",
       "      <td>2.00</td>\n",
       "      <td>4.0</td>\n",
       "    </tr>\n",
       "    <tr>\n",
       "      <th>5</th>\n",
       "      <td>Добавить страницу отзывов клиентов о магазине, что позволит увеличить количество заказов</td>\n",
       "      <td>3</td>\n",
       "      <td>2</td>\n",
       "      <td>2</td>\n",
       "      <td>3</td>\n",
       "      <td>1.33</td>\n",
       "      <td>4.0</td>\n",
       "    </tr>\n",
       "    <tr>\n",
       "      <th>4</th>\n",
       "      <td>Изменить цвет фона главной страницы, чтобы увеличить вовлеченность пользователей</td>\n",
       "      <td>3</td>\n",
       "      <td>1</td>\n",
       "      <td>1</td>\n",
       "      <td>1</td>\n",
       "      <td>1.00</td>\n",
       "      <td>3.0</td>\n",
       "    </tr>\n",
       "  </tbody>\n",
       "</table>\n",
       "</div>"
      ],
      "text/plain": [
       "                                                                                                     Hypothesis  \\\n",
       "7              Добавить форму подписки на все основные страницы, чтобы собрать базу клиентов для email-рассылок   \n",
       "2  Добавить блоки рекомендаций товаров на сайт интернет магазина, чтобы повысить конверсию и средний чек заказа   \n",
       "0            Добавить два новых канала привлечения трафика, что позволит привлекать на 30% больше пользователей   \n",
       "6          Показать на главной странице баннеры с актуальными акциями и распродажами, чтобы увеличить конверсию   \n",
       "8                                                       Запустить акцию, дающую скидку на товар в день рождения   \n",
       "3           Изменить структура категорий, что увеличит конверсию, т.к. пользователи быстрее найдут нужный товар   \n",
       "1                                     Запустить собственную службу доставки, что сократит срок доставки заказов   \n",
       "5                      Добавить страницу отзывов клиентов о магазине, что позволит увеличить количество заказов   \n",
       "4                              Изменить цвет фона главной страницы, чтобы увеличить вовлеченность пользователей   \n",
       "\n",
       "   Reach  Impact  Confidence  Efforts    ICE   RICE  \n",
       "7     10       7           8        5  11.20  112.0  \n",
       "2      8       3           7        3   7.00   56.0  \n",
       "0      3      10           8        6  13.33   40.0  \n",
       "6      5       3           8        3   8.00   40.0  \n",
       "8      1       9           9        5  16.20   16.2  \n",
       "3      8       3           3        8   1.12    9.0  \n",
       "1      2       5           4       10   2.00    4.0  \n",
       "5      3       2           2        3   1.33    4.0  \n",
       "4      3       1           1        1   1.00    3.0  "
      ]
     },
     "execution_count": 28,
     "metadata": {},
     "output_type": "execute_result"
    }
   ],
   "source": [
    "# # Применим фреймворк RICE как отношение произведения параметров Reach, Impact и Confidence к Efforts\n",
    "df['RICE'] = df['Reach']* df['Impact'] * df['Confidence']/ df['Efforts']\n",
    "# Сортируем по убыванию приоритета\n",
    "df.sort_values(by = 'RICE', ascending=False).round(2)"
   ]
  },
  {
   "cell_type": "markdown",
   "metadata": {},
   "source": [
    "При применении фреймворка RICE наиболее приоритетной будет гипотеза 7: \"Добавить форму подписки на все основные страницы, чтобы собрать базу клиентов для email-рассылок\"."
   ]
  },
  {
   "cell_type": "markdown",
   "metadata": {},
   "source": [
    "Приоритет поменялся, т.к. метод RICE в отличие от ICE учитывает параметр Reach - охват пользователей. С учетом охвата пользователей гипотеза номер 8, которая была наиболее приоритетная при применении фреймворка ICE сместилась на пятое место. Это логично, потому что запуск акции для пользователей в день их рождения будет иметь сравнительно небольшой охват."
   ]
  },
  {
   "cell_type": "markdown",
   "metadata": {},
   "source": [
    "## Анализ A/B-теста."
   ]
  },
  {
   "cell_type": "code",
   "execution_count": 10,
   "metadata": {},
   "outputs": [
    {
     "data": {
      "text/html": [
       "<div>\n",
       "<style scoped>\n",
       "    .dataframe tbody tr th:only-of-type {\n",
       "        vertical-align: middle;\n",
       "    }\n",
       "\n",
       "    .dataframe tbody tr th {\n",
       "        vertical-align: top;\n",
       "    }\n",
       "\n",
       "    .dataframe thead th {\n",
       "        text-align: right;\n",
       "    }\n",
       "</style>\n",
       "<table border=\"1\" class=\"dataframe\">\n",
       "  <thead>\n",
       "    <tr style=\"text-align: right;\">\n",
       "      <th></th>\n",
       "      <th>date</th>\n",
       "      <th>group</th>\n",
       "      <th>orders</th>\n",
       "      <th>buyers</th>\n",
       "      <th>revenue</th>\n",
       "      <th>visitors</th>\n",
       "    </tr>\n",
       "  </thead>\n",
       "  <tbody>\n",
       "    <tr>\n",
       "      <th>0</th>\n",
       "      <td>2019-08-01</td>\n",
       "      <td>A</td>\n",
       "      <td>24</td>\n",
       "      <td>20</td>\n",
       "      <td>148579</td>\n",
       "      <td>719</td>\n",
       "    </tr>\n",
       "    <tr>\n",
       "      <th>1</th>\n",
       "      <td>2019-08-01</td>\n",
       "      <td>B</td>\n",
       "      <td>21</td>\n",
       "      <td>20</td>\n",
       "      <td>101217</td>\n",
       "      <td>713</td>\n",
       "    </tr>\n",
       "    <tr>\n",
       "      <th>2</th>\n",
       "      <td>2019-08-02</td>\n",
       "      <td>A</td>\n",
       "      <td>44</td>\n",
       "      <td>38</td>\n",
       "      <td>242401</td>\n",
       "      <td>1338</td>\n",
       "    </tr>\n",
       "    <tr>\n",
       "      <th>3</th>\n",
       "      <td>2019-08-02</td>\n",
       "      <td>B</td>\n",
       "      <td>45</td>\n",
       "      <td>43</td>\n",
       "      <td>266748</td>\n",
       "      <td>1294</td>\n",
       "    </tr>\n",
       "    <tr>\n",
       "      <th>4</th>\n",
       "      <td>2019-08-03</td>\n",
       "      <td>A</td>\n",
       "      <td>68</td>\n",
       "      <td>62</td>\n",
       "      <td>354874</td>\n",
       "      <td>1845</td>\n",
       "    </tr>\n",
       "  </tbody>\n",
       "</table>\n",
       "</div>"
      ],
      "text/plain": [
       "        date group  orders  buyers  revenue  visitors\n",
       "0 2019-08-01     A      24      20   148579       719\n",
       "1 2019-08-01     B      21      20   101217       713\n",
       "2 2019-08-02     A      44      38   242401      1338\n",
       "3 2019-08-02     B      45      43   266748      1294\n",
       "4 2019-08-03     A      68      62   354874      1845"
      ]
     },
     "metadata": {},
     "output_type": "display_data"
    },
    {
     "data": {
      "text/html": [
       "<div>\n",
       "<style scoped>\n",
       "    .dataframe tbody tr th:only-of-type {\n",
       "        vertical-align: middle;\n",
       "    }\n",
       "\n",
       "    .dataframe tbody tr th {\n",
       "        vertical-align: top;\n",
       "    }\n",
       "\n",
       "    .dataframe thead th {\n",
       "        text-align: right;\n",
       "    }\n",
       "</style>\n",
       "<table border=\"1\" class=\"dataframe\">\n",
       "  <thead>\n",
       "    <tr style=\"text-align: right;\">\n",
       "      <th></th>\n",
       "      <th>date</th>\n",
       "      <th>group</th>\n",
       "      <th>orders</th>\n",
       "      <th>buyers</th>\n",
       "      <th>revenue</th>\n",
       "      <th>visitors</th>\n",
       "    </tr>\n",
       "  </thead>\n",
       "  <tbody>\n",
       "    <tr>\n",
       "      <th>57</th>\n",
       "      <td>2019-08-29</td>\n",
       "      <td>B</td>\n",
       "      <td>596</td>\n",
       "      <td>544</td>\n",
       "      <td>5559398</td>\n",
       "      <td>17708</td>\n",
       "    </tr>\n",
       "    <tr>\n",
       "      <th>58</th>\n",
       "      <td>2019-08-30</td>\n",
       "      <td>A</td>\n",
       "      <td>545</td>\n",
       "      <td>493</td>\n",
       "      <td>4022970</td>\n",
       "      <td>18037</td>\n",
       "    </tr>\n",
       "    <tr>\n",
       "      <th>59</th>\n",
       "      <td>2019-08-30</td>\n",
       "      <td>B</td>\n",
       "      <td>620</td>\n",
       "      <td>567</td>\n",
       "      <td>5774631</td>\n",
       "      <td>18198</td>\n",
       "    </tr>\n",
       "    <tr>\n",
       "      <th>60</th>\n",
       "      <td>2019-08-31</td>\n",
       "      <td>A</td>\n",
       "      <td>557</td>\n",
       "      <td>503</td>\n",
       "      <td>4084803</td>\n",
       "      <td>18736</td>\n",
       "    </tr>\n",
       "    <tr>\n",
       "      <th>61</th>\n",
       "      <td>2019-08-31</td>\n",
       "      <td>B</td>\n",
       "      <td>640</td>\n",
       "      <td>586</td>\n",
       "      <td>5907760</td>\n",
       "      <td>18916</td>\n",
       "    </tr>\n",
       "  </tbody>\n",
       "</table>\n",
       "</div>"
      ],
      "text/plain": [
       "         date group  orders  buyers  revenue  visitors\n",
       "57 2019-08-29     B     596     544  5559398     17708\n",
       "58 2019-08-30     A     545     493  4022970     18037\n",
       "59 2019-08-30     B     620     567  5774631     18198\n",
       "60 2019-08-31     A     557     503  4084803     18736\n",
       "61 2019-08-31     B     640     586  5907760     18916"
      ]
     },
     "metadata": {},
     "output_type": "display_data"
    }
   ],
   "source": [
    "# создаем массив уникальных пар значений дат и групп теста\n",
    "grouped_dates = orders[['date','group']].drop_duplicates()\n",
    "\n",
    "# получаем агрегированные кумулятивные по дням данные о заказах \n",
    "aggregated_orders = grouped_dates.apply(lambda x: orders[np.logical_and(orders['date'] <= x['date'], orders['group'] == x['group'])]\\\n",
    "                                 .agg({'date' : 'max', 'group' : 'max', 'transaction_id' : 'nunique', 'visitor_id' : 'nunique', 'revenue' : 'sum'}), axis=1).sort_values(by=['date','group'])\n",
    "\n",
    "# получаем агрегированные кумулятивные по дням данные о посетителях интернет-магазина \n",
    "aggregated_visitors = grouped_dates.apply(lambda x: visitors[np.logical_and(visitors['date'] <= x['date'], visitors['group'] == x['group'])]\\\n",
    "                                   .agg({'date' : 'max', 'group' : 'max', 'visitors' : 'sum'}), axis=1).sort_values(by=['date','group'])\n",
    "\n",
    "# объединяем кумулятивные данные в одной таблице и присваиваем ее столбцам понятные названия\n",
    "cumulative_data = aggregated_orders.merge(aggregated_visitors, left_on=['date', 'group'], right_on=['date', 'group'])\n",
    "cumulative_data.columns = ['date', 'group', 'orders', 'buyers', 'revenue', 'visitors']\n",
    "\n",
    "display(cumulative_data.head()) \n",
    "display(cumulative_data.tail())"
   ]
  },
  {
   "cell_type": "markdown",
   "metadata": {},
   "source": [
    "### Постройте график кумулятивной выручки по группам. Сделайте выводы и предположения."
   ]
  },
  {
   "cell_type": "code",
   "execution_count": 11,
   "metadata": {},
   "outputs": [
    {
     "data": {
      "image/png": "[encoded data removed]",
      "text/plain": [
       "<Figure size 1440x1080 with 1 Axes>"
      ]
     },
     "metadata": {},
     "output_type": "display_data"
    }
   ],
   "source": [
    "# датафрейм с кумулятивным количеством заказов и кумулятивной выручкой по дням в группе А\n",
    "cumulative_revenue_a = cumulative_data[cumulative_data['group']=='A'][['date','revenue', 'orders']]\n",
    "# датафрейм с кумулятивным количеством заказов и кумулятивной выручкой по дням в группе B\n",
    "cumulative_revenue_b = cumulative_data[cumulative_data['group']=='B'][['date','revenue', 'orders']]\n",
    "\n",
    "# Строим график выручки группы А\n",
    "sns.set_theme(style=\"whitegrid\", palette=\"pastel\")\n",
    "sns.lineplot(data = cumulative_revenue_a, x = 'date', y = 'revenue', label='A', color='Red')\n",
    "# Строим график выручки группы B\n",
    "sns.lineplot(data = cumulative_revenue_b, x = \"date\", y = \"revenue\", label='B', color='Green')\n",
    "plt.ylabel('Выручка', size='x-large')\n",
    "plt.xlabel('Дата', size='x-large')\n",
    "plt.title('График кумулятивной выручки по группам')\n",
    "plt.legend()\n",
    "plt.show()"
   ]
  },
  {
   "cell_type": "markdown",
   "metadata": {},
   "source": [
    "Вывод: выручка обеих групп растет на протяжении рассматриваемого периода. Исходя из полученного графика можно заметить резкий рост выручки группы B 18-08-2019 , вероятно, связанный с каким-то выбросом (например, с дорогим интернет-заказом или большим их количеством). Рост выручки группы А не демонстрирует резких скачков."
   ]
  },
  {
   "cell_type": "markdown",
   "metadata": {},
   "source": [
    "### Постройте график кумулятивного среднего чека по группам. Сделайте выводы и предположения."
   ]
  },
  {
   "cell_type": "code",
   "execution_count": 12,
   "metadata": {},
   "outputs": [
    {
     "data": {
      "image/png": "[encoded data removed]",
      "text/plain": [
       "<Figure size 1440x1080 with 1 Axes>"
      ]
     },
     "metadata": {},
     "output_type": "display_data"
    }
   ],
   "source": [
    "# Строим график среднего чека группы А\n",
    "sns.set_theme(style=\"whitegrid\", palette=\"pastel\")\n",
    "plt.plot(cumulative_revenue_a['date'], cumulative_revenue_a['revenue']/cumulative_revenue_a['orders'], label='A', color='Red')\n",
    "# Строим график среднего чека группы B\n",
    "plt.plot(cumulative_revenue_b['date'], cumulative_revenue_b['revenue']/cumulative_revenue_b['orders'], label='B', color='Green')\n",
    "plt.ylabel('Средний чек', size='x-large')\n",
    "plt.xlabel('Дата', size='x-large')\n",
    "plt.title('График кумулятивного среднего чека по группам')\n",
    "plt.legend()\n",
    "plt.show()"
   ]
  },
  {
   "cell_type": "markdown",
   "metadata": {},
   "source": [
    "Вывод: рост среднего чека группы А наблюдался с 06-08-2019 по 13-08-2019, после показатель стабилизировался в районе 7000 у.е., дальнейшего роста не наблюдалось, как и падения. Рост среднего чека группы B также происходил в указанный ранее период, при этом 18-08-2019 явно произошел выброс, после чего показатель кумулятивного среднего чека начал снижение."
   ]
  },
  {
   "cell_type": "markdown",
   "metadata": {},
   "source": [
    "### Постройте график относительного изменения кумулятивного среднего чека группы B к группе A. Сделайте выводы и предположения."
   ]
  },
  {
   "cell_type": "code",
   "execution_count": 13,
   "metadata": {},
   "outputs": [
    {
     "data": {
      "image/png": "[encoded data removed]",
      "text/plain": [
       "<Figure size 1440x1080 with 1 Axes>"
      ]
     },
     "metadata": {},
     "output_type": "display_data"
    }
   ],
   "source": [
    "# собираем данные в одном датафрейме\n",
    "сum_revenue_merged = cumulative_revenue_a.merge(cumulative_revenue_b, left_on='date', right_on='date', how='left', suffixes=['_A', '_B'])\n",
    "# считаем отношение средних чеков групп А и B \n",
    "сum_revenue_merged['revenue_ratio'] = ((сum_revenue_merged['revenue_B']/сum_revenue_merged['orders_B'])/(сum_revenue_merged['revenue_A']/сum_revenue_merged['orders_A'])-1)\n",
    "# cтроим график отношения средних чеков\n",
    "sns.set_theme(style=\"whitegrid\", palette=\"pastel\")\n",
    "sns.lineplot(data = сum_revenue_merged, x = 'date', y = 'revenue_ratio', color='Green')\n",
    "plt.title('Относительное изменение среднего чека группы B к группе A')\n",
    "plt.ylabel('Отношение средних чеков групп А и B ', size='x-large')\n",
    "plt.xlabel('Дата', size='x-large')\n",
    "# добавляем ось X\n",
    "plt.axhline(y=0, color='black', linestyle='--') \n",
    "plt.show()"
   ]
  },
  {
   "cell_type": "markdown",
   "metadata": {},
   "source": [
    "Вывод: график относительного изменения среднего чека группы B к группе A повторяет динамику графиков среднего чека по группам: группа B росла быстрее группы А до 08-08-2019, потом произошло снижение и стабилизация на одном уровне с группой А, затем выброс существенно изменил соотношение в пользу группы B."
   ]
  },
  {
   "cell_type": "markdown",
   "metadata": {},
   "source": [
    "### Постройте график кумулятивного среднего количества заказов на посетителя по группам. Сделайте выводы и предположения."
   ]
  },
  {
   "cell_type": "code",
   "execution_count": 14,
   "metadata": {},
   "outputs": [
    {
     "data": {
      "image/png": "[encoded data removed]",
      "text/plain": [
       "<Figure size 1440x1080 with 1 Axes>"
      ]
     },
     "metadata": {},
     "output_type": "display_data"
    }
   ],
   "source": [
    "# считаем среднее количество заказов на посетителя\n",
    "cumulative_data['conversion'] = cumulative_data['orders']/cumulative_data['visitors']\n",
    "\n",
    "# отделяем данные по группе A\n",
    "cumulative_data_a = cumulative_data[cumulative_data['group']=='A']\n",
    "\n",
    "# отделяем данные по группе B\n",
    "cumulative_data_b = cumulative_data[cumulative_data['group']=='B']\n",
    "\n",
    "# строим графики\n",
    "sns.set_theme(style=\"whitegrid\", palette=\"pastel\")\n",
    "sns.lineplot(data = cumulative_data_a, x = 'date', y = 'conversion', label='A', color='Red')\n",
    "sns.lineplot(data = cumulative_data_b, x = 'date', y = 'conversion', label='B', color='Green')\n",
    "plt.title('График среднего количества заказов на посетителя по группам')\n",
    "plt.legend()\n",
    "plt.show()"
   ]
  },
  {
   "cell_type": "markdown",
   "metadata": {},
   "source": [
    "Вывод: среднее количество заказов на одного посетителя групп A и B с начала периода сильно разнились, конверсия группы B была гораздо ниже конверсии группы А на старте, но с 06-08-2019 группа B начала опережать группу A по этому показателю, одновременно с этим количество покупок на одного пользователя в группе А за этот период снизилось."
   ]
  },
  {
   "cell_type": "markdown",
   "metadata": {},
   "source": [
    "### Постройте график относительного изменения кумулятивного среднего количества заказов на посетителя группы B к группе A. Сделайте выводы и предположения."
   ]
  },
  {
   "cell_type": "code",
   "execution_count": 15,
   "metadata": {},
   "outputs": [
    {
     "data": {
      "image/png": "[encoded data removed]",
      "text/plain": [
       "<Figure size 1440x1080 with 1 Axes>"
      ]
     },
     "metadata": {},
     "output_type": "display_data"
    }
   ],
   "source": [
    "# собираем данные в одном датафрейме\n",
    "cum_conversion_merged = cumulative_data_a[['date','conversion']].merge(cumulative_data_b[['date','conversion']], left_on='date', right_on='date', how='left', suffixes=['_A', '_B'])\n",
    "# считаем изменение кумулятивного среднего количества заказов на посетителя группы B к группе A\n",
    "cum_conversion_merged['conversion_ratio'] = cum_conversion_merged['conversion_B']/cum_conversion_merged['conversion_A']-1\n",
    "# cтроим график отношения конверсии группы B к группе А\n",
    "sns.set_theme(style=\"whitegrid\", palette=\"pastel\")\n",
    "sns.lineplot(data = cum_conversion_merged, x = 'date', y = 'conversion_ratio', color='Green')\n",
    "plt.title('Относительное изменения кумулятивного среднего количества заказов на посетителя группы B к группе A')\n",
    "plt.ylabel('Отношение конверсии групп А и B ', size='x-large')\n",
    "plt.xlabel('Дата', size='x-large')\n",
    "plt.axhline(y=0, color='black', linestyle='--')\n",
    "plt.show()"
   ]
  },
  {
   "cell_type": "markdown",
   "metadata": {},
   "source": [
    "Вывод: конверсия группы B была стабильно выше конверсии группы А на протяжении всего периода начиная с 06-08-2019. При этом рост отношения показателя конверсии группы B вызван во многом снижением показателя конверсии группы A за данный период."
   ]
  },
  {
   "cell_type": "markdown",
   "metadata": {},
   "source": [
    "### Постройте точечный график количества заказов по пользователям. Сделайте выводы и предположения."
   ]
  },
  {
   "cell_type": "code",
   "execution_count": 16,
   "metadata": {},
   "outputs": [
    {
     "data": {
      "text/html": [
       "<div>\n",
       "<style scoped>\n",
       "    .dataframe tbody tr th:only-of-type {\n",
       "        vertical-align: middle;\n",
       "    }\n",
       "\n",
       "    .dataframe tbody tr th {\n",
       "        vertical-align: top;\n",
       "    }\n",
       "\n",
       "    .dataframe thead th {\n",
       "        text-align: right;\n",
       "    }\n",
       "</style>\n",
       "<table border=\"1\" class=\"dataframe\">\n",
       "  <thead>\n",
       "    <tr style=\"text-align: right;\">\n",
       "      <th></th>\n",
       "      <th>visitor_id</th>\n",
       "      <th>orders</th>\n",
       "    </tr>\n",
       "  </thead>\n",
       "  <tbody>\n",
       "    <tr>\n",
       "      <th>0</th>\n",
       "      <td>5114589</td>\n",
       "      <td>1</td>\n",
       "    </tr>\n",
       "    <tr>\n",
       "      <th>1</th>\n",
       "      <td>6958315</td>\n",
       "      <td>1</td>\n",
       "    </tr>\n",
       "    <tr>\n",
       "      <th>2</th>\n",
       "      <td>8300375</td>\n",
       "      <td>2</td>\n",
       "    </tr>\n",
       "    <tr>\n",
       "      <th>3</th>\n",
       "      <td>11685486</td>\n",
       "      <td>1</td>\n",
       "    </tr>\n",
       "    <tr>\n",
       "      <th>4</th>\n",
       "      <td>39475350</td>\n",
       "      <td>1</td>\n",
       "    </tr>\n",
       "    <tr>\n",
       "      <th>...</th>\n",
       "      <td>...</td>\n",
       "      <td>...</td>\n",
       "    </tr>\n",
       "    <tr>\n",
       "      <th>1026</th>\n",
       "      <td>4266935830</td>\n",
       "      <td>2</td>\n",
       "    </tr>\n",
       "    <tr>\n",
       "      <th>1027</th>\n",
       "      <td>4278982564</td>\n",
       "      <td>1</td>\n",
       "    </tr>\n",
       "    <tr>\n",
       "      <th>1028</th>\n",
       "      <td>4279090005</td>\n",
       "      <td>1</td>\n",
       "    </tr>\n",
       "    <tr>\n",
       "      <th>1029</th>\n",
       "      <td>4281247801</td>\n",
       "      <td>1</td>\n",
       "    </tr>\n",
       "    <tr>\n",
       "      <th>1030</th>\n",
       "      <td>4283872382</td>\n",
       "      <td>1</td>\n",
       "    </tr>\n",
       "  </tbody>\n",
       "</table>\n",
       "<p>1031 rows × 2 columns</p>\n",
       "</div>"
      ],
      "text/plain": [
       "      visitor_id  orders\n",
       "0        5114589       1\n",
       "1        6958315       1\n",
       "2        8300375       2\n",
       "3       11685486       1\n",
       "4       39475350       1\n",
       "...          ...     ...\n",
       "1026  4266935830       2\n",
       "1027  4278982564       1\n",
       "1028  4279090005       1\n",
       "1029  4281247801       1\n",
       "1030  4283872382       1\n",
       "\n",
       "[1031 rows x 2 columns]"
      ]
     },
     "metadata": {},
     "output_type": "display_data"
    }
   ],
   "source": [
    "#Подсчитаем количество заказов по пользователям \n",
    "user_orders = (\n",
    "    orders.groupby('visitor_id', as_index=False)\n",
    "    .agg({'transaction_id': 'nunique'})\n",
    ")\n",
    "user_orders.columns = ['visitor_id', 'orders']\n",
    "display(user_orders)"
   ]
  },
  {
   "cell_type": "code",
   "execution_count": 17,
   "metadata": {},
   "outputs": [
    {
     "data": {
      "image/png": "[encoded data removed]",
      "text/plain": [
       "<Figure size 1440x1080 with 1 Axes>"
      ]
     },
     "metadata": {},
     "output_type": "display_data"
    }
   ],
   "source": [
    "# Построим точечный график количества заказов по пользователям\n",
    "x_values = pd.Series(range(0,len(user_orders)))\n",
    "sns.set_theme(style=\"whitegrid\", palette=\"pastel\")\n",
    "sns.scatterplot(x = x_values, y = user_orders['orders'], s=300, color='Green') \n",
    "plt.title('Распределение количества заказов по клиентам')\n",
    "plt.ylabel('Заказы ', size='x-large')\n",
    "plt.show()"
   ]
  },
  {
   "cell_type": "markdown",
   "metadata": {},
   "source": [
    "Вывод: из графика видно, что большинство пользователей сделали 1-2 заказа за данный период. Однако есть и некоторое количество пользователей сделавших 3 заказа и более. Скорее всего, это аномалии."
   ]
  },
  {
   "cell_type": "markdown",
   "metadata": {},
   "source": [
    "### Посчитайте 95-й и 99-й перцентили количества заказов на пользователя. Выберите границу для определения аномальных пользователей."
   ]
  },
  {
   "cell_type": "code",
   "execution_count": 18,
   "metadata": {},
   "outputs": [
    {
     "data": {
      "text/plain": [
       "array([2., 4.])"
      ]
     },
     "execution_count": 18,
     "metadata": {},
     "output_type": "execute_result"
    }
   ],
   "source": [
    "np.percentile(user_orders['orders'], [95, 99])"
   ]
  },
  {
   "cell_type": "markdown",
   "metadata": {},
   "source": [
    "Вывод: 5% пользователей совершили 2 заказа и более, а 1% пользователей совершили 4 заказа и более. Последних можно считать за аномалии."
   ]
  },
  {
   "cell_type": "markdown",
   "metadata": {},
   "source": [
    "### Постройте точечный график стоимости заказов. Сделайте выводы и предположения."
   ]
  },
  {
   "cell_type": "code",
   "execution_count": 19,
   "metadata": {},
   "outputs": [
    {
     "data": {
      "image/png": "[encoded data removed]",
      "text/plain": [
       "<Figure size 1440x1080 with 1 Axes>"
      ]
     },
     "metadata": {},
     "output_type": "display_data"
    }
   ],
   "source": [
    "# Построим точечный график стоимости заказов по пользователям\n",
    "x_values = pd.Series(range(0,len(orders['revenue'])))\n",
    "sns.set_theme(style=\"whitegrid\", palette=\"pastel\")\n",
    "plt.title('Распределение стоимости заказов')\n",
    "plt.ylabel('Стоимость', size='x-large')\n",
    "sns.scatterplot(x = x_values, y = orders['revenue'], s=300, color='Green') \n",
    "plt.show()"
   ]
  },
  {
   "cell_type": "code",
   "execution_count": 20,
   "metadata": {},
   "outputs": [
    {
     "data": {
      "text/plain": [
       "count       1197.00\n",
       "mean        8348.01\n",
       "std        39191.13\n",
       "min           50.00\n",
       "25%         1220.00\n",
       "50%         2978.00\n",
       "75%         8290.00\n",
       "max      1294500.00\n",
       "Name: revenue, dtype: float64"
      ]
     },
     "execution_count": 20,
     "metadata": {},
     "output_type": "execute_result"
    }
   ],
   "source": [
    "# Выведем описательную статистику по заказам\n",
    "orders['revenue'].describe().round(2)"
   ]
  },
  {
   "cell_type": "markdown",
   "metadata": {},
   "source": [
    "Вывод: из точечного графика и описательной статистики видно, чо 75% заказов имеют стоимость 8290 у.е. и меньше. При этом максимальная стоимость заказа составляет 1294500.00 у.е., что вместе с другими выбросами сильно влияет на среднее - 39191.13 у.е. При этом медианная стоимость одного заказа составляет 8348.01 у.е."
   ]
  },
  {
   "cell_type": "markdown",
   "metadata": {},
   "source": [
    "### Посчитайте 95-й и 99-й перцентили стоимости заказов. Выберите границу для определения аномальных заказов."
   ]
  },
  {
   "cell_type": "code",
   "execution_count": 21,
   "metadata": {},
   "outputs": [
    {
     "data": {
      "text/plain": [
       "array([28000. , 58233.2])"
      ]
     },
     "execution_count": 21,
     "metadata": {},
     "output_type": "execute_result"
    }
   ],
   "source": [
    "np.percentile(orders['revenue'], [95, 99])"
   ]
  },
  {
   "cell_type": "markdown",
   "metadata": {},
   "source": [
    "Вывод: 5% заказов имеют стоимость в 28000 у.е. и больше, а 1% заказов имеют стоимость больше 58233.2 у.е. Учитывая описательную статистику приведенную ранее, можно считать эти данные за аномалии."
   ]
  },
  {
   "cell_type": "markdown",
   "metadata": {},
   "source": [
    "### Посчитайте статистическую значимость различий в среднем количестве заказов на посетителя между группами по «сырым» данным. Сделайте выводы и предположения."
   ]
  },
  {
   "cell_type": "markdown",
   "metadata": {},
   "source": [
    "В ранее проведенном анализе мы выяснили, что в данных есть аномалии и установили границу их определения. Посчитаем различия в среднем количестве заказов по сырым данным."
   ]
  },
  {
   "cell_type": "code",
   "execution_count": 22,
   "metadata": {},
   "outputs": [
    {
     "data": {
      "text/html": [
       "<div>\n",
       "<style scoped>\n",
       "    .dataframe tbody tr th:only-of-type {\n",
       "        vertical-align: middle;\n",
       "    }\n",
       "\n",
       "    .dataframe tbody tr th {\n",
       "        vertical-align: top;\n",
       "    }\n",
       "\n",
       "    .dataframe thead th {\n",
       "        text-align: right;\n",
       "    }\n",
       "</style>\n",
       "<table border=\"1\" class=\"dataframe\">\n",
       "  <thead>\n",
       "    <tr style=\"text-align: right;\">\n",
       "      <th></th>\n",
       "      <th>date</th>\n",
       "      <th>ordersPerDateA</th>\n",
       "      <th>revenuePerDateA</th>\n",
       "      <th>ordersPerDateB</th>\n",
       "      <th>revenuePerDateB</th>\n",
       "      <th>ordersCummulativeA</th>\n",
       "      <th>revenueCummulativeA</th>\n",
       "      <th>ordersCummulativeB</th>\n",
       "      <th>revenueCummulativeB</th>\n",
       "      <th>visitorsPerDateA</th>\n",
       "      <th>visitorsPerDateB</th>\n",
       "      <th>visitorsCummulativeA</th>\n",
       "      <th>visitorsCummulativeB</th>\n",
       "    </tr>\n",
       "  </thead>\n",
       "  <tbody>\n",
       "    <tr>\n",
       "      <th>0</th>\n",
       "      <td>2019-08-01</td>\n",
       "      <td>24</td>\n",
       "      <td>148579</td>\n",
       "      <td>21</td>\n",
       "      <td>101217</td>\n",
       "      <td>24</td>\n",
       "      <td>148579</td>\n",
       "      <td>21</td>\n",
       "      <td>101217</td>\n",
       "      <td>719</td>\n",
       "      <td>713</td>\n",
       "      <td>719</td>\n",
       "      <td>713</td>\n",
       "    </tr>\n",
       "    <tr>\n",
       "      <th>1</th>\n",
       "      <td>2019-08-02</td>\n",
       "      <td>20</td>\n",
       "      <td>93822</td>\n",
       "      <td>24</td>\n",
       "      <td>165531</td>\n",
       "      <td>44</td>\n",
       "      <td>242401</td>\n",
       "      <td>45</td>\n",
       "      <td>266748</td>\n",
       "      <td>619</td>\n",
       "      <td>581</td>\n",
       "      <td>1338</td>\n",
       "      <td>1294</td>\n",
       "    </tr>\n",
       "    <tr>\n",
       "      <th>2</th>\n",
       "      <td>2019-08-03</td>\n",
       "      <td>24</td>\n",
       "      <td>112473</td>\n",
       "      <td>16</td>\n",
       "      <td>114248</td>\n",
       "      <td>68</td>\n",
       "      <td>354874</td>\n",
       "      <td>61</td>\n",
       "      <td>380996</td>\n",
       "      <td>507</td>\n",
       "      <td>509</td>\n",
       "      <td>1845</td>\n",
       "      <td>1803</td>\n",
       "    </tr>\n",
       "    <tr>\n",
       "      <th>3</th>\n",
       "      <td>2019-08-04</td>\n",
       "      <td>16</td>\n",
       "      <td>70825</td>\n",
       "      <td>17</td>\n",
       "      <td>108571</td>\n",
       "      <td>84</td>\n",
       "      <td>425699</td>\n",
       "      <td>78</td>\n",
       "      <td>489567</td>\n",
       "      <td>717</td>\n",
       "      <td>770</td>\n",
       "      <td>2562</td>\n",
       "      <td>2573</td>\n",
       "    </tr>\n",
       "    <tr>\n",
       "      <th>4</th>\n",
       "      <td>2019-08-05</td>\n",
       "      <td>25</td>\n",
       "      <td>124218</td>\n",
       "      <td>23</td>\n",
       "      <td>92428</td>\n",
       "      <td>109</td>\n",
       "      <td>549917</td>\n",
       "      <td>101</td>\n",
       "      <td>581995</td>\n",
       "      <td>756</td>\n",
       "      <td>707</td>\n",
       "      <td>3318</td>\n",
       "      <td>3280</td>\n",
       "    </tr>\n",
       "  </tbody>\n",
       "</table>\n",
       "</div>"
      ],
      "text/plain": [
       "        date  ordersPerDateA  revenuePerDateA  ordersPerDateB  \\\n",
       "0 2019-08-01              24           148579              21   \n",
       "1 2019-08-02              20            93822              24   \n",
       "2 2019-08-03              24           112473              16   \n",
       "3 2019-08-04              16            70825              17   \n",
       "4 2019-08-05              25           124218              23   \n",
       "\n",
       "   revenuePerDateB  ordersCummulativeA  revenueCummulativeA  \\\n",
       "0           101217                  24               148579   \n",
       "1           165531                  44               242401   \n",
       "2           114248                  68               354874   \n",
       "3           108571                  84               425699   \n",
       "4            92428                 109               549917   \n",
       "\n",
       "   ordersCummulativeB  revenueCummulativeB  visitorsPerDateA  \\\n",
       "0                  21               101217               719   \n",
       "1                  45               266748               619   \n",
       "2                  61               380996               507   \n",
       "3                  78               489567               717   \n",
       "4                 101               581995               756   \n",
       "\n",
       "   visitorsPerDateB  visitorsCummulativeA  visitorsCummulativeB  \n",
       "0               713                   719                   713  \n",
       "1               581                  1338                  1294  \n",
       "2               509                  1845                  1803  \n",
       "3               770                  2562                  2573  \n",
       "4               707                  3318                  3280  "
      ]
     },
     "execution_count": 22,
     "metadata": {},
     "output_type": "execute_result"
    }
   ],
   "source": [
    "# Подготовка данных\n",
    "visitorsADaily = visitors[visitors['group'] == 'A'][['date', 'visitors']]\n",
    "visitorsADaily.columns = ['date', 'visitorsPerDateA']\n",
    "\n",
    "visitorsACummulative = visitorsADaily.apply(\n",
    "    lambda x: visitorsADaily[visitorsADaily['date'] <= x['date']].agg(\n",
    "        {'date': 'max', 'visitorsPerDateA': 'sum'}\n",
    "    ),\n",
    "    axis=1,\n",
    ")\n",
    "visitorsACummulative.columns = ['date', 'visitorsCummulativeA']\n",
    "\n",
    "visitorsBDaily = visitors[visitors['group'] == 'B'][['date', 'visitors']]\n",
    "visitorsBDaily.columns = ['date', 'visitorsPerDateB']\n",
    "\n",
    "visitorsBCummulative = visitorsBDaily.apply(\n",
    "    lambda x: visitorsBDaily[visitorsBDaily['date'] <= x['date']].agg(\n",
    "        {'date': 'max', 'visitorsPerDateB': 'sum'}\n",
    "    ),\n",
    "    axis=1,\n",
    ")\n",
    "visitorsBCummulative.columns = ['date', 'visitorsCummulativeB']\n",
    "\n",
    "ordersADaily = (\n",
    "    orders[orders['group'] == 'A'][['date', 'transaction_id', 'visitor_id', 'revenue']]\n",
    "    .groupby('date', as_index=False)\n",
    "    .agg({'transaction_id': pd.Series.nunique, 'revenue': 'sum'})\n",
    ")\n",
    "ordersADaily.columns = ['date', 'ordersPerDateA', 'revenuePerDateA']\n",
    "\n",
    "ordersACummulative = ordersADaily.apply(\n",
    "    lambda x: ordersADaily[ordersADaily['date'] <= x['date']].agg(\n",
    "        {'date': 'max', 'ordersPerDateA': 'sum', 'revenuePerDateA': 'sum'}\n",
    "    ),\n",
    "    axis=1,\n",
    ").sort_values(by=['date'])\n",
    "ordersACummulative.columns = [\n",
    "    'date',\n",
    "    'ordersCummulativeA',\n",
    "    'revenueCummulativeA',\n",
    "]\n",
    "\n",
    "ordersBDaily = (\n",
    "    orders[orders['group'] == 'B'][['date', 'transaction_id', 'visitor_id', 'revenue']]\n",
    "    .groupby('date', as_index=False)\n",
    "    .agg({'transaction_id': pd.Series.nunique, 'revenue': 'sum'})\n",
    ")\n",
    "ordersBDaily.columns = ['date', 'ordersPerDateB', 'revenuePerDateB']\n",
    "\n",
    "ordersBCummulative = ordersBDaily.apply(\n",
    "    lambda x: ordersBDaily[ordersBDaily['date'] <= x['date']].agg(\n",
    "        {'date': 'max', 'ordersPerDateB': 'sum', 'revenuePerDateB': 'sum'}\n",
    "    ),\n",
    "    axis=1,\n",
    ").sort_values(by=['date'])\n",
    "ordersBCummulative.columns = [\n",
    "    'date',\n",
    "    'ordersCummulativeB',\n",
    "    'revenueCummulativeB',\n",
    "]\n",
    "\n",
    "data = (\n",
    "    ordersADaily.merge(\n",
    "        ordersBDaily, left_on='date', right_on='date', how='left'\n",
    "    )\n",
    "    .merge(ordersACummulative, left_on='date', right_on='date', how='left')\n",
    "    .merge(ordersBCummulative, left_on='date', right_on='date', how='left')\n",
    "    .merge(visitorsADaily, left_on='date', right_on='date', how='left')\n",
    "    .merge(visitorsBDaily, left_on='date', right_on='date', how='left')\n",
    "    .merge(visitorsACummulative, left_on='date', right_on='date', how='left')\n",
    "    .merge(visitorsBCummulative, left_on='date', right_on='date', how='left')\n",
    ")\n",
    "\n",
    "data.head(5)"
   ]
  },
  {
   "cell_type": "markdown",
   "metadata": {},
   "source": [
    "Выше представлены следующие данные:\n",
    "- date — дата;\n",
    "- ordersPerDateA — количество заказов в выбранную дату в группе A;\n",
    "- revenuePerDateA — суммарная выручка в выбранную дату в группе A;\n",
    "- ordersPerDateB — количество заказов в выбранную дату в группе B;\n",
    "- revenuePerDateB — суммарная выручка в выбранную дату в группе B;\n",
    "- ordersCummulativeA — суммарное число заказов до выбранной даты включительно в группе A;\n",
    "- revenueCummulativeA — суммарная выручка до выбранной даты включительно в группе A;\n",
    "- ordersCummulativeB — суммарное количество заказов до выбранной даты включительно в группе B;\n",
    "- revenueCummulativeB — суммарная выручка до выбранной даты включительно в группе B;\n",
    "- visitorsPerDateA — количество пользователей в выбранную дату в группе A;\n",
    "- visitorsPerDateB — количество пользователей в выбранную дату в группе B;\n",
    "- visitorsCummulativeA — количество пользователей до выбранной даты включительно в группе A;\n",
    "- visitorsCummulativeB — количество пользователей до выбранной даты включительно в группе B."
   ]
  },
  {
   "cell_type": "markdown",
   "metadata": {},
   "source": [
    "Сформулируем гипотезы. \n",
    "- H0: различий в среднем количестве заказов между группами нет. \n",
    "- H1: различия в среднем количестве заказов между группами есть."
   ]
  },
  {
   "cell_type": "markdown",
   "metadata": {},
   "source": [
    "<div class=\"alert alert-success\">\n",
    "<h2> Комментарий ревьюера <a class=\"tocSkip\"> </h2>\n",
    "\n",
    "<b>Отлично!✅:</b> Гипотезы сформулированы верно!\n",
    "</div>"
   ]
  },
  {
   "cell_type": "code",
   "execution_count": 23,
   "metadata": {},
   "outputs": [
    {
     "name": "stdout",
     "output_type": "stream",
     "text": [
      "p-значение: 0.017\n",
      "относительный прирост группы B: 0.138\n"
     ]
    }
   ],
   "source": [
    "# Создадим переменные ordersByUsersA и ordersByUsersB со столбцами ['userId', 'orders']. В них для пользователей, которые заказывали хотя бы 1 раз, укажем число совершённых заказов\n",
    "ordersByUsersA = (\n",
    "    orders[orders['group'] == 'A']\n",
    "    .groupby('visitor_id', as_index=False)\n",
    "    .agg({'transaction_id': pd.Series.nunique})\n",
    ")\n",
    "ordersByUsersA.columns = ['visitor_id', 'orders']\n",
    "\n",
    "ordersByUsersB = (\n",
    "    orders[orders['group'] == 'B']\n",
    "    .groupby('visitor_id', as_index=False)\n",
    "    .agg({'transaction_id': pd.Series.nunique})\n",
    ")\n",
    "ordersByUsersB.columns = ['visitor_id', 'orders']\n",
    "# Объявим переменные sampleA и sampleB, в которых пользователям из разных групп будет соответствовать количество заказов\n",
    "sampleA = pd.concat(\n",
    "    [\n",
    "        ordersByUsersA['orders'],\n",
    "        pd.Series(\n",
    "            0,\n",
    "            index=np.arange(\n",
    "                data['visitorsPerDateA'].sum() - len(ordersByUsersA['orders'])\n",
    "            ),\n",
    "            name='orders',\n",
    "        ),\n",
    "    ],\n",
    "    axis=0,\n",
    ")\n",
    "\n",
    "sampleB = pd.concat(\n",
    "    [\n",
    "        ordersByUsersB['orders'],\n",
    "        pd.Series(\n",
    "            0,\n",
    "            index=np.arange(\n",
    "                data['visitorsPerDateB'].sum() - len(ordersByUsersB['orders'])\n",
    "            ),\n",
    "            name='orders',\n",
    "        ),\n",
    "    ],\n",
    "    axis=0,\n",
    ")\n",
    "# Применим критерий и отформатируем p-value, округлив его до трёх знаков после запятой\n",
    "print('p-значение:',\"{0:.3f}\".format(stats.mannwhitneyu(sampleA, sampleB)[1]))\n",
    "# Выведем относительный прирост среднего числа заказов группы B: среднее число заказов группы B / среднее число заказов группы A - 1.  Округлим до трёх знаков после запятой\n",
    "print('относительный прирост группы B:',\"{0:.3f}\".format(sampleB.mean() / sampleA.mean() - 1))"
   ]
  },
  {
   "cell_type": "markdown",
   "metadata": {},
   "source": [
    "Вывод: P-value составляет 0.017, что меньше 5% значения. Это говорит нам о том, что по \"сырым\" данным нулевая гипотеза об отсутствии различий отвергается, между группами имеются статистически значимые различия. Прирост группы B по \"сырым\" данным составляет 13,8% относительно группы А."
   ]
  },
  {
   "cell_type": "markdown",
   "metadata": {},
   "source": [
    "### Посчитайте статистическую значимость различий в среднем количестве заказов на посетителя между группами по «очищенным» данным. Сделайте выводы и предположения."
   ]
  },
  {
   "cell_type": "code",
   "execution_count": 24,
   "metadata": {},
   "outputs": [
    {
     "name": "stdout",
     "output_type": "stream",
     "text": [
      "1099    148427295\n",
      "18      199603092\n",
      "928     204675465\n",
      "23      237748145\n",
      "37      249864742\n",
      "Name: visitor_id, dtype: int64\n",
      "74\n"
     ]
    }
   ],
   "source": [
    "# уберём 5% пользователей с наибольшим числом заказов (больше или равно 3) и от 1% до 5% пользователей с дорогими заказами (дороже 28000)\n",
    "usersWithManyOrders = pd.concat(\n",
    "    [\n",
    "        ordersByUsersA[ordersByUsersA['orders'] >= 3]['visitor_id'],\n",
    "        ordersByUsersB[ordersByUsersB['orders'] >= 3]['visitor_id'],\n",
    "    ],\n",
    "    axis=0,\n",
    ")\n",
    "usersWithExpensiveOrders = orders[orders['revenue'] >= 28000]['visitor_id']\n",
    "abnormalUsers = (\n",
    "    pd.concat([usersWithManyOrders, usersWithExpensiveOrders], axis=0)\n",
    "    .drop_duplicates()\n",
    "    .sort_values()\n",
    ")\n",
    "print(abnormalUsers.head(5))\n",
    "print(abnormalUsers.shape[0]) "
   ]
  },
  {
   "cell_type": "markdown",
   "metadata": {},
   "source": [
    "Итого из обеих групп мы исключаем 74 аномальных клиента."
   ]
  },
  {
   "cell_type": "code",
   "execution_count": 25,
   "metadata": {},
   "outputs": [
    {
     "name": "stdout",
     "output_type": "stream",
     "text": [
      "p-значение: 0.013\n",
      "относительный прирост группы B: 0.173\n"
     ]
    }
   ],
   "source": [
    "# подготовим выборки количества заказов по пользователям по группам теста\n",
    "sampleAFiltered = pd.concat(\n",
    "    [\n",
    "        ordersByUsersA[\n",
    "            np.logical_not(ordersByUsersA['visitor_id'].isin(abnormalUsers))\n",
    "        ]['orders'],\n",
    "        pd.Series(\n",
    "            0,\n",
    "            index=np.arange(\n",
    "                data['visitorsPerDateA'].sum() - len(ordersByUsersA['orders'])\n",
    "            ),\n",
    "            name='orders',\n",
    "        ),\n",
    "    ],\n",
    "    axis=0,\n",
    ")\n",
    "\n",
    "sampleBFiltered = pd.concat(\n",
    "    [\n",
    "        ordersByUsersB[\n",
    "            np.logical_not(ordersByUsersB['visitor_id'].isin(abnormalUsers))\n",
    "        ]['orders'],\n",
    "        pd.Series(\n",
    "            0,\n",
    "            index=np.arange(\n",
    "                data['visitorsPerDateB'].sum() - len(ordersByUsersB['orders'])\n",
    "            ),\n",
    "            name='orders',\n",
    "        ),\n",
    "    ],\n",
    "    axis=0,\n",
    ") \n",
    "# Применим статистический критерий Манна-Уитни к полученным выборкам:\n",
    "print('p-значение:','{0:.3f}'.format(stats.mannwhitneyu(sampleAFiltered, sampleBFiltered)[1]))\n",
    "print('относительный прирост группы B:','{0:.3f}'.format(sampleBFiltered.mean()/sampleAFiltered.mean()-1)) "
   ]
  },
  {
   "cell_type": "markdown",
   "metadata": {},
   "source": [
    "Вывод: P-value составляет 0.013, что ниже статистического уровня значимости в 5%, нулевая гипотеза отвергается. Между группами A и B имеются различия в среднем количестве заказов на посетителя. В группе B количество заказов на одного клиента больше на 17,3%."
   ]
  },
  {
   "cell_type": "markdown",
   "metadata": {},
   "source": [
    "### Посчитайте статистическую значимость различий в среднем чеке заказа между группами по «сырым» данным. Сделайте выводы и предположения."
   ]
  },
  {
   "cell_type": "markdown",
   "metadata": {},
   "source": [
    "Сформилируем гипотезы:\n",
    "- H0: Различий в среднем чеке заказа между группами нет.\n",
    "- H1: Различия в среднем чеке заказа между группами есть."
   ]
  },
  {
   "cell_type": "code",
   "execution_count": 26,
   "metadata": {},
   "outputs": [
    {
     "name": "stdout",
     "output_type": "stream",
     "text": [
      "p-значение: 0.729\n",
      "относительный прирост группы B: 0.259\n"
     ]
    }
   ],
   "source": [
    "# создадим переменные с вырочкой по группам\n",
    "revenue_sample_a = orders[orders['group']=='A']\n",
    "revenue_sample_b = orders[orders['group']=='B']\n",
    "\n",
    "# Применим статистический критерий Манна-Уитни к выборкам revenueCummulativeA и revenueCummulativeB:\n",
    "print('p-значение:','{0:.3f}'.format(stats.mannwhitneyu(revenue_sample_a['revenue'], revenue_sample_b['revenue'])[1]))\n",
    "print('относительный прирост группы B:','{0:.3f}'.format(revenue_sample_b['revenue'].mean()/revenue_sample_a['revenue'].mean()-1)) "
   ]
  },
  {
   "cell_type": "markdown",
   "metadata": {},
   "source": [
    "Вывод: P-value равен 0.729, что выше статистического уровня значимости в 5%, альтернативная гипотеза отвергается. При этом средний чек группы B на 25,9% выше группы А. Это говорит об искажении значения среднего чека из-за выбросов."
   ]
  },
  {
   "cell_type": "markdown",
   "metadata": {},
   "source": [
    "### Посчитайте статистическую значимость различий в среднем чеке заказа между группами по «очищенным» данным. Сделайте выводы и предположения."
   ]
  },
  {
   "cell_type": "code",
   "execution_count": 27,
   "metadata": {},
   "outputs": [
    {
     "name": "stdout",
     "output_type": "stream",
     "text": [
      "p-значение: 0.738\n",
      "относительный прирост группы B: -0.020\n"
     ]
    }
   ],
   "source": [
    "# подготовим выборки количества заказов по пользователям по группам теста\n",
    "filtered_revenue_sample_a = revenue_sample_a[np.logical_not(orders['visitor_id'].isin(abnormalUsers))]\n",
    "filtered_revenue_sample_b = revenue_sample_b[np.logical_not(orders['visitor_id'].isin(abnormalUsers))]\n",
    "# Применим статистический критерий Манна-Уитни к полученным выборкам:\n",
    "print('p-значение:','{0:.3f}'.format(stats.mannwhitneyu(filtered_revenue_sample_a['revenue'], filtered_revenue_sample_b['revenue'])[1]))\n",
    "print('относительный прирост группы B:','{0:.3f}'.format(filtered_revenue_sample_b['revenue'].mean()/filtered_revenue_sample_a['revenue'].mean()-1)) "
   ]
  },
  {
   "cell_type": "markdown",
   "metadata": {},
   "source": [
    "Вывод: P-value составляет 0.738, что выше статистического уровня значимости в 5%, альтернативная гипотеза отвергается, между группам A и B нет разницы в среднем чеке. При этом в группе B \"очищенный\" средний чек на 2% ниже группы А."
   ]
  },
  {
   "cell_type": "markdown",
   "metadata": {},
   "source": [
    "### Итог A/B теста."
   ]
  },
  {
   "cell_type": "markdown",
   "metadata": {},
   "source": [
    "По итогам проведения анализа можно сделать следующие выводы:\n",
    "- Среднее количество заказов на одного пользователя в группе B больше, чем в группе A, что подтвержадется при подсчете статистической значимости различий между двумя группами.\n",
    "- После фильтрации данных группы B не было обнаружено стаатистически значимых различий по показателю среднего чека между группами."
   ]
  },
  {
   "cell_type": "markdown",
   "metadata": {},
   "source": [
    "Исходя из вышесказанного проведение теста можно остановить. Принимая во внимание тот факт, что статистически значимых различий в показателе среднего чека после фильтрации данных между группами A и B нет, нельзя сделать вывод об одназначной победе одной из групп, т.к. несмотря на лучший показатель среднего количества заказов на одного пользователя, группа B не смогла продемонстрировать рост среднего чека, т.е. прибыли. Большее значение среднего чека группы B было вызвано наличием в группе нескольких крупных заказов, которые искажали анализ в пользу этой группы. "
   ]
  }
 ],
 "metadata": {
  "ExecuteTimeLog": [
   {
    "duration": 49,
    "start_time": "2024-07-08T06:18:13.056Z"
   },
   {
    "duration": 1335,
    "start_time": "2024-07-08T06:18:42.012Z"
   },
   {
    "duration": 82,
    "start_time": "2024-07-08T06:18:43.349Z"
   },
   {
    "duration": 11,
    "start_time": "2024-07-08T06:18:43.433Z"
   },
   {
    "duration": 167,
    "start_time": "2024-07-08T06:20:08.927Z"
   },
   {
    "duration": 77,
    "start_time": "2024-07-08T06:21:00.182Z"
   },
   {
    "duration": 1179,
    "start_time": "2024-07-08T06:21:04.767Z"
   },
   {
    "duration": 76,
    "start_time": "2024-07-08T06:21:05.947Z"
   },
   {
    "duration": 11,
    "start_time": "2024-07-08T06:21:06.025Z"
   },
   {
    "duration": 8,
    "start_time": "2024-07-08T06:21:11.422Z"
   },
   {
    "duration": 8,
    "start_time": "2024-07-08T06:21:21.875Z"
   },
   {
    "duration": 12,
    "start_time": "2024-07-08T06:25:56.275Z"
   },
   {
    "duration": 7,
    "start_time": "2024-07-08T06:25:59.933Z"
   },
   {
    "duration": 116,
    "start_time": "2024-07-08T06:28:26.019Z"
   },
   {
    "duration": 12,
    "start_time": "2024-07-08T06:28:37.748Z"
   },
   {
    "duration": 5,
    "start_time": "2024-07-08T06:28:45.245Z"
   },
   {
    "duration": 11,
    "start_time": "2024-07-08T06:29:09.801Z"
   },
   {
    "duration": 13,
    "start_time": "2024-07-08T06:37:02.166Z"
   },
   {
    "duration": 1152,
    "start_time": "2024-07-08T06:37:53.044Z"
   },
   {
    "duration": 76,
    "start_time": "2024-07-08T06:37:54.198Z"
   },
   {
    "duration": 13,
    "start_time": "2024-07-08T06:37:54.276Z"
   },
   {
    "duration": 16,
    "start_time": "2024-07-08T06:37:54.291Z"
   },
   {
    "duration": 17,
    "start_time": "2024-07-08T06:37:54.309Z"
   },
   {
    "duration": 20,
    "start_time": "2024-07-08T06:45:19.425Z"
   },
   {
    "duration": 8,
    "start_time": "2024-07-08T06:49:56.341Z"
   },
   {
    "duration": 31,
    "start_time": "2024-07-08T06:58:45.295Z"
   },
   {
    "duration": 16,
    "start_time": "2024-07-08T07:01:17.515Z"
   },
   {
    "duration": 102,
    "start_time": "2024-07-08T07:03:40.659Z"
   },
   {
    "duration": 8,
    "start_time": "2024-07-08T07:03:45.667Z"
   },
   {
    "duration": 1243,
    "start_time": "2024-07-08T07:03:53.169Z"
   },
   {
    "duration": 81,
    "start_time": "2024-07-08T07:03:54.414Z"
   },
   {
    "duration": 13,
    "start_time": "2024-07-08T07:03:54.497Z"
   },
   {
    "duration": 116,
    "start_time": "2024-07-08T07:03:54.512Z"
   },
   {
    "duration": 20,
    "start_time": "2024-07-08T07:03:54.631Z"
   },
   {
    "duration": 45,
    "start_time": "2024-07-08T07:03:54.653Z"
   },
   {
    "duration": 8,
    "start_time": "2024-07-08T07:03:54.700Z"
   },
   {
    "duration": 7,
    "start_time": "2024-07-08T07:03:54.709Z"
   },
   {
    "duration": 15,
    "start_time": "2024-07-08T07:03:54.718Z"
   },
   {
    "duration": 31,
    "start_time": "2024-07-08T07:03:54.735Z"
   },
   {
    "duration": 124,
    "start_time": "2024-07-08T07:04:21.452Z"
   },
   {
    "duration": 1217,
    "start_time": "2024-07-08T07:04:33.577Z"
   },
   {
    "duration": 77,
    "start_time": "2024-07-08T07:04:34.796Z"
   },
   {
    "duration": 17,
    "start_time": "2024-07-08T07:04:34.875Z"
   },
   {
    "duration": 17,
    "start_time": "2024-07-08T07:04:34.894Z"
   },
   {
    "duration": 14,
    "start_time": "2024-07-08T07:04:34.914Z"
   },
   {
    "duration": 49,
    "start_time": "2024-07-08T07:04:34.930Z"
   },
   {
    "duration": 10,
    "start_time": "2024-07-08T07:04:34.981Z"
   },
   {
    "duration": 8,
    "start_time": "2024-07-08T07:04:34.992Z"
   },
   {
    "duration": 16,
    "start_time": "2024-07-08T07:04:35.002Z"
   },
   {
    "duration": 43,
    "start_time": "2024-07-08T07:04:35.020Z"
   },
   {
    "duration": 7,
    "start_time": "2024-07-08T07:07:48.084Z"
   },
   {
    "duration": 1142,
    "start_time": "2024-07-08T07:07:51.681Z"
   },
   {
    "duration": 76,
    "start_time": "2024-07-08T07:07:52.825Z"
   },
   {
    "duration": 12,
    "start_time": "2024-07-08T07:07:52.903Z"
   },
   {
    "duration": 13,
    "start_time": "2024-07-08T07:07:52.917Z"
   },
   {
    "duration": 13,
    "start_time": "2024-07-08T07:07:52.932Z"
   },
   {
    "duration": 35,
    "start_time": "2024-07-08T07:07:52.946Z"
   },
   {
    "duration": 9,
    "start_time": "2024-07-08T07:07:52.983Z"
   },
   {
    "duration": 374,
    "start_time": "2024-07-08T07:07:52.993Z"
   },
   {
    "duration": 0,
    "start_time": "2024-07-08T07:07:53.369Z"
   },
   {
    "duration": 324,
    "start_time": "2024-07-08T07:08:08.708Z"
   },
   {
    "duration": 1294,
    "start_time": "2024-07-08T07:09:12.818Z"
   },
   {
    "duration": 76,
    "start_time": "2024-07-08T07:09:14.114Z"
   },
   {
    "duration": 11,
    "start_time": "2024-07-08T07:09:14.192Z"
   },
   {
    "duration": 14,
    "start_time": "2024-07-08T07:09:14.204Z"
   },
   {
    "duration": 13,
    "start_time": "2024-07-08T07:09:14.220Z"
   },
   {
    "duration": 40,
    "start_time": "2024-07-08T07:09:14.234Z"
   },
   {
    "duration": 8,
    "start_time": "2024-07-08T07:09:14.276Z"
   },
   {
    "duration": 423,
    "start_time": "2024-07-08T07:09:14.285Z"
   },
   {
    "duration": 0,
    "start_time": "2024-07-08T07:09:14.710Z"
   },
   {
    "duration": 252,
    "start_time": "2024-07-08T07:09:23.062Z"
   },
   {
    "duration": 1165,
    "start_time": "2024-07-08T07:10:17.812Z"
   },
   {
    "duration": 77,
    "start_time": "2024-07-08T07:10:18.979Z"
   },
   {
    "duration": 11,
    "start_time": "2024-07-08T07:10:19.058Z"
   },
   {
    "duration": 64,
    "start_time": "2024-07-08T07:10:19.071Z"
   },
   {
    "duration": 17,
    "start_time": "2024-07-08T07:10:19.137Z"
   },
   {
    "duration": 30,
    "start_time": "2024-07-08T07:10:19.156Z"
   },
   {
    "duration": 8,
    "start_time": "2024-07-08T07:10:19.188Z"
   },
   {
    "duration": 396,
    "start_time": "2024-07-08T07:10:19.197Z"
   },
   {
    "duration": 0,
    "start_time": "2024-07-08T07:10:19.595Z"
   },
   {
    "duration": 35,
    "start_time": "2024-07-08T07:11:28.751Z"
   },
   {
    "duration": 1212,
    "start_time": "2024-07-08T07:12:29.514Z"
   },
   {
    "duration": 78,
    "start_time": "2024-07-08T07:12:30.728Z"
   },
   {
    "duration": 12,
    "start_time": "2024-07-08T07:12:30.808Z"
   },
   {
    "duration": 52,
    "start_time": "2024-07-08T07:12:30.822Z"
   },
   {
    "duration": 86,
    "start_time": "2024-07-08T07:12:30.877Z"
   },
   {
    "duration": 69,
    "start_time": "2024-07-08T07:12:30.965Z"
   },
   {
    "duration": 29,
    "start_time": "2024-07-08T07:12:31.035Z"
   },
   {
    "duration": 149,
    "start_time": "2024-07-08T07:12:31.066Z"
   },
   {
    "duration": 291,
    "start_time": "2024-07-08T07:13:11.925Z"
   },
   {
    "duration": 1239,
    "start_time": "2024-07-08T07:14:31.141Z"
   },
   {
    "duration": 78,
    "start_time": "2024-07-08T07:14:32.382Z"
   },
   {
    "duration": 11,
    "start_time": "2024-07-08T07:14:32.464Z"
   },
   {
    "duration": 14,
    "start_time": "2024-07-08T07:14:32.478Z"
   },
   {
    "duration": 46,
    "start_time": "2024-07-08T07:14:32.494Z"
   },
   {
    "duration": 139,
    "start_time": "2024-07-08T07:14:32.542Z"
   },
   {
    "duration": 9,
    "start_time": "2024-07-08T07:14:32.683Z"
   },
   {
    "duration": 291,
    "start_time": "2024-07-08T07:14:32.694Z"
   },
   {
    "duration": 287,
    "start_time": "2024-07-08T07:14:32.987Z"
   },
   {
    "duration": 218,
    "start_time": "2024-07-08T07:16:24.372Z"
   },
   {
    "duration": 397,
    "start_time": "2024-07-08T07:17:47.747Z"
   },
   {
    "duration": 288,
    "start_time": "2024-07-08T07:18:21.251Z"
   },
   {
    "duration": 334,
    "start_time": "2024-07-08T07:18:39.473Z"
   },
   {
    "duration": 334,
    "start_time": "2024-07-08T07:19:55.667Z"
   },
   {
    "duration": 1113,
    "start_time": "2024-07-08T07:22:55.473Z"
   },
   {
    "duration": 78,
    "start_time": "2024-07-08T07:22:56.588Z"
   },
   {
    "duration": 11,
    "start_time": "2024-07-08T07:22:56.668Z"
   },
   {
    "duration": 15,
    "start_time": "2024-07-08T07:22:56.681Z"
   },
   {
    "duration": 12,
    "start_time": "2024-07-08T07:22:56.699Z"
   },
   {
    "duration": 56,
    "start_time": "2024-07-08T07:22:56.713Z"
   },
   {
    "duration": 7,
    "start_time": "2024-07-08T07:22:56.771Z"
   },
   {
    "duration": 14,
    "start_time": "2024-07-08T07:22:56.780Z"
   },
   {
    "duration": 357,
    "start_time": "2024-07-08T07:22:56.796Z"
   },
   {
    "duration": 336,
    "start_time": "2024-07-08T07:22:57.155Z"
   },
   {
    "duration": 298,
    "start_time": "2024-07-08T07:25:16.753Z"
   },
   {
    "duration": 216,
    "start_time": "2024-07-08T07:27:30.089Z"
   },
   {
    "duration": 1218,
    "start_time": "2024-07-08T07:28:25.067Z"
   },
   {
    "duration": 83,
    "start_time": "2024-07-08T07:28:26.287Z"
   },
   {
    "duration": 11,
    "start_time": "2024-07-08T07:28:26.371Z"
   },
   {
    "duration": 15,
    "start_time": "2024-07-08T07:28:26.383Z"
   },
   {
    "duration": 11,
    "start_time": "2024-07-08T07:28:26.400Z"
   },
   {
    "duration": 29,
    "start_time": "2024-07-08T07:28:26.412Z"
   },
   {
    "duration": 8,
    "start_time": "2024-07-08T07:28:26.468Z"
   },
   {
    "duration": 14,
    "start_time": "2024-07-08T07:28:26.478Z"
   },
   {
    "duration": 294,
    "start_time": "2024-07-08T07:28:26.493Z"
   },
   {
    "duration": 369,
    "start_time": "2024-07-08T07:28:26.788Z"
   },
   {
    "duration": 206,
    "start_time": "2024-07-08T07:28:27.171Z"
   },
   {
    "duration": 362,
    "start_time": "2024-07-08T07:28:35.874Z"
   },
   {
    "duration": 44,
    "start_time": "2024-07-08T07:28:45.201Z"
   },
   {
    "duration": 49,
    "start_time": "2024-07-08T07:29:04.644Z"
   },
   {
    "duration": 57,
    "start_time": "2024-07-08T07:29:17.367Z"
   },
   {
    "duration": 208,
    "start_time": "2024-07-08T07:29:22.205Z"
   },
   {
    "duration": 57,
    "start_time": "2024-07-08T07:29:34.195Z"
   },
   {
    "duration": 55,
    "start_time": "2024-07-08T07:30:18.156Z"
   },
   {
    "duration": 61,
    "start_time": "2024-07-08T07:30:27.706Z"
   },
   {
    "duration": 59,
    "start_time": "2024-07-08T07:32:37.912Z"
   },
   {
    "duration": 193,
    "start_time": "2024-07-08T07:33:11.517Z"
   },
   {
    "duration": 1237,
    "start_time": "2024-07-08T07:33:19.431Z"
   },
   {
    "duration": 78,
    "start_time": "2024-07-08T07:33:20.676Z"
   },
   {
    "duration": 16,
    "start_time": "2024-07-08T07:33:20.756Z"
   },
   {
    "duration": 12,
    "start_time": "2024-07-08T07:33:20.774Z"
   },
   {
    "duration": 11,
    "start_time": "2024-07-08T07:33:20.787Z"
   },
   {
    "duration": 69,
    "start_time": "2024-07-08T07:33:20.800Z"
   },
   {
    "duration": 7,
    "start_time": "2024-07-08T07:33:20.870Z"
   },
   {
    "duration": 13,
    "start_time": "2024-07-08T07:33:20.878Z"
   },
   {
    "duration": 291,
    "start_time": "2024-07-08T07:33:20.893Z"
   },
   {
    "duration": 368,
    "start_time": "2024-07-08T07:33:21.185Z"
   },
   {
    "duration": 296,
    "start_time": "2024-07-08T07:33:21.554Z"
   },
   {
    "duration": 282,
    "start_time": "2024-07-08T07:33:31.286Z"
   },
   {
    "duration": 54,
    "start_time": "2024-07-08T21:16:17.778Z"
   },
   {
    "duration": 1300,
    "start_time": "2024-07-08T21:16:22.198Z"
   },
   {
    "duration": 227,
    "start_time": "2024-07-08T21:16:23.500Z"
   },
   {
    "duration": 11,
    "start_time": "2024-07-08T21:16:23.729Z"
   },
   {
    "duration": 14,
    "start_time": "2024-07-08T21:16:23.742Z"
   },
   {
    "duration": 16,
    "start_time": "2024-07-08T21:16:23.759Z"
   },
   {
    "duration": 37,
    "start_time": "2024-07-08T21:16:23.776Z"
   },
   {
    "duration": 7,
    "start_time": "2024-07-08T21:16:23.815Z"
   },
   {
    "duration": 12,
    "start_time": "2024-07-08T21:16:23.824Z"
   },
   {
    "duration": 310,
    "start_time": "2024-07-08T21:16:23.838Z"
   },
   {
    "duration": 356,
    "start_time": "2024-07-08T21:16:24.150Z"
   },
   {
    "duration": 277,
    "start_time": "2024-07-08T21:16:24.508Z"
   },
   {
    "duration": 312,
    "start_time": "2024-07-08T21:16:24.787Z"
   },
   {
    "duration": 327,
    "start_time": "2024-07-08T21:16:40.233Z"
   },
   {
    "duration": 395,
    "start_time": "2024-07-08T21:18:38.401Z"
   },
   {
    "duration": 258,
    "start_time": "2024-07-08T21:18:58.376Z"
   },
   {
    "duration": 367,
    "start_time": "2024-07-08T21:20:51.447Z"
   },
   {
    "duration": 428,
    "start_time": "2024-07-08T21:21:04.527Z"
   },
   {
    "duration": 409,
    "start_time": "2024-07-08T21:21:11.447Z"
   },
   {
    "duration": 385,
    "start_time": "2024-07-08T21:21:56.057Z"
   },
   {
    "duration": 1196,
    "start_time": "2024-07-08T21:24:53.776Z"
   },
   {
    "duration": 74,
    "start_time": "2024-07-08T21:24:54.974Z"
   },
   {
    "duration": 11,
    "start_time": "2024-07-08T21:24:55.050Z"
   },
   {
    "duration": 21,
    "start_time": "2024-07-08T21:24:55.062Z"
   },
   {
    "duration": 12,
    "start_time": "2024-07-08T21:24:55.086Z"
   },
   {
    "duration": 28,
    "start_time": "2024-07-08T21:24:55.100Z"
   },
   {
    "duration": 7,
    "start_time": "2024-07-08T21:24:55.130Z"
   },
   {
    "duration": 35,
    "start_time": "2024-07-08T21:24:55.139Z"
   },
   {
    "duration": 296,
    "start_time": "2024-07-08T21:24:55.176Z"
   },
   {
    "duration": 381,
    "start_time": "2024-07-08T21:24:55.474Z"
   },
   {
    "duration": 286,
    "start_time": "2024-07-08T21:24:55.856Z"
   },
   {
    "duration": 366,
    "start_time": "2024-07-08T21:24:56.144Z"
   },
   {
    "duration": 285,
    "start_time": "2024-07-08T21:24:56.511Z"
   },
   {
    "duration": 341,
    "start_time": "2024-07-08T21:24:56.798Z"
   },
   {
    "duration": 109,
    "start_time": "2024-07-08T21:24:57.140Z"
   },
   {
    "duration": 0,
    "start_time": "2024-07-08T21:24:57.250Z"
   },
   {
    "duration": 11,
    "start_time": "2024-07-08T21:25:42.365Z"
   },
   {
    "duration": 7,
    "start_time": "2024-07-08T21:26:15.965Z"
   },
   {
    "duration": 133,
    "start_time": "2024-07-08T21:26:26.356Z"
   },
   {
    "duration": 12,
    "start_time": "2024-07-08T21:26:45.731Z"
   },
   {
    "duration": 132,
    "start_time": "2024-07-08T21:26:53.807Z"
   },
   {
    "duration": 167,
    "start_time": "2024-07-08T21:27:08.416Z"
   },
   {
    "duration": 1116,
    "start_time": "2024-07-08T21:28:47.265Z"
   },
   {
    "duration": 74,
    "start_time": "2024-07-08T21:28:48.383Z"
   },
   {
    "duration": 11,
    "start_time": "2024-07-08T21:28:48.459Z"
   },
   {
    "duration": 16,
    "start_time": "2024-07-08T21:28:48.472Z"
   },
   {
    "duration": 12,
    "start_time": "2024-07-08T21:28:48.490Z"
   },
   {
    "duration": 30,
    "start_time": "2024-07-08T21:28:48.504Z"
   },
   {
    "duration": 37,
    "start_time": "2024-07-08T21:28:48.535Z"
   },
   {
    "duration": 13,
    "start_time": "2024-07-08T21:28:48.573Z"
   },
   {
    "duration": 322,
    "start_time": "2024-07-08T21:28:48.588Z"
   },
   {
    "duration": 369,
    "start_time": "2024-07-08T21:28:48.913Z"
   },
   {
    "duration": 265,
    "start_time": "2024-07-08T21:28:49.284Z"
   },
   {
    "duration": 385,
    "start_time": "2024-07-08T21:28:49.551Z"
   },
   {
    "duration": 279,
    "start_time": "2024-07-08T21:28:49.937Z"
   },
   {
    "duration": 352,
    "start_time": "2024-07-08T21:28:50.218Z"
   },
   {
    "duration": 13,
    "start_time": "2024-07-08T21:28:50.572Z"
   },
   {
    "duration": 172,
    "start_time": "2024-07-08T21:28:50.587Z"
   },
   {
    "duration": 4,
    "start_time": "2024-07-08T21:29:53.957Z"
   },
   {
    "duration": 4,
    "start_time": "2024-07-08T21:30:03.324Z"
   },
   {
    "duration": 1187,
    "start_time": "2024-07-11T05:59:28.427Z"
   },
   {
    "duration": 234,
    "start_time": "2024-07-11T05:59:29.616Z"
   },
   {
    "duration": 11,
    "start_time": "2024-07-11T05:59:29.851Z"
   },
   {
    "duration": 10,
    "start_time": "2024-07-11T05:59:29.863Z"
   },
   {
    "duration": 10,
    "start_time": "2024-07-11T05:59:29.874Z"
   },
   {
    "duration": 27,
    "start_time": "2024-07-11T05:59:29.885Z"
   },
   {
    "duration": 6,
    "start_time": "2024-07-11T05:59:29.913Z"
   },
   {
    "duration": 42,
    "start_time": "2024-07-11T05:59:29.920Z"
   },
   {
    "duration": 254,
    "start_time": "2024-07-11T05:59:29.963Z"
   },
   {
    "duration": 314,
    "start_time": "2024-07-11T05:59:30.219Z"
   },
   {
    "duration": 239,
    "start_time": "2024-07-11T05:59:30.534Z"
   },
   {
    "duration": 345,
    "start_time": "2024-07-11T05:59:30.775Z"
   },
   {
    "duration": 239,
    "start_time": "2024-07-11T05:59:31.121Z"
   },
   {
    "duration": 345,
    "start_time": "2024-07-11T05:59:31.362Z"
   },
   {
    "duration": 11,
    "start_time": "2024-07-11T05:59:31.708Z"
   },
   {
    "duration": 191,
    "start_time": "2024-07-11T05:59:31.720Z"
   },
   {
    "duration": 4,
    "start_time": "2024-07-11T05:59:31.913Z"
   },
   {
    "duration": 61,
    "start_time": "2024-07-11T06:11:42.661Z"
   },
   {
    "duration": 1003,
    "start_time": "2024-07-11T06:14:28.912Z"
   },
   {
    "duration": 73,
    "start_time": "2024-07-11T06:14:29.917Z"
   },
   {
    "duration": 10,
    "start_time": "2024-07-11T06:14:29.991Z"
   },
   {
    "duration": 11,
    "start_time": "2024-07-11T06:14:30.003Z"
   },
   {
    "duration": 12,
    "start_time": "2024-07-11T06:14:30.016Z"
   },
   {
    "duration": 63,
    "start_time": "2024-07-11T06:14:30.029Z"
   },
   {
    "duration": 42,
    "start_time": "2024-07-11T06:14:30.093Z"
   },
   {
    "duration": 29,
    "start_time": "2024-07-11T06:14:30.136Z"
   },
   {
    "duration": 296,
    "start_time": "2024-07-11T06:14:30.167Z"
   },
   {
    "duration": 327,
    "start_time": "2024-07-11T06:14:30.464Z"
   },
   {
    "duration": 244,
    "start_time": "2024-07-11T06:14:30.793Z"
   },
   {
    "duration": 325,
    "start_time": "2024-07-11T06:14:31.038Z"
   },
   {
    "duration": 264,
    "start_time": "2024-07-11T06:14:31.364Z"
   },
   {
    "duration": 345,
    "start_time": "2024-07-11T06:14:31.630Z"
   },
   {
    "duration": 11,
    "start_time": "2024-07-11T06:14:31.976Z"
   },
   {
    "duration": 151,
    "start_time": "2024-07-11T06:14:31.988Z"
   },
   {
    "duration": 4,
    "start_time": "2024-07-11T06:14:32.141Z"
   },
   {
    "duration": 1042,
    "start_time": "2024-07-11T06:15:46.583Z"
   },
   {
    "duration": 74,
    "start_time": "2024-07-11T06:15:47.627Z"
   },
   {
    "duration": 10,
    "start_time": "2024-07-11T06:15:47.702Z"
   },
   {
    "duration": 11,
    "start_time": "2024-07-11T06:15:47.713Z"
   },
   {
    "duration": 11,
    "start_time": "2024-07-11T06:15:47.725Z"
   },
   {
    "duration": 58,
    "start_time": "2024-07-11T06:15:47.737Z"
   },
   {
    "duration": 7,
    "start_time": "2024-07-11T06:15:47.796Z"
   },
   {
    "duration": 47,
    "start_time": "2024-07-11T06:15:47.805Z"
   },
   {
    "duration": 251,
    "start_time": "2024-07-11T06:15:47.853Z"
   },
   {
    "duration": 340,
    "start_time": "2024-07-11T06:15:48.106Z"
   },
   {
    "duration": 241,
    "start_time": "2024-07-11T06:15:48.448Z"
   },
   {
    "duration": 300,
    "start_time": "2024-07-11T06:15:48.691Z"
   },
   {
    "duration": 256,
    "start_time": "2024-07-11T06:15:48.992Z"
   },
   {
    "duration": 352,
    "start_time": "2024-07-11T06:15:49.250Z"
   },
   {
    "duration": 10,
    "start_time": "2024-07-11T06:15:49.604Z"
   },
   {
    "duration": 158,
    "start_time": "2024-07-11T06:15:49.616Z"
   },
   {
    "duration": 4,
    "start_time": "2024-07-11T06:15:49.775Z"
   },
   {
    "duration": 1055,
    "start_time": "2024-07-11T06:16:13.479Z"
   },
   {
    "duration": 75,
    "start_time": "2024-07-11T06:16:14.536Z"
   },
   {
    "duration": 11,
    "start_time": "2024-07-11T06:16:14.612Z"
   },
   {
    "duration": 11,
    "start_time": "2024-07-11T06:16:14.624Z"
   },
   {
    "duration": 10,
    "start_time": "2024-07-11T06:16:14.637Z"
   },
   {
    "duration": 36,
    "start_time": "2024-07-11T06:16:14.648Z"
   },
   {
    "duration": 6,
    "start_time": "2024-07-11T06:16:14.685Z"
   },
   {
    "duration": 21,
    "start_time": "2024-07-11T06:16:14.693Z"
   },
   {
    "duration": 272,
    "start_time": "2024-07-11T06:16:14.715Z"
   },
   {
    "duration": 350,
    "start_time": "2024-07-11T06:16:14.988Z"
   },
   {
    "duration": 257,
    "start_time": "2024-07-11T06:16:15.339Z"
   },
   {
    "duration": 316,
    "start_time": "2024-07-11T06:16:15.597Z"
   },
   {
    "duration": 294,
    "start_time": "2024-07-11T06:16:15.914Z"
   },
   {
    "duration": 354,
    "start_time": "2024-07-11T06:16:16.210Z"
   },
   {
    "duration": 18,
    "start_time": "2024-07-11T06:16:16.566Z"
   },
   {
    "duration": 164,
    "start_time": "2024-07-11T06:16:16.586Z"
   },
   {
    "duration": 5,
    "start_time": "2024-07-11T06:16:16.757Z"
   },
   {
    "duration": 1332,
    "start_time": "2024-08-15T17:57:11.416Z"
   },
   {
    "duration": 228,
    "start_time": "2024-08-15T17:57:12.750Z"
   },
   {
    "duration": 13,
    "start_time": "2024-08-15T17:57:12.980Z"
   },
   {
    "duration": 12,
    "start_time": "2024-08-15T17:57:12.995Z"
   },
   {
    "duration": 13,
    "start_time": "2024-08-15T17:57:13.009Z"
   },
   {
    "duration": 69,
    "start_time": "2024-08-15T17:57:13.023Z"
   },
   {
    "duration": 10,
    "start_time": "2024-08-15T17:57:13.094Z"
   },
   {
    "duration": 318,
    "start_time": "2024-08-15T17:57:13.106Z"
   },
   {
    "duration": 362,
    "start_time": "2024-08-15T17:57:13.425Z"
   },
   {
    "duration": 274,
    "start_time": "2024-08-15T17:57:13.789Z"
   },
   {
    "duration": 428,
    "start_time": "2024-08-15T17:57:14.065Z"
   },
   {
    "duration": 280,
    "start_time": "2024-08-15T17:57:14.495Z"
   },
   {
    "duration": 399,
    "start_time": "2024-08-15T17:57:14.777Z"
   },
   {
    "duration": 12,
    "start_time": "2024-08-15T17:57:15.179Z"
   },
   {
    "duration": 194,
    "start_time": "2024-08-15T17:57:15.193Z"
   },
   {
    "duration": 5,
    "start_time": "2024-08-15T17:57:15.388Z"
   },
   {
    "duration": 1193,
    "start_time": "2024-08-15T18:06:41.476Z"
   },
   {
    "duration": 76,
    "start_time": "2024-08-15T18:06:42.671Z"
   },
   {
    "duration": 22,
    "start_time": "2024-08-15T18:06:42.749Z"
   },
   {
    "duration": 7,
    "start_time": "2024-08-15T18:06:42.773Z"
   },
   {
    "duration": 10,
    "start_time": "2024-08-15T18:06:42.782Z"
   },
   {
    "duration": 13,
    "start_time": "2024-08-15T18:06:42.793Z"
   },
   {
    "duration": 22,
    "start_time": "2024-08-15T18:06:42.807Z"
   },
   {
    "duration": 284,
    "start_time": "2024-08-15T18:06:42.831Z"
   },
   {
    "duration": 349,
    "start_time": "2024-08-15T18:06:43.117Z"
   },
   {
    "duration": 282,
    "start_time": "2024-08-15T18:06:43.468Z"
   },
   {
    "duration": 362,
    "start_time": "2024-08-15T18:06:43.752Z"
   },
   {
    "duration": 268,
    "start_time": "2024-08-15T18:06:44.116Z"
   },
   {
    "duration": 389,
    "start_time": "2024-08-15T18:06:44.385Z"
   },
   {
    "duration": 12,
    "start_time": "2024-08-15T18:06:44.777Z"
   },
   {
    "duration": 179,
    "start_time": "2024-08-15T18:06:44.791Z"
   },
   {
    "duration": 5,
    "start_time": "2024-08-15T18:06:44.971Z"
   },
   {
    "duration": 1179,
    "start_time": "2024-08-15T18:42:27.445Z"
   },
   {
    "duration": 77,
    "start_time": "2024-08-15T18:42:28.626Z"
   },
   {
    "duration": 3,
    "start_time": "2024-08-15T18:42:28.705Z"
   },
   {
    "duration": 130,
    "start_time": "2024-08-15T18:42:28.710Z"
   },
   {
    "duration": 0,
    "start_time": "2024-08-15T18:42:28.843Z"
   },
   {
    "duration": 0,
    "start_time": "2024-08-15T18:42:28.845Z"
   },
   {
    "duration": 0,
    "start_time": "2024-08-15T18:42:28.846Z"
   },
   {
    "duration": 0,
    "start_time": "2024-08-15T18:42:28.847Z"
   },
   {
    "duration": 0,
    "start_time": "2024-08-15T18:42:28.849Z"
   },
   {
    "duration": 0,
    "start_time": "2024-08-15T18:42:28.850Z"
   },
   {
    "duration": 0,
    "start_time": "2024-08-15T18:42:28.852Z"
   },
   {
    "duration": 0,
    "start_time": "2024-08-15T18:42:28.854Z"
   },
   {
    "duration": 0,
    "start_time": "2024-08-15T18:42:28.855Z"
   },
   {
    "duration": 0,
    "start_time": "2024-08-15T18:42:28.856Z"
   },
   {
    "duration": 0,
    "start_time": "2024-08-15T18:42:28.857Z"
   },
   {
    "duration": 0,
    "start_time": "2024-08-15T18:42:28.858Z"
   },
   {
    "duration": 0,
    "start_time": "2024-08-15T18:42:28.860Z"
   },
   {
    "duration": 0,
    "start_time": "2024-08-15T18:42:28.862Z"
   },
   {
    "duration": 1181,
    "start_time": "2024-08-15T18:43:28.949Z"
   },
   {
    "duration": 75,
    "start_time": "2024-08-15T18:43:30.132Z"
   },
   {
    "duration": 24,
    "start_time": "2024-08-15T18:43:30.208Z"
   },
   {
    "duration": 55,
    "start_time": "2024-08-15T18:43:30.233Z"
   },
   {
    "duration": 49,
    "start_time": "2024-08-15T18:43:30.290Z"
   },
   {
    "duration": 119,
    "start_time": "2024-08-15T18:43:30.341Z"
   },
   {
    "duration": 60,
    "start_time": "2024-08-15T18:43:30.462Z"
   },
   {
    "duration": 327,
    "start_time": "2024-08-15T18:43:30.524Z"
   },
   {
    "duration": 379,
    "start_time": "2024-08-15T18:43:30.853Z"
   },
   {
    "duration": 282,
    "start_time": "2024-08-15T18:43:31.234Z"
   },
   {
    "duration": 357,
    "start_time": "2024-08-15T18:43:31.519Z"
   },
   {
    "duration": 287,
    "start_time": "2024-08-15T18:43:31.877Z"
   },
   {
    "duration": 365,
    "start_time": "2024-08-15T18:43:32.166Z"
   },
   {
    "duration": 11,
    "start_time": "2024-08-15T18:43:32.534Z"
   },
   {
    "duration": 177,
    "start_time": "2024-08-15T18:43:32.546Z"
   },
   {
    "duration": 4,
    "start_time": "2024-08-15T18:43:32.724Z"
   },
   {
    "duration": 1231,
    "start_time": "2024-08-15T18:47:01.726Z"
   },
   {
    "duration": 75,
    "start_time": "2024-08-15T18:47:02.959Z"
   },
   {
    "duration": 24,
    "start_time": "2024-08-15T18:47:03.036Z"
   },
   {
    "duration": 8,
    "start_time": "2024-08-15T18:47:03.061Z"
   },
   {
    "duration": 96,
    "start_time": "2024-08-15T18:47:03.071Z"
   },
   {
    "duration": 0,
    "start_time": "2024-08-15T18:47:03.169Z"
   },
   {
    "duration": 0,
    "start_time": "2024-08-15T18:47:03.170Z"
   },
   {
    "duration": 0,
    "start_time": "2024-08-15T18:47:03.172Z"
   },
   {
    "duration": 0,
    "start_time": "2024-08-15T18:47:03.173Z"
   },
   {
    "duration": 0,
    "start_time": "2024-08-15T18:47:03.174Z"
   },
   {
    "duration": 0,
    "start_time": "2024-08-15T18:47:03.175Z"
   },
   {
    "duration": 0,
    "start_time": "2024-08-15T18:47:03.176Z"
   },
   {
    "duration": 0,
    "start_time": "2024-08-15T18:47:03.177Z"
   },
   {
    "duration": 0,
    "start_time": "2024-08-15T18:47:03.178Z"
   },
   {
    "duration": 0,
    "start_time": "2024-08-15T18:47:03.180Z"
   },
   {
    "duration": 0,
    "start_time": "2024-08-15T18:47:03.205Z"
   },
   {
    "duration": 0,
    "start_time": "2024-08-15T18:47:03.206Z"
   },
   {
    "duration": 0,
    "start_time": "2024-08-15T18:47:03.207Z"
   },
   {
    "duration": 1181,
    "start_time": "2024-08-15T18:47:30.355Z"
   },
   {
    "duration": 75,
    "start_time": "2024-08-15T18:47:31.538Z"
   },
   {
    "duration": 21,
    "start_time": "2024-08-15T18:47:31.615Z"
   },
   {
    "duration": 45,
    "start_time": "2024-08-15T18:47:31.638Z"
   },
   {
    "duration": 7,
    "start_time": "2024-08-15T18:47:31.685Z"
   },
   {
    "duration": 35,
    "start_time": "2024-08-15T18:47:31.694Z"
   },
   {
    "duration": 27,
    "start_time": "2024-08-15T18:47:31.731Z"
   },
   {
    "duration": 42,
    "start_time": "2024-08-15T18:47:31.759Z"
   },
   {
    "duration": 31,
    "start_time": "2024-08-15T18:47:31.803Z"
   },
   {
    "duration": 147,
    "start_time": "2024-08-15T18:47:31.835Z"
   },
   {
    "duration": 0,
    "start_time": "2024-08-15T18:47:31.985Z"
   },
   {
    "duration": 0,
    "start_time": "2024-08-15T18:47:31.986Z"
   },
   {
    "duration": 0,
    "start_time": "2024-08-15T18:47:31.988Z"
   },
   {
    "duration": 0,
    "start_time": "2024-08-15T18:47:31.989Z"
   },
   {
    "duration": 0,
    "start_time": "2024-08-15T18:47:31.989Z"
   },
   {
    "duration": 0,
    "start_time": "2024-08-15T18:47:31.990Z"
   },
   {
    "duration": 0,
    "start_time": "2024-08-15T18:47:31.992Z"
   },
   {
    "duration": 0,
    "start_time": "2024-08-15T18:47:31.993Z"
   },
   {
    "duration": 12,
    "start_time": "2024-08-15T18:48:09.917Z"
   },
   {
    "duration": 314,
    "start_time": "2024-08-15T18:50:41.431Z"
   },
   {
    "duration": 297,
    "start_time": "2024-08-15T19:06:02.692Z"
   },
   {
    "duration": 1196,
    "start_time": "2024-08-15T19:06:36.227Z"
   },
   {
    "duration": 75,
    "start_time": "2024-08-15T19:06:37.425Z"
   },
   {
    "duration": 24,
    "start_time": "2024-08-15T19:06:37.504Z"
   },
   {
    "duration": 8,
    "start_time": "2024-08-15T19:06:37.530Z"
   },
   {
    "duration": 4,
    "start_time": "2024-08-15T19:06:37.540Z"
   },
   {
    "duration": 17,
    "start_time": "2024-08-15T19:06:37.545Z"
   },
   {
    "duration": 8,
    "start_time": "2024-08-15T19:06:37.564Z"
   },
   {
    "duration": 13,
    "start_time": "2024-08-15T19:06:37.606Z"
   },
   {
    "duration": 13,
    "start_time": "2024-08-15T19:06:37.621Z"
   },
   {
    "duration": 323,
    "start_time": "2024-08-15T19:06:37.635Z"
   },
   {
    "duration": 133,
    "start_time": "2024-08-15T19:06:37.960Z"
   },
   {
    "duration": 0,
    "start_time": "2024-08-15T19:06:38.095Z"
   },
   {
    "duration": 0,
    "start_time": "2024-08-15T19:06:38.096Z"
   },
   {
    "duration": 0,
    "start_time": "2024-08-15T19:06:38.097Z"
   },
   {
    "duration": 0,
    "start_time": "2024-08-15T19:06:38.099Z"
   },
   {
    "duration": 0,
    "start_time": "2024-08-15T19:06:38.105Z"
   },
   {
    "duration": 0,
    "start_time": "2024-08-15T19:06:38.106Z"
   },
   {
    "duration": 0,
    "start_time": "2024-08-15T19:06:38.107Z"
   },
   {
    "duration": 373,
    "start_time": "2024-08-15T19:07:48.698Z"
   },
   {
    "duration": 1274,
    "start_time": "2024-08-15T19:19:59.119Z"
   },
   {
    "duration": 77,
    "start_time": "2024-08-15T19:20:00.395Z"
   },
   {
    "duration": 238,
    "start_time": "2024-08-15T19:20:00.474Z"
   },
   {
    "duration": 44,
    "start_time": "2024-08-15T19:20:00.714Z"
   },
   {
    "duration": 42,
    "start_time": "2024-08-15T19:20:00.761Z"
   },
   {
    "duration": 66,
    "start_time": "2024-08-15T19:20:00.805Z"
   },
   {
    "duration": 46,
    "start_time": "2024-08-15T19:20:00.873Z"
   },
   {
    "duration": 51,
    "start_time": "2024-08-15T19:20:00.921Z"
   },
   {
    "duration": 40,
    "start_time": "2024-08-15T19:20:00.974Z"
   },
   {
    "duration": 393,
    "start_time": "2024-08-15T19:20:01.016Z"
   },
   {
    "duration": 475,
    "start_time": "2024-08-15T19:20:01.410Z"
   },
   {
    "duration": 121,
    "start_time": "2024-08-15T19:20:01.887Z"
   },
   {
    "duration": 0,
    "start_time": "2024-08-15T19:20:02.010Z"
   },
   {
    "duration": 0,
    "start_time": "2024-08-15T19:20:02.011Z"
   },
   {
    "duration": 0,
    "start_time": "2024-08-15T19:20:02.012Z"
   },
   {
    "duration": 0,
    "start_time": "2024-08-15T19:20:02.013Z"
   },
   {
    "duration": 0,
    "start_time": "2024-08-15T19:20:02.015Z"
   },
   {
    "duration": 0,
    "start_time": "2024-08-15T19:20:02.016Z"
   },
   {
    "duration": 1222,
    "start_time": "2024-08-15T19:20:39.926Z"
   },
   {
    "duration": 76,
    "start_time": "2024-08-15T19:20:41.150Z"
   },
   {
    "duration": 23,
    "start_time": "2024-08-15T19:20:41.228Z"
   },
   {
    "duration": 8,
    "start_time": "2024-08-15T19:20:41.252Z"
   },
   {
    "duration": 3,
    "start_time": "2024-08-15T19:20:41.262Z"
   },
   {
    "duration": 17,
    "start_time": "2024-08-15T19:20:41.266Z"
   },
   {
    "duration": 27,
    "start_time": "2024-08-15T19:20:41.284Z"
   },
   {
    "duration": 40,
    "start_time": "2024-08-15T19:20:41.313Z"
   },
   {
    "duration": 13,
    "start_time": "2024-08-15T19:20:41.354Z"
   },
   {
    "duration": 299,
    "start_time": "2024-08-15T19:20:41.369Z"
   },
   {
    "duration": 378,
    "start_time": "2024-08-15T19:20:41.670Z"
   },
   {
    "duration": 113,
    "start_time": "2024-08-15T19:20:42.050Z"
   },
   {
    "duration": 0,
    "start_time": "2024-08-15T19:20:42.165Z"
   },
   {
    "duration": 0,
    "start_time": "2024-08-15T19:20:42.166Z"
   },
   {
    "duration": 0,
    "start_time": "2024-08-15T19:20:42.167Z"
   },
   {
    "duration": 0,
    "start_time": "2024-08-15T19:20:42.168Z"
   },
   {
    "duration": 0,
    "start_time": "2024-08-15T19:20:42.169Z"
   },
   {
    "duration": 0,
    "start_time": "2024-08-15T19:20:42.171Z"
   },
   {
    "duration": 287,
    "start_time": "2024-08-15T19:27:00.331Z"
   },
   {
    "duration": 247,
    "start_time": "2024-08-15T19:28:51.348Z"
   },
   {
    "duration": 287,
    "start_time": "2024-08-15T19:29:24.004Z"
   },
   {
    "duration": 261,
    "start_time": "2024-08-15T19:34:31.878Z"
   },
   {
    "duration": 275,
    "start_time": "2024-08-15T19:35:02.910Z"
   },
   {
    "duration": 358,
    "start_time": "2024-08-15T19:35:21.502Z"
   },
   {
    "duration": 241,
    "start_time": "2024-08-15T19:37:41.920Z"
   },
   {
    "duration": 281,
    "start_time": "2024-08-15T19:37:51.178Z"
   },
   {
    "duration": 283,
    "start_time": "2024-08-15T19:38:11.053Z"
   },
   {
    "duration": 458,
    "start_time": "2024-08-15T19:38:52.770Z"
   },
   {
    "duration": 274,
    "start_time": "2024-08-15T19:39:11.693Z"
   },
   {
    "duration": 278,
    "start_time": "2024-08-15T19:39:18.892Z"
   },
   {
    "duration": 316,
    "start_time": "2024-08-15T19:39:27.351Z"
   },
   {
    "duration": 321,
    "start_time": "2024-08-15T19:39:36.477Z"
   },
   {
    "duration": 1364,
    "start_time": "2024-08-15T19:58:01.700Z"
   },
   {
    "duration": 0,
    "start_time": "2024-08-15T19:58:03.066Z"
   },
   {
    "duration": 0,
    "start_time": "2024-08-15T19:58:03.067Z"
   },
   {
    "duration": 0,
    "start_time": "2024-08-15T19:58:03.069Z"
   },
   {
    "duration": 0,
    "start_time": "2024-08-15T19:58:03.069Z"
   },
   {
    "duration": 0,
    "start_time": "2024-08-15T19:58:03.071Z"
   },
   {
    "duration": 0,
    "start_time": "2024-08-15T19:58:03.072Z"
   },
   {
    "duration": 0,
    "start_time": "2024-08-15T19:58:03.073Z"
   },
   {
    "duration": 0,
    "start_time": "2024-08-15T19:58:03.074Z"
   },
   {
    "duration": 0,
    "start_time": "2024-08-15T19:58:03.075Z"
   },
   {
    "duration": 0,
    "start_time": "2024-08-15T19:58:03.077Z"
   },
   {
    "duration": 0,
    "start_time": "2024-08-15T19:58:03.078Z"
   },
   {
    "duration": 0,
    "start_time": "2024-08-15T19:58:03.079Z"
   },
   {
    "duration": 0,
    "start_time": "2024-08-15T19:58:03.080Z"
   },
   {
    "duration": 0,
    "start_time": "2024-08-15T19:58:03.081Z"
   },
   {
    "duration": 0,
    "start_time": "2024-08-15T19:58:03.105Z"
   },
   {
    "duration": 0,
    "start_time": "2024-08-15T19:58:03.106Z"
   },
   {
    "duration": 0,
    "start_time": "2024-08-15T19:58:03.107Z"
   },
   {
    "duration": 3,
    "start_time": "2024-08-15T19:58:24.141Z"
   },
   {
    "duration": 1227,
    "start_time": "2024-08-15T19:58:28.148Z"
   },
   {
    "duration": 76,
    "start_time": "2024-08-15T19:58:29.377Z"
   },
   {
    "duration": 25,
    "start_time": "2024-08-15T19:58:29.454Z"
   },
   {
    "duration": 53,
    "start_time": "2024-08-15T19:58:29.481Z"
   },
   {
    "duration": 4,
    "start_time": "2024-08-15T19:58:29.536Z"
   },
   {
    "duration": 17,
    "start_time": "2024-08-15T19:58:29.541Z"
   },
   {
    "duration": 9,
    "start_time": "2024-08-15T19:58:29.559Z"
   },
   {
    "duration": 16,
    "start_time": "2024-08-15T19:58:29.569Z"
   },
   {
    "duration": 20,
    "start_time": "2024-08-15T19:58:29.586Z"
   },
   {
    "duration": 304,
    "start_time": "2024-08-15T19:58:29.607Z"
   },
   {
    "duration": 411,
    "start_time": "2024-08-15T19:58:29.912Z"
   },
   {
    "duration": 324,
    "start_time": "2024-08-15T19:58:30.324Z"
   },
   {
    "duration": 108,
    "start_time": "2024-08-15T19:58:30.650Z"
   },
   {
    "duration": 0,
    "start_time": "2024-08-15T19:58:30.760Z"
   },
   {
    "duration": 0,
    "start_time": "2024-08-15T19:58:30.761Z"
   },
   {
    "duration": 0,
    "start_time": "2024-08-15T19:58:30.762Z"
   },
   {
    "duration": 0,
    "start_time": "2024-08-15T19:58:30.764Z"
   },
   {
    "duration": 0,
    "start_time": "2024-08-15T19:58:30.765Z"
   },
   {
    "duration": 1265,
    "start_time": "2024-08-15T20:00:15.374Z"
   },
   {
    "duration": 76,
    "start_time": "2024-08-15T20:00:16.641Z"
   },
   {
    "duration": 23,
    "start_time": "2024-08-15T20:00:16.719Z"
   },
   {
    "duration": 13,
    "start_time": "2024-08-15T20:00:16.743Z"
   },
   {
    "duration": 12,
    "start_time": "2024-08-15T20:00:16.758Z"
   },
   {
    "duration": 18,
    "start_time": "2024-08-15T20:00:16.771Z"
   },
   {
    "duration": 17,
    "start_time": "2024-08-15T20:00:16.790Z"
   },
   {
    "duration": 24,
    "start_time": "2024-08-15T20:00:16.809Z"
   },
   {
    "duration": 14,
    "start_time": "2024-08-15T20:00:16.835Z"
   },
   {
    "duration": 334,
    "start_time": "2024-08-15T20:00:16.850Z"
   },
   {
    "duration": 523,
    "start_time": "2024-08-15T20:00:17.186Z"
   },
   {
    "duration": 385,
    "start_time": "2024-08-15T20:00:17.711Z"
   },
   {
    "duration": 109,
    "start_time": "2024-08-15T20:00:18.097Z"
   },
   {
    "duration": 0,
    "start_time": "2024-08-15T20:00:18.208Z"
   },
   {
    "duration": 0,
    "start_time": "2024-08-15T20:00:18.209Z"
   },
   {
    "duration": 0,
    "start_time": "2024-08-15T20:00:18.210Z"
   },
   {
    "duration": 0,
    "start_time": "2024-08-15T20:00:18.211Z"
   },
   {
    "duration": 0,
    "start_time": "2024-08-15T20:00:18.212Z"
   },
   {
    "duration": 1124,
    "start_time": "2024-08-15T20:00:31.534Z"
   },
   {
    "duration": 77,
    "start_time": "2024-08-15T20:00:32.660Z"
   },
   {
    "duration": 28,
    "start_time": "2024-08-15T20:00:32.741Z"
   },
   {
    "duration": 8,
    "start_time": "2024-08-15T20:00:32.771Z"
   },
   {
    "duration": 3,
    "start_time": "2024-08-15T20:00:32.781Z"
   },
   {
    "duration": 20,
    "start_time": "2024-08-15T20:00:32.786Z"
   },
   {
    "duration": 10,
    "start_time": "2024-08-15T20:00:32.808Z"
   },
   {
    "duration": 12,
    "start_time": "2024-08-15T20:00:32.820Z"
   },
   {
    "duration": 36,
    "start_time": "2024-08-15T20:00:32.834Z"
   },
   {
    "duration": 297,
    "start_time": "2024-08-15T20:00:32.872Z"
   },
   {
    "duration": 395,
    "start_time": "2024-08-15T20:00:33.170Z"
   },
   {
    "duration": 312,
    "start_time": "2024-08-15T20:00:33.566Z"
   },
   {
    "duration": 110,
    "start_time": "2024-08-15T20:00:33.880Z"
   },
   {
    "duration": 0,
    "start_time": "2024-08-15T20:00:33.992Z"
   },
   {
    "duration": 0,
    "start_time": "2024-08-15T20:00:33.993Z"
   },
   {
    "duration": 0,
    "start_time": "2024-08-15T20:00:33.994Z"
   },
   {
    "duration": 0,
    "start_time": "2024-08-15T20:00:33.995Z"
   },
   {
    "duration": 0,
    "start_time": "2024-08-15T20:00:33.996Z"
   },
   {
    "duration": 272,
    "start_time": "2024-08-15T20:04:13.138Z"
   },
   {
    "duration": 293,
    "start_time": "2024-08-15T20:04:32.405Z"
   },
   {
    "duration": 371,
    "start_time": "2024-08-15T20:05:38.345Z"
   },
   {
    "duration": 438,
    "start_time": "2024-08-15T20:06:13.018Z"
   },
   {
    "duration": 440,
    "start_time": "2024-08-15T20:06:46.511Z"
   },
   {
    "duration": 518,
    "start_time": "2024-08-15T20:07:45.835Z"
   },
   {
    "duration": 406,
    "start_time": "2024-08-15T20:07:55.157Z"
   },
   {
    "duration": 408,
    "start_time": "2024-08-15T20:08:23.850Z"
   },
   {
    "duration": 452,
    "start_time": "2024-08-15T20:16:00.592Z"
   },
   {
    "duration": 414,
    "start_time": "2024-08-15T20:16:51.570Z"
   },
   {
    "duration": 449,
    "start_time": "2024-08-15T20:16:58.466Z"
   },
   {
    "duration": 483,
    "start_time": "2024-08-15T20:18:08.100Z"
   },
   {
    "duration": 26,
    "start_time": "2024-08-15T20:18:30.838Z"
   },
   {
    "duration": 460,
    "start_time": "2024-08-15T20:18:41.131Z"
   },
   {
    "duration": 1261,
    "start_time": "2024-08-15T20:20:11.406Z"
   },
   {
    "duration": 76,
    "start_time": "2024-08-15T20:20:12.669Z"
   },
   {
    "duration": 23,
    "start_time": "2024-08-15T20:20:12.747Z"
   },
   {
    "duration": 92,
    "start_time": "2024-08-15T20:20:12.771Z"
   },
   {
    "duration": 10,
    "start_time": "2024-08-15T20:20:12.865Z"
   },
   {
    "duration": 19,
    "start_time": "2024-08-15T20:20:12.877Z"
   },
   {
    "duration": 8,
    "start_time": "2024-08-15T20:20:12.897Z"
   },
   {
    "duration": 28,
    "start_time": "2024-08-15T20:20:12.906Z"
   },
   {
    "duration": 13,
    "start_time": "2024-08-15T20:20:12.935Z"
   },
   {
    "duration": 289,
    "start_time": "2024-08-15T20:20:12.950Z"
   },
   {
    "duration": 489,
    "start_time": "2024-08-15T20:20:13.240Z"
   },
   {
    "duration": 460,
    "start_time": "2024-08-15T20:20:13.731Z"
   },
   {
    "duration": 405,
    "start_time": "2024-08-15T20:20:14.193Z"
   },
   {
    "duration": 112,
    "start_time": "2024-08-15T20:20:14.601Z"
   },
   {
    "duration": 0,
    "start_time": "2024-08-15T20:20:14.715Z"
   },
   {
    "duration": 0,
    "start_time": "2024-08-15T20:20:14.717Z"
   },
   {
    "duration": 0,
    "start_time": "2024-08-15T20:20:14.718Z"
   },
   {
    "duration": 0,
    "start_time": "2024-08-15T20:20:14.720Z"
   },
   {
    "duration": 0,
    "start_time": "2024-08-15T20:20:14.721Z"
   },
   {
    "duration": 454,
    "start_time": "2024-08-15T20:20:59.297Z"
   },
   {
    "duration": 1197,
    "start_time": "2024-08-15T20:21:14.055Z"
   },
   {
    "duration": 75,
    "start_time": "2024-08-15T20:21:15.254Z"
   },
   {
    "duration": 25,
    "start_time": "2024-08-15T20:21:15.331Z"
   },
   {
    "duration": 49,
    "start_time": "2024-08-15T20:21:15.357Z"
   },
   {
    "duration": 28,
    "start_time": "2024-08-15T20:21:15.408Z"
   },
   {
    "duration": 58,
    "start_time": "2024-08-15T20:21:15.438Z"
   },
   {
    "duration": 8,
    "start_time": "2024-08-15T20:21:15.498Z"
   },
   {
    "duration": 13,
    "start_time": "2024-08-15T20:21:15.508Z"
   },
   {
    "duration": 13,
    "start_time": "2024-08-15T20:21:15.523Z"
   },
   {
    "duration": 345,
    "start_time": "2024-08-15T20:21:15.538Z"
   },
   {
    "duration": 568,
    "start_time": "2024-08-15T20:21:15.884Z"
   },
   {
    "duration": 436,
    "start_time": "2024-08-15T20:21:16.453Z"
   },
   {
    "duration": 116,
    "start_time": "2024-08-15T20:21:16.890Z"
   },
   {
    "duration": 0,
    "start_time": "2024-08-15T20:21:17.008Z"
   },
   {
    "duration": 0,
    "start_time": "2024-08-15T20:21:17.009Z"
   },
   {
    "duration": 0,
    "start_time": "2024-08-15T20:21:17.011Z"
   },
   {
    "duration": 0,
    "start_time": "2024-08-15T20:21:17.012Z"
   },
   {
    "duration": 0,
    "start_time": "2024-08-15T20:21:17.013Z"
   },
   {
    "duration": 407,
    "start_time": "2024-08-15T20:21:48.100Z"
   },
   {
    "duration": 18,
    "start_time": "2024-08-15T20:23:06.398Z"
   },
   {
    "duration": 1213,
    "start_time": "2024-08-15T20:24:35.061Z"
   },
   {
    "duration": 76,
    "start_time": "2024-08-15T20:24:36.276Z"
   },
   {
    "duration": 23,
    "start_time": "2024-08-15T20:24:36.353Z"
   },
   {
    "duration": 45,
    "start_time": "2024-08-15T20:24:36.377Z"
   },
   {
    "duration": 40,
    "start_time": "2024-08-15T20:24:36.424Z"
   },
   {
    "duration": 16,
    "start_time": "2024-08-15T20:24:36.465Z"
   },
   {
    "duration": 8,
    "start_time": "2024-08-15T20:24:36.483Z"
   },
   {
    "duration": 20,
    "start_time": "2024-08-15T20:24:36.492Z"
   },
   {
    "duration": 12,
    "start_time": "2024-08-15T20:24:36.514Z"
   },
   {
    "duration": 303,
    "start_time": "2024-08-15T20:24:36.528Z"
   },
   {
    "duration": 543,
    "start_time": "2024-08-15T20:24:36.833Z"
   },
   {
    "duration": 382,
    "start_time": "2024-08-15T20:24:37.377Z"
   },
   {
    "duration": 106,
    "start_time": "2024-08-15T20:24:37.760Z"
   },
   {
    "duration": 0,
    "start_time": "2024-08-15T20:24:37.868Z"
   },
   {
    "duration": 0,
    "start_time": "2024-08-15T20:24:37.869Z"
   },
   {
    "duration": 0,
    "start_time": "2024-08-15T20:24:37.870Z"
   },
   {
    "duration": 0,
    "start_time": "2024-08-15T20:24:37.871Z"
   },
   {
    "duration": 0,
    "start_time": "2024-08-15T20:24:37.872Z"
   },
   {
    "duration": 417,
    "start_time": "2024-08-15T20:24:58.877Z"
   },
   {
    "duration": 444,
    "start_time": "2024-08-15T20:25:02.454Z"
   },
   {
    "duration": 421,
    "start_time": "2024-08-15T20:25:12.303Z"
   },
   {
    "duration": 5,
    "start_time": "2024-08-15T20:47:28.105Z"
   },
   {
    "duration": 324,
    "start_time": "2024-08-15T20:48:05.141Z"
   },
   {
    "duration": 78,
    "start_time": "2024-08-15T20:54:02.416Z"
   },
   {
    "duration": 64,
    "start_time": "2024-08-15T20:54:12.381Z"
   },
   {
    "duration": 942,
    "start_time": "2024-08-15T20:54:37.814Z"
   },
   {
    "duration": 490,
    "start_time": "2024-08-15T20:55:04.833Z"
   },
   {
    "duration": 609,
    "start_time": "2024-08-15T20:57:47.725Z"
   },
   {
    "duration": 481,
    "start_time": "2024-08-15T20:59:07.536Z"
   },
   {
    "duration": 522,
    "start_time": "2024-08-15T20:59:34.861Z"
   },
   {
    "duration": 493,
    "start_time": "2024-08-15T20:59:46.211Z"
   },
   {
    "duration": 459,
    "start_time": "2024-08-15T21:10:13.155Z"
   },
   {
    "duration": 18,
    "start_time": "2024-08-15T21:21:15.022Z"
   },
   {
    "duration": 17,
    "start_time": "2024-08-15T21:21:23.460Z"
   },
   {
    "duration": 583,
    "start_time": "2024-08-15T21:21:36.430Z"
   },
   {
    "duration": 481,
    "start_time": "2024-08-15T21:21:48.936Z"
   },
   {
    "duration": 518,
    "start_time": "2024-08-15T21:21:56.172Z"
   },
   {
    "duration": 492,
    "start_time": "2024-08-15T21:23:31.499Z"
   },
   {
    "duration": 475,
    "start_time": "2024-08-15T21:24:06.508Z"
   },
   {
    "duration": 472,
    "start_time": "2024-08-15T21:24:50.921Z"
   },
   {
    "duration": 601,
    "start_time": "2024-08-15T21:25:21.482Z"
   },
   {
    "duration": 13,
    "start_time": "2024-08-15T21:34:25.025Z"
   },
   {
    "duration": 10,
    "start_time": "2024-08-15T21:35:12.433Z"
   },
   {
    "duration": 191,
    "start_time": "2024-08-15T21:35:18.021Z"
   },
   {
    "duration": 238,
    "start_time": "2024-08-15T21:38:00.654Z"
   },
   {
    "duration": 235,
    "start_time": "2024-08-15T21:38:33.517Z"
   },
   {
    "duration": 226,
    "start_time": "2024-08-15T21:38:44.314Z"
   },
   {
    "duration": 231,
    "start_time": "2024-08-15T21:38:52.052Z"
   },
   {
    "duration": 238,
    "start_time": "2024-08-15T21:39:00.604Z"
   },
   {
    "duration": 226,
    "start_time": "2024-08-15T21:39:10.564Z"
   },
   {
    "duration": 230,
    "start_time": "2024-08-15T21:39:50.451Z"
   },
   {
    "duration": 18,
    "start_time": "2024-08-15T21:40:08.401Z"
   },
   {
    "duration": 17,
    "start_time": "2024-08-15T21:40:17.778Z"
   },
   {
    "duration": 16,
    "start_time": "2024-08-15T21:40:45.858Z"
   },
   {
    "duration": 237,
    "start_time": "2024-08-15T21:40:51.190Z"
   },
   {
    "duration": 249,
    "start_time": "2024-08-15T21:40:55.529Z"
   },
   {
    "duration": 247,
    "start_time": "2024-08-15T21:41:00.998Z"
   },
   {
    "duration": 16,
    "start_time": "2024-08-15T21:41:46.126Z"
   },
   {
    "duration": 318,
    "start_time": "2024-08-15T21:42:37.473Z"
   },
   {
    "duration": 82,
    "start_time": "2024-08-15T21:43:24.587Z"
   },
   {
    "duration": 332,
    "start_time": "2024-08-15T21:43:42.530Z"
   },
   {
    "duration": 305,
    "start_time": "2024-08-15T21:45:06.740Z"
   },
   {
    "duration": 6,
    "start_time": "2024-08-15T21:46:48.798Z"
   },
   {
    "duration": 272,
    "start_time": "2024-08-15T21:56:45.902Z"
   },
   {
    "duration": 1267,
    "start_time": "2024-08-15T22:02:10.999Z"
   },
   {
    "duration": 12,
    "start_time": "2024-08-15T22:05:16.497Z"
   },
   {
    "duration": 13,
    "start_time": "2024-08-15T22:05:19.890Z"
   },
   {
    "duration": 264,
    "start_time": "2024-08-15T22:06:02.624Z"
   },
   {
    "duration": 6,
    "start_time": "2024-08-15T22:07:05.322Z"
   },
   {
    "duration": 8,
    "start_time": "2024-08-15T22:07:11.958Z"
   },
   {
    "duration": 11,
    "start_time": "2024-08-15T22:11:00.143Z"
   },
   {
    "duration": 15,
    "start_time": "2024-08-15T22:11:36.469Z"
   },
   {
    "duration": 75,
    "start_time": "2024-08-15T22:11:42.539Z"
   },
   {
    "duration": 8,
    "start_time": "2024-08-15T22:12:00.764Z"
   },
   {
    "duration": 9,
    "start_time": "2024-08-15T22:12:12.221Z"
   },
   {
    "duration": 402,
    "start_time": "2024-08-15T22:13:08.874Z"
   },
   {
    "duration": 422,
    "start_time": "2024-08-15T22:13:22.477Z"
   },
   {
    "duration": 5,
    "start_time": "2024-08-15T22:16:01.915Z"
   },
   {
    "duration": 1335,
    "start_time": "2024-08-16T10:22:45.839Z"
   },
   {
    "duration": 258,
    "start_time": "2024-08-16T10:22:47.176Z"
   },
   {
    "duration": 25,
    "start_time": "2024-08-16T10:22:47.436Z"
   },
   {
    "duration": 8,
    "start_time": "2024-08-16T10:22:47.463Z"
   },
   {
    "duration": 3,
    "start_time": "2024-08-16T10:22:47.474Z"
   },
   {
    "duration": 17,
    "start_time": "2024-08-16T10:22:47.479Z"
   },
   {
    "duration": 10,
    "start_time": "2024-08-16T10:22:47.498Z"
   },
   {
    "duration": 27,
    "start_time": "2024-08-16T10:22:47.510Z"
   },
   {
    "duration": 28,
    "start_time": "2024-08-16T10:22:47.539Z"
   },
   {
    "duration": 304,
    "start_time": "2024-08-16T10:22:47.569Z"
   },
   {
    "duration": 562,
    "start_time": "2024-08-16T10:22:47.875Z"
   },
   {
    "duration": 388,
    "start_time": "2024-08-16T10:22:48.439Z"
   },
   {
    "duration": 592,
    "start_time": "2024-08-16T10:22:48.829Z"
   },
   {
    "duration": 457,
    "start_time": "2024-08-16T10:22:49.423Z"
   },
   {
    "duration": 516,
    "start_time": "2024-08-16T10:22:49.881Z"
   },
   {
    "duration": 13,
    "start_time": "2024-08-16T10:22:50.400Z"
   },
   {
    "duration": 259,
    "start_time": "2024-08-16T10:22:50.416Z"
   },
   {
    "duration": 4,
    "start_time": "2024-08-16T10:22:50.677Z"
   },
   {
    "duration": 281,
    "start_time": "2024-08-16T10:22:50.683Z"
   },
   {
    "duration": 9,
    "start_time": "2024-08-16T10:22:50.965Z"
   },
   {
    "duration": 45,
    "start_time": "2024-08-16T10:22:50.976Z"
   },
   {
    "duration": 0,
    "start_time": "2024-08-16T10:22:51.023Z"
   },
   {
    "duration": 0,
    "start_time": "2024-08-16T10:22:51.024Z"
   },
   {
    "duration": 1202,
    "start_time": "2024-08-16T10:23:48.229Z"
   },
   {
    "duration": 92,
    "start_time": "2024-08-16T10:23:49.433Z"
   },
   {
    "duration": 23,
    "start_time": "2024-08-16T10:23:49.527Z"
   },
   {
    "duration": 8,
    "start_time": "2024-08-16T10:23:49.552Z"
   },
   {
    "duration": 4,
    "start_time": "2024-08-16T10:23:49.562Z"
   },
   {
    "duration": 33,
    "start_time": "2024-08-16T10:23:49.567Z"
   },
   {
    "duration": 8,
    "start_time": "2024-08-16T10:23:49.602Z"
   },
   {
    "duration": 15,
    "start_time": "2024-08-16T10:23:49.612Z"
   },
   {
    "duration": 13,
    "start_time": "2024-08-16T10:23:49.628Z"
   },
   {
    "duration": 318,
    "start_time": "2024-08-16T10:23:49.642Z"
   },
   {
    "duration": 525,
    "start_time": "2024-08-16T10:23:49.961Z"
   },
   {
    "duration": 437,
    "start_time": "2024-08-16T10:23:50.488Z"
   },
   {
    "duration": 521,
    "start_time": "2024-08-16T10:23:50.927Z"
   },
   {
    "duration": 438,
    "start_time": "2024-08-16T10:23:51.451Z"
   },
   {
    "duration": 506,
    "start_time": "2024-08-16T10:23:51.890Z"
   },
   {
    "duration": 12,
    "start_time": "2024-08-16T10:23:52.397Z"
   },
   {
    "duration": 272,
    "start_time": "2024-08-16T10:23:52.411Z"
   },
   {
    "duration": 5,
    "start_time": "2024-08-16T10:23:52.684Z"
   },
   {
    "duration": 270,
    "start_time": "2024-08-16T10:23:52.696Z"
   },
   {
    "duration": 8,
    "start_time": "2024-08-16T10:23:52.967Z"
   },
   {
    "duration": 46,
    "start_time": "2024-08-16T10:23:52.977Z"
   },
   {
    "duration": 0,
    "start_time": "2024-08-16T10:23:53.024Z"
   },
   {
    "duration": 0,
    "start_time": "2024-08-16T10:23:53.025Z"
   },
   {
    "duration": 5,
    "start_time": "2024-08-16T11:00:57.403Z"
   },
   {
    "duration": 68,
    "start_time": "2024-08-16T11:05:17.168Z"
   },
   {
    "duration": 297,
    "start_time": "2024-08-16T11:20:19.801Z"
   },
   {
    "duration": 111,
    "start_time": "2024-08-16T11:20:55.530Z"
   },
   {
    "duration": 111,
    "start_time": "2024-08-16T11:22:58.132Z"
   },
   {
    "duration": 221,
    "start_time": "2024-08-16T11:23:42.092Z"
   },
   {
    "duration": 216,
    "start_time": "2024-08-16T11:27:52.891Z"
   },
   {
    "duration": 147,
    "start_time": "2024-08-16T12:23:22.125Z"
   },
   {
    "duration": 138,
    "start_time": "2024-08-16T12:24:05.584Z"
   },
   {
    "duration": 1196,
    "start_time": "2024-08-16T12:24:36.933Z"
   },
   {
    "duration": 94,
    "start_time": "2024-08-16T12:24:38.131Z"
   },
   {
    "duration": 31,
    "start_time": "2024-08-16T12:24:38.227Z"
   },
   {
    "duration": 10,
    "start_time": "2024-08-16T12:24:38.260Z"
   },
   {
    "duration": 8,
    "start_time": "2024-08-16T12:24:38.273Z"
   },
   {
    "duration": 22,
    "start_time": "2024-08-16T12:24:38.283Z"
   },
   {
    "duration": 9,
    "start_time": "2024-08-16T12:24:38.307Z"
   },
   {
    "duration": 32,
    "start_time": "2024-08-16T12:24:38.317Z"
   },
   {
    "duration": 27,
    "start_time": "2024-08-16T12:24:38.350Z"
   },
   {
    "duration": 318,
    "start_time": "2024-08-16T12:24:38.379Z"
   },
   {
    "duration": 541,
    "start_time": "2024-08-16T12:24:38.699Z"
   },
   {
    "duration": 409,
    "start_time": "2024-08-16T12:24:39.242Z"
   },
   {
    "duration": 537,
    "start_time": "2024-08-16T12:24:39.653Z"
   },
   {
    "duration": 445,
    "start_time": "2024-08-16T12:24:40.197Z"
   },
   {
    "duration": 535,
    "start_time": "2024-08-16T12:24:40.644Z"
   },
   {
    "duration": 26,
    "start_time": "2024-08-16T12:24:41.181Z"
   },
   {
    "duration": 256,
    "start_time": "2024-08-16T12:24:41.208Z"
   },
   {
    "duration": 6,
    "start_time": "2024-08-16T12:24:41.466Z"
   },
   {
    "duration": 292,
    "start_time": "2024-08-16T12:24:41.473Z"
   },
   {
    "duration": 8,
    "start_time": "2024-08-16T12:24:41.766Z"
   },
   {
    "duration": 22,
    "start_time": "2024-08-16T12:24:41.776Z"
   },
   {
    "duration": 306,
    "start_time": "2024-08-16T12:24:41.800Z"
   },
   {
    "duration": 168,
    "start_time": "2024-08-16T12:24:42.107Z"
   },
   {
    "duration": 11,
    "start_time": "2024-08-16T13:47:49.014Z"
   },
   {
    "duration": 9,
    "start_time": "2024-08-16T13:49:23.983Z"
   },
   {
    "duration": 30,
    "start_time": "2024-08-16T13:49:58.609Z"
   },
   {
    "duration": 29,
    "start_time": "2024-08-16T13:56:50.379Z"
   },
   {
    "duration": 9,
    "start_time": "2024-08-16T13:56:53.513Z"
   },
   {
    "duration": 56,
    "start_time": "2024-08-16T14:17:23.183Z"
   },
   {
    "duration": 50,
    "start_time": "2024-08-16T14:24:09.158Z"
   },
   {
    "duration": 94,
    "start_time": "2024-08-16T14:24:13.572Z"
   },
   {
    "duration": 1167,
    "start_time": "2024-08-16T14:24:22.766Z"
   },
   {
    "duration": 90,
    "start_time": "2024-08-16T14:24:23.935Z"
   },
   {
    "duration": 21,
    "start_time": "2024-08-16T14:24:24.027Z"
   },
   {
    "duration": 21,
    "start_time": "2024-08-16T14:24:24.049Z"
   },
   {
    "duration": 3,
    "start_time": "2024-08-16T14:24:24.072Z"
   },
   {
    "duration": 20,
    "start_time": "2024-08-16T14:24:24.076Z"
   },
   {
    "duration": 7,
    "start_time": "2024-08-16T14:24:24.098Z"
   },
   {
    "duration": 70,
    "start_time": "2024-08-16T14:24:24.106Z"
   },
   {
    "duration": 68,
    "start_time": "2024-08-16T14:24:24.177Z"
   },
   {
    "duration": 277,
    "start_time": "2024-08-16T14:24:24.247Z"
   },
   {
    "duration": 495,
    "start_time": "2024-08-16T14:24:24.525Z"
   },
   {
    "duration": 390,
    "start_time": "2024-08-16T14:24:25.022Z"
   },
   {
    "duration": 561,
    "start_time": "2024-08-16T14:24:25.414Z"
   },
   {
    "duration": 425,
    "start_time": "2024-08-16T14:24:25.977Z"
   },
   {
    "duration": 480,
    "start_time": "2024-08-16T14:24:26.403Z"
   },
   {
    "duration": 20,
    "start_time": "2024-08-16T14:24:26.885Z"
   },
   {
    "duration": 232,
    "start_time": "2024-08-16T14:24:26.907Z"
   },
   {
    "duration": 5,
    "start_time": "2024-08-16T14:24:27.140Z"
   },
   {
    "duration": 267,
    "start_time": "2024-08-16T14:24:27.147Z"
   },
   {
    "duration": 8,
    "start_time": "2024-08-16T14:24:27.416Z"
   },
   {
    "duration": 5,
    "start_time": "2024-08-16T14:24:27.425Z"
   },
   {
    "duration": 329,
    "start_time": "2024-08-16T14:24:27.431Z"
   },
   {
    "duration": 167,
    "start_time": "2024-08-16T14:24:27.762Z"
   },
   {
    "duration": 10,
    "start_time": "2024-08-16T14:24:27.930Z"
   },
   {
    "duration": 30,
    "start_time": "2024-08-16T14:24:27.942Z"
   },
   {
    "duration": 115,
    "start_time": "2024-08-16T14:24:27.973Z"
   },
   {
    "duration": 15,
    "start_time": "2024-08-16T14:25:58.557Z"
   },
   {
    "duration": 10,
    "start_time": "2024-08-16T14:27:00.237Z"
   },
   {
    "duration": 974,
    "start_time": "2024-08-16T14:28:08.879Z"
   },
   {
    "duration": 9,
    "start_time": "2024-08-16T14:29:15.459Z"
   },
   {
    "duration": 7,
    "start_time": "2024-08-16T14:30:43.866Z"
   },
   {
    "duration": 6,
    "start_time": "2024-08-16T14:30:54.103Z"
   },
   {
    "duration": 4,
    "start_time": "2024-08-16T14:33:34.858Z"
   },
   {
    "duration": 4,
    "start_time": "2024-08-16T14:33:57.441Z"
   },
   {
    "duration": 12,
    "start_time": "2024-08-16T14:34:01.940Z"
   },
   {
    "duration": 4,
    "start_time": "2024-08-16T14:34:31.724Z"
   },
   {
    "duration": 4,
    "start_time": "2024-08-16T14:34:47.249Z"
   },
   {
    "duration": 10,
    "start_time": "2024-08-16T14:36:27.117Z"
   },
   {
    "duration": 946,
    "start_time": "2024-08-16T14:52:16.086Z"
   },
   {
    "duration": 1129,
    "start_time": "2024-08-16T14:53:08.793Z"
   },
   {
    "duration": 12,
    "start_time": "2024-08-16T14:53:22.701Z"
   },
   {
    "duration": 4,
    "start_time": "2024-08-16T14:57:16.247Z"
   },
   {
    "duration": 43,
    "start_time": "2024-08-16T14:57:39.663Z"
   },
   {
    "duration": 4,
    "start_time": "2024-08-16T14:57:56.856Z"
   },
   {
    "duration": 51,
    "start_time": "2024-08-16T14:58:01.133Z"
   },
   {
    "duration": 10,
    "start_time": "2024-08-16T14:58:09.062Z"
   },
   {
    "duration": 956,
    "start_time": "2024-08-16T14:58:17.939Z"
   },
   {
    "duration": 27,
    "start_time": "2024-08-16T14:58:30.671Z"
   },
   {
    "duration": 4,
    "start_time": "2024-08-16T14:59:28.373Z"
   },
   {
    "duration": 4,
    "start_time": "2024-08-16T14:59:36.837Z"
   },
   {
    "duration": 1123,
    "start_time": "2024-08-16T14:59:41.230Z"
   },
   {
    "duration": 91,
    "start_time": "2024-08-16T14:59:42.354Z"
   },
   {
    "duration": 23,
    "start_time": "2024-08-16T14:59:42.447Z"
   },
   {
    "duration": 7,
    "start_time": "2024-08-16T14:59:42.472Z"
   },
   {
    "duration": 4,
    "start_time": "2024-08-16T14:59:42.481Z"
   },
   {
    "duration": 15,
    "start_time": "2024-08-16T14:59:42.486Z"
   },
   {
    "duration": 11,
    "start_time": "2024-08-16T14:59:42.503Z"
   },
   {
    "duration": 19,
    "start_time": "2024-08-16T14:59:42.516Z"
   },
   {
    "duration": 13,
    "start_time": "2024-08-16T14:59:42.536Z"
   },
   {
    "duration": 314,
    "start_time": "2024-08-16T14:59:42.551Z"
   },
   {
    "duration": 501,
    "start_time": "2024-08-16T14:59:42.867Z"
   },
   {
    "duration": 388,
    "start_time": "2024-08-16T14:59:43.370Z"
   },
   {
    "duration": 511,
    "start_time": "2024-08-16T14:59:43.760Z"
   },
   {
    "duration": 434,
    "start_time": "2024-08-16T14:59:44.274Z"
   },
   {
    "duration": 481,
    "start_time": "2024-08-16T14:59:44.710Z"
   },
   {
    "duration": 13,
    "start_time": "2024-08-16T14:59:45.197Z"
   },
   {
    "duration": 331,
    "start_time": "2024-08-16T14:59:45.211Z"
   },
   {
    "duration": 5,
    "start_time": "2024-08-16T14:59:45.543Z"
   },
   {
    "duration": 276,
    "start_time": "2024-08-16T14:59:45.549Z"
   },
   {
    "duration": 10,
    "start_time": "2024-08-16T14:59:45.827Z"
   },
   {
    "duration": 107,
    "start_time": "2024-08-16T14:59:45.838Z"
   },
   {
    "duration": 297,
    "start_time": "2024-08-16T14:59:45.947Z"
   },
   {
    "duration": 188,
    "start_time": "2024-08-16T14:59:46.246Z"
   },
   {
    "duration": 10,
    "start_time": "2024-08-16T14:59:46.436Z"
   },
   {
    "duration": 54,
    "start_time": "2024-08-16T14:59:46.447Z"
   },
   {
    "duration": 10,
    "start_time": "2024-08-16T14:59:46.503Z"
   },
   {
    "duration": 117,
    "start_time": "2024-08-16T14:59:46.514Z"
   },
   {
    "duration": 0,
    "start_time": "2024-08-16T14:59:46.632Z"
   },
   {
    "duration": 5,
    "start_time": "2024-08-16T15:00:33.537Z"
   },
   {
    "duration": 5,
    "start_time": "2024-08-16T15:01:19.984Z"
   },
   {
    "duration": 15,
    "start_time": "2024-08-16T15:02:09.650Z"
   },
   {
    "duration": 793,
    "start_time": "2024-08-16T15:02:17.663Z"
   },
   {
    "duration": 765,
    "start_time": "2024-08-16T15:03:45.625Z"
   },
   {
    "duration": 13,
    "start_time": "2024-08-16T15:03:55.776Z"
   },
   {
    "duration": 743,
    "start_time": "2024-08-16T15:04:13.898Z"
   },
   {
    "duration": 18,
    "start_time": "2024-08-16T15:04:35.363Z"
   },
   {
    "duration": 7,
    "start_time": "2024-08-16T15:06:16.642Z"
   },
   {
    "duration": 21,
    "start_time": "2024-08-16T15:21:31.576Z"
   },
   {
    "duration": 14,
    "start_time": "2024-08-16T15:21:35.674Z"
   },
   {
    "duration": 6,
    "start_time": "2024-08-16T15:21:38.295Z"
   },
   {
    "duration": 5,
    "start_time": "2024-08-16T15:22:00.511Z"
   },
   {
    "duration": 4,
    "start_time": "2024-08-16T15:22:25.637Z"
   },
   {
    "duration": 13,
    "start_time": "2024-08-16T15:22:36.083Z"
   },
   {
    "duration": 4,
    "start_time": "2024-08-16T15:22:39.496Z"
   },
   {
    "duration": 11,
    "start_time": "2024-08-16T15:24:31.532Z"
   },
   {
    "duration": 961,
    "start_time": "2024-08-16T15:24:50.306Z"
   },
   {
    "duration": 12,
    "start_time": "2024-08-16T15:25:02.366Z"
   },
   {
    "duration": 56,
    "start_time": "2024-08-16T15:25:33.541Z"
   },
   {
    "duration": 47,
    "start_time": "2024-08-16T15:25:41.684Z"
   },
   {
    "duration": 55,
    "start_time": "2024-08-16T15:25:53.218Z"
   },
   {
    "duration": 13,
    "start_time": "2024-08-16T15:26:22.864Z"
   },
   {
    "duration": 12,
    "start_time": "2024-08-16T15:28:41.254Z"
   },
   {
    "duration": 1228,
    "start_time": "2024-08-16T15:28:59.901Z"
   },
   {
    "duration": 92,
    "start_time": "2024-08-16T15:29:01.132Z"
   },
   {
    "duration": 24,
    "start_time": "2024-08-16T15:29:01.226Z"
   },
   {
    "duration": 29,
    "start_time": "2024-08-16T15:29:01.252Z"
   },
   {
    "duration": 50,
    "start_time": "2024-08-16T15:29:01.283Z"
   },
   {
    "duration": 46,
    "start_time": "2024-08-16T15:29:01.335Z"
   },
   {
    "duration": 33,
    "start_time": "2024-08-16T15:29:01.382Z"
   },
   {
    "duration": 57,
    "start_time": "2024-08-16T15:29:01.417Z"
   },
   {
    "duration": 74,
    "start_time": "2024-08-16T15:29:01.476Z"
   },
   {
    "duration": 501,
    "start_time": "2024-08-16T15:29:01.552Z"
   },
   {
    "duration": 561,
    "start_time": "2024-08-16T15:29:02.054Z"
   },
   {
    "duration": 430,
    "start_time": "2024-08-16T15:29:02.617Z"
   },
   {
    "duration": 536,
    "start_time": "2024-08-16T15:29:03.048Z"
   },
   {
    "duration": 469,
    "start_time": "2024-08-16T15:29:03.587Z"
   },
   {
    "duration": 528,
    "start_time": "2024-08-16T15:29:04.057Z"
   },
   {
    "duration": 19,
    "start_time": "2024-08-16T15:29:04.587Z"
   },
   {
    "duration": 258,
    "start_time": "2024-08-16T15:29:04.608Z"
   },
   {
    "duration": 5,
    "start_time": "2024-08-16T15:29:04.867Z"
   },
   {
    "duration": 300,
    "start_time": "2024-08-16T15:29:04.874Z"
   },
   {
    "duration": 9,
    "start_time": "2024-08-16T15:29:05.175Z"
   },
   {
    "duration": 56,
    "start_time": "2024-08-16T15:29:05.197Z"
   },
   {
    "duration": 348,
    "start_time": "2024-08-16T15:29:05.255Z"
   },
   {
    "duration": 197,
    "start_time": "2024-08-16T15:29:05.605Z"
   },
   {
    "duration": 12,
    "start_time": "2024-08-16T15:29:05.805Z"
   },
   {
    "duration": 34,
    "start_time": "2024-08-16T15:29:05.820Z"
   },
   {
    "duration": 12,
    "start_time": "2024-08-16T15:29:05.857Z"
   },
   {
    "duration": 43,
    "start_time": "2024-08-16T15:29:05.870Z"
   },
   {
    "duration": 48,
    "start_time": "2024-08-17T09:02:38.817Z"
   },
   {
    "duration": 1368,
    "start_time": "2024-08-17T09:02:47.213Z"
   },
   {
    "duration": 259,
    "start_time": "2024-08-17T09:02:48.583Z"
   },
   {
    "duration": 23,
    "start_time": "2024-08-17T09:02:48.843Z"
   },
   {
    "duration": 7,
    "start_time": "2024-08-17T09:02:48.868Z"
   },
   {
    "duration": 11,
    "start_time": "2024-08-17T09:02:48.877Z"
   },
   {
    "duration": 15,
    "start_time": "2024-08-17T09:02:48.889Z"
   },
   {
    "duration": 7,
    "start_time": "2024-08-17T09:02:48.906Z"
   },
   {
    "duration": 11,
    "start_time": "2024-08-17T09:02:48.914Z"
   },
   {
    "duration": 13,
    "start_time": "2024-08-17T09:02:48.951Z"
   },
   {
    "duration": 299,
    "start_time": "2024-08-17T09:02:48.965Z"
   },
   {
    "duration": 497,
    "start_time": "2024-08-17T09:02:49.266Z"
   },
   {
    "duration": 451,
    "start_time": "2024-08-17T09:02:49.765Z"
   },
   {
    "duration": 552,
    "start_time": "2024-08-17T09:02:50.218Z"
   },
   {
    "duration": 421,
    "start_time": "2024-08-17T09:02:50.772Z"
   },
   {
    "duration": 534,
    "start_time": "2024-08-17T09:02:51.194Z"
   },
   {
    "duration": 22,
    "start_time": "2024-08-17T09:02:51.730Z"
   },
   {
    "duration": 243,
    "start_time": "2024-08-17T09:02:51.754Z"
   },
   {
    "duration": 5,
    "start_time": "2024-08-17T09:02:51.999Z"
   },
   {
    "duration": 270,
    "start_time": "2024-08-17T09:02:52.005Z"
   },
   {
    "duration": 7,
    "start_time": "2024-08-17T09:02:52.277Z"
   },
   {
    "duration": 21,
    "start_time": "2024-08-17T09:02:52.286Z"
   },
   {
    "duration": 297,
    "start_time": "2024-08-17T09:02:52.309Z"
   },
   {
    "duration": 170,
    "start_time": "2024-08-17T09:02:52.607Z"
   },
   {
    "duration": 9,
    "start_time": "2024-08-17T09:02:52.778Z"
   },
   {
    "duration": 33,
    "start_time": "2024-08-17T09:02:52.788Z"
   },
   {
    "duration": 32,
    "start_time": "2024-08-17T09:02:52.822Z"
   },
   {
    "duration": 10,
    "start_time": "2024-08-17T09:02:52.856Z"
   },
   {
    "duration": 230,
    "start_time": "2024-08-17T09:03:02.481Z"
   },
   {
    "duration": 239,
    "start_time": "2024-08-17T09:03:08.263Z"
   },
   {
    "duration": 274,
    "start_time": "2024-08-17T09:03:19.620Z"
   },
   {
    "duration": 1173,
    "start_time": "2024-08-17T17:08:59.248Z"
   },
   {
    "duration": 228,
    "start_time": "2024-08-17T17:09:00.423Z"
   },
   {
    "duration": 21,
    "start_time": "2024-08-17T17:09:00.653Z"
   },
   {
    "duration": 21,
    "start_time": "2024-08-17T17:09:00.676Z"
   },
   {
    "duration": 27,
    "start_time": "2024-08-17T17:09:00.699Z"
   },
   {
    "duration": 41,
    "start_time": "2024-08-17T17:09:00.727Z"
   },
   {
    "duration": 38,
    "start_time": "2024-08-17T17:09:00.769Z"
   },
   {
    "duration": 42,
    "start_time": "2024-08-17T17:09:00.809Z"
   },
   {
    "duration": 46,
    "start_time": "2024-08-17T17:09:00.852Z"
   },
   {
    "duration": 298,
    "start_time": "2024-08-17T17:09:00.900Z"
   },
   {
    "duration": 455,
    "start_time": "2024-08-17T17:09:01.207Z"
   },
   {
    "duration": 385,
    "start_time": "2024-08-17T17:09:01.663Z"
   },
   {
    "duration": 559,
    "start_time": "2024-08-17T17:09:02.050Z"
   },
   {
    "duration": 417,
    "start_time": "2024-08-17T17:09:02.611Z"
   },
   {
    "duration": 453,
    "start_time": "2024-08-17T17:09:03.030Z"
   },
   {
    "duration": 12,
    "start_time": "2024-08-17T17:09:03.484Z"
   },
   {
    "duration": 221,
    "start_time": "2024-08-17T17:09:03.507Z"
   },
   {
    "duration": 5,
    "start_time": "2024-08-17T17:09:03.729Z"
   },
   {
    "duration": 254,
    "start_time": "2024-08-17T17:09:03.735Z"
   },
   {
    "duration": 7,
    "start_time": "2024-08-17T17:09:03.991Z"
   },
   {
    "duration": 5,
    "start_time": "2024-08-17T17:09:04.007Z"
   },
   {
    "duration": 289,
    "start_time": "2024-08-17T17:09:04.014Z"
   },
   {
    "duration": 149,
    "start_time": "2024-08-17T17:09:04.307Z"
   },
   {
    "duration": 8,
    "start_time": "2024-08-17T17:09:04.457Z"
   },
   {
    "duration": 41,
    "start_time": "2024-08-17T17:09:04.466Z"
   },
   {
    "duration": 8,
    "start_time": "2024-08-17T17:09:04.508Z"
   },
   {
    "duration": 11,
    "start_time": "2024-08-17T17:09:04.518Z"
   },
   {
    "duration": 213,
    "start_time": "2024-08-17T17:09:10.561Z"
   },
   {
    "duration": 216,
    "start_time": "2024-08-17T17:09:15.783Z"
   },
   {
    "duration": 212,
    "start_time": "2024-08-17T17:09:24.542Z"
   },
   {
    "duration": 233,
    "start_time": "2024-08-17T17:09:31.908Z"
   },
   {
    "duration": 267,
    "start_time": "2024-08-17T17:09:37.202Z"
   },
   {
    "duration": 221,
    "start_time": "2024-08-17T17:09:44.122Z"
   },
   {
    "duration": 309,
    "start_time": "2024-08-17T17:09:50.909Z"
   },
   {
    "duration": 215,
    "start_time": "2024-08-17T17:09:57.619Z"
   },
   {
    "duration": 215,
    "start_time": "2024-08-17T17:10:05.052Z"
   },
   {
    "duration": 217,
    "start_time": "2024-08-17T17:10:10.480Z"
   },
   {
    "duration": 253,
    "start_time": "2024-08-17T17:10:15.147Z"
   },
   {
    "duration": 235,
    "start_time": "2024-08-17T17:10:25.208Z"
   },
   {
    "duration": 227,
    "start_time": "2024-08-17T17:11:03.784Z"
   },
   {
    "duration": 281,
    "start_time": "2024-08-17T17:11:31.650Z"
   },
   {
    "duration": 246,
    "start_time": "2024-08-17T17:11:37.784Z"
   },
   {
    "duration": 1035,
    "start_time": "2024-08-17T17:12:38.960Z"
   },
   {
    "duration": 81,
    "start_time": "2024-08-17T17:12:39.997Z"
   },
   {
    "duration": 21,
    "start_time": "2024-08-17T17:12:40.079Z"
   },
   {
    "duration": 6,
    "start_time": "2024-08-17T17:12:40.101Z"
   },
   {
    "duration": 4,
    "start_time": "2024-08-17T17:12:40.109Z"
   },
   {
    "duration": 13,
    "start_time": "2024-08-17T17:12:40.114Z"
   },
   {
    "duration": 7,
    "start_time": "2024-08-17T17:12:40.129Z"
   },
   {
    "duration": 13,
    "start_time": "2024-08-17T17:12:40.137Z"
   },
   {
    "duration": 13,
    "start_time": "2024-08-17T17:12:40.151Z"
   },
   {
    "duration": 294,
    "start_time": "2024-08-17T17:12:40.165Z"
   },
   {
    "duration": 470,
    "start_time": "2024-08-17T17:12:40.461Z"
   },
   {
    "duration": 391,
    "start_time": "2024-08-17T17:12:40.933Z"
   },
   {
    "duration": 438,
    "start_time": "2024-08-17T17:12:41.325Z"
   },
   {
    "duration": 403,
    "start_time": "2024-08-17T17:12:41.765Z"
   },
   {
    "duration": 487,
    "start_time": "2024-08-17T17:12:42.169Z"
   },
   {
    "duration": 12,
    "start_time": "2024-08-17T17:12:42.658Z"
   },
   {
    "duration": 245,
    "start_time": "2024-08-17T17:12:42.672Z"
   },
   {
    "duration": 6,
    "start_time": "2024-08-17T17:12:42.919Z"
   },
   {
    "duration": 258,
    "start_time": "2024-08-17T17:12:42.926Z"
   },
   {
    "duration": 9,
    "start_time": "2024-08-17T17:12:43.188Z"
   },
   {
    "duration": 4,
    "start_time": "2024-08-17T17:12:43.207Z"
   },
   {
    "duration": 267,
    "start_time": "2024-08-17T17:12:43.212Z"
   },
   {
    "duration": 145,
    "start_time": "2024-08-17T17:12:43.481Z"
   },
   {
    "duration": 8,
    "start_time": "2024-08-17T17:12:43.627Z"
   },
   {
    "duration": 26,
    "start_time": "2024-08-17T17:12:43.636Z"
   },
   {
    "duration": 8,
    "start_time": "2024-08-17T17:12:43.663Z"
   },
   {
    "duration": 35,
    "start_time": "2024-08-17T17:12:43.673Z"
   },
   {
    "duration": 8,
    "start_time": "2024-08-17T17:14:14.741Z"
   },
   {
    "duration": 10,
    "start_time": "2024-08-17T17:18:27.594Z"
   },
   {
    "duration": 14,
    "start_time": "2024-08-17T17:19:26.090Z"
   },
   {
    "duration": 11,
    "start_time": "2024-08-17T17:19:46.720Z"
   },
   {
    "duration": 1050,
    "start_time": "2024-08-17T17:21:43.445Z"
   },
   {
    "duration": 80,
    "start_time": "2024-08-17T17:21:44.496Z"
   },
   {
    "duration": 20,
    "start_time": "2024-08-17T17:21:44.577Z"
   },
   {
    "duration": 8,
    "start_time": "2024-08-17T17:21:44.598Z"
   },
   {
    "duration": 3,
    "start_time": "2024-08-17T17:21:44.607Z"
   },
   {
    "duration": 14,
    "start_time": "2024-08-17T17:21:44.612Z"
   },
   {
    "duration": 7,
    "start_time": "2024-08-17T17:21:44.627Z"
   },
   {
    "duration": 12,
    "start_time": "2024-08-17T17:21:44.636Z"
   },
   {
    "duration": 13,
    "start_time": "2024-08-17T17:21:44.650Z"
   },
   {
    "duration": 285,
    "start_time": "2024-08-17T17:21:44.664Z"
   },
   {
    "duration": 475,
    "start_time": "2024-08-17T17:21:44.950Z"
   },
   {
    "duration": 397,
    "start_time": "2024-08-17T17:21:45.427Z"
   },
   {
    "duration": 431,
    "start_time": "2024-08-17T17:21:45.825Z"
   },
   {
    "duration": 401,
    "start_time": "2024-08-17T17:21:46.258Z"
   },
   {
    "duration": 490,
    "start_time": "2024-08-17T17:21:46.661Z"
   },
   {
    "duration": 13,
    "start_time": "2024-08-17T17:21:47.153Z"
   },
   {
    "duration": 251,
    "start_time": "2024-08-17T17:21:47.168Z"
   },
   {
    "duration": 6,
    "start_time": "2024-08-17T17:21:47.421Z"
   },
   {
    "duration": 256,
    "start_time": "2024-08-17T17:21:47.429Z"
   },
   {
    "duration": 8,
    "start_time": "2024-08-17T17:21:47.686Z"
   },
   {
    "duration": 13,
    "start_time": "2024-08-17T17:21:47.695Z"
   },
   {
    "duration": 265,
    "start_time": "2024-08-17T17:21:47.709Z"
   },
   {
    "duration": 156,
    "start_time": "2024-08-17T17:21:47.975Z"
   },
   {
    "duration": 8,
    "start_time": "2024-08-17T17:21:48.132Z"
   },
   {
    "duration": 48,
    "start_time": "2024-08-17T17:21:48.141Z"
   },
   {
    "duration": 8,
    "start_time": "2024-08-17T17:21:48.190Z"
   },
   {
    "duration": 19,
    "start_time": "2024-08-17T17:21:48.199Z"
   },
   {
    "duration": 11,
    "start_time": "2024-08-17T17:21:48.219Z"
   },
   {
    "duration": 22,
    "start_time": "2024-08-17T20:35:18.936Z"
   },
   {
    "duration": 232,
    "start_time": "2024-08-17T20:38:22.133Z"
   },
   {
    "duration": 260,
    "start_time": "2024-08-17T20:38:55.037Z"
   },
   {
    "duration": 271,
    "start_time": "2024-08-17T20:39:00.081Z"
   },
   {
    "duration": 142,
    "start_time": "2024-08-17T20:42:52.053Z"
   },
   {
    "duration": 1160,
    "start_time": "2024-08-17T20:47:47.572Z"
   },
   {
    "duration": 80,
    "start_time": "2024-08-17T20:47:48.733Z"
   },
   {
    "duration": 20,
    "start_time": "2024-08-17T20:47:48.816Z"
   },
   {
    "duration": 8,
    "start_time": "2024-08-17T20:47:48.838Z"
   },
   {
    "duration": 3,
    "start_time": "2024-08-17T20:47:48.848Z"
   },
   {
    "duration": 13,
    "start_time": "2024-08-17T20:47:48.852Z"
   },
   {
    "duration": 6,
    "start_time": "2024-08-17T20:47:48.867Z"
   },
   {
    "duration": 15,
    "start_time": "2024-08-17T20:47:48.908Z"
   },
   {
    "duration": 12,
    "start_time": "2024-08-17T20:47:48.924Z"
   },
   {
    "duration": 287,
    "start_time": "2024-08-17T20:47:48.937Z"
   },
   {
    "duration": 454,
    "start_time": "2024-08-17T20:47:49.226Z"
   },
   {
    "duration": 377,
    "start_time": "2024-08-17T20:47:49.682Z"
   },
   {
    "duration": 480,
    "start_time": "2024-08-17T20:47:50.062Z"
   },
   {
    "duration": 400,
    "start_time": "2024-08-17T20:47:50.543Z"
   },
   {
    "duration": 504,
    "start_time": "2024-08-17T20:47:50.944Z"
   },
   {
    "duration": 10,
    "start_time": "2024-08-17T20:47:51.450Z"
   },
   {
    "duration": 244,
    "start_time": "2024-08-17T20:47:51.461Z"
   },
   {
    "duration": 5,
    "start_time": "2024-08-17T20:47:51.707Z"
   },
   {
    "duration": 256,
    "start_time": "2024-08-17T20:47:51.713Z"
   },
   {
    "duration": 7,
    "start_time": "2024-08-17T20:47:51.970Z"
   },
   {
    "duration": 14,
    "start_time": "2024-08-17T20:47:51.979Z"
   },
   {
    "duration": 280,
    "start_time": "2024-08-17T20:47:51.995Z"
   },
   {
    "duration": 151,
    "start_time": "2024-08-17T20:47:52.276Z"
   },
   {
    "duration": 8,
    "start_time": "2024-08-17T20:47:52.428Z"
   },
   {
    "duration": 27,
    "start_time": "2024-08-17T20:47:52.437Z"
   },
   {
    "duration": 8,
    "start_time": "2024-08-17T20:47:52.466Z"
   },
   {
    "duration": 32,
    "start_time": "2024-08-17T20:47:52.475Z"
   },
   {
    "duration": 21,
    "start_time": "2024-08-17T20:52:45.408Z"
   },
   {
    "duration": 1301,
    "start_time": "2024-08-19T05:44:47.027Z"
   }
  ],
  "kernelspec": {
   "display_name": "Python 3 (ipykernel)",
   "language": "python",
   "name": "python3"
  },
  "language_info": {
   "codemirror_mode": {
    "name": "ipython",
    "version": 3
   },
   "file_extension": ".py",
   "mimetype": "text/x-python",
   "name": "python",
   "nbconvert_exporter": "python",
   "pygments_lexer": "ipython3",
   "version": "3.12.7"
  },
  "toc": {
   "base_numbering": 1,
   "nav_menu": {},
   "number_sections": true,
   "sideBar": true,
   "skip_h1_title": true,
   "title_cell": "Table of Contents",
   "title_sidebar": "Contents",
   "toc_cell": false,
   "toc_position": {},
   "toc_section_display": true,
   "toc_window_display": false
  }
 },
 "nbformat": 4,
 "nbformat_minor": 4
}
