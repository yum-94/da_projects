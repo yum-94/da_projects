{
 "cells": [
  {
   "cell_type": "markdown",
   "id": "e0d73b1a",
   "metadata": {},
   "source": [
    "Нам передали данные о некоторых пользователях из нескольких городов, а также об их поездках. Проанализируем данные и проверим некоторые гипотезы, которые могут помочь бизнесу вырасти.\n",
    "Чтобы совершать поездки по городу, пользователи сервиса GoFast пользуются мобильным приложением."
   ]
  },
  {
   "cell_type": "code",
   "execution_count": 1,
   "id": "72576667",
   "metadata": {},
   "outputs": [],
   "source": [
    "# Импортируем библиотеки\n",
    "import pandas as pd\n",
    "import matplotlib.pyplot as plt\n",
    "import numpy as np\n",
    "import seaborn as sns \n",
    "from scipy import stats as st"
   ]
  },
  {
   "cell_type": "markdown",
   "id": "c42cbe00",
   "metadata": {},
   "source": [
    "## Загрузка данных."
   ]
  },
  {
   "cell_type": "markdown",
   "id": "fbf55db5",
   "metadata": {},
   "source": [
    "##### Считайте CSV-файлы с данными с помощью библиотеки pandas и сохраните их в датафреймы. "
   ]
  },
  {
   "cell_type": "code",
   "execution_count": 2,
   "id": "eff9f206",
   "metadata": {},
   "outputs": [],
   "source": [
    "#Загрузим данные из файлов, сохраним в датафреймы\n",
    "data_users = pd.read_csv('/datasets/users_go.csv')\n",
    "data_rides = pd.read_csv('/datasets/rides_go.csv')\n",
    "data_subs =  pd.read_csv('/datasets/subscriptions_go.csv')\n",
    "pd.set_option('display.max_columns', None)"
   ]
  },
  {
   "cell_type": "markdown",
   "id": "1e472479",
   "metadata": {},
   "source": [
    "##### Выведите первые строки каждого набора данных. Изучите общую информацию о каждом датафрейме"
   ]
  },
  {
   "cell_type": "code",
   "execution_count": 3,
   "id": "d6fa094d",
   "metadata": {},
   "outputs": [
    {
     "data": {
      "text/html": [
       "<div>\n",
       "<style scoped>\n",
       "    .dataframe tbody tr th:only-of-type {\n",
       "        vertical-align: middle;\n",
       "    }\n",
       "\n",
       "    .dataframe tbody tr th {\n",
       "        vertical-align: top;\n",
       "    }\n",
       "\n",
       "    .dataframe thead th {\n",
       "        text-align: right;\n",
       "    }\n",
       "</style>\n",
       "<table border=\"1\" class=\"dataframe\">\n",
       "  <thead>\n",
       "    <tr style=\"text-align: right;\">\n",
       "      <th></th>\n",
       "      <th>user_id</th>\n",
       "      <th>name</th>\n",
       "      <th>age</th>\n",
       "      <th>city</th>\n",
       "      <th>subscription_type</th>\n",
       "    </tr>\n",
       "  </thead>\n",
       "  <tbody>\n",
       "    <tr>\n",
       "      <th>0</th>\n",
       "      <td>1</td>\n",
       "      <td>Кира</td>\n",
       "      <td>22</td>\n",
       "      <td>Тюмень</td>\n",
       "      <td>ultra</td>\n",
       "    </tr>\n",
       "    <tr>\n",
       "      <th>1</th>\n",
       "      <td>2</td>\n",
       "      <td>Станислав</td>\n",
       "      <td>31</td>\n",
       "      <td>Омск</td>\n",
       "      <td>ultra</td>\n",
       "    </tr>\n",
       "    <tr>\n",
       "      <th>2</th>\n",
       "      <td>3</td>\n",
       "      <td>Алексей</td>\n",
       "      <td>20</td>\n",
       "      <td>Москва</td>\n",
       "      <td>ultra</td>\n",
       "    </tr>\n",
       "    <tr>\n",
       "      <th>3</th>\n",
       "      <td>4</td>\n",
       "      <td>Константин</td>\n",
       "      <td>26</td>\n",
       "      <td>Ростов-на-Дону</td>\n",
       "      <td>ultra</td>\n",
       "    </tr>\n",
       "    <tr>\n",
       "      <th>4</th>\n",
       "      <td>5</td>\n",
       "      <td>Адель</td>\n",
       "      <td>28</td>\n",
       "      <td>Омск</td>\n",
       "      <td>ultra</td>\n",
       "    </tr>\n",
       "  </tbody>\n",
       "</table>\n",
       "</div>"
      ],
      "text/plain": [
       "   user_id        name  age            city subscription_type\n",
       "0        1        Кира   22          Тюмень             ultra\n",
       "1        2   Станислав   31            Омск             ultra\n",
       "2        3     Алексей   20          Москва             ultra\n",
       "3        4  Константин   26  Ростов-на-Дону             ultra\n",
       "4        5       Адель   28            Омск             ultra"
      ]
     },
     "metadata": {},
     "output_type": "display_data"
    },
    {
     "data": {
      "text/html": [
       "<div>\n",
       "<style scoped>\n",
       "    .dataframe tbody tr th:only-of-type {\n",
       "        vertical-align: middle;\n",
       "    }\n",
       "\n",
       "    .dataframe tbody tr th {\n",
       "        vertical-align: top;\n",
       "    }\n",
       "\n",
       "    .dataframe thead th {\n",
       "        text-align: right;\n",
       "    }\n",
       "</style>\n",
       "<table border=\"1\" class=\"dataframe\">\n",
       "  <thead>\n",
       "    <tr style=\"text-align: right;\">\n",
       "      <th></th>\n",
       "      <th>user_id</th>\n",
       "      <th>distance</th>\n",
       "      <th>duration</th>\n",
       "      <th>date</th>\n",
       "    </tr>\n",
       "  </thead>\n",
       "  <tbody>\n",
       "    <tr>\n",
       "      <th>0</th>\n",
       "      <td>1</td>\n",
       "      <td>4409.919140</td>\n",
       "      <td>25.599769</td>\n",
       "      <td>2021-01-01</td>\n",
       "    </tr>\n",
       "    <tr>\n",
       "      <th>1</th>\n",
       "      <td>1</td>\n",
       "      <td>2617.592153</td>\n",
       "      <td>15.816871</td>\n",
       "      <td>2021-01-18</td>\n",
       "    </tr>\n",
       "    <tr>\n",
       "      <th>2</th>\n",
       "      <td>1</td>\n",
       "      <td>754.159807</td>\n",
       "      <td>6.232113</td>\n",
       "      <td>2021-04-20</td>\n",
       "    </tr>\n",
       "    <tr>\n",
       "      <th>3</th>\n",
       "      <td>1</td>\n",
       "      <td>2694.783254</td>\n",
       "      <td>18.511000</td>\n",
       "      <td>2021-08-11</td>\n",
       "    </tr>\n",
       "    <tr>\n",
       "      <th>4</th>\n",
       "      <td>1</td>\n",
       "      <td>4028.687306</td>\n",
       "      <td>26.265803</td>\n",
       "      <td>2021-08-28</td>\n",
       "    </tr>\n",
       "  </tbody>\n",
       "</table>\n",
       "</div>"
      ],
      "text/plain": [
       "   user_id     distance   duration        date\n",
       "0        1  4409.919140  25.599769  2021-01-01\n",
       "1        1  2617.592153  15.816871  2021-01-18\n",
       "2        1   754.159807   6.232113  2021-04-20\n",
       "3        1  2694.783254  18.511000  2021-08-11\n",
       "4        1  4028.687306  26.265803  2021-08-28"
      ]
     },
     "metadata": {},
     "output_type": "display_data"
    },
    {
     "data": {
      "text/html": [
       "<div>\n",
       "<style scoped>\n",
       "    .dataframe tbody tr th:only-of-type {\n",
       "        vertical-align: middle;\n",
       "    }\n",
       "\n",
       "    .dataframe tbody tr th {\n",
       "        vertical-align: top;\n",
       "    }\n",
       "\n",
       "    .dataframe thead th {\n",
       "        text-align: right;\n",
       "    }\n",
       "</style>\n",
       "<table border=\"1\" class=\"dataframe\">\n",
       "  <thead>\n",
       "    <tr style=\"text-align: right;\">\n",
       "      <th></th>\n",
       "      <th>subscription_type</th>\n",
       "      <th>minute_price</th>\n",
       "      <th>start_ride_price</th>\n",
       "      <th>subscription_fee</th>\n",
       "    </tr>\n",
       "  </thead>\n",
       "  <tbody>\n",
       "    <tr>\n",
       "      <th>0</th>\n",
       "      <td>free</td>\n",
       "      <td>8</td>\n",
       "      <td>50</td>\n",
       "      <td>0</td>\n",
       "    </tr>\n",
       "    <tr>\n",
       "      <th>1</th>\n",
       "      <td>ultra</td>\n",
       "      <td>6</td>\n",
       "      <td>0</td>\n",
       "      <td>199</td>\n",
       "    </tr>\n",
       "  </tbody>\n",
       "</table>\n",
       "</div>"
      ],
      "text/plain": [
       "  subscription_type  minute_price  start_ride_price  subscription_fee\n",
       "0              free             8                50                 0\n",
       "1             ultra             6                 0               199"
      ]
     },
     "metadata": {},
     "output_type": "display_data"
    }
   ],
   "source": [
    "# Посмотрим первые пять строк датафреймов\n",
    "display(data_users.head())\n",
    "display(data_rides.head())\n",
    "display(data_subs.head())"
   ]
  },
  {
   "cell_type": "code",
   "execution_count": 4,
   "id": "0d67cc34",
   "metadata": {},
   "outputs": [
    {
     "name": "stdout",
     "output_type": "stream",
     "text": [
      "<class 'pandas.core.frame.DataFrame'>\n",
      "RangeIndex: 1565 entries, 0 to 1564\n",
      "Data columns (total 5 columns):\n",
      " #   Column             Non-Null Count  Dtype \n",
      "---  ------             --------------  ----- \n",
      " 0   user_id            1565 non-null   int64 \n",
      " 1   name               1565 non-null   object\n",
      " 2   age                1565 non-null   int64 \n",
      " 3   city               1565 non-null   object\n",
      " 4   subscription_type  1565 non-null   object\n",
      "dtypes: int64(2), object(3)\n",
      "memory usage: 61.3+ KB\n"
     ]
    },
    {
     "data": {
      "text/plain": [
       "None"
      ]
     },
     "metadata": {},
     "output_type": "display_data"
    },
    {
     "name": "stdout",
     "output_type": "stream",
     "text": [
      "<class 'pandas.core.frame.DataFrame'>\n",
      "RangeIndex: 18068 entries, 0 to 18067\n",
      "Data columns (total 4 columns):\n",
      " #   Column    Non-Null Count  Dtype  \n",
      "---  ------    --------------  -----  \n",
      " 0   user_id   18068 non-null  int64  \n",
      " 1   distance  18068 non-null  float64\n",
      " 2   duration  18068 non-null  float64\n",
      " 3   date      18068 non-null  object \n",
      "dtypes: float64(2), int64(1), object(1)\n",
      "memory usage: 564.8+ KB\n"
     ]
    },
    {
     "data": {
      "text/plain": [
       "None"
      ]
     },
     "metadata": {},
     "output_type": "display_data"
    },
    {
     "name": "stdout",
     "output_type": "stream",
     "text": [
      "<class 'pandas.core.frame.DataFrame'>\n",
      "RangeIndex: 2 entries, 0 to 1\n",
      "Data columns (total 4 columns):\n",
      " #   Column             Non-Null Count  Dtype \n",
      "---  ------             --------------  ----- \n",
      " 0   subscription_type  2 non-null      object\n",
      " 1   minute_price       2 non-null      int64 \n",
      " 2   start_ride_price   2 non-null      int64 \n",
      " 3   subscription_fee   2 non-null      int64 \n",
      "dtypes: int64(3), object(1)\n",
      "memory usage: 192.0+ bytes\n"
     ]
    },
    {
     "data": {
      "text/plain": [
       "None"
      ]
     },
     "metadata": {},
     "output_type": "display_data"
    }
   ],
   "source": [
    "#Выведем общую информацию по каждому датафрейму\n",
    "display(data_users.info())\n",
    "display(data_rides.info())\n",
    "display(data_subs.info())"
   ]
  },
  {
   "cell_type": "markdown",
   "id": "b06d4f14",
   "metadata": {},
   "source": [
    "У нас есть 3 набора с данными:\n",
    "- В первом наборе содержится 5 столбцов и 1565 строк с данными о пользователях сервиса (id, имя, возвраст, город, тип подписки).\n",
    "- Во втором наборе данных 4 столбца и 18068 строк с данными о совершенных поездках (id, расстояние, длительность, дата).\n",
    "- Третий набор данных содержит 4 столбца и 2 строки с данными о цене поездок для пользователей без и с подпиской."
   ]
  },
  {
   "cell_type": "markdown",
   "id": "e95ebca7",
   "metadata": {},
   "source": [
    "## Предобработка данных."
   ]
  },
  {
   "cell_type": "markdown",
   "id": "b83f44f9",
   "metadata": {},
   "source": [
    "##### Приведите столбец date к типу даты pandas."
   ]
  },
  {
   "cell_type": "code",
   "execution_count": 5,
   "id": "af6d202c",
   "metadata": {},
   "outputs": [],
   "source": [
    "#Приведем столбец date в датафрейме data_rides к типу даты pandas\n",
    "data_rides['date'] = pd.to_datetime(data_rides['date'], format='%Y-%m-%d')"
   ]
  },
  {
   "cell_type": "markdown",
   "id": "0c0e1a53",
   "metadata": {},
   "source": [
    "##### Создайте новый столбец с номером месяца на основе столбца date."
   ]
  },
  {
   "cell_type": "code",
   "execution_count": 6,
   "id": "6dbe7a48",
   "metadata": {},
   "outputs": [
    {
     "data": {
      "text/html": [
       "<div>\n",
       "<style scoped>\n",
       "    .dataframe tbody tr th:only-of-type {\n",
       "        vertical-align: middle;\n",
       "    }\n",
       "\n",
       "    .dataframe tbody tr th {\n",
       "        vertical-align: top;\n",
       "    }\n",
       "\n",
       "    .dataframe thead th {\n",
       "        text-align: right;\n",
       "    }\n",
       "</style>\n",
       "<table border=\"1\" class=\"dataframe\">\n",
       "  <thead>\n",
       "    <tr style=\"text-align: right;\">\n",
       "      <th></th>\n",
       "      <th>user_id</th>\n",
       "      <th>distance</th>\n",
       "      <th>duration</th>\n",
       "      <th>date</th>\n",
       "      <th>month</th>\n",
       "    </tr>\n",
       "  </thead>\n",
       "  <tbody>\n",
       "    <tr>\n",
       "      <th>0</th>\n",
       "      <td>1</td>\n",
       "      <td>4409.919140</td>\n",
       "      <td>25.599769</td>\n",
       "      <td>2021-01-01</td>\n",
       "      <td>1</td>\n",
       "    </tr>\n",
       "    <tr>\n",
       "      <th>1</th>\n",
       "      <td>1</td>\n",
       "      <td>2617.592153</td>\n",
       "      <td>15.816871</td>\n",
       "      <td>2021-01-18</td>\n",
       "      <td>1</td>\n",
       "    </tr>\n",
       "    <tr>\n",
       "      <th>2</th>\n",
       "      <td>1</td>\n",
       "      <td>754.159807</td>\n",
       "      <td>6.232113</td>\n",
       "      <td>2021-04-20</td>\n",
       "      <td>4</td>\n",
       "    </tr>\n",
       "    <tr>\n",
       "      <th>3</th>\n",
       "      <td>1</td>\n",
       "      <td>2694.783254</td>\n",
       "      <td>18.511000</td>\n",
       "      <td>2021-08-11</td>\n",
       "      <td>8</td>\n",
       "    </tr>\n",
       "    <tr>\n",
       "      <th>4</th>\n",
       "      <td>1</td>\n",
       "      <td>4028.687306</td>\n",
       "      <td>26.265803</td>\n",
       "      <td>2021-08-28</td>\n",
       "      <td>8</td>\n",
       "    </tr>\n",
       "  </tbody>\n",
       "</table>\n",
       "</div>"
      ],
      "text/plain": [
       "   user_id     distance   duration       date  month\n",
       "0        1  4409.919140  25.599769 2021-01-01      1\n",
       "1        1  2617.592153  15.816871 2021-01-18      1\n",
       "2        1   754.159807   6.232113 2021-04-20      4\n",
       "3        1  2694.783254  18.511000 2021-08-11      8\n",
       "4        1  4028.687306  26.265803 2021-08-28      8"
      ]
     },
     "execution_count": 6,
     "metadata": {},
     "output_type": "execute_result"
    }
   ],
   "source": [
    "#Создадим новый столбец с номером месяца на основе столбца date\n",
    "data_rides['month'] = data_rides['date'].dt.month\n",
    "#Проверяем\n",
    "data_rides.head()"
   ]
  },
  {
   "cell_type": "markdown",
   "id": "a55481ee",
   "metadata": {},
   "source": [
    "##### Проверьте наличие пропущенных значений и дубликатов в датафреймах."
   ]
  },
  {
   "cell_type": "code",
   "execution_count": 7,
   "id": "d633e07c",
   "metadata": {},
   "outputs": [
    {
     "data": {
      "text/html": [
       "<div>\n",
       "<style scoped>\n",
       "    .dataframe tbody tr th:only-of-type {\n",
       "        vertical-align: middle;\n",
       "    }\n",
       "\n",
       "    .dataframe tbody tr th {\n",
       "        vertical-align: top;\n",
       "    }\n",
       "\n",
       "    .dataframe thead th {\n",
       "        text-align: right;\n",
       "    }\n",
       "</style>\n",
       "<table border=\"1\" class=\"dataframe\">\n",
       "  <thead>\n",
       "    <tr style=\"text-align: right;\">\n",
       "      <th></th>\n",
       "      <th>user_id</th>\n",
       "      <th>distance</th>\n",
       "      <th>duration</th>\n",
       "      <th>date</th>\n",
       "      <th>month</th>\n",
       "    </tr>\n",
       "  </thead>\n",
       "  <tbody>\n",
       "    <tr>\n",
       "      <th>0</th>\n",
       "      <td>1</td>\n",
       "      <td>4409.92</td>\n",
       "      <td>25.60</td>\n",
       "      <td>2021-01-01</td>\n",
       "      <td>1</td>\n",
       "    </tr>\n",
       "    <tr>\n",
       "      <th>1</th>\n",
       "      <td>1</td>\n",
       "      <td>2617.59</td>\n",
       "      <td>15.82</td>\n",
       "      <td>2021-01-18</td>\n",
       "      <td>1</td>\n",
       "    </tr>\n",
       "    <tr>\n",
       "      <th>2</th>\n",
       "      <td>1</td>\n",
       "      <td>754.16</td>\n",
       "      <td>6.23</td>\n",
       "      <td>2021-04-20</td>\n",
       "      <td>4</td>\n",
       "    </tr>\n",
       "    <tr>\n",
       "      <th>3</th>\n",
       "      <td>1</td>\n",
       "      <td>2694.78</td>\n",
       "      <td>18.51</td>\n",
       "      <td>2021-08-11</td>\n",
       "      <td>8</td>\n",
       "    </tr>\n",
       "    <tr>\n",
       "      <th>4</th>\n",
       "      <td>1</td>\n",
       "      <td>4028.69</td>\n",
       "      <td>26.27</td>\n",
       "      <td>2021-08-28</td>\n",
       "      <td>8</td>\n",
       "    </tr>\n",
       "  </tbody>\n",
       "</table>\n",
       "</div>"
      ],
      "text/plain": [
       "   user_id  distance  duration       date  month\n",
       "0        1   4409.92     25.60 2021-01-01      1\n",
       "1        1   2617.59     15.82 2021-01-18      1\n",
       "2        1    754.16      6.23 2021-04-20      4\n",
       "3        1   2694.78     18.51 2021-08-11      8\n",
       "4        1   4028.69     26.27 2021-08-28      8"
      ]
     },
     "execution_count": 7,
     "metadata": {},
     "output_type": "execute_result"
    }
   ],
   "source": [
    "# Округлим значения столбцов distance и duration до десятых\n",
    "data_rides['distance'] = data_rides['distance'].round(2)\n",
    "data_rides['duration'] = data_rides['duration'].round(2)\n",
    "#Проверяем\n",
    "data_rides.head()"
   ]
  },
  {
   "cell_type": "code",
   "execution_count": 8,
   "id": "b5eee935",
   "metadata": {},
   "outputs": [
    {
     "data": {
      "text/html": [
       "<div>\n",
       "<style scoped>\n",
       "    .dataframe tbody tr th:only-of-type {\n",
       "        vertical-align: middle;\n",
       "    }\n",
       "\n",
       "    .dataframe tbody tr th {\n",
       "        vertical-align: top;\n",
       "    }\n",
       "\n",
       "    .dataframe thead th {\n",
       "        text-align: right;\n",
       "    }\n",
       "</style>\n",
       "<table border=\"1\" class=\"dataframe\">\n",
       "  <thead>\n",
       "    <tr style=\"text-align: right;\">\n",
       "      <th></th>\n",
       "      <th>user_id</th>\n",
       "      <th>distance</th>\n",
       "      <th>duration</th>\n",
       "      <th>date</th>\n",
       "      <th>month</th>\n",
       "    </tr>\n",
       "  </thead>\n",
       "  <tbody>\n",
       "    <tr>\n",
       "      <th>0</th>\n",
       "      <td>1</td>\n",
       "      <td>4409.92</td>\n",
       "      <td>26.0</td>\n",
       "      <td>2021-01-01</td>\n",
       "      <td>1</td>\n",
       "    </tr>\n",
       "    <tr>\n",
       "      <th>1</th>\n",
       "      <td>1</td>\n",
       "      <td>2617.59</td>\n",
       "      <td>16.0</td>\n",
       "      <td>2021-01-18</td>\n",
       "      <td>1</td>\n",
       "    </tr>\n",
       "    <tr>\n",
       "      <th>2</th>\n",
       "      <td>1</td>\n",
       "      <td>754.16</td>\n",
       "      <td>7.0</td>\n",
       "      <td>2021-04-20</td>\n",
       "      <td>4</td>\n",
       "    </tr>\n",
       "    <tr>\n",
       "      <th>3</th>\n",
       "      <td>1</td>\n",
       "      <td>2694.78</td>\n",
       "      <td>19.0</td>\n",
       "      <td>2021-08-11</td>\n",
       "      <td>8</td>\n",
       "    </tr>\n",
       "    <tr>\n",
       "      <th>4</th>\n",
       "      <td>1</td>\n",
       "      <td>4028.69</td>\n",
       "      <td>27.0</td>\n",
       "      <td>2021-08-28</td>\n",
       "      <td>8</td>\n",
       "    </tr>\n",
       "  </tbody>\n",
       "</table>\n",
       "</div>"
      ],
      "text/plain": [
       "   user_id  distance  duration       date  month\n",
       "0        1   4409.92      26.0 2021-01-01      1\n",
       "1        1   2617.59      16.0 2021-01-18      1\n",
       "2        1    754.16       7.0 2021-04-20      4\n",
       "3        1   2694.78      19.0 2021-08-11      8\n",
       "4        1   4028.69      27.0 2021-08-28      8"
      ]
     },
     "execution_count": 8,
     "metadata": {},
     "output_type": "execute_result"
    }
   ],
   "source": [
    "# Округлим каждое значение из столбца duration с помощью «потолка» для дальнейшей работы\n",
    "data_rides['duration'] = np.ceil(data_rides['duration']) \n",
    "data_rides.head()"
   ]
  },
  {
   "cell_type": "code",
   "execution_count": 9,
   "id": "411b0934",
   "metadata": {},
   "outputs": [
    {
     "data": {
      "text/plain": [
       "31"
      ]
     },
     "metadata": {},
     "output_type": "display_data"
    },
    {
     "data": {
      "text/plain": [
       "0"
      ]
     },
     "metadata": {},
     "output_type": "display_data"
    }
   ],
   "source": [
    "#Посмотрим на количество явных дубликатов в датафрейимах data_users и data_rides\n",
    "display(data_users.duplicated().sum())\n",
    "display(data_rides.duplicated().sum())"
   ]
  },
  {
   "cell_type": "code",
   "execution_count": 10,
   "id": "e9e799e7",
   "metadata": {},
   "outputs": [
    {
     "data": {
      "text/plain": [
       "0"
      ]
     },
     "metadata": {},
     "output_type": "display_data"
    }
   ],
   "source": [
    "#Удалим строки с явными дубликатами по id\n",
    "data_users.drop_duplicates(subset=['user_id'], inplace=True)\n",
    "data_users.reset_index(drop=True)\n",
    "display(data_users.duplicated().sum())"
   ]
  },
  {
   "cell_type": "code",
   "execution_count": 11,
   "id": "12a61ecf",
   "metadata": {},
   "outputs": [
    {
     "name": "stdout",
     "output_type": "stream",
     "text": [
      "<class 'pandas.core.frame.DataFrame'>\n",
      "Int64Index: 1534 entries, 0 to 1533\n",
      "Data columns (total 5 columns):\n",
      " #   Column             Non-Null Count  Dtype \n",
      "---  ------             --------------  ----- \n",
      " 0   user_id            1534 non-null   int64 \n",
      " 1   name               1534 non-null   object\n",
      " 2   age                1534 non-null   int64 \n",
      " 3   city               1534 non-null   object\n",
      " 4   subscription_type  1534 non-null   object\n",
      "dtypes: int64(2), object(3)\n",
      "memory usage: 71.9+ KB\n"
     ]
    },
    {
     "data": {
      "text/plain": [
       "None"
      ]
     },
     "metadata": {},
     "output_type": "display_data"
    },
    {
     "name": "stdout",
     "output_type": "stream",
     "text": [
      "<class 'pandas.core.frame.DataFrame'>\n",
      "RangeIndex: 18068 entries, 0 to 18067\n",
      "Data columns (total 5 columns):\n",
      " #   Column    Non-Null Count  Dtype         \n",
      "---  ------    --------------  -----         \n",
      " 0   user_id   18068 non-null  int64         \n",
      " 1   distance  18068 non-null  float64       \n",
      " 2   duration  18068 non-null  float64       \n",
      " 3   date      18068 non-null  datetime64[ns]\n",
      " 4   month     18068 non-null  int64         \n",
      "dtypes: datetime64[ns](1), float64(2), int64(2)\n",
      "memory usage: 705.9 KB\n"
     ]
    },
    {
     "data": {
      "text/plain": [
       "None"
      ]
     },
     "metadata": {},
     "output_type": "display_data"
    }
   ],
   "source": [
    "display(data_users.info())\n",
    "display(data_rides.info())"
   ]
  },
  {
   "cell_type": "markdown",
   "id": "8d650891",
   "metadata": {},
   "source": [
    "Предобработка данных завершена:\n",
    "- Столбец date в датафрейме data_rides приведен к типу данных datetime64\n",
    "- Добавлен cтолбец month\n",
    "- Округлены значения в столбцах distance и duration\n",
    "- Удалены явные дубликаты в датафрейме data_users"
   ]
  },
  {
   "cell_type": "markdown",
   "id": "212593c7",
   "metadata": {},
   "source": [
    "## Исследовательский анализ данных."
   ]
  },
  {
   "cell_type": "markdown",
   "id": "3ab94779",
   "metadata": {},
   "source": [
    "Необходимо описать и визуализировать общую информацию о пользователях и поездках."
   ]
  },
  {
   "cell_type": "markdown",
   "id": "268ffe40",
   "metadata": {},
   "source": [
    "##### Проанализируем частоту встречаемости городов в нашем наборе данных."
   ]
  },
  {
   "cell_type": "code",
   "execution_count": 12,
   "id": "e3a4274c",
   "metadata": {},
   "outputs": [
    {
     "data": {
      "text/plain": [
       "array(['Тюмень', 'Омск', 'Москва', 'Ростов-на-Дону', 'Краснодар',\n",
       "       'Пятигорск', 'Екатеринбург', 'Сочи'], dtype=object)"
      ]
     },
     "execution_count": 12,
     "metadata": {},
     "output_type": "execute_result"
    }
   ],
   "source": [
    "#Посмотрим уникальные названия городов в data_users\n",
    "data_users['city'].unique()"
   ]
  },
  {
   "cell_type": "code",
   "execution_count": 13,
   "id": "9cbc0aed",
   "metadata": {},
   "outputs": [
    {
     "data": {
      "text/html": [
       "<div>\n",
       "<style scoped>\n",
       "    .dataframe tbody tr th:only-of-type {\n",
       "        vertical-align: middle;\n",
       "    }\n",
       "\n",
       "    .dataframe tbody tr th {\n",
       "        vertical-align: top;\n",
       "    }\n",
       "\n",
       "    .dataframe thead th {\n",
       "        text-align: right;\n",
       "    }\n",
       "</style>\n",
       "<table border=\"1\" class=\"dataframe\">\n",
       "  <thead>\n",
       "    <tr style=\"text-align: right;\">\n",
       "      <th></th>\n",
       "      <th>user_id</th>\n",
       "    </tr>\n",
       "    <tr>\n",
       "      <th>city</th>\n",
       "      <th></th>\n",
       "    </tr>\n",
       "  </thead>\n",
       "  <tbody>\n",
       "    <tr>\n",
       "      <th>Пятигорск</th>\n",
       "      <td>219</td>\n",
       "    </tr>\n",
       "    <tr>\n",
       "      <th>Екатеринбург</th>\n",
       "      <td>204</td>\n",
       "    </tr>\n",
       "    <tr>\n",
       "      <th>Ростов-на-Дону</th>\n",
       "      <td>198</td>\n",
       "    </tr>\n",
       "    <tr>\n",
       "      <th>Краснодар</th>\n",
       "      <td>193</td>\n",
       "    </tr>\n",
       "    <tr>\n",
       "      <th>Сочи</th>\n",
       "      <td>189</td>\n",
       "    </tr>\n",
       "    <tr>\n",
       "      <th>Омск</th>\n",
       "      <td>183</td>\n",
       "    </tr>\n",
       "    <tr>\n",
       "      <th>Тюмень</th>\n",
       "      <td>180</td>\n",
       "    </tr>\n",
       "    <tr>\n",
       "      <th>Москва</th>\n",
       "      <td>168</td>\n",
       "    </tr>\n",
       "  </tbody>\n",
       "</table>\n",
       "</div>"
      ],
      "text/plain": [
       "                user_id\n",
       "city                   \n",
       "Пятигорск           219\n",
       "Екатеринбург        204\n",
       "Ростов-на-Дону      198\n",
       "Краснодар           193\n",
       "Сочи                189\n",
       "Омск                183\n",
       "Тюмень              180\n",
       "Москва              168"
      ]
     },
     "metadata": {},
     "output_type": "display_data"
    }
   ],
   "source": [
    "#Построим сводную таблицу\n",
    "display(data_users.pivot_table(index='city', values='user_id', aggfunc='count').sort_values(by='user_id', ascending=False));"
   ]
  },
  {
   "cell_type": "markdown",
   "id": "6b68d2b5",
   "metadata": {},
   "source": [
    "Построим столбчатую диаграмму по частоте встречаемости городов."
   ]
  },
  {
   "cell_type": "code",
   "execution_count": 14,
   "id": "ae783390",
   "metadata": {},
   "outputs": [
    {
     "data": {
      "image/png": "[encoded data removed]",
      "text/plain": [
       "<Figure size 648x648 with 1 Axes>"
      ]
     },
     "metadata": {
      "needs_background": "light"
     },
     "output_type": "display_data"
    }
   ],
   "source": [
    "#Частота встречаемости городов в датафрейме\n",
    "(\n",
    "   data_users.pivot_table(index='city', values='user_id', aggfunc='count').sort_values(by='user_id', ascending=True)\n",
    "             .plot(kind='barh', grid=True, figsize=(9, 9), color = ['Orange'])\n",
    ")\n",
    "plt.title('Количество пользователей по городам')\n",
    "plt.ylabel('Города', size='x-large')\n",
    "plt.xlabel('Количество пользователей', size='x-large')\n",
    "plt.show()"
   ]
  },
  {
   "cell_type": "markdown",
   "id": "5136c4e3",
   "metadata": {},
   "source": [
    "**Вывод**: наиболее часто услугами по аренде самокатов GoFast пользуются в Пятигорске, Екатеринбурге и Ростове-на-Дону. Количество пользователей по городам распределено относительно равно от 168 в Москве до 219 в Пятигорске."
   ]
  },
  {
   "cell_type": "markdown",
   "id": "9b4cec6f",
   "metadata": {},
   "source": [
    "##### Проанализируем соотношение пользователей с подпиской и без подписки."
   ]
  },
  {
   "cell_type": "markdown",
   "id": "fb6bf8d7",
   "metadata": {},
   "source": [
    "Построим круговую диаграмму с разделением пользователей по наличию и отсутствию подписки."
   ]
  },
  {
   "cell_type": "code",
   "execution_count": 15,
   "id": "5b289987",
   "metadata": {},
   "outputs": [
    {
     "data": {
      "image/png": "[encoded data removed]",
      "text/plain": [
       "<Figure size 648x648 with 1 Axes>"
      ]
     },
     "metadata": {},
     "output_type": "display_data"
    }
   ],
   "source": [
    "#Cоотношение пользователей с подпиской и без подписки\n",
    "(\n",
    "data_users.pivot_table(index= 'subscription_type', values = 'user_id', aggfunc = 'count')\n",
    "          .plot.pie(y='user_id', grid=True,  figsize=(9, 9), title='Соотношение пользователей по подписке', \n",
    "                    autopct = \"%.2f%%\", colors=['Green', 'Orange'], startangle=120, fontsize=14)\n",
    ");\n",
    "plt.ylabel('Пользователи', size='x-large');"
   ]
  },
  {
   "cell_type": "markdown",
   "id": "ede6046b",
   "metadata": {},
   "source": [
    "**Вывод**: 54.43% процента пользователей не имеют подписки, 45.57% - пользуются услугами проката с подпиской."
   ]
  },
  {
   "cell_type": "markdown",
   "id": "aa8ee37a",
   "metadata": {},
   "source": [
    "##### Проанализируем возраст пользователей сервиса."
   ]
  },
  {
   "cell_type": "markdown",
   "id": "20a2e829",
   "metadata": {},
   "source": [
    "Построим столбчатую диаграмму по возрасту пользователей."
   ]
  },
  {
   "cell_type": "code",
   "execution_count": 16,
   "id": "24643499",
   "metadata": {},
   "outputs": [
    {
     "data": {
      "image/png": "[encoded data removed]",
      "text/plain": [
       "<Figure size 648x648 with 1 Axes>"
      ]
     },
     "metadata": {
      "needs_background": "light"
     },
     "output_type": "display_data"
    }
   ],
   "source": [
    "#Возраст пользователей\n",
    "(\n",
    "data_users.pivot_table(index= 'age', values = 'user_id', aggfunc = 'count')\n",
    "          .sort_values(by='age', ascending = True)\n",
    "          .plot(kind='bar', grid=True,  figsize=(9, 9), title='Количество пользователей по возрасту', \n",
    "                color = \"orange\", style='o')\n",
    ");\n",
    "plt.ylabel('Количество пользователей', size='x-large')\n",
    "plt.xlabel('Возраст пользователей', size='x-large')\n",
    "plt.show()"
   ]
  },
  {
   "cell_type": "code",
   "execution_count": 17,
   "id": "2ec0757b",
   "metadata": {},
   "outputs": [
    {
     "data": {
      "text/plain": [
       "count    1534.000000\n",
       "mean       24.903520\n",
       "std         4.572367\n",
       "min        12.000000\n",
       "25%        22.000000\n",
       "50%        25.000000\n",
       "75%        28.000000\n",
       "max        43.000000\n",
       "Name: age, dtype: float64"
      ]
     },
     "execution_count": 17,
     "metadata": {},
     "output_type": "execute_result"
    }
   ],
   "source": [
    "data_users['age'].describe()"
   ]
  },
  {
   "cell_type": "markdown",
   "id": "fd82026c",
   "metadata": {},
   "source": [
    "**Вывод**: Большая часть пользователей сервиса составляют люди в возрасте от 22 до 28 лет. Средний возраст пользователя - 25 лет."
   ]
  },
  {
   "cell_type": "markdown",
   "id": "525d1fea",
   "metadata": {},
   "source": [
    "##### Проанализруем расстояние, которое пользователь преодолел за одну поездку."
   ]
  },
  {
   "cell_type": "code",
   "execution_count": 18,
   "id": "f9ce888d",
   "metadata": {},
   "outputs": [
    {
     "data": {
      "text/plain": [
       "count    18068.000000\n",
       "mean      3070.659992\n",
       "std       1116.831222\n",
       "min          0.860000\n",
       "25%       2543.227500\n",
       "50%       3133.610000\n",
       "75%       3776.220000\n",
       "max       7211.010000\n",
       "Name: distance, dtype: float64"
      ]
     },
     "execution_count": 18,
     "metadata": {},
     "output_type": "execute_result"
    }
   ],
   "source": [
    "#Выведем описательную статистику по столбцу distance\n",
    "data_rides['distance'].describe()"
   ]
  },
  {
   "cell_type": "markdown",
   "id": "ff76afb1",
   "metadata": {},
   "source": [
    "Построим столбчатую диаграмму, возьмем примерные границы первого квартиля (25%) -1 стандартное отклонение и четвертого (75%) \n",
    "+1 стандартное отклонение."
   ]
  },
  {
   "cell_type": "code",
   "execution_count": 19,
   "id": "23520f5f",
   "metadata": {},
   "outputs": [
    {
     "data": {
      "image/png": "[encoded data removed]",
      "text/plain": [
       "<Figure size 648x648 with 1 Axes>"
      ]
     },
     "metadata": {},
     "output_type": "display_data"
    }
   ],
   "source": [
    "plt.figure(figsize=(9,9),facecolor='white',edgecolor='black')\n",
    "plt.hist(data_rides['distance'], bins=100, range=(1200, 5000), color = \"orange\", ec='black')\n",
    "plt.title('Сортировка пользователей по расстоянию поездки')\n",
    "plt.xlabel('Расстояние в м', size='x-large')\n",
    "plt.ylabel('Количество пользователей', size='x-large');"
   ]
  },
  {
   "cell_type": "markdown",
   "id": "8c7a7d63",
   "metadata": {},
   "source": [
    "**Вывод**: В среднем пользователь проезжает во время одной поездки от 2.5 км до 3.5 км."
   ]
  },
  {
   "cell_type": "markdown",
   "id": "9730378d",
   "metadata": {},
   "source": [
    "##### Проанализируем продолжительность поездок."
   ]
  },
  {
   "cell_type": "code",
   "execution_count": 20,
   "id": "cff4ea2e",
   "metadata": {},
   "outputs": [
    {
     "data": {
      "text/plain": [
       "count    18068.000000\n",
       "mean        18.297653\n",
       "std          6.093955\n",
       "min          1.000000\n",
       "25%         14.000000\n",
       "50%         18.000000\n",
       "75%         22.000000\n",
       "max         41.000000\n",
       "Name: duration, dtype: float64"
      ]
     },
     "execution_count": 20,
     "metadata": {},
     "output_type": "execute_result"
    }
   ],
   "source": [
    "#Выведем описательную статистику по столбцу duration\n",
    "data_rides['duration'].describe()"
   ]
  },
  {
   "cell_type": "markdown",
   "id": "aa59d177",
   "metadata": {},
   "source": [
    "Построим столбчатую диаграмму, возьмем примерные границы первого квартиль (25%) -1 стандартное отклонение и четвертого (75%) \n",
    "+1 стандартное отклонение."
   ]
  },
  {
   "cell_type": "code",
   "execution_count": 21,
   "id": "1e8bc5ee",
   "metadata": {},
   "outputs": [
    {
     "data": {
      "image/png": "[encoded data removed]",
      "text/plain": [
       "<Figure size 648x648 with 1 Axes>"
      ]
     },
     "metadata": {},
     "output_type": "display_data"
    }
   ],
   "source": [
    "plt.figure(figsize=(9,9),facecolor='white',edgecolor='black')\n",
    "plt.hist(data_rides['duration'], bins=23, range=(7, 30), color = \"orange\", ec='black')\n",
    "plt.title('Сортировка пользователей по времени поездки')\n",
    "plt.xlabel('Расстояние в минутах', size='x-large')\n",
    "plt.ylabel('Количество пользователей', size='x-large');"
   ]
  },
  {
   "cell_type": "markdown",
   "id": "5f64d88f",
   "metadata": {},
   "source": [
    "**Вывод**: Большая часть поездок длятся от 14 до 22 минут."
   ]
  },
  {
   "cell_type": "markdown",
   "id": "4ef51331",
   "metadata": {},
   "source": [
    "## Объединение данных."
   ]
  },
  {
   "cell_type": "markdown",
   "id": "92f6a844",
   "metadata": {},
   "source": [
    "##### Объединим данные о пользователях, поездках и подписках в один датафрейм."
   ]
  },
  {
   "cell_type": "code",
   "execution_count": 22,
   "id": "6bf288b5",
   "metadata": {},
   "outputs": [
    {
     "data": {
      "text/html": [
       "<div>\n",
       "<style scoped>\n",
       "    .dataframe tbody tr th:only-of-type {\n",
       "        vertical-align: middle;\n",
       "    }\n",
       "\n",
       "    .dataframe tbody tr th {\n",
       "        vertical-align: top;\n",
       "    }\n",
       "\n",
       "    .dataframe thead th {\n",
       "        text-align: right;\n",
       "    }\n",
       "</style>\n",
       "<table border=\"1\" class=\"dataframe\">\n",
       "  <thead>\n",
       "    <tr style=\"text-align: right;\">\n",
       "      <th></th>\n",
       "      <th>user_id</th>\n",
       "      <th>name</th>\n",
       "      <th>age</th>\n",
       "      <th>city</th>\n",
       "      <th>subscription_type</th>\n",
       "      <th>distance</th>\n",
       "      <th>duration</th>\n",
       "      <th>date</th>\n",
       "      <th>month</th>\n",
       "    </tr>\n",
       "  </thead>\n",
       "  <tbody>\n",
       "    <tr>\n",
       "      <th>0</th>\n",
       "      <td>1</td>\n",
       "      <td>Кира</td>\n",
       "      <td>22</td>\n",
       "      <td>Тюмень</td>\n",
       "      <td>ultra</td>\n",
       "      <td>4409.92</td>\n",
       "      <td>26.0</td>\n",
       "      <td>2021-01-01</td>\n",
       "      <td>1</td>\n",
       "    </tr>\n",
       "    <tr>\n",
       "      <th>1</th>\n",
       "      <td>1</td>\n",
       "      <td>Кира</td>\n",
       "      <td>22</td>\n",
       "      <td>Тюмень</td>\n",
       "      <td>ultra</td>\n",
       "      <td>2617.59</td>\n",
       "      <td>16.0</td>\n",
       "      <td>2021-01-18</td>\n",
       "      <td>1</td>\n",
       "    </tr>\n",
       "    <tr>\n",
       "      <th>2</th>\n",
       "      <td>1</td>\n",
       "      <td>Кира</td>\n",
       "      <td>22</td>\n",
       "      <td>Тюмень</td>\n",
       "      <td>ultra</td>\n",
       "      <td>754.16</td>\n",
       "      <td>7.0</td>\n",
       "      <td>2021-04-20</td>\n",
       "      <td>4</td>\n",
       "    </tr>\n",
       "    <tr>\n",
       "      <th>3</th>\n",
       "      <td>1</td>\n",
       "      <td>Кира</td>\n",
       "      <td>22</td>\n",
       "      <td>Тюмень</td>\n",
       "      <td>ultra</td>\n",
       "      <td>2694.78</td>\n",
       "      <td>19.0</td>\n",
       "      <td>2021-08-11</td>\n",
       "      <td>8</td>\n",
       "    </tr>\n",
       "    <tr>\n",
       "      <th>4</th>\n",
       "      <td>1</td>\n",
       "      <td>Кира</td>\n",
       "      <td>22</td>\n",
       "      <td>Тюмень</td>\n",
       "      <td>ultra</td>\n",
       "      <td>4028.69</td>\n",
       "      <td>27.0</td>\n",
       "      <td>2021-08-28</td>\n",
       "      <td>8</td>\n",
       "    </tr>\n",
       "  </tbody>\n",
       "</table>\n",
       "</div>"
      ],
      "text/plain": [
       "   user_id  name  age    city subscription_type  distance  duration  \\\n",
       "0        1  Кира   22  Тюмень             ultra   4409.92      26.0   \n",
       "1        1  Кира   22  Тюмень             ultra   2617.59      16.0   \n",
       "2        1  Кира   22  Тюмень             ultra    754.16       7.0   \n",
       "3        1  Кира   22  Тюмень             ultra   2694.78      19.0   \n",
       "4        1  Кира   22  Тюмень             ultra   4028.69      27.0   \n",
       "\n",
       "        date  month  \n",
       "0 2021-01-01      1  \n",
       "1 2021-01-18      1  \n",
       "2 2021-04-20      4  \n",
       "3 2021-08-11      8  \n",
       "4 2021-08-28      8  "
      ]
     },
     "metadata": {},
     "output_type": "display_data"
    },
    {
     "data": {
      "text/html": [
       "<div>\n",
       "<style scoped>\n",
       "    .dataframe tbody tr th:only-of-type {\n",
       "        vertical-align: middle;\n",
       "    }\n",
       "\n",
       "    .dataframe tbody tr th {\n",
       "        vertical-align: top;\n",
       "    }\n",
       "\n",
       "    .dataframe thead th {\n",
       "        text-align: right;\n",
       "    }\n",
       "</style>\n",
       "<table border=\"1\" class=\"dataframe\">\n",
       "  <thead>\n",
       "    <tr style=\"text-align: right;\">\n",
       "      <th></th>\n",
       "      <th>user_id</th>\n",
       "      <th>name</th>\n",
       "      <th>age</th>\n",
       "      <th>city</th>\n",
       "      <th>subscription_type</th>\n",
       "      <th>distance</th>\n",
       "      <th>duration</th>\n",
       "      <th>date</th>\n",
       "      <th>month</th>\n",
       "    </tr>\n",
       "  </thead>\n",
       "  <tbody>\n",
       "    <tr>\n",
       "      <th>18063</th>\n",
       "      <td>1534</td>\n",
       "      <td>Альберт</td>\n",
       "      <td>25</td>\n",
       "      <td>Краснодар</td>\n",
       "      <td>free</td>\n",
       "      <td>3781.10</td>\n",
       "      <td>20.0</td>\n",
       "      <td>2021-11-04</td>\n",
       "      <td>11</td>\n",
       "    </tr>\n",
       "    <tr>\n",
       "      <th>18064</th>\n",
       "      <td>1534</td>\n",
       "      <td>Альберт</td>\n",
       "      <td>25</td>\n",
       "      <td>Краснодар</td>\n",
       "      <td>free</td>\n",
       "      <td>2840.42</td>\n",
       "      <td>22.0</td>\n",
       "      <td>2021-11-16</td>\n",
       "      <td>11</td>\n",
       "    </tr>\n",
       "    <tr>\n",
       "      <th>18065</th>\n",
       "      <td>1534</td>\n",
       "      <td>Альберт</td>\n",
       "      <td>25</td>\n",
       "      <td>Краснодар</td>\n",
       "      <td>free</td>\n",
       "      <td>3826.19</td>\n",
       "      <td>19.0</td>\n",
       "      <td>2021-11-18</td>\n",
       "      <td>11</td>\n",
       "    </tr>\n",
       "    <tr>\n",
       "      <th>18066</th>\n",
       "      <td>1534</td>\n",
       "      <td>Альберт</td>\n",
       "      <td>25</td>\n",
       "      <td>Краснодар</td>\n",
       "      <td>free</td>\n",
       "      <td>2902.31</td>\n",
       "      <td>17.0</td>\n",
       "      <td>2021-11-27</td>\n",
       "      <td>11</td>\n",
       "    </tr>\n",
       "    <tr>\n",
       "      <th>18067</th>\n",
       "      <td>1534</td>\n",
       "      <td>Альберт</td>\n",
       "      <td>25</td>\n",
       "      <td>Краснодар</td>\n",
       "      <td>free</td>\n",
       "      <td>2371.71</td>\n",
       "      <td>16.0</td>\n",
       "      <td>2021-12-29</td>\n",
       "      <td>12</td>\n",
       "    </tr>\n",
       "  </tbody>\n",
       "</table>\n",
       "</div>"
      ],
      "text/plain": [
       "       user_id     name  age       city subscription_type  distance  duration  \\\n",
       "18063     1534  Альберт   25  Краснодар              free   3781.10      20.0   \n",
       "18064     1534  Альберт   25  Краснодар              free   2840.42      22.0   \n",
       "18065     1534  Альберт   25  Краснодар              free   3826.19      19.0   \n",
       "18066     1534  Альберт   25  Краснодар              free   2902.31      17.0   \n",
       "18067     1534  Альберт   25  Краснодар              free   2371.71      16.0   \n",
       "\n",
       "            date  month  \n",
       "18063 2021-11-04     11  \n",
       "18064 2021-11-16     11  \n",
       "18065 2021-11-18     11  \n",
       "18066 2021-11-27     11  \n",
       "18067 2021-12-29     12  "
      ]
     },
     "metadata": {},
     "output_type": "display_data"
    }
   ],
   "source": [
    "#Объеденим данные датафреймов data_users и data_rides с помощью метода merge()\n",
    "data_sub1 = data_users.merge(data_rides, on='user_id', how='left')\n",
    "display(data_sub1.head())\n",
    "display(data_sub1.tail())"
   ]
  },
  {
   "cell_type": "code",
   "execution_count": 23,
   "id": "de3b075a",
   "metadata": {},
   "outputs": [
    {
     "data": {
      "text/html": [
       "<div>\n",
       "<style scoped>\n",
       "    .dataframe tbody tr th:only-of-type {\n",
       "        vertical-align: middle;\n",
       "    }\n",
       "\n",
       "    .dataframe tbody tr th {\n",
       "        vertical-align: top;\n",
       "    }\n",
       "\n",
       "    .dataframe thead th {\n",
       "        text-align: right;\n",
       "    }\n",
       "</style>\n",
       "<table border=\"1\" class=\"dataframe\">\n",
       "  <thead>\n",
       "    <tr style=\"text-align: right;\">\n",
       "      <th></th>\n",
       "      <th>user_id</th>\n",
       "      <th>name</th>\n",
       "      <th>age</th>\n",
       "      <th>city</th>\n",
       "      <th>subscription_type</th>\n",
       "      <th>distance</th>\n",
       "      <th>duration</th>\n",
       "      <th>date</th>\n",
       "      <th>month</th>\n",
       "      <th>minute_price</th>\n",
       "      <th>start_ride_price</th>\n",
       "      <th>subscription_fee</th>\n",
       "    </tr>\n",
       "  </thead>\n",
       "  <tbody>\n",
       "    <tr>\n",
       "      <th>0</th>\n",
       "      <td>1</td>\n",
       "      <td>Кира</td>\n",
       "      <td>22</td>\n",
       "      <td>Тюмень</td>\n",
       "      <td>ultra</td>\n",
       "      <td>4409.92</td>\n",
       "      <td>26.0</td>\n",
       "      <td>2021-01-01</td>\n",
       "      <td>1</td>\n",
       "      <td>6</td>\n",
       "      <td>0</td>\n",
       "      <td>199</td>\n",
       "    </tr>\n",
       "    <tr>\n",
       "      <th>1</th>\n",
       "      <td>1</td>\n",
       "      <td>Кира</td>\n",
       "      <td>22</td>\n",
       "      <td>Тюмень</td>\n",
       "      <td>ultra</td>\n",
       "      <td>2617.59</td>\n",
       "      <td>16.0</td>\n",
       "      <td>2021-01-18</td>\n",
       "      <td>1</td>\n",
       "      <td>6</td>\n",
       "      <td>0</td>\n",
       "      <td>199</td>\n",
       "    </tr>\n",
       "    <tr>\n",
       "      <th>2</th>\n",
       "      <td>1</td>\n",
       "      <td>Кира</td>\n",
       "      <td>22</td>\n",
       "      <td>Тюмень</td>\n",
       "      <td>ultra</td>\n",
       "      <td>754.16</td>\n",
       "      <td>7.0</td>\n",
       "      <td>2021-04-20</td>\n",
       "      <td>4</td>\n",
       "      <td>6</td>\n",
       "      <td>0</td>\n",
       "      <td>199</td>\n",
       "    </tr>\n",
       "    <tr>\n",
       "      <th>3</th>\n",
       "      <td>1</td>\n",
       "      <td>Кира</td>\n",
       "      <td>22</td>\n",
       "      <td>Тюмень</td>\n",
       "      <td>ultra</td>\n",
       "      <td>2694.78</td>\n",
       "      <td>19.0</td>\n",
       "      <td>2021-08-11</td>\n",
       "      <td>8</td>\n",
       "      <td>6</td>\n",
       "      <td>0</td>\n",
       "      <td>199</td>\n",
       "    </tr>\n",
       "    <tr>\n",
       "      <th>4</th>\n",
       "      <td>1</td>\n",
       "      <td>Кира</td>\n",
       "      <td>22</td>\n",
       "      <td>Тюмень</td>\n",
       "      <td>ultra</td>\n",
       "      <td>4028.69</td>\n",
       "      <td>27.0</td>\n",
       "      <td>2021-08-28</td>\n",
       "      <td>8</td>\n",
       "      <td>6</td>\n",
       "      <td>0</td>\n",
       "      <td>199</td>\n",
       "    </tr>\n",
       "  </tbody>\n",
       "</table>\n",
       "</div>"
      ],
      "text/plain": [
       "   user_id  name  age    city subscription_type  distance  duration  \\\n",
       "0        1  Кира   22  Тюмень             ultra   4409.92      26.0   \n",
       "1        1  Кира   22  Тюмень             ultra   2617.59      16.0   \n",
       "2        1  Кира   22  Тюмень             ultra    754.16       7.0   \n",
       "3        1  Кира   22  Тюмень             ultra   2694.78      19.0   \n",
       "4        1  Кира   22  Тюмень             ultra   4028.69      27.0   \n",
       "\n",
       "        date  month  minute_price  start_ride_price  subscription_fee  \n",
       "0 2021-01-01      1             6                 0               199  \n",
       "1 2021-01-18      1             6                 0               199  \n",
       "2 2021-04-20      4             6                 0               199  \n",
       "3 2021-08-11      8             6                 0               199  \n",
       "4 2021-08-28      8             6                 0               199  "
      ]
     },
     "metadata": {},
     "output_type": "display_data"
    },
    {
     "data": {
      "text/html": [
       "<div>\n",
       "<style scoped>\n",
       "    .dataframe tbody tr th:only-of-type {\n",
       "        vertical-align: middle;\n",
       "    }\n",
       "\n",
       "    .dataframe tbody tr th {\n",
       "        vertical-align: top;\n",
       "    }\n",
       "\n",
       "    .dataframe thead th {\n",
       "        text-align: right;\n",
       "    }\n",
       "</style>\n",
       "<table border=\"1\" class=\"dataframe\">\n",
       "  <thead>\n",
       "    <tr style=\"text-align: right;\">\n",
       "      <th></th>\n",
       "      <th>user_id</th>\n",
       "      <th>name</th>\n",
       "      <th>age</th>\n",
       "      <th>city</th>\n",
       "      <th>subscription_type</th>\n",
       "      <th>distance</th>\n",
       "      <th>duration</th>\n",
       "      <th>date</th>\n",
       "      <th>month</th>\n",
       "      <th>minute_price</th>\n",
       "      <th>start_ride_price</th>\n",
       "      <th>subscription_fee</th>\n",
       "    </tr>\n",
       "  </thead>\n",
       "  <tbody>\n",
       "    <tr>\n",
       "      <th>18063</th>\n",
       "      <td>1534</td>\n",
       "      <td>Альберт</td>\n",
       "      <td>25</td>\n",
       "      <td>Краснодар</td>\n",
       "      <td>free</td>\n",
       "      <td>3781.10</td>\n",
       "      <td>20.0</td>\n",
       "      <td>2021-11-04</td>\n",
       "      <td>11</td>\n",
       "      <td>8</td>\n",
       "      <td>50</td>\n",
       "      <td>0</td>\n",
       "    </tr>\n",
       "    <tr>\n",
       "      <th>18064</th>\n",
       "      <td>1534</td>\n",
       "      <td>Альберт</td>\n",
       "      <td>25</td>\n",
       "      <td>Краснодар</td>\n",
       "      <td>free</td>\n",
       "      <td>2840.42</td>\n",
       "      <td>22.0</td>\n",
       "      <td>2021-11-16</td>\n",
       "      <td>11</td>\n",
       "      <td>8</td>\n",
       "      <td>50</td>\n",
       "      <td>0</td>\n",
       "    </tr>\n",
       "    <tr>\n",
       "      <th>18065</th>\n",
       "      <td>1534</td>\n",
       "      <td>Альберт</td>\n",
       "      <td>25</td>\n",
       "      <td>Краснодар</td>\n",
       "      <td>free</td>\n",
       "      <td>3826.19</td>\n",
       "      <td>19.0</td>\n",
       "      <td>2021-11-18</td>\n",
       "      <td>11</td>\n",
       "      <td>8</td>\n",
       "      <td>50</td>\n",
       "      <td>0</td>\n",
       "    </tr>\n",
       "    <tr>\n",
       "      <th>18066</th>\n",
       "      <td>1534</td>\n",
       "      <td>Альберт</td>\n",
       "      <td>25</td>\n",
       "      <td>Краснодар</td>\n",
       "      <td>free</td>\n",
       "      <td>2902.31</td>\n",
       "      <td>17.0</td>\n",
       "      <td>2021-11-27</td>\n",
       "      <td>11</td>\n",
       "      <td>8</td>\n",
       "      <td>50</td>\n",
       "      <td>0</td>\n",
       "    </tr>\n",
       "    <tr>\n",
       "      <th>18067</th>\n",
       "      <td>1534</td>\n",
       "      <td>Альберт</td>\n",
       "      <td>25</td>\n",
       "      <td>Краснодар</td>\n",
       "      <td>free</td>\n",
       "      <td>2371.71</td>\n",
       "      <td>16.0</td>\n",
       "      <td>2021-12-29</td>\n",
       "      <td>12</td>\n",
       "      <td>8</td>\n",
       "      <td>50</td>\n",
       "      <td>0</td>\n",
       "    </tr>\n",
       "  </tbody>\n",
       "</table>\n",
       "</div>"
      ],
      "text/plain": [
       "       user_id     name  age       city subscription_type  distance  duration  \\\n",
       "18063     1534  Альберт   25  Краснодар              free   3781.10      20.0   \n",
       "18064     1534  Альберт   25  Краснодар              free   2840.42      22.0   \n",
       "18065     1534  Альберт   25  Краснодар              free   3826.19      19.0   \n",
       "18066     1534  Альберт   25  Краснодар              free   2902.31      17.0   \n",
       "18067     1534  Альберт   25  Краснодар              free   2371.71      16.0   \n",
       "\n",
       "            date  month  minute_price  start_ride_price  subscription_fee  \n",
       "18063 2021-11-04     11             8                50                 0  \n",
       "18064 2021-11-16     11             8                50                 0  \n",
       "18065 2021-11-18     11             8                50                 0  \n",
       "18066 2021-11-27     11             8                50                 0  \n",
       "18067 2021-12-29     12             8                50                 0  "
      ]
     },
     "metadata": {},
     "output_type": "display_data"
    }
   ],
   "source": [
    "# Объединим данные предыдущего датафрейма с data_subs\n",
    "data_full = data_sub1.merge(data_subs, on='subscription_type', how='left')\n",
    "display(data_full.head())\n",
    "display(data_full.tail())"
   ]
  },
  {
   "cell_type": "code",
   "execution_count": 24,
   "id": "58605108",
   "metadata": {},
   "outputs": [
    {
     "name": "stdout",
     "output_type": "stream",
     "text": [
      "<class 'pandas.core.frame.DataFrame'>\n",
      "Int64Index: 18068 entries, 0 to 18067\n",
      "Data columns (total 12 columns):\n",
      " #   Column             Non-Null Count  Dtype         \n",
      "---  ------             --------------  -----         \n",
      " 0   user_id            18068 non-null  int64         \n",
      " 1   name               18068 non-null  object        \n",
      " 2   age                18068 non-null  int64         \n",
      " 3   city               18068 non-null  object        \n",
      " 4   subscription_type  18068 non-null  object        \n",
      " 5   distance           18068 non-null  float64       \n",
      " 6   duration           18068 non-null  float64       \n",
      " 7   date               18068 non-null  datetime64[ns]\n",
      " 8   month              18068 non-null  int64         \n",
      " 9   minute_price       18068 non-null  int64         \n",
      " 10  start_ride_price   18068 non-null  int64         \n",
      " 11  subscription_fee   18068 non-null  int64         \n",
      "dtypes: datetime64[ns](1), float64(2), int64(6), object(3)\n",
      "memory usage: 1.8+ MB\n"
     ]
    }
   ],
   "source": [
    "#Посмотрим на данные нового датафрейма\n",
    "data_full.info()"
   ]
  },
  {
   "cell_type": "markdown",
   "id": "deb90e84",
   "metadata": {},
   "source": [
    "У нас получился новый датафрейм c 18068 строк, что соответствует количеству строк data_rides."
   ]
  },
  {
   "cell_type": "markdown",
   "id": "d5474572",
   "metadata": {},
   "source": [
    "##### Создадим два отдельных датафрейма с пользователями с подпиской и без."
   ]
  },
  {
   "cell_type": "code",
   "execution_count": 25,
   "id": "1e6693c7",
   "metadata": {},
   "outputs": [
    {
     "data": {
      "text/html": [
       "<div>\n",
       "<style scoped>\n",
       "    .dataframe tbody tr th:only-of-type {\n",
       "        vertical-align: middle;\n",
       "    }\n",
       "\n",
       "    .dataframe tbody tr th {\n",
       "        vertical-align: top;\n",
       "    }\n",
       "\n",
       "    .dataframe thead th {\n",
       "        text-align: right;\n",
       "    }\n",
       "</style>\n",
       "<table border=\"1\" class=\"dataframe\">\n",
       "  <thead>\n",
       "    <tr style=\"text-align: right;\">\n",
       "      <th></th>\n",
       "      <th>user_id</th>\n",
       "      <th>name</th>\n",
       "      <th>age</th>\n",
       "      <th>city</th>\n",
       "      <th>subscription_type</th>\n",
       "      <th>distance</th>\n",
       "      <th>duration</th>\n",
       "      <th>date</th>\n",
       "      <th>month</th>\n",
       "      <th>minute_price</th>\n",
       "      <th>start_ride_price</th>\n",
       "      <th>subscription_fee</th>\n",
       "    </tr>\n",
       "  </thead>\n",
       "  <tbody>\n",
       "    <tr>\n",
       "      <th>6495</th>\n",
       "      <td>699</td>\n",
       "      <td>Оксана</td>\n",
       "      <td>22</td>\n",
       "      <td>Москва</td>\n",
       "      <td>ultra</td>\n",
       "      <td>3973.05</td>\n",
       "      <td>25.0</td>\n",
       "      <td>2021-08-29</td>\n",
       "      <td>8</td>\n",
       "      <td>6</td>\n",
       "      <td>0</td>\n",
       "      <td>199</td>\n",
       "    </tr>\n",
       "    <tr>\n",
       "      <th>6496</th>\n",
       "      <td>699</td>\n",
       "      <td>Оксана</td>\n",
       "      <td>22</td>\n",
       "      <td>Москва</td>\n",
       "      <td>ultra</td>\n",
       "      <td>3288.70</td>\n",
       "      <td>16.0</td>\n",
       "      <td>2021-09-12</td>\n",
       "      <td>9</td>\n",
       "      <td>6</td>\n",
       "      <td>0</td>\n",
       "      <td>199</td>\n",
       "    </tr>\n",
       "    <tr>\n",
       "      <th>6497</th>\n",
       "      <td>699</td>\n",
       "      <td>Оксана</td>\n",
       "      <td>22</td>\n",
       "      <td>Москва</td>\n",
       "      <td>ultra</td>\n",
       "      <td>3076.16</td>\n",
       "      <td>15.0</td>\n",
       "      <td>2021-09-26</td>\n",
       "      <td>9</td>\n",
       "      <td>6</td>\n",
       "      <td>0</td>\n",
       "      <td>199</td>\n",
       "    </tr>\n",
       "    <tr>\n",
       "      <th>6498</th>\n",
       "      <td>699</td>\n",
       "      <td>Оксана</td>\n",
       "      <td>22</td>\n",
       "      <td>Москва</td>\n",
       "      <td>ultra</td>\n",
       "      <td>4707.85</td>\n",
       "      <td>16.0</td>\n",
       "      <td>2021-10-17</td>\n",
       "      <td>10</td>\n",
       "      <td>6</td>\n",
       "      <td>0</td>\n",
       "      <td>199</td>\n",
       "    </tr>\n",
       "    <tr>\n",
       "      <th>6499</th>\n",
       "      <td>699</td>\n",
       "      <td>Оксана</td>\n",
       "      <td>22</td>\n",
       "      <td>Москва</td>\n",
       "      <td>ultra</td>\n",
       "      <td>3202.89</td>\n",
       "      <td>26.0</td>\n",
       "      <td>2021-12-03</td>\n",
       "      <td>12</td>\n",
       "      <td>6</td>\n",
       "      <td>0</td>\n",
       "      <td>199</td>\n",
       "    </tr>\n",
       "  </tbody>\n",
       "</table>\n",
       "</div>"
      ],
      "text/plain": [
       "      user_id    name  age    city subscription_type  distance  duration  \\\n",
       "6495      699  Оксана   22  Москва             ultra   3973.05      25.0   \n",
       "6496      699  Оксана   22  Москва             ultra   3288.70      16.0   \n",
       "6497      699  Оксана   22  Москва             ultra   3076.16      15.0   \n",
       "6498      699  Оксана   22  Москва             ultra   4707.85      16.0   \n",
       "6499      699  Оксана   22  Москва             ultra   3202.89      26.0   \n",
       "\n",
       "           date  month  minute_price  start_ride_price  subscription_fee  \n",
       "6495 2021-08-29      8             6                 0               199  \n",
       "6496 2021-09-12      9             6                 0               199  \n",
       "6497 2021-09-26      9             6                 0               199  \n",
       "6498 2021-10-17     10             6                 0               199  \n",
       "6499 2021-12-03     12             6                 0               199  "
      ]
     },
     "execution_count": 25,
     "metadata": {},
     "output_type": "execute_result"
    }
   ],
   "source": [
    "# Пользователи с подпиской\n",
    "data_has_subs = data_full[data_full['subscription_type'] == 'ultra']\n",
    "data_has_subs.tail()"
   ]
  },
  {
   "cell_type": "code",
   "execution_count": 26,
   "id": "3c070fa0",
   "metadata": {},
   "outputs": [
    {
     "data": {
      "text/plain": [
       "6500"
      ]
     },
     "execution_count": 26,
     "metadata": {},
     "output_type": "execute_result"
    }
   ],
   "source": [
    "len(data_has_subs)"
   ]
  },
  {
   "cell_type": "code",
   "execution_count": 27,
   "id": "f7944c6b",
   "metadata": {},
   "outputs": [
    {
     "data": {
      "text/html": [
       "<div>\n",
       "<style scoped>\n",
       "    .dataframe tbody tr th:only-of-type {\n",
       "        vertical-align: middle;\n",
       "    }\n",
       "\n",
       "    .dataframe tbody tr th {\n",
       "        vertical-align: top;\n",
       "    }\n",
       "\n",
       "    .dataframe thead th {\n",
       "        text-align: right;\n",
       "    }\n",
       "</style>\n",
       "<table border=\"1\" class=\"dataframe\">\n",
       "  <thead>\n",
       "    <tr style=\"text-align: right;\">\n",
       "      <th></th>\n",
       "      <th>user_id</th>\n",
       "      <th>name</th>\n",
       "      <th>age</th>\n",
       "      <th>city</th>\n",
       "      <th>subscription_type</th>\n",
       "      <th>distance</th>\n",
       "      <th>duration</th>\n",
       "      <th>date</th>\n",
       "      <th>month</th>\n",
       "      <th>minute_price</th>\n",
       "      <th>start_ride_price</th>\n",
       "      <th>subscription_fee</th>\n",
       "    </tr>\n",
       "  </thead>\n",
       "  <tbody>\n",
       "    <tr>\n",
       "      <th>6500</th>\n",
       "      <td>700</td>\n",
       "      <td>Айдар</td>\n",
       "      <td>22</td>\n",
       "      <td>Омск</td>\n",
       "      <td>free</td>\n",
       "      <td>2515.69</td>\n",
       "      <td>15.0</td>\n",
       "      <td>2021-01-02</td>\n",
       "      <td>1</td>\n",
       "      <td>8</td>\n",
       "      <td>50</td>\n",
       "      <td>0</td>\n",
       "    </tr>\n",
       "    <tr>\n",
       "      <th>6501</th>\n",
       "      <td>700</td>\n",
       "      <td>Айдар</td>\n",
       "      <td>22</td>\n",
       "      <td>Омск</td>\n",
       "      <td>free</td>\n",
       "      <td>846.93</td>\n",
       "      <td>17.0</td>\n",
       "      <td>2021-02-01</td>\n",
       "      <td>2</td>\n",
       "      <td>8</td>\n",
       "      <td>50</td>\n",
       "      <td>0</td>\n",
       "    </tr>\n",
       "    <tr>\n",
       "      <th>6502</th>\n",
       "      <td>700</td>\n",
       "      <td>Айдар</td>\n",
       "      <td>22</td>\n",
       "      <td>Омск</td>\n",
       "      <td>free</td>\n",
       "      <td>4004.43</td>\n",
       "      <td>21.0</td>\n",
       "      <td>2021-02-04</td>\n",
       "      <td>2</td>\n",
       "      <td>8</td>\n",
       "      <td>50</td>\n",
       "      <td>0</td>\n",
       "    </tr>\n",
       "    <tr>\n",
       "      <th>6503</th>\n",
       "      <td>700</td>\n",
       "      <td>Айдар</td>\n",
       "      <td>22</td>\n",
       "      <td>Омск</td>\n",
       "      <td>free</td>\n",
       "      <td>1205.91</td>\n",
       "      <td>10.0</td>\n",
       "      <td>2021-02-10</td>\n",
       "      <td>2</td>\n",
       "      <td>8</td>\n",
       "      <td>50</td>\n",
       "      <td>0</td>\n",
       "    </tr>\n",
       "    <tr>\n",
       "      <th>6504</th>\n",
       "      <td>700</td>\n",
       "      <td>Айдар</td>\n",
       "      <td>22</td>\n",
       "      <td>Омск</td>\n",
       "      <td>free</td>\n",
       "      <td>3047.38</td>\n",
       "      <td>18.0</td>\n",
       "      <td>2021-02-14</td>\n",
       "      <td>2</td>\n",
       "      <td>8</td>\n",
       "      <td>50</td>\n",
       "      <td>0</td>\n",
       "    </tr>\n",
       "  </tbody>\n",
       "</table>\n",
       "</div>"
      ],
      "text/plain": [
       "      user_id   name  age  city subscription_type  distance  duration  \\\n",
       "6500      700  Айдар   22  Омск              free   2515.69      15.0   \n",
       "6501      700  Айдар   22  Омск              free    846.93      17.0   \n",
       "6502      700  Айдар   22  Омск              free   4004.43      21.0   \n",
       "6503      700  Айдар   22  Омск              free   1205.91      10.0   \n",
       "6504      700  Айдар   22  Омск              free   3047.38      18.0   \n",
       "\n",
       "           date  month  minute_price  start_ride_price  subscription_fee  \n",
       "6500 2021-01-02      1             8                50                 0  \n",
       "6501 2021-02-01      2             8                50                 0  \n",
       "6502 2021-02-04      2             8                50                 0  \n",
       "6503 2021-02-10      2             8                50                 0  \n",
       "6504 2021-02-14      2             8                50                 0  "
      ]
     },
     "execution_count": 27,
     "metadata": {},
     "output_type": "execute_result"
    }
   ],
   "source": [
    "# Пользователи без подписки\n",
    "data_no_subs = data_full[data_full['subscription_type'] == 'free']\n",
    "data_no_subs.head()"
   ]
  },
  {
   "cell_type": "code",
   "execution_count": 28,
   "id": "ed55cab3",
   "metadata": {},
   "outputs": [
    {
     "data": {
      "text/plain": [
       "11568"
      ]
     },
     "execution_count": 28,
     "metadata": {},
     "output_type": "execute_result"
    }
   ],
   "source": [
    "len(data_no_subs)"
   ]
  },
  {
   "cell_type": "markdown",
   "id": "3a805e1e",
   "metadata": {},
   "source": [
    "##### Визуализируем информацию о расстоянии и времени поездок для пользователей обеих категорий."
   ]
  },
  {
   "cell_type": "markdown",
   "id": "1cd5e334",
   "metadata": {},
   "source": [
    "Построим две столбчатые диаграммы по нашим датафреймам data_has_subs и data_no_subs."
   ]
  },
  {
   "cell_type": "code",
   "execution_count": 29,
   "id": "430eb42e",
   "metadata": {},
   "outputs": [
    {
     "data": {
      "image/png": "[encoded data removed]",
      "text/plain": [
       "<Figure size 648x648 with 1 Axes>"
      ]
     },
     "metadata": {},
     "output_type": "display_data"
    }
   ],
   "source": [
    "plt.figure(figsize=(9,9),facecolor='white',edgecolor='black')\n",
    "plt.hist([data_has_subs['distance'], data_no_subs['distance']], color=['Green', 'Orange'], label=['free', 'ultra'], \n",
    "         bins=40, range=(0,6500),  linewidth=2, alpha=0.8)\n",
    "plt.title('Сравнение расстояния поездок пользователей с подпиской и без', size='x-large')\n",
    "plt.xlabel('Расстояние (в м)', size='x-large')\n",
    "plt.ylabel('Количество поездок', size='x-large')\n",
    "plt.legend(loc='upper left')\n",
    "plt.show();"
   ]
  },
  {
   "cell_type": "code",
   "execution_count": 30,
   "id": "96066fee",
   "metadata": {},
   "outputs": [
    {
     "data": {
      "text/plain": [
       "count    6500.000000\n",
       "mean     3115.445431\n",
       "std       836.895369\n",
       "min       244.210000\n",
       "25%      2785.447500\n",
       "50%      3148.640000\n",
       "75%      3560.577500\n",
       "max      5699.770000\n",
       "Name: distance, dtype: float64"
      ]
     },
     "execution_count": 30,
     "metadata": {},
     "output_type": "execute_result"
    }
   ],
   "source": [
    "data_has_subs['distance'].describe()"
   ]
  },
  {
   "cell_type": "code",
   "execution_count": 31,
   "id": "b5297eae",
   "metadata": {},
   "outputs": [
    {
     "data": {
      "text/plain": [
       "count    11568.000000\n",
       "mean      3045.495284\n",
       "std       1246.173810\n",
       "min          0.860000\n",
       "25%       2366.560000\n",
       "50%       3114.650000\n",
       "75%       3905.695000\n",
       "max       7211.010000\n",
       "Name: distance, dtype: float64"
      ]
     },
     "execution_count": 31,
     "metadata": {},
     "output_type": "execute_result"
    }
   ],
   "source": [
    "data_no_subs['distance'].describe()"
   ]
  },
  {
   "cell_type": "markdown",
   "id": "37b0e13c",
   "metadata": {},
   "source": [
    "Из описательной статистики и графика видно, что пользователи с подпиской более склонны как к более коротким поездкам, так и более длительным, чем пользователи без подписки. Это говорит нам о том, что пользователь с подпиской гораздо сильнее вовлечен в использование сервиса."
   ]
  },
  {
   "cell_type": "code",
   "execution_count": 32,
   "id": "abd2c8ab",
   "metadata": {},
   "outputs": [
    {
     "data": {
      "image/png": "[encoded data removed]",
      "text/plain": [
       "<Figure size 648x648 with 1 Axes>"
      ]
     },
     "metadata": {},
     "output_type": "display_data"
    }
   ],
   "source": [
    "plt.figure(figsize=(9,9),facecolor='white',edgecolor='black')\n",
    "plt.hist([data_has_subs['duration'], data_no_subs['duration']], color=['Green', 'Orange'], label=['free', 'ultra'], \n",
    "         bins=40, range=(0,40),  linewidth=2, alpha=0.8)\n",
    "plt.title('Сравнение длительности поездок пользователей с подпиской и без', size='x-large')\n",
    "plt.xlabel('Продолжительность поездок в мин', size='x-large')\n",
    "plt.ylabel('Количество поездок', size='x-large')\n",
    "plt.legend(loc='upper left')\n",
    "plt.show();"
   ]
  },
  {
   "cell_type": "code",
   "execution_count": 33,
   "id": "5d7c16ea",
   "metadata": {},
   "outputs": [
    {
     "data": {
      "text/plain": [
       "count    6500.000000\n",
       "mean       19.030000\n",
       "std         5.576327\n",
       "min         4.000000\n",
       "25%        15.000000\n",
       "50%        19.000000\n",
       "75%        22.000000\n",
       "max        41.000000\n",
       "Name: duration, dtype: float64"
      ]
     },
     "execution_count": 33,
     "metadata": {},
     "output_type": "execute_result"
    }
   ],
   "source": [
    "data_has_subs['duration'].describe()"
   ]
  },
  {
   "cell_type": "code",
   "execution_count": 34,
   "id": "92b56d37",
   "metadata": {},
   "outputs": [
    {
     "data": {
      "text/plain": [
       "count    11568.000000\n",
       "mean        17.886151\n",
       "std          6.329523\n",
       "min          1.000000\n",
       "25%         13.000000\n",
       "50%         18.000000\n",
       "75%         22.000000\n",
       "max         35.000000\n",
       "Name: duration, dtype: float64"
      ]
     },
     "execution_count": 34,
     "metadata": {},
     "output_type": "execute_result"
    }
   ],
   "source": [
    "data_no_subs['duration'].describe()"
   ]
  },
  {
   "cell_type": "markdown",
   "id": "bb566a17",
   "metadata": {},
   "source": [
    "Из описательной статистики и графика видно, что пользователи с подпиской чаще пользуются сервисом для совершения поездок, чем пользователи без."
   ]
  },
  {
   "cell_type": "markdown",
   "id": "402d620f",
   "metadata": {},
   "source": [
    "#### Шаг 5. Подсчёт выручки."
   ]
  },
  {
   "cell_type": "markdown",
   "id": "adbbe3e5",
   "metadata": {},
   "source": [
    "##### Создание агрегированного датафрейма."
   ]
  },
  {
   "cell_type": "markdown",
   "id": "6f68408e",
   "metadata": {},
   "source": [
    "Создадим новый датафрейм revenue_per_user_data с агрегированными данными по пользователям и месяцам. Нас интересуют пройденное расстояние, общая продолжительность поездок и их количество. "
   ]
  },
  {
   "cell_type": "code",
   "execution_count": 35,
   "id": "53049e0a",
   "metadata": {},
   "outputs": [
    {
     "data": {
      "text/html": [
       "<div>\n",
       "<style scoped>\n",
       "    .dataframe tbody tr th:only-of-type {\n",
       "        vertical-align: middle;\n",
       "    }\n",
       "\n",
       "    .dataframe tbody tr th {\n",
       "        vertical-align: top;\n",
       "    }\n",
       "\n",
       "    .dataframe thead th {\n",
       "        text-align: right;\n",
       "    }\n",
       "</style>\n",
       "<table border=\"1\" class=\"dataframe\">\n",
       "  <thead>\n",
       "    <tr style=\"text-align: right;\">\n",
       "      <th></th>\n",
       "      <th></th>\n",
       "      <th>distance</th>\n",
       "      <th>duration</th>\n",
       "      <th>trips_total</th>\n",
       "      <th>subscription_type</th>\n",
       "    </tr>\n",
       "    <tr>\n",
       "      <th>user_id</th>\n",
       "      <th>month</th>\n",
       "      <th></th>\n",
       "      <th></th>\n",
       "      <th></th>\n",
       "      <th></th>\n",
       "    </tr>\n",
       "  </thead>\n",
       "  <tbody>\n",
       "    <tr>\n",
       "      <th rowspan=\"6\" valign=\"top\">1</th>\n",
       "      <th>1</th>\n",
       "      <td>7027.51</td>\n",
       "      <td>42.0</td>\n",
       "      <td>2</td>\n",
       "      <td>ultra</td>\n",
       "    </tr>\n",
       "    <tr>\n",
       "      <th>4</th>\n",
       "      <td>754.16</td>\n",
       "      <td>7.0</td>\n",
       "      <td>1</td>\n",
       "      <td>ultra</td>\n",
       "    </tr>\n",
       "    <tr>\n",
       "      <th>8</th>\n",
       "      <td>6723.47</td>\n",
       "      <td>46.0</td>\n",
       "      <td>2</td>\n",
       "      <td>ultra</td>\n",
       "    </tr>\n",
       "    <tr>\n",
       "      <th>10</th>\n",
       "      <td>5809.91</td>\n",
       "      <td>32.0</td>\n",
       "      <td>2</td>\n",
       "      <td>ultra</td>\n",
       "    </tr>\n",
       "    <tr>\n",
       "      <th>11</th>\n",
       "      <td>7003.50</td>\n",
       "      <td>56.0</td>\n",
       "      <td>3</td>\n",
       "      <td>ultra</td>\n",
       "    </tr>\n",
       "    <tr>\n",
       "      <th>12</th>\n",
       "      <td>6751.63</td>\n",
       "      <td>28.0</td>\n",
       "      <td>2</td>\n",
       "      <td>ultra</td>\n",
       "    </tr>\n",
       "    <tr>\n",
       "      <th rowspan=\"7\" valign=\"top\">2</th>\n",
       "      <th>3</th>\n",
       "      <td>10187.73</td>\n",
       "      <td>63.0</td>\n",
       "      <td>3</td>\n",
       "      <td>ultra</td>\n",
       "    </tr>\n",
       "    <tr>\n",
       "      <th>4</th>\n",
       "      <td>6164.39</td>\n",
       "      <td>40.0</td>\n",
       "      <td>2</td>\n",
       "      <td>ultra</td>\n",
       "    </tr>\n",
       "    <tr>\n",
       "      <th>6</th>\n",
       "      <td>3255.34</td>\n",
       "      <td>14.0</td>\n",
       "      <td>1</td>\n",
       "      <td>ultra</td>\n",
       "    </tr>\n",
       "    <tr>\n",
       "      <th>7</th>\n",
       "      <td>6780.73</td>\n",
       "      <td>48.0</td>\n",
       "      <td>2</td>\n",
       "      <td>ultra</td>\n",
       "    </tr>\n",
       "    <tr>\n",
       "      <th>8</th>\n",
       "      <td>923.01</td>\n",
       "      <td>7.0</td>\n",
       "      <td>1</td>\n",
       "      <td>ultra</td>\n",
       "    </tr>\n",
       "    <tr>\n",
       "      <th>10</th>\n",
       "      <td>2824.64</td>\n",
       "      <td>19.0</td>\n",
       "      <td>1</td>\n",
       "      <td>ultra</td>\n",
       "    </tr>\n",
       "    <tr>\n",
       "      <th>12</th>\n",
       "      <td>3828.25</td>\n",
       "      <td>12.0</td>\n",
       "      <td>1</td>\n",
       "      <td>ultra</td>\n",
       "    </tr>\n",
       "    <tr>\n",
       "      <th rowspan=\"2\" valign=\"top\">3</th>\n",
       "      <th>1</th>\n",
       "      <td>3061.78</td>\n",
       "      <td>13.0</td>\n",
       "      <td>1</td>\n",
       "      <td>ultra</td>\n",
       "    </tr>\n",
       "    <tr>\n",
       "      <th>2</th>\n",
       "      <td>5421.16</td>\n",
       "      <td>39.0</td>\n",
       "      <td>2</td>\n",
       "      <td>ultra</td>\n",
       "    </tr>\n",
       "  </tbody>\n",
       "</table>\n",
       "</div>"
      ],
      "text/plain": [
       "               distance  duration  trips_total subscription_type\n",
       "user_id month                                                   \n",
       "1       1       7027.51      42.0            2             ultra\n",
       "        4        754.16       7.0            1             ultra\n",
       "        8       6723.47      46.0            2             ultra\n",
       "        10      5809.91      32.0            2             ultra\n",
       "        11      7003.50      56.0            3             ultra\n",
       "        12      6751.63      28.0            2             ultra\n",
       "2       3      10187.73      63.0            3             ultra\n",
       "        4       6164.39      40.0            2             ultra\n",
       "        6       3255.34      14.0            1             ultra\n",
       "        7       6780.73      48.0            2             ultra\n",
       "        8        923.01       7.0            1             ultra\n",
       "        10      2824.64      19.0            1             ultra\n",
       "        12      3828.25      12.0            1             ultra\n",
       "3       1       3061.78      13.0            1             ultra\n",
       "        2       5421.16      39.0            2             ultra"
      ]
     },
     "execution_count": 35,
     "metadata": {},
     "output_type": "execute_result"
    }
   ],
   "source": [
    "# Построим свободную таблицу с агрегированным данными\n",
    "data_revenue = data_full.pivot_table(index=('user_id', 'month'), \n",
    "                                              values = ['distance', 'duration', 'name', 'subscription_type'],\n",
    "                                              aggfunc = {'distance': sum, \n",
    "                                                         'duration' : sum, \n",
    "                                                         'name' : len,\n",
    "                                                         'subscription_type' : min})\n",
    "# Переименуем столбец name, т.к. при применении функции len он показывает количество поездок за один месяц\n",
    "data_revenue.rename(columns = {'name' : 'trips_total'}, inplace = True)\n",
    "# Выведем первые 15 строк датафрейма\n",
    "data_revenue.head(15)"
   ]
  },
  {
   "cell_type": "markdown",
   "id": "af0a8b95",
   "metadata": {},
   "source": [
    "##### Добавление столбца с помесячной выручкой."
   ]
  },
  {
   "cell_type": "markdown",
   "id": "6b7bb907",
   "metadata": {},
   "source": [
    "Помесячная выручка считается по формуле: стоимость старта поездки ×  количество поездок + стоимость одной минуты поездки × общая продолжительность всех поездок в минутах + стоимость подписки. Создадим отдельную функцию для расчета выручки для пользователей с подпиской и без, применим ее к новому датафрейму:"
   ]
  },
  {
   "cell_type": "code",
   "execution_count": 36,
   "id": "3fa2ebf7",
   "metadata": {},
   "outputs": [],
   "source": [
    "# Создадим функцию\n",
    "def revenue_calc(row):\n",
    "    if row['subscription_type'] == 'ultra':\n",
    "        return 6 * row['duration'] + 199\n",
    "    if row['subscription_type'] == 'free':\n",
    "        return 8 * row['duration'] + 50 * row['trips_total']\n",
    "    else:\n",
    "        return 'no info'"
   ]
  },
  {
   "cell_type": "code",
   "execution_count": 37,
   "id": "5ed9c064",
   "metadata": {},
   "outputs": [],
   "source": [
    "# Создадим новый столбец и применим функцию\n",
    "data_revenue['monthly_revenue'] = data_revenue.apply(revenue_calc, axis=1)"
   ]
  },
  {
   "cell_type": "code",
   "execution_count": 38,
   "id": "ce288114",
   "metadata": {},
   "outputs": [
    {
     "data": {
      "text/html": [
       "<div>\n",
       "<style scoped>\n",
       "    .dataframe tbody tr th:only-of-type {\n",
       "        vertical-align: middle;\n",
       "    }\n",
       "\n",
       "    .dataframe tbody tr th {\n",
       "        vertical-align: top;\n",
       "    }\n",
       "\n",
       "    .dataframe thead th {\n",
       "        text-align: right;\n",
       "    }\n",
       "</style>\n",
       "<table border=\"1\" class=\"dataframe\">\n",
       "  <thead>\n",
       "    <tr style=\"text-align: right;\">\n",
       "      <th></th>\n",
       "      <th></th>\n",
       "      <th>distance</th>\n",
       "      <th>duration</th>\n",
       "      <th>trips_total</th>\n",
       "      <th>subscription_type</th>\n",
       "      <th>monthly_revenue</th>\n",
       "    </tr>\n",
       "    <tr>\n",
       "      <th>user_id</th>\n",
       "      <th>month</th>\n",
       "      <th></th>\n",
       "      <th></th>\n",
       "      <th></th>\n",
       "      <th></th>\n",
       "      <th></th>\n",
       "    </tr>\n",
       "  </thead>\n",
       "  <tbody>\n",
       "    <tr>\n",
       "      <th rowspan=\"6\" valign=\"top\">1</th>\n",
       "      <th>1</th>\n",
       "      <td>7027.51</td>\n",
       "      <td>42.0</td>\n",
       "      <td>2</td>\n",
       "      <td>ultra</td>\n",
       "      <td>451.0</td>\n",
       "    </tr>\n",
       "    <tr>\n",
       "      <th>4</th>\n",
       "      <td>754.16</td>\n",
       "      <td>7.0</td>\n",
       "      <td>1</td>\n",
       "      <td>ultra</td>\n",
       "      <td>241.0</td>\n",
       "    </tr>\n",
       "    <tr>\n",
       "      <th>8</th>\n",
       "      <td>6723.47</td>\n",
       "      <td>46.0</td>\n",
       "      <td>2</td>\n",
       "      <td>ultra</td>\n",
       "      <td>475.0</td>\n",
       "    </tr>\n",
       "    <tr>\n",
       "      <th>10</th>\n",
       "      <td>5809.91</td>\n",
       "      <td>32.0</td>\n",
       "      <td>2</td>\n",
       "      <td>ultra</td>\n",
       "      <td>391.0</td>\n",
       "    </tr>\n",
       "    <tr>\n",
       "      <th>11</th>\n",
       "      <td>7003.50</td>\n",
       "      <td>56.0</td>\n",
       "      <td>3</td>\n",
       "      <td>ultra</td>\n",
       "      <td>535.0</td>\n",
       "    </tr>\n",
       "    <tr>\n",
       "      <th>12</th>\n",
       "      <td>6751.63</td>\n",
       "      <td>28.0</td>\n",
       "      <td>2</td>\n",
       "      <td>ultra</td>\n",
       "      <td>367.0</td>\n",
       "    </tr>\n",
       "    <tr>\n",
       "      <th rowspan=\"7\" valign=\"top\">2</th>\n",
       "      <th>3</th>\n",
       "      <td>10187.73</td>\n",
       "      <td>63.0</td>\n",
       "      <td>3</td>\n",
       "      <td>ultra</td>\n",
       "      <td>577.0</td>\n",
       "    </tr>\n",
       "    <tr>\n",
       "      <th>4</th>\n",
       "      <td>6164.39</td>\n",
       "      <td>40.0</td>\n",
       "      <td>2</td>\n",
       "      <td>ultra</td>\n",
       "      <td>439.0</td>\n",
       "    </tr>\n",
       "    <tr>\n",
       "      <th>6</th>\n",
       "      <td>3255.34</td>\n",
       "      <td>14.0</td>\n",
       "      <td>1</td>\n",
       "      <td>ultra</td>\n",
       "      <td>283.0</td>\n",
       "    </tr>\n",
       "    <tr>\n",
       "      <th>7</th>\n",
       "      <td>6780.73</td>\n",
       "      <td>48.0</td>\n",
       "      <td>2</td>\n",
       "      <td>ultra</td>\n",
       "      <td>487.0</td>\n",
       "    </tr>\n",
       "    <tr>\n",
       "      <th>8</th>\n",
       "      <td>923.01</td>\n",
       "      <td>7.0</td>\n",
       "      <td>1</td>\n",
       "      <td>ultra</td>\n",
       "      <td>241.0</td>\n",
       "    </tr>\n",
       "    <tr>\n",
       "      <th>10</th>\n",
       "      <td>2824.64</td>\n",
       "      <td>19.0</td>\n",
       "      <td>1</td>\n",
       "      <td>ultra</td>\n",
       "      <td>313.0</td>\n",
       "    </tr>\n",
       "    <tr>\n",
       "      <th>12</th>\n",
       "      <td>3828.25</td>\n",
       "      <td>12.0</td>\n",
       "      <td>1</td>\n",
       "      <td>ultra</td>\n",
       "      <td>271.0</td>\n",
       "    </tr>\n",
       "    <tr>\n",
       "      <th rowspan=\"7\" valign=\"top\">3</th>\n",
       "      <th>1</th>\n",
       "      <td>3061.78</td>\n",
       "      <td>13.0</td>\n",
       "      <td>1</td>\n",
       "      <td>ultra</td>\n",
       "      <td>277.0</td>\n",
       "    </tr>\n",
       "    <tr>\n",
       "      <th>2</th>\n",
       "      <td>5421.16</td>\n",
       "      <td>39.0</td>\n",
       "      <td>2</td>\n",
       "      <td>ultra</td>\n",
       "      <td>433.0</td>\n",
       "    </tr>\n",
       "    <tr>\n",
       "      <th>4</th>\n",
       "      <td>2956.65</td>\n",
       "      <td>21.0</td>\n",
       "      <td>1</td>\n",
       "      <td>ultra</td>\n",
       "      <td>325.0</td>\n",
       "    </tr>\n",
       "    <tr>\n",
       "      <th>5</th>\n",
       "      <td>9064.03</td>\n",
       "      <td>63.0</td>\n",
       "      <td>3</td>\n",
       "      <td>ultra</td>\n",
       "      <td>577.0</td>\n",
       "    </tr>\n",
       "    <tr>\n",
       "      <th>7</th>\n",
       "      <td>10919.59</td>\n",
       "      <td>67.0</td>\n",
       "      <td>3</td>\n",
       "      <td>ultra</td>\n",
       "      <td>601.0</td>\n",
       "    </tr>\n",
       "    <tr>\n",
       "      <th>9</th>\n",
       "      <td>2891.01</td>\n",
       "      <td>23.0</td>\n",
       "      <td>1</td>\n",
       "      <td>ultra</td>\n",
       "      <td>337.0</td>\n",
       "    </tr>\n",
       "    <tr>\n",
       "      <th>12</th>\n",
       "      <td>2593.38</td>\n",
       "      <td>13.0</td>\n",
       "      <td>1</td>\n",
       "      <td>ultra</td>\n",
       "      <td>277.0</td>\n",
       "    </tr>\n",
       "  </tbody>\n",
       "</table>\n",
       "</div>"
      ],
      "text/plain": [
       "               distance  duration  trips_total subscription_type  \\\n",
       "user_id month                                                      \n",
       "1       1       7027.51      42.0            2             ultra   \n",
       "        4        754.16       7.0            1             ultra   \n",
       "        8       6723.47      46.0            2             ultra   \n",
       "        10      5809.91      32.0            2             ultra   \n",
       "        11      7003.50      56.0            3             ultra   \n",
       "        12      6751.63      28.0            2             ultra   \n",
       "2       3      10187.73      63.0            3             ultra   \n",
       "        4       6164.39      40.0            2             ultra   \n",
       "        6       3255.34      14.0            1             ultra   \n",
       "        7       6780.73      48.0            2             ultra   \n",
       "        8        923.01       7.0            1             ultra   \n",
       "        10      2824.64      19.0            1             ultra   \n",
       "        12      3828.25      12.0            1             ultra   \n",
       "3       1       3061.78      13.0            1             ultra   \n",
       "        2       5421.16      39.0            2             ultra   \n",
       "        4       2956.65      21.0            1             ultra   \n",
       "        5       9064.03      63.0            3             ultra   \n",
       "        7      10919.59      67.0            3             ultra   \n",
       "        9       2891.01      23.0            1             ultra   \n",
       "        12      2593.38      13.0            1             ultra   \n",
       "\n",
       "               monthly_revenue  \n",
       "user_id month                   \n",
       "1       1                451.0  \n",
       "        4                241.0  \n",
       "        8                475.0  \n",
       "        10               391.0  \n",
       "        11               535.0  \n",
       "        12               367.0  \n",
       "2       3                577.0  \n",
       "        4                439.0  \n",
       "        6                283.0  \n",
       "        7                487.0  \n",
       "        8                241.0  \n",
       "        10               313.0  \n",
       "        12               271.0  \n",
       "3       1                277.0  \n",
       "        2                433.0  \n",
       "        4                325.0  \n",
       "        5                577.0  \n",
       "        7                601.0  \n",
       "        9                337.0  \n",
       "        12               277.0  "
      ]
     },
     "execution_count": 38,
     "metadata": {},
     "output_type": "execute_result"
    }
   ],
   "source": [
    "# Выведем первые 20 строк датафрейма\n",
    "data_revenue.head(20)"
   ]
  },
  {
   "cell_type": "code",
   "execution_count": 39,
   "id": "31dc6a4e",
   "metadata": {},
   "outputs": [
    {
     "name": "stdout",
     "output_type": "stream",
     "text": [
      "Общая выручка составила 3877893.0 рублей\n"
     ]
    }
   ],
   "source": [
    "# Посчитаем общую выручку сервиса\n",
    "print('Общая выручка составила', data_revenue['monthly_revenue'].sum(), 'рублей')"
   ]
  },
  {
   "cell_type": "markdown",
   "id": "41545ac0",
   "metadata": {},
   "source": [
    "## Проверка гипотез."
   ]
  },
  {
   "cell_type": "markdown",
   "id": "8346f568",
   "metadata": {},
   "source": [
    "##### Гипотеза: тратят ли пользователи с подпиской больше времени на поездки."
   ]
  },
  {
   "cell_type": "markdown",
   "id": "a056bd52",
   "metadata": {},
   "source": [
    "Проверим, насколько пользователи с подпиской выгоднее для компании. Выдвенем две гипотезы:"
   ]
  },
  {
   "cell_type": "markdown",
   "id": "b141a15e",
   "metadata": {},
   "source": [
    "H_0 : Время поездки пользователя с подпиской ultra равно времени пользователя без подписки."
   ]
  },
  {
   "cell_type": "markdown",
   "id": "7a97b917",
   "metadata": {},
   "source": [
    "H_1: Время поезкди пользователя с подпиской ultra больше времени пользователя без подписки."
   ]
  },
  {
   "cell_type": "code",
   "execution_count": 40,
   "id": "d8d8459f",
   "metadata": {},
   "outputs": [
    {
     "name": "stdout",
     "output_type": "stream",
     "text": [
      "p-значение: 3.533140224216126e-34\n",
      "Отвергаем нулевую гипотезу\n"
     ]
    }
   ],
   "source": [
    "sub = data_has_subs['duration']\n",
    "no_sub = data_no_subs['duration']\n",
    "alpha = 0.01\n",
    "results = st.ttest_ind(sub, \n",
    "                       no_sub,\n",
    "                       alternative='greater')\n",
    "print('p-значение:', results.pvalue)\n",
    "if results.pvalue < alpha:\n",
    "    print('Отвергаем нулевую гипотезу')\n",
    "else:\n",
    "    print('Не удалось отвергнуть нулевую гипотезу')"
   ]
  },
  {
   "cell_type": "markdown",
   "id": "e217d0b7",
   "metadata": {},
   "source": [
    "**Вывод:** Время поездки пользователя с подпиской больше времени пользователя без нее."
   ]
  },
  {
   "cell_type": "markdown",
   "id": "a10f27fa",
   "metadata": {},
   "source": [
    "##### Гипотеза: среднее расстояние, которое проезжают пользователи с подпиской за одну поездку, не превышает 3130 метров."
   ]
  },
  {
   "cell_type": "markdown",
   "id": "fbe6dc94",
   "metadata": {},
   "source": [
    "Проверим, насколько достоверным является факт, что пользователи с подпиской за поездку проезжают больше 3130 метров."
   ]
  },
  {
   "cell_type": "markdown",
   "id": "5e410e8a",
   "metadata": {},
   "source": [
    "H_0 : Пройденное расстояние пользователя с подпиской равно 3130 метров."
   ]
  },
  {
   "cell_type": "markdown",
   "id": "db5038db",
   "metadata": {},
   "source": [
    "H_1: Пройденное расстояние пользователя с подпиской больше 3130 метров."
   ]
  },
  {
   "cell_type": "code",
   "execution_count": 41,
   "id": "b79dc5c1",
   "metadata": {},
   "outputs": [
    {
     "name": "stdout",
     "output_type": "stream",
     "text": [
      "p-значение: 0.9195362605842414\n",
      "Не удалось отвергнуть нулевую гипотезу\n"
     ]
    }
   ],
   "source": [
    "sub = data_has_subs['distance']\n",
    "distance_value = 3130\n",
    "alpha = 0.01\n",
    "results = st.ttest_1samp(sub, \n",
    "                         distance_value,\n",
    "                         alternative='greater')\n",
    "print('p-значение:', results.pvalue)\n",
    "if results.pvalue < alpha:\n",
    "    print('Отвергаем нулевую гипотезу')\n",
    "else:\n",
    "    print('Не удалось отвергнуть нулевую гипотезу')"
   ]
  },
  {
   "cell_type": "markdown",
   "id": "13976089",
   "metadata": {},
   "source": [
    "**Вывод:** Нулевую гипотезу не удалось отвергнуть, мы можем сделать вывод, что при уровне значимости в 1%, расстояние, которое проедет подписчик сервиса не будет превышать 3130 метров."
   ]
  },
  {
   "cell_type": "markdown",
   "id": "dbb9d868",
   "metadata": {},
   "source": [
    "##### Гипотеза: помесячная выручка от пользователей с подпиской по месяцам выше, чем выручка от пользователей без подписки."
   ]
  },
  {
   "cell_type": "markdown",
   "id": "0634b6dd",
   "metadata": {},
   "source": [
    "H_0 : Помесячная выручка от пользователей с подпиской равна выручке от пользователя без нее."
   ]
  },
  {
   "cell_type": "markdown",
   "id": "921c7b9c",
   "metadata": {},
   "source": [
    "H_1: Помесячная выручка от пользователей с подпиской больше выручки от пользователей без нее."
   ]
  },
  {
   "cell_type": "code",
   "execution_count": 42,
   "id": "492d25f5",
   "metadata": {},
   "outputs": [
    {
     "name": "stdout",
     "output_type": "stream",
     "text": [
      "p-значение: 1.8164914860049708e-31\n",
      "Отвергаем нулевую гипотезу\n"
     ]
    }
   ],
   "source": [
    "sub = data_revenue.loc[data_revenue['subscription_type'] == 'ultra', 'monthly_revenue']\n",
    "no_sub = data_revenue.loc[data_revenue['subscription_type'] == 'free', 'monthly_revenue']\n",
    "alpha = 0.01\n",
    "results = st.ttest_ind(sub, \n",
    "                       no_sub,\n",
    "                       alternative='greater')\n",
    "print('p-значение:', results.pvalue)\n",
    "if results.pvalue < alpha:\n",
    "    print('Отвергаем нулевую гипотезу')\n",
    "else:\n",
    "    print('Не удалось отвергнуть нулевую гипотезу')"
   ]
  },
  {
   "cell_type": "markdown",
   "id": "ee59c1ad",
   "metadata": {},
   "source": [
    "**Вывод:** Нулевая гипотеза отвергнута, пользователи с подпиской приносят большую выручку компании."
   ]
  },
  {
   "cell_type": "markdown",
   "id": "3db961cf",
   "metadata": {},
   "source": [
    "##### Представьте такую ситуацию: техническая команда сервиса обновила сервера, с которыми взаимодействует мобильное приложение. Она надеется, что из-за этого количество обращений в техподдержку значимо снизилось. Некоторый файл содержит для каждого пользователя данные о количестве обращений до обновления и после него. Какой тест вам понадобился бы для проверки этой гипотезы?"
   ]
  },
  {
   "cell_type": "markdown",
   "id": "72a3ce47",
   "metadata": {},
   "source": [
    "**Ответ**: в таком случае используется гипотеза о равенстве средних для зависимых (парных) выборок. Можно представить, что мы анализируем одну генеральную совокупность, с которой произошли некоторые изменения."
   ]
  },
  {
   "cell_type": "markdown",
   "id": "54cf8d67",
   "metadata": {},
   "source": [
    "Гипотезы буду сформилированы следующим образом:\n",
    "- H_0 : μ1 = μ2\n",
    "- H_1 : μ1 != μ2"
   ]
  },
  {
   "cell_type": "markdown",
   "id": "60d92c6d",
   "metadata": {},
   "source": [
    "где μ1 и μ2 - средние значения до и после изменения."
   ]
  },
  {
   "cell_type": "markdown",
   "id": "e92ff62d",
   "metadata": {},
   "source": [
    "При этой гипотезе используется тест **scipy.stats.ttest_rel()**."
   ]
  },
  {
   "cell_type": "markdown",
   "id": "446f6a9d",
   "metadata": {},
   "source": [
    "## Общий вывод."
   ]
  },
  {
   "cell_type": "markdown",
   "id": "a254141f",
   "metadata": {},
   "source": [
    "Проведено небольшое исследование по анализу файлов с данными users_go.csv, rides_go.csv, subscriptions_go.csv."
   ]
  },
  {
   "cell_type": "markdown",
   "id": "054ef456",
   "metadata": {},
   "source": [
    "В ходе работы было осуществлена предобработка соответствующих датафреймов data_users, data_rides, data_subs. "
   ]
  },
  {
   "cell_type": "markdown",
   "id": "e0e93a13",
   "metadata": {},
   "source": [
    "В ходе исследовательского анализа данных мы узнали:\n",
    "- Наиболее популярные города у пользователей сервиса: Пятигорск, Екатеринбург и Ростов-на-Дону. Пользователи в нашей выборке распределены по городам относительно равномерно.\n",
    "- Соотношение пользователей с подпиской и без: 54.43% процента пользователей не имеют подписки, 45.57% - пользуются услугами проката с подпиской.\n",
    "- Основная аудитория сервиса люди от 20 до 30 лет.\n",
    "- Среднестатистический пользователь за одну поездку проезжает 3.07 км.\n",
    "- Средняя продолжительность поездки составляет 18.20 мин."
   ]
  },
  {
   "cell_type": "markdown",
   "id": "30ebe334",
   "metadata": {},
   "source": [
    "Создан общий датафрейм data_full, объединяющий данные из data_users, data_rides, data_subs. Также созданы датафреймы data_has_subs и data_no_subs, объединяющих пользователей с подпиской и без."
   ]
  },
  {
   "cell_type": "markdown",
   "id": "1a2f51c0",
   "metadata": {},
   "source": [
    "В ходе анализа данных датафреймов data_has_subs и data_no_subs мы выяснили:\n",
    "- Пользователи с подпиской в среднем во время использования сервиса проезжают большее расстояние, чем пользователи без подписки.\n",
    "- Средняя поездка пользователя с подпиской дольше, чем пользователя без подписки."
   ]
  },
  {
   "cell_type": "markdown",
   "id": "6cca89be",
   "metadata": {},
   "source": [
    "В ходе исследования были выдвинуты несколько гипотез из которых мы выяснили:\n",
    "- Мы потдвердили, что пользователи с подпиской тратят больше времени на поездки с использованием сервиса.\n",
    "- Мы подтвердили, что подписчик сервиса не проезжает расстояние больше 3130 метров за одну поездку.\n",
    "- Определили, что пользователи с подпиской приносят компании большую выручку."
   ]
  }
 ],
 "metadata": {
  "ExecuteTimeLog": [
   {
    "duration": 1158,
    "start_time": "2024-03-17T21:08:18.493Z"
   },
   {
    "duration": 223,
    "start_time": "2024-03-17T21:08:19.653Z"
   },
   {
    "duration": 27,
    "start_time": "2024-03-17T21:11:39.319Z"
   },
   {
    "duration": 94,
    "start_time": "2024-03-17T21:21:55.148Z"
   },
   {
    "duration": 1052,
    "start_time": "2024-03-17T21:22:00.024Z"
   },
   {
    "duration": 84,
    "start_time": "2024-03-17T21:22:01.078Z"
   },
   {
    "duration": 24,
    "start_time": "2024-03-17T21:22:01.164Z"
   },
   {
    "duration": 62,
    "start_time": "2024-03-17T21:22:01.190Z"
   },
   {
    "duration": 0,
    "start_time": "2024-03-17T21:22:01.254Z"
   },
   {
    "duration": 14,
    "start_time": "2024-03-17T21:22:36.039Z"
   },
   {
    "duration": 11,
    "start_time": "2024-03-17T21:23:54.944Z"
   },
   {
    "duration": 8,
    "start_time": "2024-03-17T21:24:30.703Z"
   },
   {
    "duration": 2,
    "start_time": "2024-03-17T21:37:53.513Z"
   },
   {
    "duration": 7,
    "start_time": "2024-03-17T21:37:58.126Z"
   },
   {
    "duration": 11,
    "start_time": "2024-03-17T21:39:55.418Z"
   },
   {
    "duration": 3,
    "start_time": "2024-03-17T21:44:37.267Z"
   },
   {
    "duration": 84,
    "start_time": "2024-03-17T21:44:37.271Z"
   },
   {
    "duration": 22,
    "start_time": "2024-03-17T21:44:37.357Z"
   },
   {
    "duration": 13,
    "start_time": "2024-03-17T21:44:37.380Z"
   },
   {
    "duration": 3,
    "start_time": "2024-03-17T21:44:37.394Z"
   },
   {
    "duration": 15,
    "start_time": "2024-03-17T21:44:37.398Z"
   },
   {
    "duration": 956,
    "start_time": "2024-03-17T21:44:51.800Z"
   },
   {
    "duration": 82,
    "start_time": "2024-03-17T21:44:52.758Z"
   },
   {
    "duration": 24,
    "start_time": "2024-03-17T21:44:52.842Z"
   },
   {
    "duration": 13,
    "start_time": "2024-03-17T21:44:52.867Z"
   },
   {
    "duration": 14,
    "start_time": "2024-03-17T21:44:52.881Z"
   },
   {
    "duration": 18,
    "start_time": "2024-03-17T21:44:52.896Z"
   },
   {
    "duration": 19,
    "start_time": "2024-03-17T21:51:43.548Z"
   },
   {
    "duration": 8,
    "start_time": "2024-03-17T21:53:53.805Z"
   },
   {
    "duration": 991,
    "start_time": "2024-03-17T21:54:11.197Z"
   },
   {
    "duration": 83,
    "start_time": "2024-03-17T21:54:12.189Z"
   },
   {
    "duration": 26,
    "start_time": "2024-03-17T21:54:12.273Z"
   },
   {
    "duration": 13,
    "start_time": "2024-03-17T21:54:12.301Z"
   },
   {
    "duration": 30,
    "start_time": "2024-03-17T21:54:12.316Z"
   },
   {
    "duration": 9,
    "start_time": "2024-03-17T21:54:12.347Z"
   },
   {
    "duration": 9,
    "start_time": "2024-03-17T21:54:46.174Z"
   },
   {
    "duration": 7,
    "start_time": "2024-03-17T21:56:19.066Z"
   },
   {
    "duration": 10,
    "start_time": "2024-03-17T21:58:12.645Z"
   },
   {
    "duration": 4,
    "start_time": "2024-03-17T22:05:19.664Z"
   },
   {
    "duration": 107,
    "start_time": "2024-03-17T22:10:33.477Z"
   },
   {
    "duration": 110,
    "start_time": "2024-03-17T22:10:48.158Z"
   },
   {
    "duration": 11,
    "start_time": "2024-03-17T22:10:56.700Z"
   },
   {
    "duration": 1171,
    "start_time": "2024-03-17T22:11:03.829Z"
   },
   {
    "duration": 87,
    "start_time": "2024-03-17T22:11:05.002Z"
   },
   {
    "duration": 28,
    "start_time": "2024-03-17T22:11:05.093Z"
   },
   {
    "duration": 32,
    "start_time": "2024-03-17T22:11:05.123Z"
   },
   {
    "duration": 11,
    "start_time": "2024-03-17T22:11:05.156Z"
   },
   {
    "duration": 11,
    "start_time": "2024-03-17T22:11:05.169Z"
   },
   {
    "duration": 8,
    "start_time": "2024-03-17T22:11:05.181Z"
   },
   {
    "duration": 10,
    "start_time": "2024-03-17T22:11:05.190Z"
   },
   {
    "duration": 43,
    "start_time": "2024-03-17T22:11:05.202Z"
   },
   {
    "duration": 89,
    "start_time": "2024-03-17T22:11:05.247Z"
   },
   {
    "duration": 174,
    "start_time": "2024-03-17T22:11:12.116Z"
   },
   {
    "duration": 15,
    "start_time": "2024-03-17T22:11:26.331Z"
   },
   {
    "duration": 153,
    "start_time": "2024-03-17T22:11:43.674Z"
   },
   {
    "duration": 164,
    "start_time": "2024-03-17T22:11:52.358Z"
   },
   {
    "duration": 172,
    "start_time": "2024-03-17T22:13:23.628Z"
   },
   {
    "duration": 153,
    "start_time": "2024-03-17T22:13:48.641Z"
   },
   {
    "duration": 153,
    "start_time": "2024-03-17T22:13:59.920Z"
   },
   {
    "duration": 164,
    "start_time": "2024-03-17T22:14:17.868Z"
   },
   {
    "duration": 16,
    "start_time": "2024-03-17T22:14:41.057Z"
   },
   {
    "duration": 164,
    "start_time": "2024-03-17T22:14:53.247Z"
   },
   {
    "duration": 170,
    "start_time": "2024-03-17T22:15:12.236Z"
   },
   {
    "duration": 230,
    "start_time": "2024-03-17T22:16:32.746Z"
   },
   {
    "duration": 15,
    "start_time": "2024-03-17T22:20:36.752Z"
   },
   {
    "duration": 139,
    "start_time": "2024-03-17T22:21:09.548Z"
   },
   {
    "duration": 129,
    "start_time": "2024-03-17T22:21:21.031Z"
   },
   {
    "duration": 117,
    "start_time": "2024-03-17T22:21:55.494Z"
   },
   {
    "duration": 245,
    "start_time": "2024-03-17T22:24:09.123Z"
   },
   {
    "duration": 261,
    "start_time": "2024-03-17T22:24:27.267Z"
   },
   {
    "duration": 254,
    "start_time": "2024-03-17T22:24:44.636Z"
   },
   {
    "duration": 235,
    "start_time": "2024-03-17T22:24:54.551Z"
   },
   {
    "duration": 1028,
    "start_time": "2024-03-17T22:27:15.834Z"
   },
   {
    "duration": 82,
    "start_time": "2024-03-17T22:27:16.863Z"
   },
   {
    "duration": 23,
    "start_time": "2024-03-17T22:27:16.947Z"
   },
   {
    "duration": 13,
    "start_time": "2024-03-17T22:27:16.972Z"
   },
   {
    "duration": 9,
    "start_time": "2024-03-17T22:27:16.987Z"
   },
   {
    "duration": 9,
    "start_time": "2024-03-17T22:27:16.997Z"
   },
   {
    "duration": 39,
    "start_time": "2024-03-17T22:27:17.007Z"
   },
   {
    "duration": 9,
    "start_time": "2024-03-17T22:27:17.047Z"
   },
   {
    "duration": 9,
    "start_time": "2024-03-17T22:27:17.057Z"
   },
   {
    "duration": 180,
    "start_time": "2024-03-17T22:27:17.067Z"
   },
   {
    "duration": 134,
    "start_time": "2024-03-17T22:27:17.249Z"
   },
   {
    "duration": 255,
    "start_time": "2024-03-17T22:27:17.384Z"
   },
   {
    "duration": 1010,
    "start_time": "2024-03-17T22:29:16.770Z"
   },
   {
    "duration": 82,
    "start_time": "2024-03-17T22:29:17.781Z"
   },
   {
    "duration": 25,
    "start_time": "2024-03-17T22:29:17.864Z"
   },
   {
    "duration": 12,
    "start_time": "2024-03-17T22:29:17.891Z"
   },
   {
    "duration": 16,
    "start_time": "2024-03-17T22:29:17.905Z"
   },
   {
    "duration": 28,
    "start_time": "2024-03-17T22:29:17.922Z"
   },
   {
    "duration": 6,
    "start_time": "2024-03-17T22:29:17.952Z"
   },
   {
    "duration": 14,
    "start_time": "2024-03-17T22:29:17.960Z"
   },
   {
    "duration": 4,
    "start_time": "2024-03-17T22:29:17.976Z"
   },
   {
    "duration": 169,
    "start_time": "2024-03-17T22:29:17.981Z"
   },
   {
    "duration": 131,
    "start_time": "2024-03-17T22:29:18.151Z"
   },
   {
    "duration": 271,
    "start_time": "2024-03-17T22:29:18.284Z"
   },
   {
    "duration": 8,
    "start_time": "2024-03-17T22:29:18.556Z"
   },
   {
    "duration": 214,
    "start_time": "2024-03-17T22:29:18.566Z"
   },
   {
    "duration": 224,
    "start_time": "2024-03-17T22:31:01.785Z"
   },
   {
    "duration": 8,
    "start_time": "2024-03-17T22:32:32.600Z"
   },
   {
    "duration": 181,
    "start_time": "2024-03-17T22:33:05.010Z"
   },
   {
    "duration": 303,
    "start_time": "2024-03-17T22:36:28.894Z"
   },
   {
    "duration": 203,
    "start_time": "2024-03-17T22:36:39.907Z"
   },
   {
    "duration": 162,
    "start_time": "2024-03-17T22:37:05.225Z"
   },
   {
    "duration": 50,
    "start_time": "2024-03-19T20:13:17.827Z"
   },
   {
    "duration": 7,
    "start_time": "2024-03-19T20:15:30.999Z"
   },
   {
    "duration": 1288,
    "start_time": "2024-03-19T20:15:42.652Z"
   },
   {
    "duration": 211,
    "start_time": "2024-03-19T20:15:43.942Z"
   },
   {
    "duration": 28,
    "start_time": "2024-03-19T20:15:44.154Z"
   },
   {
    "duration": 21,
    "start_time": "2024-03-19T20:15:44.183Z"
   },
   {
    "duration": 13,
    "start_time": "2024-03-19T20:15:44.225Z"
   },
   {
    "duration": 13,
    "start_time": "2024-03-19T20:15:44.240Z"
   },
   {
    "duration": 9,
    "start_time": "2024-03-19T20:15:44.254Z"
   },
   {
    "duration": 12,
    "start_time": "2024-03-19T20:15:44.264Z"
   },
   {
    "duration": 5,
    "start_time": "2024-03-19T20:15:44.279Z"
   },
   {
    "duration": 196,
    "start_time": "2024-03-19T20:15:44.324Z"
   },
   {
    "duration": 152,
    "start_time": "2024-03-19T20:15:44.523Z"
   },
   {
    "duration": 320,
    "start_time": "2024-03-19T20:15:44.677Z"
   },
   {
    "duration": 10,
    "start_time": "2024-03-19T20:15:44.999Z"
   },
   {
    "duration": 334,
    "start_time": "2024-03-19T20:15:45.012Z"
   },
   {
    "duration": 9,
    "start_time": "2024-03-19T20:15:45.348Z"
   },
   {
    "duration": 220,
    "start_time": "2024-03-19T20:15:45.358Z"
   },
   {
    "duration": 19,
    "start_time": "2024-03-19T20:15:45.580Z"
   },
   {
    "duration": 10,
    "start_time": "2024-03-19T20:17:46.411Z"
   },
   {
    "duration": 20,
    "start_time": "2024-03-19T20:18:02.908Z"
   },
   {
    "duration": 18,
    "start_time": "2024-03-19T20:18:16.963Z"
   },
   {
    "duration": 13,
    "start_time": "2024-03-19T20:18:48.425Z"
   },
   {
    "duration": 19,
    "start_time": "2024-03-19T20:46:56.771Z"
   },
   {
    "duration": 15,
    "start_time": "2024-03-19T20:48:08.173Z"
   },
   {
    "duration": 14,
    "start_time": "2024-03-19T20:48:16.967Z"
   },
   {
    "duration": 982,
    "start_time": "2024-03-19T20:55:10.083Z"
   },
   {
    "duration": 107,
    "start_time": "2024-03-19T20:58:31.501Z"
   },
   {
    "duration": 156,
    "start_time": "2024-03-19T20:59:01.961Z"
   },
   {
    "duration": 189,
    "start_time": "2024-03-19T20:59:10.490Z"
   },
   {
    "duration": 413,
    "start_time": "2024-03-19T20:59:14.725Z"
   },
   {
    "duration": 444,
    "start_time": "2024-03-19T21:06:57.464Z"
   },
   {
    "duration": 369,
    "start_time": "2024-03-19T21:07:05.539Z"
   },
   {
    "duration": 446,
    "start_time": "2024-03-19T21:07:56.813Z"
   },
   {
    "duration": 370,
    "start_time": "2024-03-19T21:08:17.996Z"
   },
   {
    "duration": 459,
    "start_time": "2024-03-19T21:08:57.551Z"
   },
   {
    "duration": 394,
    "start_time": "2024-03-19T21:09:07.162Z"
   },
   {
    "duration": 489,
    "start_time": "2024-03-19T21:09:20.890Z"
   },
   {
    "duration": 366,
    "start_time": "2024-03-19T21:09:26.239Z"
   },
   {
    "duration": 405,
    "start_time": "2024-03-19T21:11:37.370Z"
   },
   {
    "duration": 481,
    "start_time": "2024-03-19T21:11:48.481Z"
   },
   {
    "duration": 398,
    "start_time": "2024-03-19T21:12:12.954Z"
   },
   {
    "duration": 277,
    "start_time": "2024-03-19T21:12:24.824Z"
   },
   {
    "duration": 248,
    "start_time": "2024-03-19T21:12:38.843Z"
   },
   {
    "duration": 343,
    "start_time": "2024-03-19T21:13:05.349Z"
   },
   {
    "duration": 382,
    "start_time": "2024-03-19T21:13:11.434Z"
   },
   {
    "duration": 304,
    "start_time": "2024-03-19T21:14:29.021Z"
   },
   {
    "duration": 377,
    "start_time": "2024-03-19T21:15:05.439Z"
   },
   {
    "duration": 300,
    "start_time": "2024-03-19T21:15:14.859Z"
   },
   {
    "duration": 296,
    "start_time": "2024-03-19T21:15:42.994Z"
   },
   {
    "duration": 266,
    "start_time": "2024-03-19T21:15:56.669Z"
   },
   {
    "duration": 429,
    "start_time": "2024-03-19T21:16:02.358Z"
   },
   {
    "duration": 297,
    "start_time": "2024-03-19T21:16:09.234Z"
   },
   {
    "duration": 300,
    "start_time": "2024-03-19T21:16:31.950Z"
   },
   {
    "duration": 401,
    "start_time": "2024-03-19T21:16:42.261Z"
   },
   {
    "duration": 521,
    "start_time": "2024-03-19T21:16:49.750Z"
   },
   {
    "duration": 385,
    "start_time": "2024-03-19T21:18:01.803Z"
   },
   {
    "duration": 387,
    "start_time": "2024-03-19T21:18:07.808Z"
   },
   {
    "duration": 364,
    "start_time": "2024-03-19T21:18:13.432Z"
   },
   {
    "duration": 519,
    "start_time": "2024-03-19T21:18:19.894Z"
   },
   {
    "duration": 370,
    "start_time": "2024-03-19T21:18:29.091Z"
   },
   {
    "duration": 372,
    "start_time": "2024-03-19T21:18:41.619Z"
   },
   {
    "duration": 386,
    "start_time": "2024-03-19T21:19:19.644Z"
   },
   {
    "duration": 67,
    "start_time": "2024-03-19T21:22:34.419Z"
   },
   {
    "duration": 73,
    "start_time": "2024-03-19T21:22:45.360Z"
   },
   {
    "duration": 67,
    "start_time": "2024-03-19T21:23:42.369Z"
   },
   {
    "duration": 542,
    "start_time": "2024-03-19T21:23:55.789Z"
   },
   {
    "duration": 376,
    "start_time": "2024-03-19T21:24:16.965Z"
   },
   {
    "duration": 397,
    "start_time": "2024-03-19T21:24:36.087Z"
   },
   {
    "duration": 527,
    "start_time": "2024-03-19T21:24:48.789Z"
   },
   {
    "duration": 414,
    "start_time": "2024-03-19T21:24:57.893Z"
   },
   {
    "duration": 383,
    "start_time": "2024-03-19T21:25:17.720Z"
   },
   {
    "duration": 381,
    "start_time": "2024-03-19T21:25:41.989Z"
   },
   {
    "duration": 517,
    "start_time": "2024-03-19T21:26:39.512Z"
   },
   {
    "duration": 251,
    "start_time": "2024-03-19T21:26:57.482Z"
   },
   {
    "duration": 238,
    "start_time": "2024-03-19T21:27:49.747Z"
   },
   {
    "duration": 265,
    "start_time": "2024-03-19T21:28:02.408Z"
   },
   {
    "duration": 282,
    "start_time": "2024-03-19T21:28:25.304Z"
   },
   {
    "duration": 8,
    "start_time": "2024-03-19T21:32:40.622Z"
   },
   {
    "duration": 10,
    "start_time": "2024-03-19T21:32:55.183Z"
   },
   {
    "duration": 9,
    "start_time": "2024-03-19T21:33:28.610Z"
   },
   {
    "duration": 8,
    "start_time": "2024-03-19T21:33:45.281Z"
   },
   {
    "duration": 215,
    "start_time": "2024-03-19T21:39:25.817Z"
   },
   {
    "duration": 45,
    "start_time": "2024-03-19T21:44:15.277Z"
   },
   {
    "duration": 185,
    "start_time": "2024-03-19T21:44:39.544Z"
   },
   {
    "duration": 44,
    "start_time": "2024-03-19T21:45:06.426Z"
   },
   {
    "duration": 49,
    "start_time": "2024-03-19T21:45:13.119Z"
   },
   {
    "duration": 47,
    "start_time": "2024-03-25T14:12:59.369Z"
   },
   {
    "duration": 7,
    "start_time": "2024-03-25T14:13:31.487Z"
   },
   {
    "duration": 7,
    "start_time": "2024-03-25T14:13:44.190Z"
   },
   {
    "duration": 6,
    "start_time": "2024-03-25T14:13:46.227Z"
   },
   {
    "duration": 1377,
    "start_time": "2024-03-25T14:14:54.617Z"
   },
   {
    "duration": 230,
    "start_time": "2024-03-25T14:14:55.996Z"
   },
   {
    "duration": 33,
    "start_time": "2024-03-25T14:14:56.227Z"
   },
   {
    "duration": 25,
    "start_time": "2024-03-25T14:14:56.262Z"
   },
   {
    "duration": 11,
    "start_time": "2024-03-25T14:14:56.290Z"
   },
   {
    "duration": 15,
    "start_time": "2024-03-25T14:14:56.303Z"
   },
   {
    "duration": 14,
    "start_time": "2024-03-25T14:14:56.320Z"
   },
   {
    "duration": 21,
    "start_time": "2024-03-25T14:14:56.359Z"
   },
   {
    "duration": 23,
    "start_time": "2024-03-25T14:14:56.382Z"
   },
   {
    "duration": 199,
    "start_time": "2024-03-25T14:14:56.406Z"
   },
   {
    "duration": 157,
    "start_time": "2024-03-25T14:14:56.607Z"
   },
   {
    "duration": 320,
    "start_time": "2024-03-25T14:14:56.765Z"
   },
   {
    "duration": 8,
    "start_time": "2024-03-25T14:14:57.086Z"
   },
   {
    "duration": 296,
    "start_time": "2024-03-25T14:14:57.097Z"
   },
   {
    "duration": 8,
    "start_time": "2024-03-25T14:14:57.395Z"
   },
   {
    "duration": 250,
    "start_time": "2024-03-25T14:14:57.404Z"
   },
   {
    "duration": 19,
    "start_time": "2024-03-25T14:14:57.658Z"
   },
   {
    "duration": 19,
    "start_time": "2024-03-25T14:14:57.678Z"
   },
   {
    "duration": 13,
    "start_time": "2024-03-25T14:14:57.699Z"
   },
   {
    "duration": 17,
    "start_time": "2024-03-25T14:14:57.714Z"
   },
   {
    "duration": 15,
    "start_time": "2024-03-25T14:14:57.759Z"
   },
   {
    "duration": 483,
    "start_time": "2024-03-25T14:14:57.776Z"
   },
   {
    "duration": 8,
    "start_time": "2024-03-25T14:14:58.261Z"
   },
   {
    "duration": 9,
    "start_time": "2024-03-25T14:14:58.270Z"
   },
   {
    "duration": 315,
    "start_time": "2024-03-25T14:14:58.280Z"
   },
   {
    "duration": 8,
    "start_time": "2024-03-25T14:14:58.597Z"
   },
   {
    "duration": 10,
    "start_time": "2024-03-25T14:14:58.606Z"
   },
   {
    "duration": 64,
    "start_time": "2024-03-25T14:14:58.617Z"
   },
   {
    "duration": 220,
    "start_time": "2024-03-25T14:15:23.491Z"
   },
   {
    "duration": 1194,
    "start_time": "2024-03-25T14:15:28.669Z"
   },
   {
    "duration": 88,
    "start_time": "2024-03-25T14:15:29.865Z"
   },
   {
    "duration": 30,
    "start_time": "2024-03-25T14:15:29.955Z"
   },
   {
    "duration": 17,
    "start_time": "2024-03-25T14:15:29.986Z"
   },
   {
    "duration": 43,
    "start_time": "2024-03-25T14:15:30.005Z"
   },
   {
    "duration": 53,
    "start_time": "2024-03-25T14:15:30.049Z"
   },
   {
    "duration": 64,
    "start_time": "2024-03-25T14:15:30.103Z"
   },
   {
    "duration": 168,
    "start_time": "2024-03-25T14:15:30.168Z"
   },
   {
    "duration": 99,
    "start_time": "2024-03-25T14:15:30.338Z"
   },
   {
    "duration": 254,
    "start_time": "2024-03-25T14:15:30.438Z"
   },
   {
    "duration": 242,
    "start_time": "2024-03-25T14:15:30.694Z"
   },
   {
    "duration": 0,
    "start_time": "2024-03-25T14:15:30.938Z"
   },
   {
    "duration": 0,
    "start_time": "2024-03-25T14:15:30.940Z"
   },
   {
    "duration": 0,
    "start_time": "2024-03-25T14:15:30.941Z"
   },
   {
    "duration": 0,
    "start_time": "2024-03-25T14:15:30.942Z"
   },
   {
    "duration": 0,
    "start_time": "2024-03-25T14:15:30.943Z"
   },
   {
    "duration": 0,
    "start_time": "2024-03-25T14:15:30.944Z"
   },
   {
    "duration": 0,
    "start_time": "2024-03-25T14:15:30.945Z"
   },
   {
    "duration": 1,
    "start_time": "2024-03-25T14:15:30.958Z"
   },
   {
    "duration": 0,
    "start_time": "2024-03-25T14:15:30.960Z"
   },
   {
    "duration": 0,
    "start_time": "2024-03-25T14:15:30.961Z"
   },
   {
    "duration": 0,
    "start_time": "2024-03-25T14:15:30.962Z"
   },
   {
    "duration": 0,
    "start_time": "2024-03-25T14:15:30.963Z"
   },
   {
    "duration": 0,
    "start_time": "2024-03-25T14:15:30.964Z"
   },
   {
    "duration": 0,
    "start_time": "2024-03-25T14:15:30.965Z"
   },
   {
    "duration": 0,
    "start_time": "2024-03-25T14:15:30.966Z"
   },
   {
    "duration": 0,
    "start_time": "2024-03-25T14:15:30.967Z"
   },
   {
    "duration": 0,
    "start_time": "2024-03-25T14:15:30.968Z"
   },
   {
    "duration": 156,
    "start_time": "2024-03-25T14:16:01.929Z"
   },
   {
    "duration": 15,
    "start_time": "2024-03-25T14:17:21.624Z"
   },
   {
    "duration": 1188,
    "start_time": "2024-03-25T14:17:27.267Z"
   },
   {
    "duration": 85,
    "start_time": "2024-03-25T14:17:28.457Z"
   },
   {
    "duration": 29,
    "start_time": "2024-03-25T14:17:28.546Z"
   },
   {
    "duration": 15,
    "start_time": "2024-03-25T14:17:28.578Z"
   },
   {
    "duration": 10,
    "start_time": "2024-03-25T14:17:28.595Z"
   },
   {
    "duration": 15,
    "start_time": "2024-03-25T14:17:28.607Z"
   },
   {
    "duration": 39,
    "start_time": "2024-03-25T14:17:28.624Z"
   },
   {
    "duration": 12,
    "start_time": "2024-03-25T14:17:28.665Z"
   },
   {
    "duration": 20,
    "start_time": "2024-03-25T14:17:28.679Z"
   },
   {
    "duration": 197,
    "start_time": "2024-03-25T14:17:28.701Z"
   },
   {
    "duration": 123,
    "start_time": "2024-03-25T14:17:28.900Z"
   },
   {
    "duration": 0,
    "start_time": "2024-03-25T14:17:29.026Z"
   },
   {
    "duration": 0,
    "start_time": "2024-03-25T14:17:29.027Z"
   },
   {
    "duration": 0,
    "start_time": "2024-03-25T14:17:29.029Z"
   },
   {
    "duration": 0,
    "start_time": "2024-03-25T14:17:29.030Z"
   },
   {
    "duration": 0,
    "start_time": "2024-03-25T14:17:29.031Z"
   },
   {
    "duration": 0,
    "start_time": "2024-03-25T14:17:29.033Z"
   },
   {
    "duration": 0,
    "start_time": "2024-03-25T14:17:29.035Z"
   },
   {
    "duration": 0,
    "start_time": "2024-03-25T14:17:29.036Z"
   },
   {
    "duration": 0,
    "start_time": "2024-03-25T14:17:29.037Z"
   },
   {
    "duration": 0,
    "start_time": "2024-03-25T14:17:29.058Z"
   },
   {
    "duration": 0,
    "start_time": "2024-03-25T14:17:29.059Z"
   },
   {
    "duration": 0,
    "start_time": "2024-03-25T14:17:29.061Z"
   },
   {
    "duration": 0,
    "start_time": "2024-03-25T14:17:29.062Z"
   },
   {
    "duration": 0,
    "start_time": "2024-03-25T14:17:29.063Z"
   },
   {
    "duration": 0,
    "start_time": "2024-03-25T14:17:29.064Z"
   },
   {
    "duration": 0,
    "start_time": "2024-03-25T14:17:29.066Z"
   },
   {
    "duration": 0,
    "start_time": "2024-03-25T14:17:29.067Z"
   },
   {
    "duration": 146,
    "start_time": "2024-03-25T14:17:40.852Z"
   },
   {
    "duration": 213,
    "start_time": "2024-03-25T14:18:18.848Z"
   },
   {
    "duration": 200,
    "start_time": "2024-03-25T14:18:28.170Z"
   },
   {
    "duration": 191,
    "start_time": "2024-03-25T14:18:33.069Z"
   },
   {
    "duration": 1181,
    "start_time": "2024-03-25T14:19:27.960Z"
   },
   {
    "duration": 89,
    "start_time": "2024-03-25T14:19:29.144Z"
   },
   {
    "duration": 29,
    "start_time": "2024-03-25T14:19:29.234Z"
   },
   {
    "duration": 15,
    "start_time": "2024-03-25T14:19:29.265Z"
   },
   {
    "duration": 10,
    "start_time": "2024-03-25T14:19:29.282Z"
   },
   {
    "duration": 10,
    "start_time": "2024-03-25T14:19:29.294Z"
   },
   {
    "duration": 7,
    "start_time": "2024-03-25T14:19:29.306Z"
   },
   {
    "duration": 46,
    "start_time": "2024-03-25T14:19:29.315Z"
   },
   {
    "duration": 5,
    "start_time": "2024-03-25T14:19:29.363Z"
   },
   {
    "duration": 196,
    "start_time": "2024-03-25T14:19:29.370Z"
   },
   {
    "duration": 205,
    "start_time": "2024-03-25T14:19:29.568Z"
   },
   {
    "duration": 339,
    "start_time": "2024-03-25T14:19:29.775Z"
   },
   {
    "duration": 9,
    "start_time": "2024-03-25T14:19:30.116Z"
   },
   {
    "duration": 319,
    "start_time": "2024-03-25T14:19:30.128Z"
   },
   {
    "duration": 12,
    "start_time": "2024-03-25T14:19:30.449Z"
   },
   {
    "duration": 288,
    "start_time": "2024-03-25T14:19:30.463Z"
   },
   {
    "duration": 22,
    "start_time": "2024-03-25T14:19:30.753Z"
   },
   {
    "duration": 74,
    "start_time": "2024-03-25T14:19:30.776Z"
   },
   {
    "duration": 79,
    "start_time": "2024-03-25T14:19:30.851Z"
   },
   {
    "duration": 84,
    "start_time": "2024-03-25T14:19:30.932Z"
   },
   {
    "duration": 123,
    "start_time": "2024-03-25T14:19:31.018Z"
   },
   {
    "duration": 589,
    "start_time": "2024-03-25T14:19:31.143Z"
   },
   {
    "duration": 8,
    "start_time": "2024-03-25T14:19:31.734Z"
   },
   {
    "duration": 97,
    "start_time": "2024-03-25T14:19:31.744Z"
   },
   {
    "duration": 302,
    "start_time": "2024-03-25T14:19:31.843Z"
   },
   {
    "duration": 17,
    "start_time": "2024-03-25T14:19:32.146Z"
   },
   {
    "duration": 9,
    "start_time": "2024-03-25T14:19:32.165Z"
   },
   {
    "duration": 70,
    "start_time": "2024-03-25T14:19:32.176Z"
   },
   {
    "duration": 61,
    "start_time": "2024-03-25T14:21:52.723Z"
   },
   {
    "duration": 1147,
    "start_time": "2024-03-25T14:22:03.915Z"
   },
   {
    "duration": 87,
    "start_time": "2024-03-25T14:22:05.064Z"
   },
   {
    "duration": 30,
    "start_time": "2024-03-25T14:22:05.155Z"
   },
   {
    "duration": 20,
    "start_time": "2024-03-25T14:22:05.187Z"
   },
   {
    "duration": 19,
    "start_time": "2024-03-25T14:22:05.209Z"
   },
   {
    "duration": 32,
    "start_time": "2024-03-25T14:22:05.229Z"
   },
   {
    "duration": 8,
    "start_time": "2024-03-25T14:22:05.263Z"
   },
   {
    "duration": 20,
    "start_time": "2024-03-25T14:22:05.273Z"
   },
   {
    "duration": 23,
    "start_time": "2024-03-25T14:22:05.295Z"
   },
   {
    "duration": 188,
    "start_time": "2024-03-25T14:22:05.320Z"
   },
   {
    "duration": 199,
    "start_time": "2024-03-25T14:22:05.509Z"
   },
   {
    "duration": 302,
    "start_time": "2024-03-25T14:22:05.710Z"
   },
   {
    "duration": 8,
    "start_time": "2024-03-25T14:22:06.014Z"
   },
   {
    "duration": 50,
    "start_time": "2024-03-25T14:22:06.024Z"
   },
   {
    "duration": 0,
    "start_time": "2024-03-25T14:22:06.075Z"
   },
   {
    "duration": 1,
    "start_time": "2024-03-25T14:22:06.076Z"
   },
   {
    "duration": 0,
    "start_time": "2024-03-25T14:22:06.077Z"
   },
   {
    "duration": 0,
    "start_time": "2024-03-25T14:22:06.079Z"
   },
   {
    "duration": 0,
    "start_time": "2024-03-25T14:22:06.080Z"
   },
   {
    "duration": 0,
    "start_time": "2024-03-25T14:22:06.081Z"
   },
   {
    "duration": 0,
    "start_time": "2024-03-25T14:22:06.082Z"
   },
   {
    "duration": 0,
    "start_time": "2024-03-25T14:22:06.083Z"
   },
   {
    "duration": 1,
    "start_time": "2024-03-25T14:22:06.083Z"
   },
   {
    "duration": 0,
    "start_time": "2024-03-25T14:22:06.085Z"
   },
   {
    "duration": 0,
    "start_time": "2024-03-25T14:22:06.086Z"
   },
   {
    "duration": 0,
    "start_time": "2024-03-25T14:22:06.087Z"
   },
   {
    "duration": 0,
    "start_time": "2024-03-25T14:22:06.088Z"
   },
   {
    "duration": 0,
    "start_time": "2024-03-25T14:22:06.089Z"
   },
   {
    "duration": 46,
    "start_time": "2024-03-25T14:22:15.968Z"
   },
   {
    "duration": 296,
    "start_time": "2024-03-25T14:22:43.418Z"
   },
   {
    "duration": 8,
    "start_time": "2024-03-25T14:22:43.932Z"
   },
   {
    "duration": 1197,
    "start_time": "2024-03-25T14:23:14.473Z"
   },
   {
    "duration": 86,
    "start_time": "2024-03-25T14:23:15.672Z"
   },
   {
    "duration": 30,
    "start_time": "2024-03-25T14:23:15.759Z"
   },
   {
    "duration": 22,
    "start_time": "2024-03-25T14:23:15.791Z"
   },
   {
    "duration": 23,
    "start_time": "2024-03-25T14:23:15.815Z"
   },
   {
    "duration": 25,
    "start_time": "2024-03-25T14:23:15.840Z"
   },
   {
    "duration": 11,
    "start_time": "2024-03-25T14:23:15.867Z"
   },
   {
    "duration": 18,
    "start_time": "2024-03-25T14:23:15.879Z"
   },
   {
    "duration": 16,
    "start_time": "2024-03-25T14:23:15.899Z"
   },
   {
    "duration": 205,
    "start_time": "2024-03-25T14:23:15.917Z"
   },
   {
    "duration": 199,
    "start_time": "2024-03-25T14:23:16.123Z"
   },
   {
    "duration": 286,
    "start_time": "2024-03-25T14:23:16.323Z"
   },
   {
    "duration": 9,
    "start_time": "2024-03-25T14:23:16.610Z"
   },
   {
    "duration": 318,
    "start_time": "2024-03-25T14:23:16.621Z"
   },
   {
    "duration": 17,
    "start_time": "2024-03-25T14:23:16.941Z"
   },
   {
    "duration": 251,
    "start_time": "2024-03-25T14:23:16.960Z"
   },
   {
    "duration": 24,
    "start_time": "2024-03-25T14:23:17.212Z"
   },
   {
    "duration": 38,
    "start_time": "2024-03-25T14:23:17.237Z"
   },
   {
    "duration": 54,
    "start_time": "2024-03-25T14:23:17.277Z"
   },
   {
    "duration": 16,
    "start_time": "2024-03-25T14:23:17.332Z"
   },
   {
    "duration": 25,
    "start_time": "2024-03-25T14:23:17.350Z"
   },
   {
    "duration": 741,
    "start_time": "2024-03-25T14:23:17.377Z"
   },
   {
    "duration": 8,
    "start_time": "2024-03-25T14:23:18.120Z"
   },
   {
    "duration": 8,
    "start_time": "2024-03-25T14:23:18.130Z"
   },
   {
    "duration": 305,
    "start_time": "2024-03-25T14:23:18.139Z"
   },
   {
    "duration": 17,
    "start_time": "2024-03-25T14:23:18.446Z"
   },
   {
    "duration": 10,
    "start_time": "2024-03-25T14:23:18.465Z"
   },
   {
    "duration": 54,
    "start_time": "2024-03-25T14:23:18.476Z"
   },
   {
    "duration": 1195,
    "start_time": "2024-03-25T14:24:02.964Z"
   },
   {
    "duration": 84,
    "start_time": "2024-03-25T14:24:04.161Z"
   },
   {
    "duration": 28,
    "start_time": "2024-03-25T14:24:04.247Z"
   },
   {
    "duration": 15,
    "start_time": "2024-03-25T14:24:04.276Z"
   },
   {
    "duration": 22,
    "start_time": "2024-03-25T14:24:04.293Z"
   },
   {
    "duration": 11,
    "start_time": "2024-03-25T14:24:04.317Z"
   },
   {
    "duration": 29,
    "start_time": "2024-03-25T14:24:04.329Z"
   },
   {
    "duration": 11,
    "start_time": "2024-03-25T14:24:04.360Z"
   },
   {
    "duration": 41,
    "start_time": "2024-03-25T14:24:04.373Z"
   },
   {
    "duration": 206,
    "start_time": "2024-03-25T14:24:04.416Z"
   },
   {
    "duration": 232,
    "start_time": "2024-03-25T14:24:04.624Z"
   },
   {
    "duration": 309,
    "start_time": "2024-03-25T14:24:04.859Z"
   },
   {
    "duration": 10,
    "start_time": "2024-03-25T14:24:05.170Z"
   },
   {
    "duration": 318,
    "start_time": "2024-03-25T14:24:05.184Z"
   },
   {
    "duration": 8,
    "start_time": "2024-03-25T14:24:05.504Z"
   },
   {
    "duration": 259,
    "start_time": "2024-03-25T14:24:05.514Z"
   },
   {
    "duration": 17,
    "start_time": "2024-03-25T14:24:05.775Z"
   },
   {
    "duration": 33,
    "start_time": "2024-03-25T14:24:05.793Z"
   },
   {
    "duration": 29,
    "start_time": "2024-03-25T14:24:05.828Z"
   },
   {
    "duration": 22,
    "start_time": "2024-03-25T14:24:05.859Z"
   },
   {
    "duration": 30,
    "start_time": "2024-03-25T14:24:05.882Z"
   },
   {
    "duration": 458,
    "start_time": "2024-03-25T14:24:05.914Z"
   },
   {
    "duration": 9,
    "start_time": "2024-03-25T14:24:06.373Z"
   },
   {
    "duration": 22,
    "start_time": "2024-03-25T14:24:06.384Z"
   },
   {
    "duration": 284,
    "start_time": "2024-03-25T14:24:06.408Z"
   },
   {
    "duration": 9,
    "start_time": "2024-03-25T14:24:06.693Z"
   },
   {
    "duration": 9,
    "start_time": "2024-03-25T14:24:06.703Z"
   },
   {
    "duration": 70,
    "start_time": "2024-03-25T14:24:06.713Z"
   },
   {
    "duration": 158,
    "start_time": "2024-03-25T14:28:18.910Z"
   },
   {
    "duration": 154,
    "start_time": "2024-03-25T14:28:37.566Z"
   },
   {
    "duration": 123,
    "start_time": "2024-03-25T14:33:26.799Z"
   },
   {
    "duration": 25,
    "start_time": "2024-03-25T14:33:35.647Z"
   },
   {
    "duration": 25,
    "start_time": "2024-03-25T14:35:07.835Z"
   },
   {
    "duration": 25,
    "start_time": "2024-03-25T14:35:47.359Z"
   },
   {
    "duration": 25,
    "start_time": "2024-03-25T14:37:21.715Z"
   },
   {
    "duration": 1198,
    "start_time": "2024-03-25T14:37:54.674Z"
   },
   {
    "duration": 88,
    "start_time": "2024-03-25T14:37:55.874Z"
   },
   {
    "duration": 28,
    "start_time": "2024-03-25T14:37:55.964Z"
   },
   {
    "duration": 31,
    "start_time": "2024-03-25T14:37:55.994Z"
   },
   {
    "duration": 20,
    "start_time": "2024-03-25T14:37:56.027Z"
   },
   {
    "duration": 24,
    "start_time": "2024-03-25T14:37:56.049Z"
   },
   {
    "duration": 20,
    "start_time": "2024-03-25T14:37:56.074Z"
   },
   {
    "duration": 37,
    "start_time": "2024-03-25T14:37:56.095Z"
   },
   {
    "duration": 19,
    "start_time": "2024-03-25T14:37:56.134Z"
   },
   {
    "duration": 245,
    "start_time": "2024-03-25T14:37:56.155Z"
   },
   {
    "duration": 177,
    "start_time": "2024-03-25T14:37:56.401Z"
   },
   {
    "duration": 309,
    "start_time": "2024-03-25T14:37:56.580Z"
   },
   {
    "duration": 10,
    "start_time": "2024-03-25T14:37:56.891Z"
   },
   {
    "duration": 334,
    "start_time": "2024-03-25T14:37:56.905Z"
   },
   {
    "duration": 19,
    "start_time": "2024-03-25T14:37:57.240Z"
   },
   {
    "duration": 247,
    "start_time": "2024-03-25T14:37:57.261Z"
   },
   {
    "duration": 19,
    "start_time": "2024-03-25T14:37:57.510Z"
   },
   {
    "duration": 34,
    "start_time": "2024-03-25T14:37:57.531Z"
   },
   {
    "duration": 94,
    "start_time": "2024-03-25T14:37:57.567Z"
   },
   {
    "duration": 53,
    "start_time": "2024-03-25T14:37:57.663Z"
   },
   {
    "duration": 30,
    "start_time": "2024-03-25T14:37:57.717Z"
   },
   {
    "duration": 467,
    "start_time": "2024-03-25T14:37:57.748Z"
   },
   {
    "duration": 8,
    "start_time": "2024-03-25T14:37:58.216Z"
   },
   {
    "duration": 10,
    "start_time": "2024-03-25T14:37:58.226Z"
   },
   {
    "duration": 304,
    "start_time": "2024-03-25T14:37:58.238Z"
   },
   {
    "duration": 17,
    "start_time": "2024-03-25T14:37:58.544Z"
   },
   {
    "duration": 9,
    "start_time": "2024-03-25T14:37:58.562Z"
   },
   {
    "duration": 133,
    "start_time": "2024-03-25T14:37:58.573Z"
   },
   {
    "duration": 26,
    "start_time": "2024-03-25T14:38:05.802Z"
   },
   {
    "duration": 26,
    "start_time": "2024-03-25T14:38:19.780Z"
   },
   {
    "duration": 1093,
    "start_time": "2024-03-25T14:38:27.784Z"
   },
   {
    "duration": 87,
    "start_time": "2024-03-25T14:38:28.879Z"
   },
   {
    "duration": 31,
    "start_time": "2024-03-25T14:38:28.968Z"
   },
   {
    "duration": 16,
    "start_time": "2024-03-25T14:38:29.001Z"
   },
   {
    "duration": 46,
    "start_time": "2024-03-25T14:38:29.019Z"
   },
   {
    "duration": 10,
    "start_time": "2024-03-25T14:38:29.067Z"
   },
   {
    "duration": 13,
    "start_time": "2024-03-25T14:38:29.079Z"
   },
   {
    "duration": 26,
    "start_time": "2024-03-25T14:38:29.094Z"
   },
   {
    "duration": 13,
    "start_time": "2024-03-25T14:38:29.121Z"
   },
   {
    "duration": 192,
    "start_time": "2024-03-25T14:38:29.138Z"
   },
   {
    "duration": 168,
    "start_time": "2024-03-25T14:38:29.332Z"
   },
   {
    "duration": 302,
    "start_time": "2024-03-25T14:38:29.501Z"
   },
   {
    "duration": 9,
    "start_time": "2024-03-25T14:38:29.805Z"
   },
   {
    "duration": 317,
    "start_time": "2024-03-25T14:38:29.815Z"
   },
   {
    "duration": 9,
    "start_time": "2024-03-25T14:38:30.134Z"
   },
   {
    "duration": 258,
    "start_time": "2024-03-25T14:38:30.158Z"
   },
   {
    "duration": 18,
    "start_time": "2024-03-25T14:38:30.418Z"
   },
   {
    "duration": 42,
    "start_time": "2024-03-25T14:38:30.438Z"
   },
   {
    "duration": 44,
    "start_time": "2024-03-25T14:38:30.481Z"
   },
   {
    "duration": 137,
    "start_time": "2024-03-25T14:38:30.527Z"
   },
   {
    "duration": 107,
    "start_time": "2024-03-25T14:38:30.666Z"
   },
   {
    "duration": 526,
    "start_time": "2024-03-25T14:38:30.774Z"
   },
   {
    "duration": 8,
    "start_time": "2024-03-25T14:38:31.302Z"
   },
   {
    "duration": 69,
    "start_time": "2024-03-25T14:38:31.312Z"
   },
   {
    "duration": 330,
    "start_time": "2024-03-25T14:38:31.383Z"
   },
   {
    "duration": 8,
    "start_time": "2024-03-25T14:38:31.714Z"
   },
   {
    "duration": 101,
    "start_time": "2024-03-25T14:38:31.724Z"
   },
   {
    "duration": 147,
    "start_time": "2024-03-25T14:38:31.828Z"
   },
   {
    "duration": 2211,
    "start_time": "2024-03-25T14:38:46.512Z"
   },
   {
    "duration": 81,
    "start_time": "2024-03-25T14:41:47.749Z"
   },
   {
    "duration": 43,
    "start_time": "2024-03-25T14:41:56.644Z"
   },
   {
    "duration": 49,
    "start_time": "2024-03-25T14:42:00.835Z"
   },
   {
    "duration": 47,
    "start_time": "2024-03-25T14:42:51.236Z"
   },
   {
    "duration": 30,
    "start_time": "2024-03-25T14:42:57.742Z"
   },
   {
    "duration": 47,
    "start_time": "2024-03-25T14:43:22.090Z"
   },
   {
    "duration": 42,
    "start_time": "2024-03-25T14:44:58.658Z"
   },
   {
    "duration": 45,
    "start_time": "2024-03-25T14:45:03.375Z"
   },
   {
    "duration": 54,
    "start_time": "2024-03-25T14:49:03.345Z"
   },
   {
    "duration": 61,
    "start_time": "2024-03-25T14:49:22.182Z"
   },
   {
    "duration": 13,
    "start_time": "2024-03-25T14:49:29.304Z"
   },
   {
    "duration": 8,
    "start_time": "2024-03-25T14:49:52.625Z"
   },
   {
    "duration": 7,
    "start_time": "2024-03-25T14:50:36.617Z"
   },
   {
    "duration": 47,
    "start_time": "2024-03-25T14:54:38.706Z"
   },
   {
    "duration": 6,
    "start_time": "2024-03-25T14:54:44.338Z"
   },
   {
    "duration": 57,
    "start_time": "2024-03-25T14:59:07.167Z"
   },
   {
    "duration": 1286,
    "start_time": "2024-03-26T14:51:58.056Z"
   },
   {
    "duration": 212,
    "start_time": "2024-03-26T14:51:59.345Z"
   },
   {
    "duration": 19,
    "start_time": "2024-03-26T14:51:59.558Z"
   },
   {
    "duration": 30,
    "start_time": "2024-03-26T14:51:59.579Z"
   },
   {
    "duration": 18,
    "start_time": "2024-03-26T14:51:59.610Z"
   },
   {
    "duration": 10,
    "start_time": "2024-03-26T14:51:59.629Z"
   },
   {
    "duration": 27,
    "start_time": "2024-03-26T14:51:59.640Z"
   },
   {
    "duration": 7,
    "start_time": "2024-03-26T14:51:59.668Z"
   },
   {
    "duration": 35,
    "start_time": "2024-03-26T14:51:59.676Z"
   },
   {
    "duration": 12,
    "start_time": "2024-03-26T14:51:59.714Z"
   },
   {
    "duration": 213,
    "start_time": "2024-03-26T14:51:59.727Z"
   },
   {
    "duration": 153,
    "start_time": "2024-03-26T14:51:59.941Z"
   },
   {
    "duration": 294,
    "start_time": "2024-03-26T14:52:00.095Z"
   },
   {
    "duration": 8,
    "start_time": "2024-03-26T14:52:00.391Z"
   },
   {
    "duration": 318,
    "start_time": "2024-03-26T14:52:00.401Z"
   },
   {
    "duration": 8,
    "start_time": "2024-03-26T14:52:00.721Z"
   },
   {
    "duration": 360,
    "start_time": "2024-03-26T14:52:00.730Z"
   },
   {
    "duration": 28,
    "start_time": "2024-03-26T14:52:01.091Z"
   },
   {
    "duration": 34,
    "start_time": "2024-03-26T14:52:01.120Z"
   },
   {
    "duration": 54,
    "start_time": "2024-03-26T14:52:01.155Z"
   },
   {
    "duration": 50,
    "start_time": "2024-03-26T14:52:01.211Z"
   },
   {
    "duration": 54,
    "start_time": "2024-03-26T14:52:01.263Z"
   },
   {
    "duration": 455,
    "start_time": "2024-03-26T14:52:01.319Z"
   },
   {
    "duration": 8,
    "start_time": "2024-03-26T14:52:01.776Z"
   },
   {
    "duration": 35,
    "start_time": "2024-03-26T14:52:01.785Z"
   },
   {
    "duration": 312,
    "start_time": "2024-03-26T14:52:01.822Z"
   },
   {
    "duration": 9,
    "start_time": "2024-03-26T14:52:02.136Z"
   },
   {
    "duration": 15,
    "start_time": "2024-03-26T14:52:02.149Z"
   },
   {
    "duration": 69,
    "start_time": "2024-03-26T14:52:02.166Z"
   },
   {
    "duration": 12,
    "start_time": "2024-03-26T14:52:02.237Z"
   },
   {
    "duration": 1119,
    "start_time": "2024-03-26T15:04:06.626Z"
   },
   {
    "duration": 68,
    "start_time": "2024-03-26T15:04:07.747Z"
   },
   {
    "duration": 22,
    "start_time": "2024-03-26T15:04:07.816Z"
   },
   {
    "duration": 26,
    "start_time": "2024-03-26T15:04:07.839Z"
   },
   {
    "duration": 7,
    "start_time": "2024-03-26T15:04:07.867Z"
   },
   {
    "duration": 11,
    "start_time": "2024-03-26T15:04:07.875Z"
   },
   {
    "duration": 11,
    "start_time": "2024-03-26T15:04:07.918Z"
   },
   {
    "duration": 11,
    "start_time": "2024-03-26T15:04:07.930Z"
   },
   {
    "duration": 11,
    "start_time": "2024-03-26T15:04:07.942Z"
   },
   {
    "duration": 11,
    "start_time": "2024-03-26T15:04:07.954Z"
   },
   {
    "duration": 15,
    "start_time": "2024-03-26T15:04:07.966Z"
   },
   {
    "duration": 198,
    "start_time": "2024-03-26T15:04:07.982Z"
   },
   {
    "duration": 165,
    "start_time": "2024-03-26T15:04:08.181Z"
   },
   {
    "duration": 308,
    "start_time": "2024-03-26T15:04:08.348Z"
   },
   {
    "duration": 9,
    "start_time": "2024-03-26T15:04:08.657Z"
   },
   {
    "duration": 282,
    "start_time": "2024-03-26T15:04:08.667Z"
   },
   {
    "duration": 8,
    "start_time": "2024-03-26T15:04:08.951Z"
   },
   {
    "duration": 210,
    "start_time": "2024-03-26T15:04:08.961Z"
   },
   {
    "duration": 17,
    "start_time": "2024-03-26T15:04:09.173Z"
   },
   {
    "duration": 33,
    "start_time": "2024-03-26T15:04:09.192Z"
   },
   {
    "duration": 12,
    "start_time": "2024-03-26T15:04:09.227Z"
   },
   {
    "duration": 15,
    "start_time": "2024-03-26T15:04:09.240Z"
   },
   {
    "duration": 12,
    "start_time": "2024-03-26T15:04:09.256Z"
   },
   {
    "duration": 433,
    "start_time": "2024-03-26T15:04:09.270Z"
   },
   {
    "duration": 14,
    "start_time": "2024-03-26T15:04:09.705Z"
   },
   {
    "duration": 7,
    "start_time": "2024-03-26T15:04:09.721Z"
   },
   {
    "duration": 277,
    "start_time": "2024-03-26T15:04:09.730Z"
   },
   {
    "duration": 11,
    "start_time": "2024-03-26T15:04:10.008Z"
   },
   {
    "duration": 13,
    "start_time": "2024-03-26T15:04:10.020Z"
   },
   {
    "duration": 48,
    "start_time": "2024-03-26T15:04:10.035Z"
   },
   {
    "duration": 6,
    "start_time": "2024-03-26T15:04:10.085Z"
   },
   {
    "duration": 1128,
    "start_time": "2024-03-26T15:06:34.584Z"
   },
   {
    "duration": 67,
    "start_time": "2024-03-26T15:06:35.714Z"
   },
   {
    "duration": 20,
    "start_time": "2024-03-26T15:06:35.783Z"
   },
   {
    "duration": 31,
    "start_time": "2024-03-26T15:06:35.804Z"
   },
   {
    "duration": 8,
    "start_time": "2024-03-26T15:06:35.837Z"
   },
   {
    "duration": 27,
    "start_time": "2024-03-26T15:06:35.846Z"
   },
   {
    "duration": 19,
    "start_time": "2024-03-26T15:06:35.874Z"
   },
   {
    "duration": 10,
    "start_time": "2024-03-26T15:06:35.895Z"
   },
   {
    "duration": 31,
    "start_time": "2024-03-26T15:06:35.906Z"
   },
   {
    "duration": 10,
    "start_time": "2024-03-26T15:06:35.938Z"
   },
   {
    "duration": 11,
    "start_time": "2024-03-26T15:06:35.949Z"
   },
   {
    "duration": 34,
    "start_time": "2024-03-26T15:06:35.962Z"
   },
   {
    "duration": 202,
    "start_time": "2024-03-26T15:06:35.998Z"
   },
   {
    "duration": 162,
    "start_time": "2024-03-26T15:06:36.203Z"
   },
   {
    "duration": 286,
    "start_time": "2024-03-26T15:06:36.367Z"
   },
   {
    "duration": 8,
    "start_time": "2024-03-26T15:06:36.655Z"
   },
   {
    "duration": 293,
    "start_time": "2024-03-26T15:06:36.665Z"
   },
   {
    "duration": 8,
    "start_time": "2024-03-26T15:06:36.960Z"
   },
   {
    "duration": 212,
    "start_time": "2024-03-26T15:06:36.969Z"
   },
   {
    "duration": 17,
    "start_time": "2024-03-26T15:06:37.183Z"
   },
   {
    "duration": 29,
    "start_time": "2024-03-26T15:06:37.202Z"
   },
   {
    "duration": 13,
    "start_time": "2024-03-26T15:06:37.233Z"
   },
   {
    "duration": 15,
    "start_time": "2024-03-26T15:06:37.248Z"
   },
   {
    "duration": 13,
    "start_time": "2024-03-26T15:06:37.265Z"
   },
   {
    "duration": 496,
    "start_time": "2024-03-26T15:06:37.279Z"
   },
   {
    "duration": 7,
    "start_time": "2024-03-26T15:06:37.777Z"
   },
   {
    "duration": 13,
    "start_time": "2024-03-26T15:06:37.785Z"
   },
   {
    "duration": 271,
    "start_time": "2024-03-26T15:06:37.799Z"
   },
   {
    "duration": 7,
    "start_time": "2024-03-26T15:06:38.071Z"
   },
   {
    "duration": 7,
    "start_time": "2024-03-26T15:06:38.080Z"
   },
   {
    "duration": 63,
    "start_time": "2024-03-26T15:06:38.088Z"
   },
   {
    "duration": 5,
    "start_time": "2024-03-26T15:06:38.152Z"
   },
   {
    "duration": 1056,
    "start_time": "2024-03-26T15:08:26.766Z"
   },
   {
    "duration": 69,
    "start_time": "2024-03-26T15:08:27.824Z"
   },
   {
    "duration": 22,
    "start_time": "2024-03-26T15:08:27.897Z"
   },
   {
    "duration": 29,
    "start_time": "2024-03-26T15:08:27.921Z"
   },
   {
    "duration": 6,
    "start_time": "2024-03-26T15:08:27.952Z"
   },
   {
    "duration": 11,
    "start_time": "2024-03-26T15:08:27.959Z"
   },
   {
    "duration": 18,
    "start_time": "2024-03-26T15:08:27.971Z"
   },
   {
    "duration": 11,
    "start_time": "2024-03-26T15:08:28.017Z"
   },
   {
    "duration": 14,
    "start_time": "2024-03-26T15:08:28.029Z"
   },
   {
    "duration": 8,
    "start_time": "2024-03-26T15:08:28.044Z"
   },
   {
    "duration": 19,
    "start_time": "2024-03-26T15:08:28.054Z"
   },
   {
    "duration": 4,
    "start_time": "2024-03-26T15:08:28.074Z"
   },
   {
    "duration": 193,
    "start_time": "2024-03-26T15:08:28.117Z"
   },
   {
    "duration": 156,
    "start_time": "2024-03-26T15:08:28.311Z"
   },
   {
    "duration": 313,
    "start_time": "2024-03-26T15:08:28.468Z"
   },
   {
    "duration": 8,
    "start_time": "2024-03-26T15:08:28.783Z"
   },
   {
    "duration": 281,
    "start_time": "2024-03-26T15:08:28.792Z"
   },
   {
    "duration": 8,
    "start_time": "2024-03-26T15:08:29.074Z"
   },
   {
    "duration": 236,
    "start_time": "2024-03-26T15:08:29.084Z"
   },
   {
    "duration": 17,
    "start_time": "2024-03-26T15:08:29.322Z"
   },
   {
    "duration": 17,
    "start_time": "2024-03-26T15:08:29.340Z"
   },
   {
    "duration": 14,
    "start_time": "2024-03-26T15:08:29.359Z"
   },
   {
    "duration": 45,
    "start_time": "2024-03-26T15:08:29.375Z"
   },
   {
    "duration": 14,
    "start_time": "2024-03-26T15:08:29.421Z"
   },
   {
    "duration": 445,
    "start_time": "2024-03-26T15:08:29.437Z"
   },
   {
    "duration": 7,
    "start_time": "2024-03-26T15:08:29.884Z"
   },
   {
    "duration": 24,
    "start_time": "2024-03-26T15:08:29.892Z"
   },
   {
    "duration": 263,
    "start_time": "2024-03-26T15:08:29.917Z"
   },
   {
    "duration": 8,
    "start_time": "2024-03-26T15:08:30.181Z"
   },
   {
    "duration": 53,
    "start_time": "2024-03-26T15:08:30.191Z"
   },
   {
    "duration": 84,
    "start_time": "2024-03-26T15:08:30.245Z"
   },
   {
    "duration": 7,
    "start_time": "2024-03-26T15:08:30.330Z"
   },
   {
    "duration": 67,
    "start_time": "2024-03-26T15:16:18.370Z"
   },
   {
    "duration": 63,
    "start_time": "2024-03-26T15:33:54.066Z"
   },
   {
    "duration": 1087,
    "start_time": "2024-03-26T15:39:14.227Z"
   },
   {
    "duration": 69,
    "start_time": "2024-03-26T15:39:15.318Z"
   },
   {
    "duration": 19,
    "start_time": "2024-03-26T15:39:15.388Z"
   },
   {
    "duration": 32,
    "start_time": "2024-03-26T15:39:15.408Z"
   },
   {
    "duration": 7,
    "start_time": "2024-03-26T15:39:15.442Z"
   },
   {
    "duration": 19,
    "start_time": "2024-03-26T15:39:15.450Z"
   },
   {
    "duration": 19,
    "start_time": "2024-03-26T15:39:15.471Z"
   },
   {
    "duration": 29,
    "start_time": "2024-03-26T15:39:15.491Z"
   },
   {
    "duration": 25,
    "start_time": "2024-03-26T15:39:15.521Z"
   },
   {
    "duration": 27,
    "start_time": "2024-03-26T15:39:15.548Z"
   },
   {
    "duration": 40,
    "start_time": "2024-03-26T15:39:15.577Z"
   },
   {
    "duration": 25,
    "start_time": "2024-03-26T15:39:15.619Z"
   },
   {
    "duration": 219,
    "start_time": "2024-03-26T15:39:15.645Z"
   },
   {
    "duration": 161,
    "start_time": "2024-03-26T15:39:15.867Z"
   },
   {
    "duration": 291,
    "start_time": "2024-03-26T15:39:16.029Z"
   },
   {
    "duration": 8,
    "start_time": "2024-03-26T15:39:16.322Z"
   },
   {
    "duration": 279,
    "start_time": "2024-03-26T15:39:16.332Z"
   },
   {
    "duration": 11,
    "start_time": "2024-03-26T15:39:16.612Z"
   },
   {
    "duration": 201,
    "start_time": "2024-03-26T15:39:16.625Z"
   },
   {
    "duration": 17,
    "start_time": "2024-03-26T15:39:16.827Z"
   },
   {
    "duration": 17,
    "start_time": "2024-03-26T15:39:16.845Z"
   },
   {
    "duration": 12,
    "start_time": "2024-03-26T15:39:16.864Z"
   },
   {
    "duration": 42,
    "start_time": "2024-03-26T15:39:16.877Z"
   },
   {
    "duration": 13,
    "start_time": "2024-03-26T15:39:16.920Z"
   },
   {
    "duration": 438,
    "start_time": "2024-03-26T15:39:16.935Z"
   },
   {
    "duration": 8,
    "start_time": "2024-03-26T15:39:17.374Z"
   },
   {
    "duration": 7,
    "start_time": "2024-03-26T15:39:17.384Z"
   },
   {
    "duration": 315,
    "start_time": "2024-03-26T15:39:17.392Z"
   },
   {
    "duration": 11,
    "start_time": "2024-03-26T15:39:17.709Z"
   },
   {
    "duration": 7,
    "start_time": "2024-03-26T15:39:17.721Z"
   },
   {
    "duration": 49,
    "start_time": "2024-03-26T15:39:17.730Z"
   },
   {
    "duration": 7,
    "start_time": "2024-03-26T15:39:17.780Z"
   },
   {
    "duration": 1224,
    "start_time": "2024-03-26T15:45:59.694Z"
   },
   {
    "duration": 69,
    "start_time": "2024-03-26T15:46:00.920Z"
   },
   {
    "duration": 177,
    "start_time": "2024-03-26T15:46:00.990Z"
   },
   {
    "duration": 221,
    "start_time": "2024-03-26T15:46:01.169Z"
   },
   {
    "duration": 28,
    "start_time": "2024-03-26T15:46:01.392Z"
   },
   {
    "duration": 61,
    "start_time": "2024-03-26T15:46:01.421Z"
   },
   {
    "duration": 55,
    "start_time": "2024-03-26T15:46:01.483Z"
   },
   {
    "duration": 25,
    "start_time": "2024-03-26T15:46:01.540Z"
   },
   {
    "duration": 58,
    "start_time": "2024-03-26T15:46:01.567Z"
   },
   {
    "duration": 30,
    "start_time": "2024-03-26T15:46:01.627Z"
   },
   {
    "duration": 64,
    "start_time": "2024-03-26T15:46:01.659Z"
   },
   {
    "duration": 10,
    "start_time": "2024-03-26T15:46:01.725Z"
   },
   {
    "duration": 228,
    "start_time": "2024-03-26T15:46:01.736Z"
   },
   {
    "duration": 167,
    "start_time": "2024-03-26T15:46:01.966Z"
   },
   {
    "duration": 289,
    "start_time": "2024-03-26T15:46:02.135Z"
   },
   {
    "duration": 8,
    "start_time": "2024-03-26T15:46:02.426Z"
   },
   {
    "duration": 285,
    "start_time": "2024-03-26T15:46:02.435Z"
   },
   {
    "duration": 8,
    "start_time": "2024-03-26T15:46:02.722Z"
   },
   {
    "duration": 236,
    "start_time": "2024-03-26T15:46:02.731Z"
   },
   {
    "duration": 16,
    "start_time": "2024-03-26T15:46:02.969Z"
   },
   {
    "duration": 17,
    "start_time": "2024-03-26T15:46:02.987Z"
   },
   {
    "duration": 15,
    "start_time": "2024-03-26T15:46:03.017Z"
   },
   {
    "duration": 17,
    "start_time": "2024-03-26T15:46:03.034Z"
   },
   {
    "duration": 15,
    "start_time": "2024-03-26T15:46:03.053Z"
   },
   {
    "duration": 476,
    "start_time": "2024-03-26T15:46:03.070Z"
   },
   {
    "duration": 10,
    "start_time": "2024-03-26T15:46:03.548Z"
   },
   {
    "duration": 15,
    "start_time": "2024-03-26T15:46:03.560Z"
   },
   {
    "duration": 320,
    "start_time": "2024-03-26T15:46:03.578Z"
   },
   {
    "duration": 18,
    "start_time": "2024-03-26T15:46:03.900Z"
   },
   {
    "duration": 19,
    "start_time": "2024-03-26T15:46:03.920Z"
   },
   {
    "duration": 77,
    "start_time": "2024-03-26T15:46:03.940Z"
   },
   {
    "duration": 9,
    "start_time": "2024-03-26T15:46:04.019Z"
   },
   {
    "duration": 42,
    "start_time": "2024-03-26T15:49:45.930Z"
   },
   {
    "duration": 1060,
    "start_time": "2024-03-26T15:50:26.161Z"
   },
   {
    "duration": 70,
    "start_time": "2024-03-26T15:50:27.223Z"
   },
   {
    "duration": 19,
    "start_time": "2024-03-26T15:50:27.296Z"
   },
   {
    "duration": 26,
    "start_time": "2024-03-26T15:50:27.317Z"
   },
   {
    "duration": 6,
    "start_time": "2024-03-26T15:50:27.345Z"
   },
   {
    "duration": 11,
    "start_time": "2024-03-26T15:50:27.353Z"
   },
   {
    "duration": 9,
    "start_time": "2024-03-26T15:50:27.365Z"
   },
   {
    "duration": 16,
    "start_time": "2024-03-26T15:50:27.375Z"
   },
   {
    "duration": 9,
    "start_time": "2024-03-26T15:50:27.418Z"
   },
   {
    "duration": 7,
    "start_time": "2024-03-26T15:50:27.428Z"
   },
   {
    "duration": 18,
    "start_time": "2024-03-26T15:50:27.436Z"
   },
   {
    "duration": 4,
    "start_time": "2024-03-26T15:50:27.455Z"
   },
   {
    "duration": 223,
    "start_time": "2024-03-26T15:50:27.462Z"
   },
   {
    "duration": 157,
    "start_time": "2024-03-26T15:50:27.686Z"
   },
   {
    "duration": 280,
    "start_time": "2024-03-26T15:50:27.844Z"
   },
   {
    "duration": 8,
    "start_time": "2024-03-26T15:50:28.126Z"
   },
   {
    "duration": 284,
    "start_time": "2024-03-26T15:50:28.135Z"
   },
   {
    "duration": 8,
    "start_time": "2024-03-26T15:50:28.421Z"
   },
   {
    "duration": 242,
    "start_time": "2024-03-26T15:50:28.430Z"
   },
   {
    "duration": 17,
    "start_time": "2024-03-26T15:50:28.674Z"
   },
   {
    "duration": 33,
    "start_time": "2024-03-26T15:50:28.693Z"
   },
   {
    "duration": 13,
    "start_time": "2024-03-26T15:50:28.728Z"
   },
   {
    "duration": 15,
    "start_time": "2024-03-26T15:50:28.742Z"
   },
   {
    "duration": 13,
    "start_time": "2024-03-26T15:50:28.758Z"
   },
   {
    "duration": 433,
    "start_time": "2024-03-26T15:50:28.773Z"
   },
   {
    "duration": 16,
    "start_time": "2024-03-26T15:50:29.207Z"
   },
   {
    "duration": 9,
    "start_time": "2024-03-26T15:50:29.224Z"
   },
   {
    "duration": 265,
    "start_time": "2024-03-26T15:50:29.235Z"
   },
   {
    "duration": 8,
    "start_time": "2024-03-26T15:50:29.502Z"
   },
   {
    "duration": 8,
    "start_time": "2024-03-26T15:50:29.517Z"
   },
   {
    "duration": 49,
    "start_time": "2024-03-26T15:50:29.526Z"
   },
   {
    "duration": 7,
    "start_time": "2024-03-26T15:50:29.576Z"
   },
   {
    "duration": 1133,
    "start_time": "2024-03-26T15:51:13.882Z"
   },
   {
    "duration": 70,
    "start_time": "2024-03-26T15:51:15.016Z"
   },
   {
    "duration": 21,
    "start_time": "2024-03-26T15:51:15.087Z"
   },
   {
    "duration": 29,
    "start_time": "2024-03-26T15:51:15.110Z"
   },
   {
    "duration": 21,
    "start_time": "2024-03-26T15:51:15.141Z"
   },
   {
    "duration": 33,
    "start_time": "2024-03-26T15:51:15.163Z"
   },
   {
    "duration": 31,
    "start_time": "2024-03-26T15:51:15.198Z"
   },
   {
    "duration": 25,
    "start_time": "2024-03-26T15:51:15.231Z"
   },
   {
    "duration": 28,
    "start_time": "2024-03-26T15:51:15.258Z"
   },
   {
    "duration": 44,
    "start_time": "2024-03-26T15:51:15.287Z"
   },
   {
    "duration": 49,
    "start_time": "2024-03-26T15:51:15.333Z"
   },
   {
    "duration": 7,
    "start_time": "2024-03-26T15:51:15.383Z"
   },
   {
    "duration": 210,
    "start_time": "2024-03-26T15:51:15.391Z"
   },
   {
    "duration": 161,
    "start_time": "2024-03-26T15:51:15.605Z"
   },
   {
    "duration": 288,
    "start_time": "2024-03-26T15:51:15.767Z"
   },
   {
    "duration": 8,
    "start_time": "2024-03-26T15:51:16.056Z"
   },
   {
    "duration": 306,
    "start_time": "2024-03-26T15:51:16.065Z"
   },
   {
    "duration": 7,
    "start_time": "2024-03-26T15:51:16.373Z"
   },
   {
    "duration": 201,
    "start_time": "2024-03-26T15:51:16.382Z"
   },
   {
    "duration": 16,
    "start_time": "2024-03-26T15:51:16.585Z"
   },
   {
    "duration": 30,
    "start_time": "2024-03-26T15:51:16.603Z"
   },
   {
    "duration": 12,
    "start_time": "2024-03-26T15:51:16.634Z"
   },
   {
    "duration": 15,
    "start_time": "2024-03-26T15:51:16.648Z"
   },
   {
    "duration": 13,
    "start_time": "2024-03-26T15:51:16.664Z"
   },
   {
    "duration": 443,
    "start_time": "2024-03-26T15:51:16.679Z"
   },
   {
    "duration": 8,
    "start_time": "2024-03-26T15:51:17.123Z"
   },
   {
    "duration": 8,
    "start_time": "2024-03-26T15:51:17.133Z"
   },
   {
    "duration": 281,
    "start_time": "2024-03-26T15:51:17.142Z"
   },
   {
    "duration": 8,
    "start_time": "2024-03-26T15:51:17.425Z"
   },
   {
    "duration": 9,
    "start_time": "2024-03-26T15:51:17.434Z"
   },
   {
    "duration": 81,
    "start_time": "2024-03-26T15:51:17.444Z"
   },
   {
    "duration": 7,
    "start_time": "2024-03-26T15:51:17.527Z"
   },
   {
    "duration": 1040,
    "start_time": "2024-03-26T15:51:31.669Z"
   },
   {
    "duration": 69,
    "start_time": "2024-03-26T15:51:32.711Z"
   },
   {
    "duration": 19,
    "start_time": "2024-03-26T15:51:32.782Z"
   },
   {
    "duration": 26,
    "start_time": "2024-03-26T15:51:32.803Z"
   },
   {
    "duration": 6,
    "start_time": "2024-03-26T15:51:32.832Z"
   },
   {
    "duration": 30,
    "start_time": "2024-03-26T15:51:32.839Z"
   },
   {
    "duration": 10,
    "start_time": "2024-03-26T15:51:32.871Z"
   },
   {
    "duration": 14,
    "start_time": "2024-03-26T15:51:32.883Z"
   },
   {
    "duration": 26,
    "start_time": "2024-03-26T15:51:32.899Z"
   },
   {
    "duration": 8,
    "start_time": "2024-03-26T15:51:32.927Z"
   },
   {
    "duration": 26,
    "start_time": "2024-03-26T15:51:32.936Z"
   },
   {
    "duration": 4,
    "start_time": "2024-03-26T15:51:32.963Z"
   },
   {
    "duration": 217,
    "start_time": "2024-03-26T15:51:32.969Z"
   },
   {
    "duration": 160,
    "start_time": "2024-03-26T15:51:33.189Z"
   },
   {
    "duration": 296,
    "start_time": "2024-03-26T15:51:33.351Z"
   },
   {
    "duration": 9,
    "start_time": "2024-03-26T15:51:33.648Z"
   },
   {
    "duration": 292,
    "start_time": "2024-03-26T15:51:33.659Z"
   },
   {
    "duration": 8,
    "start_time": "2024-03-26T15:51:33.953Z"
   },
   {
    "duration": 207,
    "start_time": "2024-03-26T15:51:33.962Z"
   },
   {
    "duration": 16,
    "start_time": "2024-03-26T15:51:34.170Z"
   },
   {
    "duration": 31,
    "start_time": "2024-03-26T15:51:34.188Z"
   },
   {
    "duration": 13,
    "start_time": "2024-03-26T15:51:34.220Z"
   },
   {
    "duration": 14,
    "start_time": "2024-03-26T15:51:34.234Z"
   },
   {
    "duration": 13,
    "start_time": "2024-03-26T15:51:34.250Z"
   },
   {
    "duration": 478,
    "start_time": "2024-03-26T15:51:34.264Z"
   },
   {
    "duration": 8,
    "start_time": "2024-03-26T15:51:34.743Z"
   },
   {
    "duration": 8,
    "start_time": "2024-03-26T15:51:34.752Z"
   },
   {
    "duration": 273,
    "start_time": "2024-03-26T15:51:34.761Z"
   },
   {
    "duration": 8,
    "start_time": "2024-03-26T15:51:35.036Z"
   },
   {
    "duration": 25,
    "start_time": "2024-03-26T15:51:35.045Z"
   },
   {
    "duration": 50,
    "start_time": "2024-03-26T15:51:35.072Z"
   },
   {
    "duration": 6,
    "start_time": "2024-03-26T15:51:35.123Z"
   },
   {
    "duration": 167,
    "start_time": "2024-03-26T15:51:49.139Z"
   },
   {
    "duration": 166,
    "start_time": "2024-03-26T15:52:02.987Z"
   },
   {
    "duration": 171,
    "start_time": "2024-03-26T15:52:45.624Z"
   },
   {
    "duration": 1156,
    "start_time": "2024-03-26T16:01:18.261Z"
   },
   {
    "duration": 75,
    "start_time": "2024-03-26T16:01:19.420Z"
   },
   {
    "duration": 22,
    "start_time": "2024-03-26T16:01:19.496Z"
   },
   {
    "duration": 35,
    "start_time": "2024-03-26T16:01:19.520Z"
   },
   {
    "duration": 7,
    "start_time": "2024-03-26T16:01:19.557Z"
   },
   {
    "duration": 28,
    "start_time": "2024-03-26T16:01:19.565Z"
   },
   {
    "duration": 34,
    "start_time": "2024-03-26T16:01:19.595Z"
   },
   {
    "duration": 16,
    "start_time": "2024-03-26T16:01:19.631Z"
   },
   {
    "duration": 14,
    "start_time": "2024-03-26T16:01:19.648Z"
   },
   {
    "duration": 14,
    "start_time": "2024-03-26T16:01:19.664Z"
   },
   {
    "duration": 53,
    "start_time": "2024-03-26T16:01:19.680Z"
   },
   {
    "duration": 4,
    "start_time": "2024-03-26T16:01:19.735Z"
   },
   {
    "duration": 201,
    "start_time": "2024-03-26T16:01:19.741Z"
   },
   {
    "duration": 155,
    "start_time": "2024-03-26T16:01:19.946Z"
   },
   {
    "duration": 295,
    "start_time": "2024-03-26T16:01:20.103Z"
   },
   {
    "duration": 19,
    "start_time": "2024-03-26T16:01:20.400Z"
   },
   {
    "duration": 279,
    "start_time": "2024-03-26T16:01:20.420Z"
   },
   {
    "duration": 8,
    "start_time": "2024-03-26T16:01:20.701Z"
   },
   {
    "duration": 167,
    "start_time": "2024-03-26T16:01:20.717Z"
   },
   {
    "duration": 46,
    "start_time": "2024-03-26T16:01:20.886Z"
   },
   {
    "duration": 30,
    "start_time": "2024-03-26T16:01:20.934Z"
   },
   {
    "duration": 20,
    "start_time": "2024-03-26T16:01:20.967Z"
   },
   {
    "duration": 49,
    "start_time": "2024-03-26T16:01:20.988Z"
   },
   {
    "duration": 14,
    "start_time": "2024-03-26T16:01:21.039Z"
   },
   {
    "duration": 492,
    "start_time": "2024-03-26T16:01:21.055Z"
   },
   {
    "duration": 8,
    "start_time": "2024-03-26T16:01:21.549Z"
   },
   {
    "duration": 7,
    "start_time": "2024-03-26T16:01:21.559Z"
   },
   {
    "duration": 310,
    "start_time": "2024-03-26T16:01:21.568Z"
   },
   {
    "duration": 7,
    "start_time": "2024-03-26T16:01:21.880Z"
   },
   {
    "duration": 12,
    "start_time": "2024-03-26T16:01:21.888Z"
   },
   {
    "duration": 76,
    "start_time": "2024-03-26T16:01:21.902Z"
   },
   {
    "duration": 7,
    "start_time": "2024-03-26T16:01:21.980Z"
   },
   {
    "duration": 267,
    "start_time": "2024-03-26T16:23:15.624Z"
   },
   {
    "duration": 1110,
    "start_time": "2024-03-26T16:31:42.111Z"
   },
   {
    "duration": 68,
    "start_time": "2024-03-26T16:31:43.223Z"
   },
   {
    "duration": 20,
    "start_time": "2024-03-26T16:31:43.293Z"
   },
   {
    "duration": 27,
    "start_time": "2024-03-26T16:31:43.315Z"
   },
   {
    "duration": 6,
    "start_time": "2024-03-26T16:31:43.344Z"
   },
   {
    "duration": 19,
    "start_time": "2024-03-26T16:31:43.351Z"
   },
   {
    "duration": 10,
    "start_time": "2024-03-26T16:31:43.371Z"
   },
   {
    "duration": 9,
    "start_time": "2024-03-26T16:31:43.382Z"
   },
   {
    "duration": 10,
    "start_time": "2024-03-26T16:31:43.417Z"
   },
   {
    "duration": 7,
    "start_time": "2024-03-26T16:31:43.429Z"
   },
   {
    "duration": 19,
    "start_time": "2024-03-26T16:31:43.437Z"
   },
   {
    "duration": 4,
    "start_time": "2024-03-26T16:31:43.457Z"
   },
   {
    "duration": 230,
    "start_time": "2024-03-26T16:31:43.463Z"
   },
   {
    "duration": 158,
    "start_time": "2024-03-26T16:31:43.696Z"
   },
   {
    "duration": 280,
    "start_time": "2024-03-26T16:31:43.855Z"
   },
   {
    "duration": 9,
    "start_time": "2024-03-26T16:31:44.137Z"
   },
   {
    "duration": 276,
    "start_time": "2024-03-26T16:31:44.148Z"
   },
   {
    "duration": 8,
    "start_time": "2024-03-26T16:31:44.426Z"
   },
   {
    "duration": 176,
    "start_time": "2024-03-26T16:31:44.436Z"
   },
   {
    "duration": 24,
    "start_time": "2024-03-26T16:31:44.617Z"
   },
   {
    "duration": 25,
    "start_time": "2024-03-26T16:31:44.642Z"
   },
   {
    "duration": 12,
    "start_time": "2024-03-26T16:31:44.668Z"
   },
   {
    "duration": 38,
    "start_time": "2024-03-26T16:31:44.682Z"
   },
   {
    "duration": 14,
    "start_time": "2024-03-26T16:31:44.721Z"
   },
   {
    "duration": 345,
    "start_time": "2024-03-26T16:31:44.736Z"
   },
   {
    "duration": 7,
    "start_time": "2024-03-26T16:31:45.083Z"
   },
   {
    "duration": 16,
    "start_time": "2024-03-26T16:31:45.092Z"
   },
   {
    "duration": 275,
    "start_time": "2024-03-26T16:31:45.109Z"
   },
   {
    "duration": 8,
    "start_time": "2024-03-26T16:31:45.385Z"
   },
   {
    "duration": 22,
    "start_time": "2024-03-26T16:31:45.395Z"
   },
   {
    "duration": 54,
    "start_time": "2024-03-26T16:31:45.419Z"
   },
   {
    "duration": 7,
    "start_time": "2024-03-26T16:31:45.475Z"
   },
   {
    "duration": 794,
    "start_time": "2024-03-26T16:48:10.248Z"
   },
   {
    "duration": 843,
    "start_time": "2024-03-26T16:48:16.539Z"
   },
   {
    "duration": 1059,
    "start_time": "2024-03-26T16:48:33.560Z"
   },
   {
    "duration": 69,
    "start_time": "2024-03-26T16:48:34.621Z"
   },
   {
    "duration": 19,
    "start_time": "2024-03-26T16:48:34.692Z"
   },
   {
    "duration": 26,
    "start_time": "2024-03-26T16:48:34.713Z"
   },
   {
    "duration": 6,
    "start_time": "2024-03-26T16:48:34.741Z"
   },
   {
    "duration": 11,
    "start_time": "2024-03-26T16:48:34.749Z"
   },
   {
    "duration": 27,
    "start_time": "2024-03-26T16:48:34.761Z"
   },
   {
    "duration": 18,
    "start_time": "2024-03-26T16:48:34.790Z"
   },
   {
    "duration": 30,
    "start_time": "2024-03-26T16:48:34.809Z"
   },
   {
    "duration": 17,
    "start_time": "2024-03-26T16:48:34.840Z"
   },
   {
    "duration": 20,
    "start_time": "2024-03-26T16:48:34.859Z"
   },
   {
    "duration": 5,
    "start_time": "2024-03-26T16:48:34.880Z"
   },
   {
    "duration": 191,
    "start_time": "2024-03-26T16:48:34.887Z"
   },
   {
    "duration": 157,
    "start_time": "2024-03-26T16:48:35.080Z"
   },
   {
    "duration": 296,
    "start_time": "2024-03-26T16:48:35.239Z"
   },
   {
    "duration": 8,
    "start_time": "2024-03-26T16:48:35.536Z"
   },
   {
    "duration": 304,
    "start_time": "2024-03-26T16:48:35.546Z"
   },
   {
    "duration": 7,
    "start_time": "2024-03-26T16:48:35.852Z"
   },
   {
    "duration": 170,
    "start_time": "2024-03-26T16:48:35.860Z"
   },
   {
    "duration": 25,
    "start_time": "2024-03-26T16:48:36.031Z"
   },
   {
    "duration": 25,
    "start_time": "2024-03-26T16:48:36.058Z"
   },
   {
    "duration": 36,
    "start_time": "2024-03-26T16:48:36.084Z"
   },
   {
    "duration": 16,
    "start_time": "2024-03-26T16:48:36.122Z"
   },
   {
    "duration": 13,
    "start_time": "2024-03-26T16:48:36.139Z"
   },
   {
    "duration": 355,
    "start_time": "2024-03-26T16:48:36.154Z"
   },
   {
    "duration": 13,
    "start_time": "2024-03-26T16:48:36.510Z"
   },
   {
    "duration": 7,
    "start_time": "2024-03-26T16:48:36.524Z"
   },
   {
    "duration": 271,
    "start_time": "2024-03-26T16:48:36.533Z"
   },
   {
    "duration": 16,
    "start_time": "2024-03-26T16:48:36.805Z"
   },
   {
    "duration": 8,
    "start_time": "2024-03-26T16:48:36.822Z"
   },
   {
    "duration": 819,
    "start_time": "2024-03-26T16:48:36.831Z"
   },
   {
    "duration": 1099,
    "start_time": "2024-03-26T16:48:37.652Z"
   },
   {
    "duration": 1131,
    "start_time": "2024-03-26T16:49:18.804Z"
   },
   {
    "duration": 70,
    "start_time": "2024-03-26T16:49:19.937Z"
   },
   {
    "duration": 20,
    "start_time": "2024-03-26T16:49:20.008Z"
   },
   {
    "duration": 54,
    "start_time": "2024-03-26T16:49:20.029Z"
   },
   {
    "duration": 7,
    "start_time": "2024-03-26T16:49:20.085Z"
   },
   {
    "duration": 11,
    "start_time": "2024-03-26T16:49:20.093Z"
   },
   {
    "duration": 9,
    "start_time": "2024-03-26T16:49:20.106Z"
   },
   {
    "duration": 8,
    "start_time": "2024-03-26T16:49:20.118Z"
   },
   {
    "duration": 15,
    "start_time": "2024-03-26T16:49:20.127Z"
   },
   {
    "duration": 7,
    "start_time": "2024-03-26T16:49:20.143Z"
   },
   {
    "duration": 25,
    "start_time": "2024-03-26T16:49:20.152Z"
   },
   {
    "duration": 4,
    "start_time": "2024-03-26T16:49:20.178Z"
   },
   {
    "duration": 208,
    "start_time": "2024-03-26T16:49:20.184Z"
   },
   {
    "duration": 163,
    "start_time": "2024-03-26T16:49:20.395Z"
   },
   {
    "duration": 310,
    "start_time": "2024-03-26T16:49:20.559Z"
   },
   {
    "duration": 9,
    "start_time": "2024-03-26T16:49:20.871Z"
   },
   {
    "duration": 279,
    "start_time": "2024-03-26T16:49:20.882Z"
   },
   {
    "duration": 7,
    "start_time": "2024-03-26T16:49:21.163Z"
   },
   {
    "duration": 171,
    "start_time": "2024-03-26T16:49:21.172Z"
   },
   {
    "duration": 25,
    "start_time": "2024-03-26T16:49:21.344Z"
   },
   {
    "duration": 27,
    "start_time": "2024-03-26T16:49:21.371Z"
   },
   {
    "duration": 13,
    "start_time": "2024-03-26T16:49:21.418Z"
   },
   {
    "duration": 15,
    "start_time": "2024-03-26T16:49:21.432Z"
   },
   {
    "duration": 13,
    "start_time": "2024-03-26T16:49:21.448Z"
   },
   {
    "duration": 354,
    "start_time": "2024-03-26T16:49:21.463Z"
   },
   {
    "duration": 8,
    "start_time": "2024-03-26T16:49:21.819Z"
   },
   {
    "duration": 11,
    "start_time": "2024-03-26T16:49:21.828Z"
   },
   {
    "duration": 351,
    "start_time": "2024-03-26T16:49:21.841Z"
   },
   {
    "duration": 8,
    "start_time": "2024-03-26T16:49:22.193Z"
   },
   {
    "duration": 18,
    "start_time": "2024-03-26T16:49:22.202Z"
   },
   {
    "duration": 845,
    "start_time": "2024-03-26T16:49:22.222Z"
   },
   {
    "duration": 1049,
    "start_time": "2024-03-26T16:49:23.069Z"
   },
   {
    "duration": 834,
    "start_time": "2024-03-26T16:49:40.405Z"
   },
   {
    "duration": 963,
    "start_time": "2024-03-26T16:50:13.456Z"
   },
   {
    "duration": 852,
    "start_time": "2024-03-26T16:50:58.152Z"
   },
   {
    "duration": 8,
    "start_time": "2024-03-26T16:51:47.539Z"
   },
   {
    "duration": 887,
    "start_time": "2024-03-26T16:52:11.505Z"
   },
   {
    "duration": 881,
    "start_time": "2024-03-26T16:54:19.171Z"
   },
   {
    "duration": 786,
    "start_time": "2024-03-26T16:54:40.621Z"
   },
   {
    "duration": 814,
    "start_time": "2024-03-26T17:11:40.087Z"
   },
   {
    "duration": 1187,
    "start_time": "2024-03-26T17:14:18.639Z"
   },
   {
    "duration": 69,
    "start_time": "2024-03-26T17:14:19.828Z"
   },
   {
    "duration": 20,
    "start_time": "2024-03-26T17:14:19.899Z"
   },
   {
    "duration": 28,
    "start_time": "2024-03-26T17:14:19.920Z"
   },
   {
    "duration": 6,
    "start_time": "2024-03-26T17:14:19.950Z"
   },
   {
    "duration": 11,
    "start_time": "2024-03-26T17:14:19.958Z"
   },
   {
    "duration": 9,
    "start_time": "2024-03-26T17:14:19.971Z"
   },
   {
    "duration": 39,
    "start_time": "2024-03-26T17:14:19.981Z"
   },
   {
    "duration": 13,
    "start_time": "2024-03-26T17:14:20.021Z"
   },
   {
    "duration": 10,
    "start_time": "2024-03-26T17:14:20.035Z"
   },
   {
    "duration": 20,
    "start_time": "2024-03-26T17:14:20.046Z"
   },
   {
    "duration": 4,
    "start_time": "2024-03-26T17:14:20.067Z"
   },
   {
    "duration": 209,
    "start_time": "2024-03-26T17:14:20.072Z"
   },
   {
    "duration": 164,
    "start_time": "2024-03-26T17:14:20.283Z"
   },
   {
    "duration": 305,
    "start_time": "2024-03-26T17:14:20.448Z"
   },
   {
    "duration": 9,
    "start_time": "2024-03-26T17:14:20.754Z"
   },
   {
    "duration": 278,
    "start_time": "2024-03-26T17:14:20.764Z"
   },
   {
    "duration": 7,
    "start_time": "2024-03-26T17:14:21.044Z"
   },
   {
    "duration": 176,
    "start_time": "2024-03-26T17:14:21.053Z"
   },
   {
    "duration": 26,
    "start_time": "2024-03-26T17:14:21.231Z"
   },
   {
    "duration": 26,
    "start_time": "2024-03-26T17:14:21.258Z"
   },
   {
    "duration": 37,
    "start_time": "2024-03-26T17:14:21.286Z"
   },
   {
    "duration": 16,
    "start_time": "2024-03-26T17:14:21.325Z"
   },
   {
    "duration": 14,
    "start_time": "2024-03-26T17:14:21.342Z"
   },
   {
    "duration": 378,
    "start_time": "2024-03-26T17:14:21.357Z"
   },
   {
    "duration": 8,
    "start_time": "2024-03-26T17:14:21.736Z"
   },
   {
    "duration": 7,
    "start_time": "2024-03-26T17:14:21.746Z"
   },
   {
    "duration": 316,
    "start_time": "2024-03-26T17:14:21.755Z"
   },
   {
    "duration": 8,
    "start_time": "2024-03-26T17:14:22.073Z"
   },
   {
    "duration": 8,
    "start_time": "2024-03-26T17:14:22.083Z"
   },
   {
    "duration": 804,
    "start_time": "2024-03-26T17:14:22.093Z"
   },
   {
    "duration": 3,
    "start_time": "2024-03-26T17:14:22.900Z"
   },
   {
    "duration": 1128,
    "start_time": "2024-03-26T17:14:22.905Z"
   },
   {
    "duration": 0,
    "start_time": "2024-03-26T17:14:24.035Z"
   },
   {
    "duration": 1119,
    "start_time": "2024-03-26T17:14:45.685Z"
   },
   {
    "duration": 68,
    "start_time": "2024-03-26T17:14:46.806Z"
   },
   {
    "duration": 18,
    "start_time": "2024-03-26T17:14:46.877Z"
   },
   {
    "duration": 24,
    "start_time": "2024-03-26T17:14:46.897Z"
   },
   {
    "duration": 6,
    "start_time": "2024-03-26T17:14:46.923Z"
   },
   {
    "duration": 14,
    "start_time": "2024-03-26T17:14:46.931Z"
   },
   {
    "duration": 8,
    "start_time": "2024-03-26T17:14:46.947Z"
   },
   {
    "duration": 8,
    "start_time": "2024-03-26T17:14:46.957Z"
   },
   {
    "duration": 12,
    "start_time": "2024-03-26T17:14:46.967Z"
   },
   {
    "duration": 38,
    "start_time": "2024-03-26T17:14:46.981Z"
   },
   {
    "duration": 19,
    "start_time": "2024-03-26T17:14:47.020Z"
   },
   {
    "duration": 3,
    "start_time": "2024-03-26T17:14:47.041Z"
   },
   {
    "duration": 204,
    "start_time": "2024-03-26T17:14:47.047Z"
   },
   {
    "duration": 158,
    "start_time": "2024-03-26T17:14:47.252Z"
   },
   {
    "duration": 279,
    "start_time": "2024-03-26T17:14:47.412Z"
   },
   {
    "duration": 8,
    "start_time": "2024-03-26T17:14:47.693Z"
   },
   {
    "duration": 271,
    "start_time": "2024-03-26T17:14:47.702Z"
   },
   {
    "duration": 7,
    "start_time": "2024-03-26T17:14:47.975Z"
   },
   {
    "duration": 170,
    "start_time": "2024-03-26T17:14:47.984Z"
   },
   {
    "duration": 25,
    "start_time": "2024-03-26T17:14:48.155Z"
   },
   {
    "duration": 40,
    "start_time": "2024-03-26T17:14:48.182Z"
   },
   {
    "duration": 13,
    "start_time": "2024-03-26T17:14:48.224Z"
   },
   {
    "duration": 16,
    "start_time": "2024-03-26T17:14:48.238Z"
   },
   {
    "duration": 14,
    "start_time": "2024-03-26T17:14:48.255Z"
   },
   {
    "duration": 385,
    "start_time": "2024-03-26T17:14:48.271Z"
   },
   {
    "duration": 8,
    "start_time": "2024-03-26T17:14:48.657Z"
   },
   {
    "duration": 7,
    "start_time": "2024-03-26T17:14:48.667Z"
   },
   {
    "duration": 286,
    "start_time": "2024-03-26T17:14:48.676Z"
   },
   {
    "duration": 8,
    "start_time": "2024-03-26T17:14:48.963Z"
   },
   {
    "duration": 9,
    "start_time": "2024-03-26T17:14:48.973Z"
   },
   {
    "duration": 846,
    "start_time": "2024-03-26T17:14:48.984Z"
   },
   {
    "duration": 3,
    "start_time": "2024-03-26T17:14:49.832Z"
   },
   {
    "duration": 158,
    "start_time": "2024-03-26T17:14:49.836Z"
   },
   {
    "duration": 21,
    "start_time": "2024-03-26T17:14:49.997Z"
   },
   {
    "duration": 4,
    "start_time": "2024-03-26T17:15:43.863Z"
   },
   {
    "duration": 6,
    "start_time": "2024-03-26T17:17:01.270Z"
   },
   {
    "duration": 4,
    "start_time": "2024-03-26T17:17:24.312Z"
   },
   {
    "duration": 44,
    "start_time": "2024-03-26T17:30:10.442Z"
   },
   {
    "duration": 56,
    "start_time": "2024-03-26T17:30:44.097Z"
   },
   {
    "duration": 42,
    "start_time": "2024-03-26T17:30:51.285Z"
   },
   {
    "duration": 111,
    "start_time": "2024-03-26T17:40:26.620Z"
   },
   {
    "duration": 5,
    "start_time": "2024-03-26T17:40:42.760Z"
   },
   {
    "duration": 6,
    "start_time": "2024-03-26T17:40:55.672Z"
   },
   {
    "duration": 46,
    "start_time": "2024-03-26T17:52:50.674Z"
   },
   {
    "duration": 13,
    "start_time": "2024-03-26T17:53:12.773Z"
   },
   {
    "duration": 6,
    "start_time": "2024-03-26T17:53:15.700Z"
   },
   {
    "duration": 45,
    "start_time": "2024-03-26T18:02:35.217Z"
   },
   {
    "duration": 10,
    "start_time": "2024-03-26T18:07:40.056Z"
   },
   {
    "duration": 9,
    "start_time": "2024-03-26T18:08:21.509Z"
   },
   {
    "duration": 9,
    "start_time": "2024-03-26T18:08:25.373Z"
   },
   {
    "duration": 5,
    "start_time": "2024-03-26T18:11:21.005Z"
   },
   {
    "duration": 46,
    "start_time": "2024-03-26T18:17:56.071Z"
   },
   {
    "duration": 45,
    "start_time": "2024-03-26T18:20:06.644Z"
   },
   {
    "duration": 60,
    "start_time": "2024-03-26T18:32:57.177Z"
   },
   {
    "duration": 43,
    "start_time": "2024-03-26T18:45:07.716Z"
   },
   {
    "duration": 51,
    "start_time": "2024-03-26T18:57:55.767Z"
   },
   {
    "duration": 10,
    "start_time": "2024-03-26T19:09:27.240Z"
   },
   {
    "duration": 9,
    "start_time": "2024-03-26T19:09:30.483Z"
   },
   {
    "duration": 182,
    "start_time": "2024-03-26T19:09:47.699Z"
   },
   {
    "duration": 11,
    "start_time": "2024-03-26T19:15:03.761Z"
   },
   {
    "duration": 4,
    "start_time": "2024-03-26T19:15:21.391Z"
   },
   {
    "duration": 6,
    "start_time": "2024-03-26T19:19:38.201Z"
   },
   {
    "duration": 1049,
    "start_time": "2024-03-26T19:21:08.373Z"
   },
   {
    "duration": 70,
    "start_time": "2024-03-26T19:21:09.423Z"
   },
   {
    "duration": 20,
    "start_time": "2024-03-26T19:21:09.494Z"
   },
   {
    "duration": 26,
    "start_time": "2024-03-26T19:21:09.516Z"
   },
   {
    "duration": 12,
    "start_time": "2024-03-26T19:21:09.544Z"
   },
   {
    "duration": 43,
    "start_time": "2024-03-26T19:21:09.558Z"
   },
   {
    "duration": 11,
    "start_time": "2024-03-26T19:21:09.603Z"
   },
   {
    "duration": 22,
    "start_time": "2024-03-26T19:21:09.615Z"
   },
   {
    "duration": 25,
    "start_time": "2024-03-26T19:21:09.638Z"
   },
   {
    "duration": 13,
    "start_time": "2024-03-26T19:21:09.664Z"
   },
   {
    "duration": 36,
    "start_time": "2024-03-26T19:21:09.679Z"
   },
   {
    "duration": 20,
    "start_time": "2024-03-26T19:21:09.717Z"
   },
   {
    "duration": 221,
    "start_time": "2024-03-26T19:21:09.738Z"
   },
   {
    "duration": 165,
    "start_time": "2024-03-26T19:21:09.962Z"
   },
   {
    "duration": 311,
    "start_time": "2024-03-26T19:21:10.128Z"
   },
   {
    "duration": 8,
    "start_time": "2024-03-26T19:21:10.440Z"
   },
   {
    "duration": 296,
    "start_time": "2024-03-26T19:21:10.449Z"
   },
   {
    "duration": 8,
    "start_time": "2024-03-26T19:21:10.746Z"
   },
   {
    "duration": 171,
    "start_time": "2024-03-26T19:21:10.755Z"
   },
   {
    "duration": 25,
    "start_time": "2024-03-26T19:21:10.927Z"
   },
   {
    "duration": 25,
    "start_time": "2024-03-26T19:21:10.953Z"
   },
   {
    "duration": 40,
    "start_time": "2024-03-26T19:21:10.979Z"
   },
   {
    "duration": 16,
    "start_time": "2024-03-26T19:21:11.020Z"
   },
   {
    "duration": 15,
    "start_time": "2024-03-26T19:21:11.038Z"
   },
   {
    "duration": 354,
    "start_time": "2024-03-26T19:21:11.054Z"
   },
   {
    "duration": 14,
    "start_time": "2024-03-26T19:21:11.409Z"
   },
   {
    "duration": 10,
    "start_time": "2024-03-26T19:21:11.424Z"
   },
   {
    "duration": 305,
    "start_time": "2024-03-26T19:21:11.435Z"
   },
   {
    "duration": 8,
    "start_time": "2024-03-26T19:21:11.742Z"
   },
   {
    "duration": 8,
    "start_time": "2024-03-26T19:21:11.752Z"
   },
   {
    "duration": 863,
    "start_time": "2024-03-26T19:21:11.761Z"
   },
   {
    "duration": 3,
    "start_time": "2024-03-26T19:21:12.625Z"
   },
   {
    "duration": 136,
    "start_time": "2024-03-26T19:21:12.629Z"
   },
   {
    "duration": 13,
    "start_time": "2024-03-26T19:21:12.767Z"
   },
   {
    "duration": 4,
    "start_time": "2024-03-26T19:21:12.781Z"
   },
   {
    "duration": 7,
    "start_time": "2024-03-26T19:21:12.787Z"
   },
   {
    "duration": 25,
    "start_time": "2024-03-26T19:21:12.795Z"
   },
   {
    "duration": 11,
    "start_time": "2024-03-26T19:21:12.822Z"
   },
   {
    "duration": 4,
    "start_time": "2024-03-26T19:22:17.918Z"
   },
   {
    "duration": 1836,
    "start_time": "2024-03-26T19:37:28.363Z"
   },
   {
    "duration": 69,
    "start_time": "2024-03-26T19:37:30.201Z"
   },
   {
    "duration": 20,
    "start_time": "2024-03-26T19:37:30.272Z"
   },
   {
    "duration": 47,
    "start_time": "2024-03-26T19:37:30.293Z"
   },
   {
    "duration": 26,
    "start_time": "2024-03-26T19:37:30.341Z"
   },
   {
    "duration": 33,
    "start_time": "2024-03-26T19:37:30.368Z"
   },
   {
    "duration": 31,
    "start_time": "2024-03-26T19:37:30.403Z"
   },
   {
    "duration": 43,
    "start_time": "2024-03-26T19:37:30.435Z"
   },
   {
    "duration": 50,
    "start_time": "2024-03-26T19:37:30.479Z"
   },
   {
    "duration": 41,
    "start_time": "2024-03-26T19:37:30.532Z"
   },
   {
    "duration": 76,
    "start_time": "2024-03-26T19:37:30.575Z"
   },
   {
    "duration": 45,
    "start_time": "2024-03-26T19:37:30.652Z"
   },
   {
    "duration": 236,
    "start_time": "2024-03-26T19:37:30.699Z"
   },
   {
    "duration": 158,
    "start_time": "2024-03-26T19:37:30.936Z"
   },
   {
    "duration": 295,
    "start_time": "2024-03-26T19:37:31.095Z"
   },
   {
    "duration": 8,
    "start_time": "2024-03-26T19:37:31.392Z"
   },
   {
    "duration": 322,
    "start_time": "2024-03-26T19:37:31.401Z"
   },
   {
    "duration": 9,
    "start_time": "2024-03-26T19:37:31.724Z"
   },
   {
    "duration": 171,
    "start_time": "2024-03-26T19:37:31.734Z"
   },
   {
    "duration": 33,
    "start_time": "2024-03-26T19:37:31.907Z"
   },
   {
    "duration": 28,
    "start_time": "2024-03-26T19:37:31.942Z"
   },
   {
    "duration": 13,
    "start_time": "2024-03-26T19:37:31.971Z"
   },
   {
    "duration": 41,
    "start_time": "2024-03-26T19:37:31.985Z"
   },
   {
    "duration": 15,
    "start_time": "2024-03-26T19:37:32.027Z"
   },
   {
    "duration": 353,
    "start_time": "2024-03-26T19:37:32.044Z"
   },
   {
    "duration": 21,
    "start_time": "2024-03-26T19:37:32.399Z"
   },
   {
    "duration": 9,
    "start_time": "2024-03-26T19:37:32.421Z"
   },
   {
    "duration": 286,
    "start_time": "2024-03-26T19:37:32.434Z"
   },
   {
    "duration": 8,
    "start_time": "2024-03-26T19:37:32.721Z"
   },
   {
    "duration": 16,
    "start_time": "2024-03-26T19:37:32.731Z"
   },
   {
    "duration": 820,
    "start_time": "2024-03-26T19:37:32.748Z"
   },
   {
    "duration": 3,
    "start_time": "2024-03-26T19:37:33.570Z"
   },
   {
    "duration": 151,
    "start_time": "2024-03-26T19:37:33.574Z"
   },
   {
    "duration": 14,
    "start_time": "2024-03-26T19:37:33.727Z"
   },
   {
    "duration": 4,
    "start_time": "2024-03-26T19:37:33.742Z"
   },
   {
    "duration": 5,
    "start_time": "2024-03-26T19:37:33.748Z"
   },
   {
    "duration": 5,
    "start_time": "2024-03-26T19:37:33.755Z"
   },
   {
    "duration": 10,
    "start_time": "2024-03-26T19:37:33.761Z"
   },
   {
    "duration": 7,
    "start_time": "2024-03-26T20:02:00.693Z"
   },
   {
    "duration": 6,
    "start_time": "2024-03-26T20:02:33.869Z"
   },
   {
    "duration": 19,
    "start_time": "2024-03-26T20:02:38.919Z"
   },
   {
    "duration": 92,
    "start_time": "2024-03-26T20:02:44.008Z"
   },
   {
    "duration": 18,
    "start_time": "2024-03-26T20:02:49.235Z"
   },
   {
    "duration": 49,
    "start_time": "2024-03-26T21:06:53.238Z"
   },
   {
    "duration": 7,
    "start_time": "2024-03-26T21:07:08.920Z"
   },
   {
    "duration": 8,
    "start_time": "2024-03-26T21:07:17.946Z"
   },
   {
    "duration": 1361,
    "start_time": "2024-03-26T21:07:23.908Z"
   },
   {
    "duration": 201,
    "start_time": "2024-03-26T21:07:25.271Z"
   },
   {
    "duration": 28,
    "start_time": "2024-03-26T21:07:25.474Z"
   },
   {
    "duration": 30,
    "start_time": "2024-03-26T21:07:25.505Z"
   },
   {
    "duration": 7,
    "start_time": "2024-03-26T21:07:25.537Z"
   },
   {
    "duration": 13,
    "start_time": "2024-03-26T21:07:25.546Z"
   },
   {
    "duration": 14,
    "start_time": "2024-03-26T21:07:25.561Z"
   },
   {
    "duration": 12,
    "start_time": "2024-03-26T21:07:25.577Z"
   },
   {
    "duration": 44,
    "start_time": "2024-03-26T21:07:25.591Z"
   },
   {
    "duration": 9,
    "start_time": "2024-03-26T21:07:25.638Z"
   },
   {
    "duration": 36,
    "start_time": "2024-03-26T21:07:25.649Z"
   },
   {
    "duration": 37,
    "start_time": "2024-03-26T21:07:25.687Z"
   },
   {
    "duration": 218,
    "start_time": "2024-03-26T21:07:25.727Z"
   },
   {
    "duration": 166,
    "start_time": "2024-03-26T21:07:25.947Z"
   },
   {
    "duration": 298,
    "start_time": "2024-03-26T21:07:26.115Z"
   },
   {
    "duration": 14,
    "start_time": "2024-03-26T21:07:26.414Z"
   },
   {
    "duration": 295,
    "start_time": "2024-03-26T21:07:26.429Z"
   },
   {
    "duration": 8,
    "start_time": "2024-03-26T21:07:26.725Z"
   },
   {
    "duration": 175,
    "start_time": "2024-03-26T21:07:26.735Z"
   },
   {
    "duration": 34,
    "start_time": "2024-03-26T21:07:26.912Z"
   },
   {
    "duration": 26,
    "start_time": "2024-03-26T21:07:26.948Z"
   },
   {
    "duration": 13,
    "start_time": "2024-03-26T21:07:26.976Z"
   },
   {
    "duration": 47,
    "start_time": "2024-03-26T21:07:26.990Z"
   },
   {
    "duration": 15,
    "start_time": "2024-03-26T21:07:27.038Z"
   },
   {
    "duration": 389,
    "start_time": "2024-03-26T21:07:27.054Z"
   },
   {
    "duration": 8,
    "start_time": "2024-03-26T21:07:27.445Z"
   },
   {
    "duration": 7,
    "start_time": "2024-03-26T21:07:27.455Z"
   },
   {
    "duration": 320,
    "start_time": "2024-03-26T21:07:27.465Z"
   },
   {
    "duration": 8,
    "start_time": "2024-03-26T21:07:27.786Z"
   },
   {
    "duration": 7,
    "start_time": "2024-03-26T21:07:27.795Z"
   },
   {
    "duration": 856,
    "start_time": "2024-03-26T21:07:27.803Z"
   },
   {
    "duration": 3,
    "start_time": "2024-03-26T21:07:28.661Z"
   },
   {
    "duration": 185,
    "start_time": "2024-03-26T21:07:28.665Z"
   },
   {
    "duration": 14,
    "start_time": "2024-03-26T21:07:28.851Z"
   },
   {
    "duration": 58,
    "start_time": "2024-03-26T21:07:28.866Z"
   },
   {
    "duration": 7,
    "start_time": "2024-03-26T21:07:28.926Z"
   },
   {
    "duration": 5,
    "start_time": "2024-03-26T21:07:28.934Z"
   },
   {
    "duration": 9,
    "start_time": "2024-03-26T21:07:28.941Z"
   },
   {
    "duration": 1156,
    "start_time": "2024-03-26T21:20:05.249Z"
   },
   {
    "duration": 44,
    "start_time": "2024-03-26T21:22:22.846Z"
   },
   {
    "duration": 11,
    "start_time": "2024-03-26T21:22:35.388Z"
   },
   {
    "duration": 42,
    "start_time": "2024-03-26T21:22:58.270Z"
   },
   {
    "duration": 45,
    "start_time": "2024-03-26T21:23:11.026Z"
   },
   {
    "duration": 14,
    "start_time": "2024-03-26T21:23:17.745Z"
   },
   {
    "duration": 15,
    "start_time": "2024-03-26T21:32:06.309Z"
   },
   {
    "duration": 13,
    "start_time": "2024-03-26T21:32:29.189Z"
   },
   {
    "duration": 13,
    "start_time": "2024-03-26T21:32:54.400Z"
   },
   {
    "duration": 160,
    "start_time": "2024-03-26T21:34:26.113Z"
   },
   {
    "duration": 13,
    "start_time": "2024-03-26T21:34:41.260Z"
   },
   {
    "duration": 12,
    "start_time": "2024-03-26T21:35:26.537Z"
   },
   {
    "duration": 11,
    "start_time": "2024-03-26T21:37:17.400Z"
   },
   {
    "duration": 144,
    "start_time": "2024-03-26T21:38:01.971Z"
   },
   {
    "duration": 125,
    "start_time": "2024-03-26T21:38:14.626Z"
   },
   {
    "duration": 1071,
    "start_time": "2024-03-26T21:38:48.851Z"
   },
   {
    "duration": 1111,
    "start_time": "2024-03-26T21:38:56.533Z"
   },
   {
    "duration": 1177,
    "start_time": "2024-03-26T21:39:33.393Z"
   },
   {
    "duration": 134,
    "start_time": "2024-03-26T21:42:30.035Z"
   },
   {
    "duration": 9,
    "start_time": "2024-03-26T21:45:19.650Z"
   },
   {
    "duration": 8,
    "start_time": "2024-03-26T21:45:26.992Z"
   },
   {
    "duration": 52,
    "start_time": "2024-03-26T21:45:40.444Z"
   },
   {
    "duration": 9,
    "start_time": "2024-03-26T21:45:51.721Z"
   },
   {
    "duration": 13,
    "start_time": "2024-03-26T21:46:17.913Z"
   },
   {
    "duration": 12,
    "start_time": "2024-03-26T21:46:24.868Z"
   },
   {
    "duration": 7,
    "start_time": "2024-03-26T21:47:43.634Z"
   },
   {
    "duration": 148,
    "start_time": "2024-03-26T21:49:45.979Z"
   },
   {
    "duration": 172,
    "start_time": "2024-03-26T21:52:27.276Z"
   },
   {
    "duration": 208,
    "start_time": "2024-03-26T21:53:07.427Z"
   },
   {
    "duration": 12,
    "start_time": "2024-03-26T21:53:27.920Z"
   },
   {
    "duration": 207,
    "start_time": "2024-03-26T21:56:40.438Z"
   },
   {
    "duration": 1133,
    "start_time": "2024-03-26T21:57:05.471Z"
   },
   {
    "duration": 68,
    "start_time": "2024-03-26T21:57:06.606Z"
   },
   {
    "duration": 21,
    "start_time": "2024-03-26T21:57:06.675Z"
   },
   {
    "duration": 29,
    "start_time": "2024-03-26T21:57:06.698Z"
   },
   {
    "duration": 6,
    "start_time": "2024-03-26T21:57:06.729Z"
   },
   {
    "duration": 12,
    "start_time": "2024-03-26T21:57:06.737Z"
   },
   {
    "duration": 10,
    "start_time": "2024-03-26T21:57:06.751Z"
   },
   {
    "duration": 10,
    "start_time": "2024-03-26T21:57:06.762Z"
   },
   {
    "duration": 11,
    "start_time": "2024-03-26T21:57:06.773Z"
   },
   {
    "duration": 41,
    "start_time": "2024-03-26T21:57:06.787Z"
   },
   {
    "duration": 18,
    "start_time": "2024-03-26T21:57:06.830Z"
   },
   {
    "duration": 4,
    "start_time": "2024-03-26T21:57:06.850Z"
   },
   {
    "duration": 245,
    "start_time": "2024-03-26T21:57:06.856Z"
   },
   {
    "duration": 164,
    "start_time": "2024-03-26T21:57:07.103Z"
   },
   {
    "duration": 308,
    "start_time": "2024-03-26T21:57:07.268Z"
   },
   {
    "duration": 9,
    "start_time": "2024-03-26T21:57:07.578Z"
   },
   {
    "duration": 346,
    "start_time": "2024-03-26T21:57:07.588Z"
   },
   {
    "duration": 8,
    "start_time": "2024-03-26T21:57:07.936Z"
   },
   {
    "duration": 192,
    "start_time": "2024-03-26T21:57:07.946Z"
   },
   {
    "duration": 26,
    "start_time": "2024-03-26T21:57:08.139Z"
   },
   {
    "duration": 28,
    "start_time": "2024-03-26T21:57:08.166Z"
   },
   {
    "duration": 37,
    "start_time": "2024-03-26T21:57:08.196Z"
   },
   {
    "duration": 36,
    "start_time": "2024-03-26T21:57:08.235Z"
   },
   {
    "duration": 14,
    "start_time": "2024-03-26T21:57:08.273Z"
   },
   {
    "duration": 337,
    "start_time": "2024-03-26T21:57:08.288Z"
   },
   {
    "duration": 8,
    "start_time": "2024-03-26T21:57:08.627Z"
   },
   {
    "duration": 9,
    "start_time": "2024-03-26T21:57:08.637Z"
   },
   {
    "duration": 287,
    "start_time": "2024-03-26T21:57:08.649Z"
   },
   {
    "duration": 7,
    "start_time": "2024-03-26T21:57:08.938Z"
   },
   {
    "duration": 7,
    "start_time": "2024-03-26T21:57:08.947Z"
   },
   {
    "duration": 909,
    "start_time": "2024-03-26T21:57:08.955Z"
   },
   {
    "duration": 4,
    "start_time": "2024-03-26T21:57:09.865Z"
   },
   {
    "duration": 154,
    "start_time": "2024-03-26T21:57:09.870Z"
   },
   {
    "duration": 14,
    "start_time": "2024-03-26T21:57:10.025Z"
   },
   {
    "duration": 18,
    "start_time": "2024-03-26T21:57:10.040Z"
   },
   {
    "duration": 7,
    "start_time": "2024-03-26T21:57:10.060Z"
   },
   {
    "duration": 9,
    "start_time": "2024-03-26T21:57:10.068Z"
   },
   {
    "duration": 11,
    "start_time": "2024-03-26T21:57:10.079Z"
   },
   {
    "duration": 9,
    "start_time": "2024-03-26T21:57:44.776Z"
   },
   {
    "duration": 12,
    "start_time": "2024-03-26T21:57:57.740Z"
   },
   {
    "duration": 204,
    "start_time": "2024-03-26T21:58:38.949Z"
   },
   {
    "duration": 19,
    "start_time": "2024-03-26T21:59:16.600Z"
   },
   {
    "duration": 184,
    "start_time": "2024-03-26T21:59:18.449Z"
   },
   {
    "duration": 12,
    "start_time": "2024-03-26T21:59:22.856Z"
   },
   {
    "duration": 13,
    "start_time": "2024-03-26T21:59:29.105Z"
   },
   {
    "duration": 62,
    "start_time": "2024-03-26T22:00:47.685Z"
   },
   {
    "duration": 158,
    "start_time": "2024-03-26T22:02:49.792Z"
   },
   {
    "duration": 169,
    "start_time": "2024-03-26T22:02:57.970Z"
   },
   {
    "duration": 159,
    "start_time": "2024-03-26T22:03:09.270Z"
   },
   {
    "duration": 344,
    "start_time": "2024-03-26T22:04:20.583Z"
   },
   {
    "duration": 389,
    "start_time": "2024-03-26T22:04:34.060Z"
   },
   {
    "duration": 185,
    "start_time": "2024-03-26T22:05:21.006Z"
   },
   {
    "duration": 321,
    "start_time": "2024-03-26T22:05:30.593Z"
   },
   {
    "duration": 297,
    "start_time": "2024-03-26T22:05:38.245Z"
   },
   {
    "duration": 299,
    "start_time": "2024-03-26T22:05:48.368Z"
   },
   {
    "duration": 8,
    "start_time": "2024-03-26T22:06:29.689Z"
   },
   {
    "duration": 51,
    "start_time": "2024-03-26T22:07:42.420Z"
   },
   {
    "duration": 154,
    "start_time": "2024-03-26T22:08:42.230Z"
   },
   {
    "duration": 102,
    "start_time": "2024-03-26T22:10:53.873Z"
   },
   {
    "duration": 4,
    "start_time": "2024-03-26T22:11:04.074Z"
   },
   {
    "duration": 3,
    "start_time": "2024-03-26T22:11:16.400Z"
   },
   {
    "duration": 6,
    "start_time": "2024-03-26T22:16:19.643Z"
   },
   {
    "duration": 46,
    "start_time": "2024-03-26T22:25:33.041Z"
   },
   {
    "duration": 195,
    "start_time": "2024-03-26T22:27:13.172Z"
   },
   {
    "duration": 1297,
    "start_time": "2024-03-27T16:40:34.158Z"
   },
   {
    "duration": 298,
    "start_time": "2024-03-27T16:40:35.457Z"
   },
   {
    "duration": 23,
    "start_time": "2024-03-27T16:40:35.757Z"
   },
   {
    "duration": 55,
    "start_time": "2024-03-27T16:40:35.782Z"
   },
   {
    "duration": 8,
    "start_time": "2024-03-27T16:40:35.839Z"
   },
   {
    "duration": 21,
    "start_time": "2024-03-27T16:40:35.848Z"
   },
   {
    "duration": 20,
    "start_time": "2024-03-27T16:40:35.870Z"
   },
   {
    "duration": 24,
    "start_time": "2024-03-27T16:40:35.892Z"
   },
   {
    "duration": 17,
    "start_time": "2024-03-27T16:40:35.917Z"
   },
   {
    "duration": 12,
    "start_time": "2024-03-27T16:40:35.936Z"
   },
   {
    "duration": 73,
    "start_time": "2024-03-27T16:40:35.949Z"
   },
   {
    "duration": 20,
    "start_time": "2024-03-27T16:40:36.031Z"
   },
   {
    "duration": 27,
    "start_time": "2024-03-27T16:40:36.053Z"
   },
   {
    "duration": 232,
    "start_time": "2024-03-27T16:40:36.082Z"
   },
   {
    "duration": 186,
    "start_time": "2024-03-27T16:40:36.316Z"
   },
   {
    "duration": 346,
    "start_time": "2024-03-27T16:40:36.503Z"
   },
   {
    "duration": 9,
    "start_time": "2024-03-27T16:40:36.851Z"
   },
   {
    "duration": 36,
    "start_time": "2024-03-27T16:40:36.862Z"
   },
   {
    "duration": 352,
    "start_time": "2024-03-27T16:40:36.900Z"
   },
   {
    "duration": 9,
    "start_time": "2024-03-27T16:40:37.253Z"
   },
   {
    "duration": 218,
    "start_time": "2024-03-27T16:40:37.264Z"
   },
   {
    "duration": 31,
    "start_time": "2024-03-27T16:40:37.484Z"
   },
   {
    "duration": 32,
    "start_time": "2024-03-27T16:40:37.517Z"
   },
   {
    "duration": 15,
    "start_time": "2024-03-27T16:40:37.550Z"
   },
   {
    "duration": 23,
    "start_time": "2024-03-27T16:40:37.592Z"
   },
   {
    "duration": 5,
    "start_time": "2024-03-27T16:40:37.618Z"
   },
   {
    "duration": 25,
    "start_time": "2024-03-27T16:40:37.625Z"
   },
   {
    "duration": 36,
    "start_time": "2024-03-27T16:40:37.656Z"
   },
   {
    "duration": 413,
    "start_time": "2024-03-27T16:40:37.694Z"
   },
   {
    "duration": 8,
    "start_time": "2024-03-27T16:40:38.109Z"
   },
   {
    "duration": 16,
    "start_time": "2024-03-27T16:40:38.119Z"
   },
   {
    "duration": 314,
    "start_time": "2024-03-27T16:40:38.136Z"
   },
   {
    "duration": 9,
    "start_time": "2024-03-27T16:40:38.452Z"
   },
   {
    "duration": 31,
    "start_time": "2024-03-27T16:40:38.463Z"
   },
   {
    "duration": 972,
    "start_time": "2024-03-27T16:40:38.495Z"
   },
   {
    "duration": 4,
    "start_time": "2024-03-27T16:40:39.468Z"
   },
   {
    "duration": 159,
    "start_time": "2024-03-27T16:40:39.474Z"
   },
   {
    "duration": 15,
    "start_time": "2024-03-27T16:40:39.634Z"
   },
   {
    "duration": 26,
    "start_time": "2024-03-27T16:40:39.651Z"
   },
   {
    "duration": 12,
    "start_time": "2024-03-27T16:40:39.679Z"
   },
   {
    "duration": 14,
    "start_time": "2024-03-27T16:40:39.692Z"
   },
   {
    "duration": 12,
    "start_time": "2024-03-27T16:40:39.707Z"
   }
  ],
  "kernelspec": {
   "display_name": "Python 3 (ipykernel)",
   "language": "python",
   "name": "python3"
  },
  "language_info": {
   "codemirror_mode": {
    "name": "ipython",
    "version": 3
   },
   "file_extension": ".py",
   "mimetype": "text/x-python",
   "name": "python",
   "nbconvert_exporter": "python",
   "pygments_lexer": "ipython3",
   "version": "3.9.21"
  },
  "toc": {
   "base_numbering": 1,
   "nav_menu": {},
   "number_sections": true,
   "sideBar": true,
   "skip_h1_title": true,
   "title_cell": "Table of Contents",
   "title_sidebar": "Contents",
   "toc_cell": false,
   "toc_position": {
    "height": "calc(100% - 180px)",
    "left": "10px",
    "top": "150px",
    "width": "511.991px"
   },
   "toc_section_display": true,
   "toc_window_display": true
  }
 },
 "nbformat": 4,
 "nbformat_minor": 5
}
