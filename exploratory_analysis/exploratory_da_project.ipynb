{
 "cells": [
  {
   "cell_type": "markdown",
   "metadata": {
    "id": "-VFbjcb3Awb7"
   },
   "source": [
    "# Исследование объявлений о продаже квартир\n",
    "\n",
    "В вашем распоряжении данные сервиса Яндекс Недвижимость — архив объявлений о продаже квартир в Санкт-Петербурге и соседних населённых пунктах за несколько лет. Вам нужно научиться определять рыночную стоимость объектов недвижимости. Для этого проведите исследовательский анализ данных и установите параметры, влияющие на цену объектов. Это позволит построить автоматизированную систему: она отследит аномалии и мошенническую деятельность.\n",
    "\n",
    "По каждой квартире на продажу доступны два вида данных. Первые вписаны пользователем, вторые — получены автоматически на основе картографических данных. Например, расстояние до центра, аэропорта и других объектов — эти данные автоматически получены из геосервисов. Количество парков и водоёмов также заполняется без участия пользователя."
   ]
  },
  {
   "cell_type": "markdown",
   "metadata": {
    "id": "aeFLH07FAwb9"
   },
   "source": [
    "## Откройте файл с данными и изучите общую информацию"
   ]
  },
  {
   "cell_type": "code",
   "execution_count": 1,
   "metadata": {
    "id": "7MZxY65pAwb9",
    "scrolled": true
   },
   "outputs": [],
   "source": [
    "#Импортируем библиотеки и выведем первые пять строк датафрейма\n",
    "import pandas as pd\n",
    "import matplotlib.pyplot as plt\n",
    "import seaborn as sns"
   ]
  },
  {
   "cell_type": "code",
   "execution_count": 2,
   "metadata": {},
   "outputs": [
    {
     "data": {
      "text/html": [
       "<div>\n",
       "<style scoped>\n",
       "    .dataframe tbody tr th:only-of-type {\n",
       "        vertical-align: middle;\n",
       "    }\n",
       "\n",
       "    .dataframe tbody tr th {\n",
       "        vertical-align: top;\n",
       "    }\n",
       "\n",
       "    .dataframe thead th {\n",
       "        text-align: right;\n",
       "    }\n",
       "</style>\n",
       "<table border=\"1\" class=\"dataframe\">\n",
       "  <thead>\n",
       "    <tr style=\"text-align: right;\">\n",
       "      <th></th>\n",
       "      <th>total_images</th>\n",
       "      <th>last_price</th>\n",
       "      <th>total_area</th>\n",
       "      <th>first_day_exposition</th>\n",
       "      <th>rooms</th>\n",
       "      <th>ceiling_height</th>\n",
       "      <th>floors_total</th>\n",
       "      <th>living_area</th>\n",
       "      <th>floor</th>\n",
       "      <th>is_apartment</th>\n",
       "      <th>studio</th>\n",
       "      <th>open_plan</th>\n",
       "      <th>kitchen_area</th>\n",
       "      <th>balcony</th>\n",
       "      <th>locality_name</th>\n",
       "      <th>airports_nearest</th>\n",
       "      <th>cityCenters_nearest</th>\n",
       "      <th>parks_around3000</th>\n",
       "      <th>parks_nearest</th>\n",
       "      <th>ponds_around3000</th>\n",
       "      <th>ponds_nearest</th>\n",
       "      <th>days_exposition</th>\n",
       "    </tr>\n",
       "  </thead>\n",
       "  <tbody>\n",
       "    <tr>\n",
       "      <th>0</th>\n",
       "      <td>20</td>\n",
       "      <td>13000000.0</td>\n",
       "      <td>108.0</td>\n",
       "      <td>2019-03-07T00:00:00</td>\n",
       "      <td>3</td>\n",
       "      <td>2.70</td>\n",
       "      <td>16.0</td>\n",
       "      <td>51.0</td>\n",
       "      <td>8</td>\n",
       "      <td>NaN</td>\n",
       "      <td>False</td>\n",
       "      <td>False</td>\n",
       "      <td>25.0</td>\n",
       "      <td>NaN</td>\n",
       "      <td>Санкт-Петербург</td>\n",
       "      <td>18863.0</td>\n",
       "      <td>16028.0</td>\n",
       "      <td>1.0</td>\n",
       "      <td>482.0</td>\n",
       "      <td>2.0</td>\n",
       "      <td>755.0</td>\n",
       "      <td>NaN</td>\n",
       "    </tr>\n",
       "    <tr>\n",
       "      <th>1</th>\n",
       "      <td>7</td>\n",
       "      <td>3350000.0</td>\n",
       "      <td>40.4</td>\n",
       "      <td>2018-12-04T00:00:00</td>\n",
       "      <td>1</td>\n",
       "      <td>NaN</td>\n",
       "      <td>11.0</td>\n",
       "      <td>18.6</td>\n",
       "      <td>1</td>\n",
       "      <td>NaN</td>\n",
       "      <td>False</td>\n",
       "      <td>False</td>\n",
       "      <td>11.0</td>\n",
       "      <td>2.0</td>\n",
       "      <td>посёлок Шушары</td>\n",
       "      <td>12817.0</td>\n",
       "      <td>18603.0</td>\n",
       "      <td>0.0</td>\n",
       "      <td>NaN</td>\n",
       "      <td>0.0</td>\n",
       "      <td>NaN</td>\n",
       "      <td>81.0</td>\n",
       "    </tr>\n",
       "    <tr>\n",
       "      <th>2</th>\n",
       "      <td>10</td>\n",
       "      <td>5196000.0</td>\n",
       "      <td>56.0</td>\n",
       "      <td>2015-08-20T00:00:00</td>\n",
       "      <td>2</td>\n",
       "      <td>NaN</td>\n",
       "      <td>5.0</td>\n",
       "      <td>34.3</td>\n",
       "      <td>4</td>\n",
       "      <td>NaN</td>\n",
       "      <td>False</td>\n",
       "      <td>False</td>\n",
       "      <td>8.3</td>\n",
       "      <td>0.0</td>\n",
       "      <td>Санкт-Петербург</td>\n",
       "      <td>21741.0</td>\n",
       "      <td>13933.0</td>\n",
       "      <td>1.0</td>\n",
       "      <td>90.0</td>\n",
       "      <td>2.0</td>\n",
       "      <td>574.0</td>\n",
       "      <td>558.0</td>\n",
       "    </tr>\n",
       "    <tr>\n",
       "      <th>3</th>\n",
       "      <td>0</td>\n",
       "      <td>64900000.0</td>\n",
       "      <td>159.0</td>\n",
       "      <td>2015-07-24T00:00:00</td>\n",
       "      <td>3</td>\n",
       "      <td>NaN</td>\n",
       "      <td>14.0</td>\n",
       "      <td>NaN</td>\n",
       "      <td>9</td>\n",
       "      <td>NaN</td>\n",
       "      <td>False</td>\n",
       "      <td>False</td>\n",
       "      <td>NaN</td>\n",
       "      <td>0.0</td>\n",
       "      <td>Санкт-Петербург</td>\n",
       "      <td>28098.0</td>\n",
       "      <td>6800.0</td>\n",
       "      <td>2.0</td>\n",
       "      <td>84.0</td>\n",
       "      <td>3.0</td>\n",
       "      <td>234.0</td>\n",
       "      <td>424.0</td>\n",
       "    </tr>\n",
       "    <tr>\n",
       "      <th>4</th>\n",
       "      <td>2</td>\n",
       "      <td>10000000.0</td>\n",
       "      <td>100.0</td>\n",
       "      <td>2018-06-19T00:00:00</td>\n",
       "      <td>2</td>\n",
       "      <td>3.03</td>\n",
       "      <td>14.0</td>\n",
       "      <td>32.0</td>\n",
       "      <td>13</td>\n",
       "      <td>NaN</td>\n",
       "      <td>False</td>\n",
       "      <td>False</td>\n",
       "      <td>41.0</td>\n",
       "      <td>NaN</td>\n",
       "      <td>Санкт-Петербург</td>\n",
       "      <td>31856.0</td>\n",
       "      <td>8098.0</td>\n",
       "      <td>2.0</td>\n",
       "      <td>112.0</td>\n",
       "      <td>1.0</td>\n",
       "      <td>48.0</td>\n",
       "      <td>121.0</td>\n",
       "    </tr>\n",
       "  </tbody>\n",
       "</table>\n",
       "</div>"
      ],
      "text/plain": [
       "   total_images  last_price  total_area first_day_exposition  rooms  \\\n",
       "0            20  13000000.0       108.0  2019-03-07T00:00:00      3   \n",
       "1             7   3350000.0        40.4  2018-12-04T00:00:00      1   \n",
       "2            10   5196000.0        56.0  2015-08-20T00:00:00      2   \n",
       "3             0  64900000.0       159.0  2015-07-24T00:00:00      3   \n",
       "4             2  10000000.0       100.0  2018-06-19T00:00:00      2   \n",
       "\n",
       "   ceiling_height  floors_total  living_area  floor is_apartment  studio  \\\n",
       "0            2.70          16.0         51.0      8          NaN   False   \n",
       "1             NaN          11.0         18.6      1          NaN   False   \n",
       "2             NaN           5.0         34.3      4          NaN   False   \n",
       "3             NaN          14.0          NaN      9          NaN   False   \n",
       "4            3.03          14.0         32.0     13          NaN   False   \n",
       "\n",
       "   open_plan  kitchen_area  balcony    locality_name  airports_nearest  \\\n",
       "0      False          25.0      NaN  Санкт-Петербург           18863.0   \n",
       "1      False          11.0      2.0   посёлок Шушары           12817.0   \n",
       "2      False           8.3      0.0  Санкт-Петербург           21741.0   \n",
       "3      False           NaN      0.0  Санкт-Петербург           28098.0   \n",
       "4      False          41.0      NaN  Санкт-Петербург           31856.0   \n",
       "\n",
       "   cityCenters_nearest  parks_around3000  parks_nearest  ponds_around3000  \\\n",
       "0              16028.0               1.0          482.0               2.0   \n",
       "1              18603.0               0.0            NaN               0.0   \n",
       "2              13933.0               1.0           90.0               2.0   \n",
       "3               6800.0               2.0           84.0               3.0   \n",
       "4               8098.0               2.0          112.0               1.0   \n",
       "\n",
       "   ponds_nearest  days_exposition  \n",
       "0          755.0              NaN  \n",
       "1            NaN             81.0  \n",
       "2          574.0            558.0  \n",
       "3          234.0            424.0  \n",
       "4           48.0            121.0  "
      ]
     },
     "execution_count": 2,
     "metadata": {},
     "output_type": "execute_result"
    }
   ],
   "source": [
    "data = pd.read_csv('/datasets/real_estate_data.csv', sep='\\t')\n",
    "pd.set_option('display.max_columns', None)\n",
    "sns.set()\n",
    "data.head()"
   ]
  },
  {
   "cell_type": "code",
   "execution_count": 3,
   "metadata": {},
   "outputs": [
    {
     "name": "stdout",
     "output_type": "stream",
     "text": [
      "<class 'pandas.core.frame.DataFrame'>\n",
      "RangeIndex: 23699 entries, 0 to 23698\n",
      "Data columns (total 22 columns):\n",
      " #   Column                Non-Null Count  Dtype  \n",
      "---  ------                --------------  -----  \n",
      " 0   total_images          23699 non-null  int64  \n",
      " 1   last_price            23699 non-null  float64\n",
      " 2   total_area            23699 non-null  float64\n",
      " 3   first_day_exposition  23699 non-null  object \n",
      " 4   rooms                 23699 non-null  int64  \n",
      " 5   ceiling_height        14504 non-null  float64\n",
      " 6   floors_total          23613 non-null  float64\n",
      " 7   living_area           21796 non-null  float64\n",
      " 8   floor                 23699 non-null  int64  \n",
      " 9   is_apartment          2775 non-null   object \n",
      " 10  studio                23699 non-null  bool   \n",
      " 11  open_plan             23699 non-null  bool   \n",
      " 12  kitchen_area          21421 non-null  float64\n",
      " 13  balcony               12180 non-null  float64\n",
      " 14  locality_name         23650 non-null  object \n",
      " 15  airports_nearest      18157 non-null  float64\n",
      " 16  cityCenters_nearest   18180 non-null  float64\n",
      " 17  parks_around3000      18181 non-null  float64\n",
      " 18  parks_nearest         8079 non-null   float64\n",
      " 19  ponds_around3000      18181 non-null  float64\n",
      " 20  ponds_nearest         9110 non-null   float64\n",
      " 21  days_exposition       20518 non-null  float64\n",
      "dtypes: bool(2), float64(14), int64(3), object(3)\n",
      "memory usage: 3.7+ MB\n"
     ]
    }
   ],
   "source": [
    "#Выводим основную информацию о датафрейме\n",
    "data.info()"
   ]
  },
  {
   "cell_type": "markdown",
   "metadata": {},
   "source": [
    "Описание данных:\n",
    "- airports_nearest — расстояние до ближайшего аэропорта в метрах (м)\n",
    "- balcony — число балконов\n",
    "- ceiling_height — высота потолков (м)\n",
    "- cityCenters_nearest — расстояние до центра города (м)\n",
    "- days_exposition — сколько дней было размещено объявление (от публикации до снятия)\n",
    "- first_day_exposition — дата публикации\n",
    "- floor — этаж\n",
    "- floors_total — всего этажей в доме\n",
    "- is_apartment — апартаменты (булев тип)\n",
    "- kitchen_area — площадь кухни в квадратных метрах (м²)\n",
    "- last_price — цена на момент снятия с публикации\n",
    "- living_area — жилая площадь в квадратных метрах (м²)\n",
    "- locality_name — название населённого пункта\n",
    "- open_plan — свободная планировка (булев тип)\n",
    "- parks_around3000 — число парков в радиусе 3 км\n",
    "- parks_nearest — расстояние до ближайшего парка (м)\n",
    "- ponds_around3000 — число водоёмов в радиусе 3 км\n",
    "- ponds_nearest — расстояние до ближайшего водоёма (м)\n",
    "- rooms — число комнат\n",
    "- studio — квартира-студия (булев тип)\n",
    "- total_area — общая площадь квартиры в квадратных метрах (м²)\n",
    "- total_images — число фотографий квартиры в объявлении"
   ]
  },
  {
   "cell_type": "code",
   "execution_count": 4,
   "metadata": {},
   "outputs": [
    {
     "data": {
      "text/plain": [
       "23699"
      ]
     },
     "execution_count": 4,
     "metadata": {},
     "output_type": "execute_result"
    }
   ],
   "source": [
    "len(data)"
   ]
  },
  {
   "cell_type": "markdown",
   "metadata": {},
   "source": [
    "Итого у нас 23699 строк данных. Исходя из информации о датафрейме уже можно сказать, что присутствуют пропуски и тип данных в некоторых столбцах некорректный."
   ]
  },
  {
   "cell_type": "code",
   "execution_count": 5,
   "metadata": {},
   "outputs": [
    {
     "data": {
      "image/png": "[encoded data removed]",
      "text/plain": [
       "<Figure size 1080x1440 with 20 Axes>"
      ]
     },
     "metadata": {},
     "output_type": "display_data"
    }
   ],
   "source": [
    "#Построим гистограммы\n",
    "data.hist(figsize=(15, 20));"
   ]
  },
  {
   "cell_type": "markdown",
   "metadata": {},
   "source": [
    "Из построенных гистограмм видно большое кличество пропущенных значений,а также в некоторых столбцах (ceiling_height) видны аномалии. Данные нуждаются в предобработке перед анализом."
   ]
  },
  {
   "cell_type": "markdown",
   "metadata": {
    "id": "-O5NtivEAwb9"
   },
   "source": [
    "## Выполните предобработку данных."
   ]
  },
  {
   "cell_type": "code",
   "execution_count": 6,
   "metadata": {
    "id": "7v3vAeTuAwb-"
   },
   "outputs": [
    {
     "data": {
      "text/plain": [
       "total_images                0\n",
       "last_price                  0\n",
       "total_area                  0\n",
       "first_day_exposition        0\n",
       "rooms                       0\n",
       "ceiling_height           9195\n",
       "floors_total               86\n",
       "living_area              1903\n",
       "floor                       0\n",
       "is_apartment            20924\n",
       "studio                      0\n",
       "open_plan                   0\n",
       "kitchen_area             2278\n",
       "balcony                 11519\n",
       "locality_name              49\n",
       "airports_nearest         5542\n",
       "cityCenters_nearest      5519\n",
       "parks_around3000         5518\n",
       "parks_nearest           15620\n",
       "ponds_around3000         5518\n",
       "ponds_nearest           14589\n",
       "days_exposition          3181\n",
       "dtype: int64"
      ]
     },
     "execution_count": 6,
     "metadata": {},
     "output_type": "execute_result"
    }
   ],
   "source": [
    "#Посчитаем количество пропущенных значений для каждого столбца\n",
    "data.isna().sum()"
   ]
  },
  {
   "cell_type": "code",
   "execution_count": 7,
   "metadata": {},
   "outputs": [
    {
     "data": {
      "text/plain": [
       "0"
      ]
     },
     "execution_count": 7,
     "metadata": {},
     "output_type": "execute_result"
    }
   ],
   "source": [
    "#Посчитаем число явных дубликатов\n",
    "data.duplicated().sum()"
   ]
  },
  {
   "cell_type": "code",
   "execution_count": 8,
   "metadata": {},
   "outputs": [],
   "source": [
    "#Приведем дату публикации объявления к корректному виду\n",
    "data['first_day_exposition'] = pd.to_datetime(\n",
    "    data['first_day_exposition'], format='%Y-%m-%dT%H:%M:%S')"
   ]
  },
  {
   "cell_type": "code",
   "execution_count": 9,
   "metadata": {},
   "outputs": [
    {
     "data": {
      "text/plain": [
       "array([  2.7 ,    nan,   3.03,   2.5 ,   2.67,   2.56,   3.05,   2.75,\n",
       "         2.6 ,   2.9 ,   2.8 ,   2.55,   3.  ,   2.65,   3.2 ,   2.61,\n",
       "         3.25,   3.45,   2.77,   2.85,   2.64,   2.57,   4.15,   3.5 ,\n",
       "         3.3 ,   2.71,   4.  ,   2.47,   2.73,   2.84,   3.1 ,   2.34,\n",
       "         3.4 ,   3.06,   2.72,   2.54,   2.51,   2.78,   2.76,  25.  ,\n",
       "         2.58,   3.7 ,   2.52,   5.2 ,   2.87,   2.66,   2.59,   2.  ,\n",
       "         2.45,   3.6 ,   2.92,   3.11,   3.13,   3.8 ,   3.15,   3.55,\n",
       "         3.16,   3.62,   3.12,   2.53,   2.74,   2.96,   2.46,   5.3 ,\n",
       "         5.  ,   2.79,   2.95,   4.06,   2.94,   3.82,   3.54,   3.53,\n",
       "         2.83,   4.7 ,   2.4 ,   3.38,   3.01,   5.6 ,   3.65,   3.9 ,\n",
       "         3.18,   3.35,   2.3 ,   3.57,   2.48,   2.62,   2.82,   3.98,\n",
       "         2.63,   3.83,   3.52,   3.95,   3.75,   2.88,   3.67,   3.87,\n",
       "         3.66,   3.85,   3.86,   4.19,   3.24,   4.8 ,   4.5 ,   4.2 ,\n",
       "         3.36,  32.  ,   3.08,   3.68,   3.07,   3.37,   3.09,   8.  ,\n",
       "         3.26,   3.34,   2.81,   3.44,   2.97,   3.14,   4.37,   2.68,\n",
       "         3.22,   3.27,  27.  ,   4.1 ,   2.93,   3.46,  24.  ,   3.47,\n",
       "         3.33,   3.63,   3.32,  26.  ,   1.2 ,   8.3 ,   2.98,   2.86,\n",
       "         3.17,   4.4 ,   3.28,   3.04,   4.45,   5.5 ,   3.84,   3.23,\n",
       "         3.02,   3.21,   3.43,   3.78,   4.3 ,   3.39,   2.69,   3.31,\n",
       "         4.65,   3.56,   2.2 ,   3.51,   3.93,   3.42,   2.99,   3.49,\n",
       "        14.  ,   4.14,   2.91,   3.88,   1.75,   4.25,   3.29,  20.  ,\n",
       "         2.25,   3.76,   3.69,   6.  ,  22.6 ,   2.89,   3.58,   5.8 ,\n",
       "        27.5 ,   2.49,   4.9 ,   3.48,  10.3 ,   1.  , 100.  ,   3.59])"
      ]
     },
     "execution_count": 9,
     "metadata": {},
     "output_type": "execute_result"
    }
   ],
   "source": [
    "#Посмотрим на уникальные значения в столбце ceiling_height\n",
    "data['ceiling_height'].unique()"
   ]
  },
  {
   "cell_type": "code",
   "execution_count": 10,
   "metadata": {},
   "outputs": [
    {
     "data": {
      "text/plain": [
       "22869    100.0\n",
       "22336     32.0\n",
       "3148      32.0\n",
       "21377     27.5\n",
       "20478     27.0\n",
       "5246      27.0\n",
       "5807      27.0\n",
       "10773     27.0\n",
       "17857     27.0\n",
       "22938     27.0\n",
       "21824     27.0\n",
       "4876      27.0\n",
       "5669      26.0\n",
       "18545     25.0\n",
       "11285     25.0\n",
       "355       25.0\n",
       "6246      25.0\n",
       "14382     25.0\n",
       "4643      25.0\n",
       "9379      25.0\n",
       "5076      24.0\n",
       "20507     22.6\n",
       "17496     20.0\n",
       "15061     14.0\n",
       "22309     10.3\n",
       "Name: ceiling_height, dtype: float64"
      ]
     },
     "execution_count": 10,
     "metadata": {},
     "output_type": "execute_result"
    }
   ],
   "source": [
    "#С помощью метода sort_values посмотрим аномальные значения по убыванию\n",
    "data['ceiling_height'].sort_values(ascending=False).head(25)"
   ]
  },
  {
   "cell_type": "markdown",
   "metadata": {},
   "source": [
    "Видно, что в данном столбце есть ошибки (потолки > 20 м), а в столбце 9195 пропуск. Скорректируем данные и заполним пустые ячейки медианным значением для дальнейшего анализа."
   ]
  },
  {
   "cell_type": "code",
   "execution_count": 11,
   "metadata": {},
   "outputs": [
    {
     "data": {
      "text/plain": [
       "0"
      ]
     },
     "execution_count": 11,
     "metadata": {},
     "output_type": "execute_result"
    }
   ],
   "source": [
    "#Скорректируем ячейки с ошибочными данными\n",
    "data.loc[data['ceiling_height'] >= 20.0, 'ceiling_height'] = data['ceiling_height'] * 0.1\n",
    "#Заполняем пропуски медианым значением\n",
    "data['ceiling_height'] = data['ceiling_height'].fillna(data['ceiling_height'].median())\n",
    "#Проверяем\n",
    "data['ceiling_height'].isnull().sum()"
   ]
  },
  {
   "cell_type": "code",
   "execution_count": 12,
   "metadata": {},
   "outputs": [
    {
     "data": {
      "text/plain": [
       "0"
      ]
     },
     "execution_count": 12,
     "metadata": {},
     "output_type": "execute_result"
    }
   ],
   "source": [
    "#В столбце также 86 пропусков, удалим строки из датафрейма\n",
    "data.dropna(subset=['floors_total'], inplace=True)\n",
    "data.reset_index(drop=True)\n",
    "#Заменим в столбце этажности значения на целые\n",
    "data['floors_total'] = data['floors_total'].astype('int')\n",
    "#Проверяем\n",
    "data['floors_total'].isnull().sum()"
   ]
  },
  {
   "cell_type": "markdown",
   "metadata": {},
   "source": [
    "В столбце living_area 1903 пропуска, при этом мы точно знаем, что в датафрейме данные по жилой недвижимости и у нас есть данные общей площади, соответственно, данные значения были пропущены и их необходимо заполнить медианным значением."
   ]
  },
  {
   "cell_type": "code",
   "execution_count": 13,
   "metadata": {},
   "outputs": [
    {
     "data": {
      "text/plain": [
       "count    23613.000000\n",
       "mean        34.109357\n",
       "std         21.181099\n",
       "min          2.000000\n",
       "25%         19.000000\n",
       "50%         30.000000\n",
       "75%         41.100000\n",
       "max        409.700000\n",
       "Name: living_area, dtype: float64"
      ]
     },
     "execution_count": 13,
     "metadata": {},
     "output_type": "execute_result"
    }
   ],
   "source": [
    "#Создадим переменную исключающие пропуски\n",
    "living_area_no_zero = data['living_area'].dropna()\n",
    "#Считаем медиану\n",
    "living_area_no_zero = living_area_no_zero.median()\n",
    "#Заменяем нулевые значения на медиану\n",
    "data.loc[data['living_area'].isnull(), 'living_area'] = living_area_no_zero\n",
    "#Проверяем\n",
    "data['living_area'].describe()"
   ]
  },
  {
   "cell_type": "markdown",
   "metadata": {},
   "source": [
    "Столбец is_apartment должен принимать значение True и False, при этом в столбце 20924 пропущенных значений. Апартаменты это непопулярный тип недвижимости, так что мы вполне можем заменить значения на False. Также переменная имеет тип данных \"object\", необходимо заменить его на bool."
   ]
  },
  {
   "cell_type": "code",
   "execution_count": 14,
   "metadata": {},
   "outputs": [
    {
     "data": {
      "text/plain": [
       "0"
      ]
     },
     "execution_count": 14,
     "metadata": {},
     "output_type": "execute_result"
    }
   ],
   "source": [
    "data['is_apartment'] = data['is_apartment'].fillna(value=False)\n",
    "data['is_apartment'] = data['is_apartment'].astype(bool)\n",
    "#Проверяем\n",
    "data['floors_total'].isnull().sum()"
   ]
  },
  {
   "cell_type": "markdown",
   "metadata": {},
   "source": [
    "В столбце kitchen_area 2278 пропущенных значений. Обработаем данные аналогично столбцу living_area."
   ]
  },
  {
   "cell_type": "code",
   "execution_count": 15,
   "metadata": {},
   "outputs": [
    {
     "data": {
      "text/plain": [
       "count    23613.000000\n",
       "mean        10.425794\n",
       "std          5.634758\n",
       "min          1.300000\n",
       "25%          7.300000\n",
       "50%          9.100000\n",
       "75%         11.420000\n",
       "max        112.000000\n",
       "Name: kitchen_area, dtype: float64"
      ]
     },
     "execution_count": 15,
     "metadata": {},
     "output_type": "execute_result"
    }
   ],
   "source": [
    "#Создадим переменную исключающие пропуски\n",
    "kitchen_area_no_zero = data['kitchen_area'].dropna()\n",
    "#Считаем медиану\n",
    "kitchen_area_no_zero = kitchen_area_no_zero.median()\n",
    "#Заменяем нулевые значения на медиану\n",
    "data.loc[data['kitchen_area'].isnull(), 'kitchen_area'] = kitchen_area_no_zero\n",
    "#Проверяем\n",
    "data['kitchen_area'].describe()"
   ]
  },
  {
   "cell_type": "markdown",
   "metadata": {},
   "source": [
    "В столбце balcony 11519 пропущенных значений. Мы вполне можем допустить, что в квартирах с пропущенным значением нет балкона. Заменим пропуски на ноль."
   ]
  },
  {
   "cell_type": "code",
   "execution_count": 16,
   "metadata": {},
   "outputs": [
    {
     "data": {
      "text/plain": [
       "0"
      ]
     },
     "execution_count": 16,
     "metadata": {},
     "output_type": "execute_result"
    }
   ],
   "source": [
    "data['balcony'] = data['balcony'].fillna(0)\n",
    "#Меняем тип данных на целые значения\n",
    "data['balcony'] = data['balcony'].astype('int')\n",
    "#Проверяем\n",
    "data['floors_total'].isnull().sum()"
   ]
  },
  {
   "cell_type": "markdown",
   "metadata": {},
   "source": [
    "В столбце locality_name (название населённого пункта) пропущено 49 значений, от них можно избавится, т.к. это не сильно повлияет на нашу выборку. Если мы вызовем уникальные значения данного столбца (data['locality_name'].unique()), то увидим что в нем присутствуют неявные дубликаты. "
   ]
  },
  {
   "cell_type": "code",
   "execution_count": 17,
   "metadata": {},
   "outputs": [
    {
     "data": {
      "text/plain": [
       "array(['Санкт-Петербург', 'посёлок Шушары', 'городской посёлок Янино-1',\n",
       "       'посёлок Парголово', 'посёлок Мурино', 'Ломоносов', 'Сертолово',\n",
       "       'Петергоф', 'Пушкин', 'деревня Кудрово', 'Коммунар', 'Колпино',\n",
       "       'поселок городского типа Красный Бор', 'Гатчина', 'поселок Мурино',\n",
       "       'деревня Фёдоровское', 'Выборг', 'Кронштадт', 'Кировск',\n",
       "       'деревня Новое Девяткино', 'посёлок Металлострой',\n",
       "       'посёлок городского типа Лебяжье',\n",
       "       'посёлок городского типа Сиверский', 'поселок Молодцово',\n",
       "       'поселок городского типа Кузьмоловский',\n",
       "       'садовое товарищество Новая Ропша', 'Павловск',\n",
       "       'деревня Пикколово', 'Всеволожск', 'Волхов', 'Кингисепп',\n",
       "       'Приозерск', 'Сестрорецк', 'деревня Куттузи', 'посёлок Аннино',\n",
       "       'поселок городского типа Ефимовский', 'посёлок Плодовое',\n",
       "       'деревня Заклинье', 'поселок Торковичи', 'поселок Первомайское',\n",
       "       'Красное Село', 'посёлок Понтонный', 'Сясьстрой', 'деревня Старая',\n",
       "       'деревня Лесколово', 'посёлок Новый Свет', 'Сланцы',\n",
       "       'село Путилово', 'Ивангород', 'Мурино', 'Шлиссельбург',\n",
       "       'Никольское', 'Зеленогорск', 'Сосновый Бор', 'поселок Новый Свет',\n",
       "       'деревня Оржицы', 'деревня Кальтино', 'Кудрово',\n",
       "       'поселок Романовка', 'посёлок Бугры', 'поселок Бугры',\n",
       "       'поселок городского типа Рощино', 'Кириши', 'Луга', 'Волосово',\n",
       "       'Отрадное', 'село Павлово', 'поселок Оредеж', 'село Копорье',\n",
       "       'посёлок городского типа Красный Бор', 'посёлок Молодёжное',\n",
       "       'Тихвин', 'посёлок Победа', 'деревня Нурма',\n",
       "       'поселок городского типа Синявино', 'Тосно',\n",
       "       'посёлок городского типа Кузьмоловский', 'посёлок Стрельна',\n",
       "       'Бокситогорск', 'посёлок Александровская', 'деревня Лопухинка',\n",
       "       'Пикалёво', 'поселок Терволово',\n",
       "       'поселок городского типа Советский', 'Подпорожье',\n",
       "       'посёлок Петровское', 'посёлок городского типа Токсово',\n",
       "       'поселок Сельцо', 'посёлок городского типа Вырица',\n",
       "       'деревня Кипень', 'деревня Келози', 'деревня Вартемяги',\n",
       "       'посёлок Тельмана', 'поселок Севастьяново',\n",
       "       'городской поселок Большая Ижора', nan,\n",
       "       'городской посёлок Павлово', 'деревня Агалатово',\n",
       "       'посёлок Новогорелово', 'городской посёлок Лесогорский',\n",
       "       'деревня Лаголово', 'поселок Цвелодубово',\n",
       "       'поселок городского типа Рахья', 'поселок городского типа Вырица',\n",
       "       'деревня Белогорка', 'поселок Заводской',\n",
       "       'городской посёлок Новоселье', 'деревня Большие Колпаны',\n",
       "       'деревня Горбунки', 'деревня Батово', 'деревня Заневка',\n",
       "       'деревня Иссад', 'Приморск', 'городской посёлок Фёдоровское',\n",
       "       'деревня Мистолово', 'Новая Ладога', 'поселок Зимитицы',\n",
       "       'поселок Барышево', 'деревня Разметелево',\n",
       "       'поселок городского типа имени Свердлова', 'деревня Пеники',\n",
       "       'поселок Рябово', 'деревня Пудомяги', 'поселок станции Корнево',\n",
       "       'деревня Низино', 'деревня Бегуницы', 'посёлок Поляны',\n",
       "       'городской посёлок Мга', 'поселок Елизаветино',\n",
       "       'посёлок городского типа Кузнечное', 'деревня Колтуши',\n",
       "       'поселок Запорожское', 'посёлок городского типа Рощино',\n",
       "       'деревня Гостилицы', 'деревня Малое Карлино',\n",
       "       'посёлок Мичуринское', 'посёлок городского типа имени Морозова',\n",
       "       'посёлок Песочный', 'посёлок Сосново', 'деревня Аро',\n",
       "       'поселок Ильичёво', 'посёлок городского типа Тайцы',\n",
       "       'деревня Малое Верево', 'деревня Извара', 'поселок станции Вещево',\n",
       "       'село Паша', 'деревня Калитино',\n",
       "       'посёлок городского типа Ульяновка', 'деревня Чудской Бор',\n",
       "       'поселок городского типа Дубровка', 'деревня Мины',\n",
       "       'поселок Войсковицы', 'посёлок городского типа имени Свердлова',\n",
       "       'деревня Коркино', 'посёлок Ропша',\n",
       "       'поселок городского типа Приладожский', 'посёлок Щеглово',\n",
       "       'посёлок Гаврилово', 'Лодейное Поле', 'деревня Рабитицы',\n",
       "       'поселок городского типа Никольский', 'деревня Кузьмолово',\n",
       "       'деревня Малые Колпаны', 'поселок Тельмана',\n",
       "       'посёлок Петро-Славянка', 'городской посёлок Назия',\n",
       "       'посёлок Репино', 'посёлок Ильичёво', 'поселок Углово',\n",
       "       'поселок Старая Малукса', 'садовое товарищество Рахья',\n",
       "       'поселок Аннино', 'поселок Победа', 'деревня Меньково',\n",
       "       'деревня Старые Бегуницы', 'посёлок Сапёрный', 'поселок Семрино',\n",
       "       'поселок Гаврилово', 'поселок Глажево', 'поселок Кобринское',\n",
       "       'деревня Гарболово', 'деревня Юкки',\n",
       "       'поселок станции Приветнинское', 'деревня Мануйлово',\n",
       "       'деревня Пчева', 'поселок Поляны', 'поселок Цвылёво',\n",
       "       'поселок Мельниково', 'посёлок Пудость', 'посёлок Усть-Луга',\n",
       "       'Светогорск', 'Любань', 'поселок Селезнёво',\n",
       "       'поселок городского типа Рябово', 'Каменногорск', 'деревня Кривко',\n",
       "       'поселок Глебычево', 'деревня Парицы', 'поселок Жилпосёлок',\n",
       "       'посёлок городского типа Мга', 'городской поселок Янино-1',\n",
       "       'посёлок Войскорово', 'село Никольское', 'посёлок Терволово',\n",
       "       'поселок Стеклянный', 'посёлок городского типа Важины',\n",
       "       'посёлок Мыза-Ивановка', 'село Русско-Высоцкое',\n",
       "       'поселок городского типа Лебяжье',\n",
       "       'поселок городского типа Форносово', 'село Старая Ладога',\n",
       "       'поселок Житково', 'городской посёлок Виллози', 'деревня Лампово',\n",
       "       'деревня Шпаньково', 'деревня Лаврики', 'посёлок Сумино',\n",
       "       'посёлок Возрождение', 'деревня Старосиверская',\n",
       "       'посёлок Кикерино', 'поселок Возрождение',\n",
       "       'деревня Старое Хинколово', 'посёлок Пригородный',\n",
       "       'посёлок Торфяное', 'городской посёлок Будогощь',\n",
       "       'поселок Суходолье', 'поселок Красная Долина', 'деревня Хапо-Ое',\n",
       "       'поселок городского типа Дружная Горка', 'поселок Лисий Нос',\n",
       "       'деревня Яльгелево', 'посёлок Стеклянный', 'село Рождествено',\n",
       "       'деревня Старополье', 'посёлок Левашово', 'деревня Сяськелево',\n",
       "       'деревня Камышовка',\n",
       "       'садоводческое некоммерческое товарищество Лесная Поляна',\n",
       "       'деревня Хязельки', 'поселок Жилгородок',\n",
       "       'посёлок городского типа Павлово', 'деревня Ялгино',\n",
       "       'поселок Новый Учхоз', 'городской посёлок Рощино',\n",
       "       'поселок Гончарово', 'поселок Почап', 'посёлок Сапёрное',\n",
       "       'посёлок Платформа 69-й километр', 'поселок Каложицы',\n",
       "       'деревня Фалилеево', 'деревня Пельгора',\n",
       "       'поселок городского типа Лесогорский', 'деревня Торошковичи',\n",
       "       'посёлок Белоостров', 'посёлок Алексеевка', 'поселок Серебрянский',\n",
       "       'поселок Лукаши', 'поселок Петровское', 'деревня Щеглово',\n",
       "       'поселок Мичуринское', 'деревня Тарасово', 'поселок Кингисеппский',\n",
       "       'посёлок при железнодорожной станции Вещево', 'поселок Ушаки',\n",
       "       'деревня Котлы', 'деревня Сижно', 'деревня Торосово',\n",
       "       'посёлок Форт Красная Горка', 'деревня Новолисино',\n",
       "       'посёлок станции Громово', 'деревня Глинка', 'посёлок Мельниково',\n",
       "       'поселок городского типа Назия', 'деревня Старая Пустошь',\n",
       "       'поселок Коммунары', 'поселок Починок',\n",
       "       'посёлок городского типа Вознесенье', 'деревня Разбегаево',\n",
       "       'посёлок городского типа Рябово', 'поселок Гладкое',\n",
       "       'посёлок при железнодорожной станции Приветнинское',\n",
       "       'поселок Тёсово-4', 'посёлок Жилгородок', 'деревня Бор',\n",
       "       'посёлок Коробицыно', 'деревня Большая Вруда', 'деревня Курковицы',\n",
       "       'посёлок Лисий Нос', 'городской посёлок Советский',\n",
       "       'посёлок Кобралово', 'деревня Суоранда', 'поселок Кобралово',\n",
       "       'поселок городского типа Кондратьево',\n",
       "       'коттеджный поселок Счастье', 'поселок Любань', 'деревня Реброво',\n",
       "       'деревня Зимитицы', 'деревня Тойворово', 'поселок Семиозерье',\n",
       "       'поселок Лесное', 'поселок Совхозный', 'поселок Усть-Луга',\n",
       "       'посёлок Ленинское', 'посёлок Суйда',\n",
       "       'посёлок городского типа Форносово', 'деревня Нижние Осельки',\n",
       "       'посёлок станции Свирь', 'поселок Перово', 'Высоцк',\n",
       "       'поселок Гарболово', 'село Шум', 'поселок Котельский',\n",
       "       'поселок станции Лужайка', 'деревня Большая Пустомержа',\n",
       "       'поселок Красносельское', 'деревня Вахнова Кара', 'деревня Пижма',\n",
       "       'коттеджный поселок Кивеннапа Север', 'поселок Коробицыно',\n",
       "       'поселок Ромашки', 'посёлок Перово', 'деревня Каськово',\n",
       "       'деревня Куровицы', 'посёлок Плоское', 'поселок Сумино',\n",
       "       'поселок городского типа Большая Ижора', 'поселок Кирпичное',\n",
       "       'деревня Ям-Тесово', 'деревня Раздолье', 'деревня Терпилицы',\n",
       "       'поселок городского типа Токсово', 'посёлок Шугозеро',\n",
       "       'деревня Ваганово', 'поселок Пушное', 'садовое товарищество Садко',\n",
       "       'посёлок Усть-Ижора', 'деревня Выскатка',\n",
       "       'городской посёлок Свирьстрой', 'поселок Громово',\n",
       "       'деревня Кисельня', 'посёлок Старая Малукса',\n",
       "       'деревня Трубников Бор', 'поселок Калитино',\n",
       "       'посёлок Высокоключевой', 'садовое товарищество Приладожский',\n",
       "       'посёлок Пансионат Зелёный Бор', 'деревня Ненимяки',\n",
       "       'поселок Пансионат Зелёный Бор', 'деревня Снегирёвка',\n",
       "       'деревня Рапполово', 'деревня Пустынка', 'поселок Рабитицы',\n",
       "       'деревня Большой Сабск', 'деревня Русско', 'деревня Лупполово',\n",
       "       'деревня Большое Рейзино', 'деревня Малая Романовка',\n",
       "       'поселок Дружноселье', 'поселок Пчевжа', 'поселок Володарское',\n",
       "       'деревня Нижняя', 'коттеджный посёлок Лесное', 'деревня Тихковицы',\n",
       "       'деревня Борисова Грива', 'посёлок Дзержинского'], dtype=object)"
      ]
     },
     "execution_count": 17,
     "metadata": {},
     "output_type": "execute_result"
    }
   ],
   "source": [
    "data['locality_name'].unique()"
   ]
  },
  {
   "cell_type": "code",
   "execution_count": 18,
   "metadata": {},
   "outputs": [
    {
     "data": {
      "text/html": [
       "<div>\n",
       "<style scoped>\n",
       "    .dataframe tbody tr th:only-of-type {\n",
       "        vertical-align: middle;\n",
       "    }\n",
       "\n",
       "    .dataframe tbody tr th {\n",
       "        vertical-align: top;\n",
       "    }\n",
       "\n",
       "    .dataframe thead th {\n",
       "        text-align: right;\n",
       "    }\n",
       "</style>\n",
       "<table border=\"1\" class=\"dataframe\">\n",
       "  <thead>\n",
       "    <tr style=\"text-align: right;\">\n",
       "      <th></th>\n",
       "      <th>total_images</th>\n",
       "      <th>last_price</th>\n",
       "      <th>total_area</th>\n",
       "      <th>first_day_exposition</th>\n",
       "      <th>rooms</th>\n",
       "      <th>ceiling_height</th>\n",
       "      <th>floors_total</th>\n",
       "      <th>living_area</th>\n",
       "      <th>floor</th>\n",
       "      <th>is_apartment</th>\n",
       "      <th>studio</th>\n",
       "      <th>open_plan</th>\n",
       "      <th>kitchen_area</th>\n",
       "      <th>balcony</th>\n",
       "      <th>locality_name</th>\n",
       "      <th>airports_nearest</th>\n",
       "      <th>cityCenters_nearest</th>\n",
       "      <th>parks_around3000</th>\n",
       "      <th>parks_nearest</th>\n",
       "      <th>ponds_around3000</th>\n",
       "      <th>ponds_nearest</th>\n",
       "      <th>days_exposition</th>\n",
       "    </tr>\n",
       "  </thead>\n",
       "  <tbody>\n",
       "    <tr>\n",
       "      <th>0</th>\n",
       "      <td>20</td>\n",
       "      <td>13000000.0</td>\n",
       "      <td>108.00</td>\n",
       "      <td>2019-03-07</td>\n",
       "      <td>3</td>\n",
       "      <td>2.70</td>\n",
       "      <td>16</td>\n",
       "      <td>51.0</td>\n",
       "      <td>8</td>\n",
       "      <td>False</td>\n",
       "      <td>False</td>\n",
       "      <td>False</td>\n",
       "      <td>25.00</td>\n",
       "      <td>0</td>\n",
       "      <td>Санкт-Петербург</td>\n",
       "      <td>18863.0</td>\n",
       "      <td>16028.0</td>\n",
       "      <td>1.0</td>\n",
       "      <td>482.0</td>\n",
       "      <td>2.0</td>\n",
       "      <td>755.0</td>\n",
       "      <td>NaN</td>\n",
       "    </tr>\n",
       "    <tr>\n",
       "      <th>1</th>\n",
       "      <td>7</td>\n",
       "      <td>3350000.0</td>\n",
       "      <td>40.40</td>\n",
       "      <td>2018-12-04</td>\n",
       "      <td>1</td>\n",
       "      <td>2.65</td>\n",
       "      <td>11</td>\n",
       "      <td>18.6</td>\n",
       "      <td>1</td>\n",
       "      <td>False</td>\n",
       "      <td>False</td>\n",
       "      <td>False</td>\n",
       "      <td>11.00</td>\n",
       "      <td>2</td>\n",
       "      <td>Шушары</td>\n",
       "      <td>12817.0</td>\n",
       "      <td>18603.0</td>\n",
       "      <td>0.0</td>\n",
       "      <td>NaN</td>\n",
       "      <td>0.0</td>\n",
       "      <td>NaN</td>\n",
       "      <td>81.0</td>\n",
       "    </tr>\n",
       "    <tr>\n",
       "      <th>2</th>\n",
       "      <td>10</td>\n",
       "      <td>5196000.0</td>\n",
       "      <td>56.00</td>\n",
       "      <td>2015-08-20</td>\n",
       "      <td>2</td>\n",
       "      <td>2.65</td>\n",
       "      <td>5</td>\n",
       "      <td>34.3</td>\n",
       "      <td>4</td>\n",
       "      <td>False</td>\n",
       "      <td>False</td>\n",
       "      <td>False</td>\n",
       "      <td>8.30</td>\n",
       "      <td>0</td>\n",
       "      <td>Санкт-Петербург</td>\n",
       "      <td>21741.0</td>\n",
       "      <td>13933.0</td>\n",
       "      <td>1.0</td>\n",
       "      <td>90.0</td>\n",
       "      <td>2.0</td>\n",
       "      <td>574.0</td>\n",
       "      <td>558.0</td>\n",
       "    </tr>\n",
       "    <tr>\n",
       "      <th>3</th>\n",
       "      <td>0</td>\n",
       "      <td>64900000.0</td>\n",
       "      <td>159.00</td>\n",
       "      <td>2015-07-24</td>\n",
       "      <td>3</td>\n",
       "      <td>2.65</td>\n",
       "      <td>14</td>\n",
       "      <td>30.0</td>\n",
       "      <td>9</td>\n",
       "      <td>False</td>\n",
       "      <td>False</td>\n",
       "      <td>False</td>\n",
       "      <td>9.10</td>\n",
       "      <td>0</td>\n",
       "      <td>Санкт-Петербург</td>\n",
       "      <td>28098.0</td>\n",
       "      <td>6800.0</td>\n",
       "      <td>2.0</td>\n",
       "      <td>84.0</td>\n",
       "      <td>3.0</td>\n",
       "      <td>234.0</td>\n",
       "      <td>424.0</td>\n",
       "    </tr>\n",
       "    <tr>\n",
       "      <th>4</th>\n",
       "      <td>2</td>\n",
       "      <td>10000000.0</td>\n",
       "      <td>100.00</td>\n",
       "      <td>2018-06-19</td>\n",
       "      <td>2</td>\n",
       "      <td>3.03</td>\n",
       "      <td>14</td>\n",
       "      <td>32.0</td>\n",
       "      <td>13</td>\n",
       "      <td>False</td>\n",
       "      <td>False</td>\n",
       "      <td>False</td>\n",
       "      <td>41.00</td>\n",
       "      <td>0</td>\n",
       "      <td>Санкт-Петербург</td>\n",
       "      <td>31856.0</td>\n",
       "      <td>8098.0</td>\n",
       "      <td>2.0</td>\n",
       "      <td>112.0</td>\n",
       "      <td>1.0</td>\n",
       "      <td>48.0</td>\n",
       "      <td>121.0</td>\n",
       "    </tr>\n",
       "    <tr>\n",
       "      <th>...</th>\n",
       "      <td>...</td>\n",
       "      <td>...</td>\n",
       "      <td>...</td>\n",
       "      <td>...</td>\n",
       "      <td>...</td>\n",
       "      <td>...</td>\n",
       "      <td>...</td>\n",
       "      <td>...</td>\n",
       "      <td>...</td>\n",
       "      <td>...</td>\n",
       "      <td>...</td>\n",
       "      <td>...</td>\n",
       "      <td>...</td>\n",
       "      <td>...</td>\n",
       "      <td>...</td>\n",
       "      <td>...</td>\n",
       "      <td>...</td>\n",
       "      <td>...</td>\n",
       "      <td>...</td>\n",
       "      <td>...</td>\n",
       "      <td>...</td>\n",
       "      <td>...</td>\n",
       "    </tr>\n",
       "    <tr>\n",
       "      <th>23560</th>\n",
       "      <td>9</td>\n",
       "      <td>9700000.0</td>\n",
       "      <td>133.81</td>\n",
       "      <td>2017-03-21</td>\n",
       "      <td>3</td>\n",
       "      <td>3.70</td>\n",
       "      <td>5</td>\n",
       "      <td>73.3</td>\n",
       "      <td>3</td>\n",
       "      <td>False</td>\n",
       "      <td>False</td>\n",
       "      <td>False</td>\n",
       "      <td>13.83</td>\n",
       "      <td>0</td>\n",
       "      <td>Санкт-Петербург</td>\n",
       "      <td>24665.0</td>\n",
       "      <td>4232.0</td>\n",
       "      <td>1.0</td>\n",
       "      <td>796.0</td>\n",
       "      <td>3.0</td>\n",
       "      <td>381.0</td>\n",
       "      <td>NaN</td>\n",
       "    </tr>\n",
       "    <tr>\n",
       "      <th>23561</th>\n",
       "      <td>14</td>\n",
       "      <td>3100000.0</td>\n",
       "      <td>59.00</td>\n",
       "      <td>2018-01-15</td>\n",
       "      <td>3</td>\n",
       "      <td>2.65</td>\n",
       "      <td>5</td>\n",
       "      <td>38.0</td>\n",
       "      <td>4</td>\n",
       "      <td>False</td>\n",
       "      <td>False</td>\n",
       "      <td>False</td>\n",
       "      <td>8.50</td>\n",
       "      <td>0</td>\n",
       "      <td>Тосно</td>\n",
       "      <td>NaN</td>\n",
       "      <td>NaN</td>\n",
       "      <td>NaN</td>\n",
       "      <td>NaN</td>\n",
       "      <td>NaN</td>\n",
       "      <td>NaN</td>\n",
       "      <td>45.0</td>\n",
       "    </tr>\n",
       "    <tr>\n",
       "      <th>23562</th>\n",
       "      <td>18</td>\n",
       "      <td>2500000.0</td>\n",
       "      <td>56.70</td>\n",
       "      <td>2018-02-11</td>\n",
       "      <td>2</td>\n",
       "      <td>2.65</td>\n",
       "      <td>3</td>\n",
       "      <td>29.7</td>\n",
       "      <td>1</td>\n",
       "      <td>False</td>\n",
       "      <td>False</td>\n",
       "      <td>False</td>\n",
       "      <td>9.10</td>\n",
       "      <td>0</td>\n",
       "      <td>Рождествено</td>\n",
       "      <td>NaN</td>\n",
       "      <td>NaN</td>\n",
       "      <td>NaN</td>\n",
       "      <td>NaN</td>\n",
       "      <td>NaN</td>\n",
       "      <td>NaN</td>\n",
       "      <td>NaN</td>\n",
       "    </tr>\n",
       "    <tr>\n",
       "      <th>23563</th>\n",
       "      <td>13</td>\n",
       "      <td>11475000.0</td>\n",
       "      <td>76.75</td>\n",
       "      <td>2017-03-28</td>\n",
       "      <td>2</td>\n",
       "      <td>3.00</td>\n",
       "      <td>17</td>\n",
       "      <td>30.0</td>\n",
       "      <td>12</td>\n",
       "      <td>False</td>\n",
       "      <td>False</td>\n",
       "      <td>False</td>\n",
       "      <td>23.30</td>\n",
       "      <td>2</td>\n",
       "      <td>Санкт-Петербург</td>\n",
       "      <td>39140.0</td>\n",
       "      <td>10364.0</td>\n",
       "      <td>2.0</td>\n",
       "      <td>173.0</td>\n",
       "      <td>3.0</td>\n",
       "      <td>196.0</td>\n",
       "      <td>602.0</td>\n",
       "    </tr>\n",
       "    <tr>\n",
       "      <th>23564</th>\n",
       "      <td>4</td>\n",
       "      <td>1350000.0</td>\n",
       "      <td>32.30</td>\n",
       "      <td>2017-07-21</td>\n",
       "      <td>1</td>\n",
       "      <td>2.50</td>\n",
       "      <td>5</td>\n",
       "      <td>12.3</td>\n",
       "      <td>1</td>\n",
       "      <td>False</td>\n",
       "      <td>False</td>\n",
       "      <td>False</td>\n",
       "      <td>9.00</td>\n",
       "      <td>0</td>\n",
       "      <td>Новый Учхоз</td>\n",
       "      <td>NaN</td>\n",
       "      <td>NaN</td>\n",
       "      <td>NaN</td>\n",
       "      <td>NaN</td>\n",
       "      <td>NaN</td>\n",
       "      <td>NaN</td>\n",
       "      <td>NaN</td>\n",
       "    </tr>\n",
       "  </tbody>\n",
       "</table>\n",
       "<p>23565 rows × 22 columns</p>\n",
       "</div>"
      ],
      "text/plain": [
       "       total_images  last_price  total_area first_day_exposition  rooms  \\\n",
       "0                20  13000000.0      108.00           2019-03-07      3   \n",
       "1                 7   3350000.0       40.40           2018-12-04      1   \n",
       "2                10   5196000.0       56.00           2015-08-20      2   \n",
       "3                 0  64900000.0      159.00           2015-07-24      3   \n",
       "4                 2  10000000.0      100.00           2018-06-19      2   \n",
       "...             ...         ...         ...                  ...    ...   \n",
       "23560             9   9700000.0      133.81           2017-03-21      3   \n",
       "23561            14   3100000.0       59.00           2018-01-15      3   \n",
       "23562            18   2500000.0       56.70           2018-02-11      2   \n",
       "23563            13  11475000.0       76.75           2017-03-28      2   \n",
       "23564             4   1350000.0       32.30           2017-07-21      1   \n",
       "\n",
       "       ceiling_height  floors_total  living_area  floor  is_apartment  studio  \\\n",
       "0                2.70            16         51.0      8         False   False   \n",
       "1                2.65            11         18.6      1         False   False   \n",
       "2                2.65             5         34.3      4         False   False   \n",
       "3                2.65            14         30.0      9         False   False   \n",
       "4                3.03            14         32.0     13         False   False   \n",
       "...               ...           ...          ...    ...           ...     ...   \n",
       "23560            3.70             5         73.3      3         False   False   \n",
       "23561            2.65             5         38.0      4         False   False   \n",
       "23562            2.65             3         29.7      1         False   False   \n",
       "23563            3.00            17         30.0     12         False   False   \n",
       "23564            2.50             5         12.3      1         False   False   \n",
       "\n",
       "       open_plan  kitchen_area  balcony    locality_name  airports_nearest  \\\n",
       "0          False         25.00        0  Санкт-Петербург           18863.0   \n",
       "1          False         11.00        2           Шушары           12817.0   \n",
       "2          False          8.30        0  Санкт-Петербург           21741.0   \n",
       "3          False          9.10        0  Санкт-Петербург           28098.0   \n",
       "4          False         41.00        0  Санкт-Петербург           31856.0   \n",
       "...          ...           ...      ...              ...               ...   \n",
       "23560      False         13.83        0  Санкт-Петербург           24665.0   \n",
       "23561      False          8.50        0            Тосно               NaN   \n",
       "23562      False          9.10        0      Рождествено               NaN   \n",
       "23563      False         23.30        2  Санкт-Петербург           39140.0   \n",
       "23564      False          9.00        0      Новый Учхоз               NaN   \n",
       "\n",
       "       cityCenters_nearest  parks_around3000  parks_nearest  ponds_around3000  \\\n",
       "0                  16028.0               1.0          482.0               2.0   \n",
       "1                  18603.0               0.0            NaN               0.0   \n",
       "2                  13933.0               1.0           90.0               2.0   \n",
       "3                   6800.0               2.0           84.0               3.0   \n",
       "4                   8098.0               2.0          112.0               1.0   \n",
       "...                    ...               ...            ...               ...   \n",
       "23560               4232.0               1.0          796.0               3.0   \n",
       "23561                  NaN               NaN            NaN               NaN   \n",
       "23562                  NaN               NaN            NaN               NaN   \n",
       "23563              10364.0               2.0          173.0               3.0   \n",
       "23564                  NaN               NaN            NaN               NaN   \n",
       "\n",
       "       ponds_nearest  days_exposition  \n",
       "0              755.0              NaN  \n",
       "1                NaN             81.0  \n",
       "2              574.0            558.0  \n",
       "3              234.0            424.0  \n",
       "4               48.0            121.0  \n",
       "...              ...              ...  \n",
       "23560          381.0              NaN  \n",
       "23561            NaN             45.0  \n",
       "23562            NaN              NaN  \n",
       "23563          196.0            602.0  \n",
       "23564            NaN              NaN  \n",
       "\n",
       "[23565 rows x 22 columns]"
      ]
     },
     "execution_count": 18,
     "metadata": {},
     "output_type": "execute_result"
    }
   ],
   "source": [
    "#Заменяем в значениях букву ё на е и уберем лишнюю информацию в названиях\n",
    "data['locality_name'] = (\n",
    "    data['locality_name']\n",
    "    .str.replace('ё', 'е')\n",
    "    .replace(['поселок ','при железнодорожной станции ', 'платформа ', 'садоводческое некоммерческое товарищество ',\n",
    "             'садовое товарищество ', 'станции ', 'село ', 'пансионат ', 'городского типа ',\n",
    "             'деревня ', 'городской поселок '], '', regex=True)\n",
    ") \n",
    "#Удалим 49 строк с пропущенным населенным пунктом\n",
    "data.dropna(subset=['locality_name'], inplace=True)\n",
    "data.reset_index(drop=True)"
   ]
  },
  {
   "cell_type": "markdown",
   "metadata": {},
   "source": [
    "В столбцах airports_nearest, cityCenters_nearest,parks_around3000, parks_nearest, ponds_around3000, ponds_nearest очень много пропусков. Это может указывать как на то, что рядом с недвижимостью нет аэропорта/центра города/парка/пруда, так и объяснятся некорректной выгрузкой данных или отсутствием информации об этом в геосервисах. Оставим все так, как есть. Значения в parks_around3000 и ponds_around3000 можно заменить нулями (т.к. скорее всего их нет в радиусе 3000м). Приведем названия столбцов к нормальному виду."
   ]
  },
  {
   "cell_type": "code",
   "execution_count": 19,
   "metadata": {},
   "outputs": [],
   "source": [
    "#Переименуем наши столбцы\n",
    "data = data.rename(columns={'cityCenters_nearest': 'city_centers_nearest', \n",
    "                            'parks_around3000': 'parks_around_3000', \n",
    "                            'ponds_around3000': 'ponds_around_3000'\n",
    "                           }\n",
    "                  )\n",
    "#Заполним пропуски нулями\n",
    "data['parks_around_3000'] = data['parks_around_3000'].fillna(0)\n",
    "data['ponds_around_3000'] = data['ponds_around_3000'].fillna(0)"
   ]
  },
  {
   "cell_type": "markdown",
   "metadata": {},
   "source": [
    "В столбце days_exposition 3181 пропуск. Пропуски, вероятно, указывают на то, что недвижимость еще не продана или пользователь снял объявление и продал квартиру на другой площадке. Оставим как есть, т.к. у нас нет никаких данных о причинах данных пропусков, а заполнение пропусков средним медианным значением было бы некорректно, т.к. у нас нет достоверных данных о продаже  недвижимости, что исказило бы результаты работы. Пока посмотрим на оставшиеся пропуски в нашем датафрейме."
   ]
  },
  {
   "cell_type": "code",
   "execution_count": 20,
   "metadata": {},
   "outputs": [
    {
     "data": {
      "text/plain": [
       "total_images                0\n",
       "last_price                  0\n",
       "total_area                  0\n",
       "first_day_exposition        0\n",
       "rooms                       0\n",
       "ceiling_height              0\n",
       "floors_total                0\n",
       "living_area                 0\n",
       "floor                       0\n",
       "is_apartment                0\n",
       "studio                      0\n",
       "open_plan                   0\n",
       "kitchen_area                0\n",
       "balcony                     0\n",
       "locality_name               0\n",
       "airports_nearest         5524\n",
       "city_centers_nearest     5501\n",
       "parks_around_3000           0\n",
       "parks_nearest           15535\n",
       "ponds_around_3000           0\n",
       "ponds_nearest           14529\n",
       "days_exposition          3171\n",
       "dtype: int64"
      ]
     },
     "execution_count": 20,
     "metadata": {},
     "output_type": "execute_result"
    }
   ],
   "source": [
    "data.isna().sum()"
   ]
  },
  {
   "cell_type": "markdown",
   "metadata": {},
   "source": [
    "Нам удалось существенно уменьшить число пропущенных значений и привести датафрейм к лучшему виду. Теперь с этими данными можно работать."
   ]
  },
  {
   "cell_type": "markdown",
   "metadata": {
    "id": "QCcvyY6YAwb-"
   },
   "source": [
    "## Добавьте в таблицу новые столбцы."
   ]
  },
  {
   "cell_type": "code",
   "execution_count": 21,
   "metadata": {
    "id": "Z8eJek3IAwb-"
   },
   "outputs": [
    {
     "data": {
      "text/html": [
       "<div>\n",
       "<style scoped>\n",
       "    .dataframe tbody tr th:only-of-type {\n",
       "        vertical-align: middle;\n",
       "    }\n",
       "\n",
       "    .dataframe tbody tr th {\n",
       "        vertical-align: top;\n",
       "    }\n",
       "\n",
       "    .dataframe thead th {\n",
       "        text-align: right;\n",
       "    }\n",
       "</style>\n",
       "<table border=\"1\" class=\"dataframe\">\n",
       "  <thead>\n",
       "    <tr style=\"text-align: right;\">\n",
       "      <th></th>\n",
       "      <th>total_images</th>\n",
       "      <th>last_price</th>\n",
       "      <th>total_area</th>\n",
       "      <th>first_day_exposition</th>\n",
       "      <th>rooms</th>\n",
       "      <th>ceiling_height</th>\n",
       "      <th>floors_total</th>\n",
       "      <th>living_area</th>\n",
       "      <th>floor</th>\n",
       "      <th>is_apartment</th>\n",
       "      <th>studio</th>\n",
       "      <th>open_plan</th>\n",
       "      <th>kitchen_area</th>\n",
       "      <th>balcony</th>\n",
       "      <th>locality_name</th>\n",
       "      <th>airports_nearest</th>\n",
       "      <th>city_centers_nearest</th>\n",
       "      <th>parks_around_3000</th>\n",
       "      <th>parks_nearest</th>\n",
       "      <th>ponds_around_3000</th>\n",
       "      <th>ponds_nearest</th>\n",
       "      <th>days_exposition</th>\n",
       "      <th>sq_m_price</th>\n",
       "      <th>date_issued</th>\n",
       "      <th>month_issued</th>\n",
       "      <th>year_issued</th>\n",
       "      <th>category_by_floor</th>\n",
       "      <th>city_center_distance</th>\n",
       "    </tr>\n",
       "  </thead>\n",
       "  <tbody>\n",
       "    <tr>\n",
       "      <th>0</th>\n",
       "      <td>20</td>\n",
       "      <td>13000000.0</td>\n",
       "      <td>108.0</td>\n",
       "      <td>2019-03-07</td>\n",
       "      <td>3</td>\n",
       "      <td>2.70</td>\n",
       "      <td>16</td>\n",
       "      <td>51.0</td>\n",
       "      <td>8</td>\n",
       "      <td>False</td>\n",
       "      <td>False</td>\n",
       "      <td>False</td>\n",
       "      <td>25.0</td>\n",
       "      <td>0</td>\n",
       "      <td>Санкт-Петербург</td>\n",
       "      <td>18863.0</td>\n",
       "      <td>16028.0</td>\n",
       "      <td>1.0</td>\n",
       "      <td>482.0</td>\n",
       "      <td>2.0</td>\n",
       "      <td>755.0</td>\n",
       "      <td>NaN</td>\n",
       "      <td>120370.37</td>\n",
       "      <td>3</td>\n",
       "      <td>3</td>\n",
       "      <td>2019</td>\n",
       "      <td>другой</td>\n",
       "      <td>16.0</td>\n",
       "    </tr>\n",
       "    <tr>\n",
       "      <th>1</th>\n",
       "      <td>7</td>\n",
       "      <td>3350000.0</td>\n",
       "      <td>40.4</td>\n",
       "      <td>2018-12-04</td>\n",
       "      <td>1</td>\n",
       "      <td>2.65</td>\n",
       "      <td>11</td>\n",
       "      <td>18.6</td>\n",
       "      <td>1</td>\n",
       "      <td>False</td>\n",
       "      <td>False</td>\n",
       "      <td>False</td>\n",
       "      <td>11.0</td>\n",
       "      <td>2</td>\n",
       "      <td>Шушары</td>\n",
       "      <td>12817.0</td>\n",
       "      <td>18603.0</td>\n",
       "      <td>0.0</td>\n",
       "      <td>NaN</td>\n",
       "      <td>0.0</td>\n",
       "      <td>NaN</td>\n",
       "      <td>81.0</td>\n",
       "      <td>82920.79</td>\n",
       "      <td>1</td>\n",
       "      <td>12</td>\n",
       "      <td>2018</td>\n",
       "      <td>первый</td>\n",
       "      <td>19.0</td>\n",
       "    </tr>\n",
       "    <tr>\n",
       "      <th>2</th>\n",
       "      <td>10</td>\n",
       "      <td>5196000.0</td>\n",
       "      <td>56.0</td>\n",
       "      <td>2015-08-20</td>\n",
       "      <td>2</td>\n",
       "      <td>2.65</td>\n",
       "      <td>5</td>\n",
       "      <td>34.3</td>\n",
       "      <td>4</td>\n",
       "      <td>False</td>\n",
       "      <td>False</td>\n",
       "      <td>False</td>\n",
       "      <td>8.3</td>\n",
       "      <td>0</td>\n",
       "      <td>Санкт-Петербург</td>\n",
       "      <td>21741.0</td>\n",
       "      <td>13933.0</td>\n",
       "      <td>1.0</td>\n",
       "      <td>90.0</td>\n",
       "      <td>2.0</td>\n",
       "      <td>574.0</td>\n",
       "      <td>558.0</td>\n",
       "      <td>92785.71</td>\n",
       "      <td>3</td>\n",
       "      <td>8</td>\n",
       "      <td>2015</td>\n",
       "      <td>другой</td>\n",
       "      <td>14.0</td>\n",
       "    </tr>\n",
       "    <tr>\n",
       "      <th>3</th>\n",
       "      <td>0</td>\n",
       "      <td>64900000.0</td>\n",
       "      <td>159.0</td>\n",
       "      <td>2015-07-24</td>\n",
       "      <td>3</td>\n",
       "      <td>2.65</td>\n",
       "      <td>14</td>\n",
       "      <td>30.0</td>\n",
       "      <td>9</td>\n",
       "      <td>False</td>\n",
       "      <td>False</td>\n",
       "      <td>False</td>\n",
       "      <td>9.1</td>\n",
       "      <td>0</td>\n",
       "      <td>Санкт-Петербург</td>\n",
       "      <td>28098.0</td>\n",
       "      <td>6800.0</td>\n",
       "      <td>2.0</td>\n",
       "      <td>84.0</td>\n",
       "      <td>3.0</td>\n",
       "      <td>234.0</td>\n",
       "      <td>424.0</td>\n",
       "      <td>408176.10</td>\n",
       "      <td>4</td>\n",
       "      <td>7</td>\n",
       "      <td>2015</td>\n",
       "      <td>другой</td>\n",
       "      <td>7.0</td>\n",
       "    </tr>\n",
       "    <tr>\n",
       "      <th>4</th>\n",
       "      <td>2</td>\n",
       "      <td>10000000.0</td>\n",
       "      <td>100.0</td>\n",
       "      <td>2018-06-19</td>\n",
       "      <td>2</td>\n",
       "      <td>3.03</td>\n",
       "      <td>14</td>\n",
       "      <td>32.0</td>\n",
       "      <td>13</td>\n",
       "      <td>False</td>\n",
       "      <td>False</td>\n",
       "      <td>False</td>\n",
       "      <td>41.0</td>\n",
       "      <td>0</td>\n",
       "      <td>Санкт-Петербург</td>\n",
       "      <td>31856.0</td>\n",
       "      <td>8098.0</td>\n",
       "      <td>2.0</td>\n",
       "      <td>112.0</td>\n",
       "      <td>1.0</td>\n",
       "      <td>48.0</td>\n",
       "      <td>121.0</td>\n",
       "      <td>100000.00</td>\n",
       "      <td>1</td>\n",
       "      <td>6</td>\n",
       "      <td>2018</td>\n",
       "      <td>другой</td>\n",
       "      <td>8.0</td>\n",
       "    </tr>\n",
       "  </tbody>\n",
       "</table>\n",
       "</div>"
      ],
      "text/plain": [
       "   total_images  last_price  total_area first_day_exposition  rooms  \\\n",
       "0            20  13000000.0       108.0           2019-03-07      3   \n",
       "1             7   3350000.0        40.4           2018-12-04      1   \n",
       "2            10   5196000.0        56.0           2015-08-20      2   \n",
       "3             0  64900000.0       159.0           2015-07-24      3   \n",
       "4             2  10000000.0       100.0           2018-06-19      2   \n",
       "\n",
       "   ceiling_height  floors_total  living_area  floor  is_apartment  studio  \\\n",
       "0            2.70            16         51.0      8         False   False   \n",
       "1            2.65            11         18.6      1         False   False   \n",
       "2            2.65             5         34.3      4         False   False   \n",
       "3            2.65            14         30.0      9         False   False   \n",
       "4            3.03            14         32.0     13         False   False   \n",
       "\n",
       "   open_plan  kitchen_area  balcony    locality_name  airports_nearest  \\\n",
       "0      False          25.0        0  Санкт-Петербург           18863.0   \n",
       "1      False          11.0        2           Шушары           12817.0   \n",
       "2      False           8.3        0  Санкт-Петербург           21741.0   \n",
       "3      False           9.1        0  Санкт-Петербург           28098.0   \n",
       "4      False          41.0        0  Санкт-Петербург           31856.0   \n",
       "\n",
       "   city_centers_nearest  parks_around_3000  parks_nearest  ponds_around_3000  \\\n",
       "0               16028.0                1.0          482.0                2.0   \n",
       "1               18603.0                0.0            NaN                0.0   \n",
       "2               13933.0                1.0           90.0                2.0   \n",
       "3                6800.0                2.0           84.0                3.0   \n",
       "4                8098.0                2.0          112.0                1.0   \n",
       "\n",
       "   ponds_nearest  days_exposition  sq_m_price  date_issued  month_issued  \\\n",
       "0          755.0              NaN   120370.37            3             3   \n",
       "1            NaN             81.0    82920.79            1            12   \n",
       "2          574.0            558.0    92785.71            3             8   \n",
       "3          234.0            424.0   408176.10            4             7   \n",
       "4           48.0            121.0   100000.00            1             6   \n",
       "\n",
       "   year_issued category_by_floor  city_center_distance  \n",
       "0         2019            другой                  16.0  \n",
       "1         2018            первый                  19.0  \n",
       "2         2015            другой                  14.0  \n",
       "3         2015            другой                   7.0  \n",
       "4         2018            другой                   8.0  "
      ]
     },
     "execution_count": 21,
     "metadata": {},
     "output_type": "execute_result"
    }
   ],
   "source": [
    "# Цена одного квадратного метра\n",
    "data['sq_m_price'] = data['last_price'] / data['total_area']\n",
    "data['sq_m_price'] = data['sq_m_price'].round(2)\n",
    "# День недели публикации объявления\n",
    "data['date_issued'] = data['first_day_exposition'].dt.weekday \n",
    "# Месяц публикации объявления\n",
    "data['month_issued'] = data['first_day_exposition'].dt.month\n",
    "# Год публикации объявления\n",
    "data['year_issued'] = data['first_day_exposition'].dt.year\n",
    "# Тип этажа квартиры (значения — «первый», «последний», «другой»)\n",
    "def floor_defined(row):\n",
    "    if row['floor'] == 1:\n",
    "        return 'первый'\n",
    "    if row['floor'] == row['floors_total']:\n",
    "        return 'последний'\n",
    "    else:\n",
    "        return 'другой'\n",
    "data['category_by_floor'] = data.apply(floor_defined, axis=1)\n",
    "# Расстояние до центра города в километрах \n",
    "data['city_center_distance'] = data['city_centers_nearest'] / 1000\n",
    "data['city_center_distance'] = data['city_center_distance'].round(0)\n",
    "# Выводим первые пять строк таблицы на экран и проверяем результат\n",
    "data.head()"
   ]
  },
  {
   "cell_type": "markdown",
   "metadata": {
    "id": "pPyxrKWTAwb-"
   },
   "source": [
    "### Проведите исследовательский анализ данных."
   ]
  },
  {
   "cell_type": "markdown",
   "metadata": {},
   "source": [
    "До начала исследования влияния цены на объекты недвижимости необходимо описать наши основные параметры:\n",
    "  - общая площадь;\n",
    "  - жилая площадь;\n",
    "  - площадь кухни;\n",
    "  - цена объекта;\n",
    "  - количество комнат;\n",
    "  - высота потолков;\n",
    "  - тип этажа квартиры («первый», «последний», «другой»);\n",
    "  - общее количество этажей в доме;\n",
    "  - расстояние до центра города в метрах;\n",
    "  - расстояние до ближайшего парка. "
   ]
  },
  {
   "cell_type": "markdown",
   "metadata": {},
   "source": [
    "Также перед нами стоит задача научиться определять рыночную стоимость объектов недвижимости. Соответственно, нам необходимо изучить зависмость цены объекта от следующих параметров:\n",
    "  - общая площадь;\n",
    "  - жилая площадь;\n",
    "  - площадь кухни;\n",
    "  - количество комнат;\n",
    "  - тип этажа, на котором расположена квартира (первый, последний, другой);\n",
    "  - дата размещения (день недели, месяц, год)."
   ]
  },
  {
   "cell_type": "markdown",
   "metadata": {},
   "source": [
    "### Общая площадь. "
   ]
  },
  {
   "cell_type": "code",
   "execution_count": 22,
   "metadata": {},
   "outputs": [
    {
     "data": {
      "text/plain": [
       "count    23565.000000\n",
       "mean        60.322824\n",
       "std         35.657060\n",
       "min         12.000000\n",
       "25%         40.000000\n",
       "50%         52.000000\n",
       "75%         69.700000\n",
       "max        900.000000\n",
       "Name: total_area, dtype: float64"
      ]
     },
     "execution_count": 22,
     "metadata": {},
     "output_type": "execute_result"
    }
   ],
   "source": [
    "data['total_area'].describe()"
   ]
  },
  {
   "cell_type": "markdown",
   "metadata": {},
   "source": [
    "Медианная площадь квартиры чуть больше 60 кв.м, минимальное значение 12 кв.м, максимальное - 900 кв.м. Визуализируем данные на гистограмме, используя инструменты библиотеки matplotlib."
   ]
  },
  {
   "cell_type": "code",
   "execution_count": 23,
   "metadata": {
    "scrolled": true
   },
   "outputs": [
    {
     "data": {
      "image/png": "[encoded data removed]",
      "text/plain": [
       "<Figure size 432x288 with 1 Axes>"
      ]
     },
     "metadata": {},
     "output_type": "display_data"
    }
   ],
   "source": [
    "#Отсечем значения сильно выходящие за значения первого и четвертого квартиля\n",
    "plt.hist(data['total_area'], bins=100, range=(20, 100), color = \"green\")\n",
    "plt.title('Объекти недвижимости по общей площади')\n",
    "plt.xlabel('Площадь в кв м')\n",
    "plt.ylabel('Общее число объектов');"
   ]
  },
  {
   "cell_type": "markdown",
   "metadata": {},
   "source": [
    "Данные выглядят вполне правдобподобно: большая часть квартир имеет площадь от 30 кв.м до 80 кв.м"
   ]
  },
  {
   "cell_type": "code",
   "execution_count": 24,
   "metadata": {},
   "outputs": [
    {
     "data": {
      "image/png": "[encoded data removed]",
      "text/plain": [
       "<Figure size 576x576 with 1 Axes>"
      ]
     },
     "metadata": {},
     "output_type": "display_data"
    }
   ],
   "source": [
    "#Построим график на основе сводной таблицы, показывающей зависимость площади жилья и его цены. \n",
    "#Аномальные значения отсечем через query.\n",
    "(\n",
    "data.query('total_area > 20 and total_area < 100')\n",
    "    .pivot_table(index= 'total_area', values = 'last_price', aggfunc = 'median')\n",
    "    .plot(grid=True,  figsize=(8, 8), title='Зависимость площади квартиры от цены', color = \"green\", style='o')\n",
    ");"
   ]
  },
  {
   "cell_type": "code",
   "execution_count": 25,
   "metadata": {},
   "outputs": [
    {
     "data": {
      "text/plain": [
       "0.6536213939252808"
      ]
     },
     "execution_count": 25,
     "metadata": {},
     "output_type": "execute_result"
    }
   ],
   "source": [
    "#Посчитаем коэффициент корреляции между двумя значениями total_area и last_price\n",
    "data['total_area'].corr(data['last_price'])"
   ]
  },
  {
   "cell_type": "markdown",
   "metadata": {},
   "source": [
    "Вывод: между значениями total_area и last_price прослеживается зависимость, значение коэффициента корреляции в 0.65 говорит нам о наличии умеренной зависимости между площадью недвижимости и ценой (чем больше площадь, тем больше цена)."
   ]
  },
  {
   "cell_type": "markdown",
   "metadata": {},
   "source": [
    "### Жилая площадь."
   ]
  },
  {
   "cell_type": "code",
   "execution_count": 26,
   "metadata": {},
   "outputs": [
    {
     "data": {
      "text/plain": [
       "count    23565.000000\n",
       "mean        34.102255\n",
       "std         21.189133\n",
       "min          2.000000\n",
       "25%         19.000000\n",
       "50%         30.000000\n",
       "75%         41.100000\n",
       "max        409.700000\n",
       "Name: living_area, dtype: float64"
      ]
     },
     "execution_count": 26,
     "metadata": {},
     "output_type": "execute_result"
    }
   ],
   "source": [
    "data['living_area'].describe()"
   ]
  },
  {
   "cell_type": "code",
   "execution_count": 27,
   "metadata": {},
   "outputs": [
    {
     "data": {
      "image/png": "[encoded data removed]",
      "text/plain": [
       "<Figure size 432x288 with 1 Axes>"
      ]
     },
     "metadata": {},
     "output_type": "display_data"
    }
   ],
   "source": [
    "#Отсечем значения сильно выходящие за значения первого и четвертого квартиля \n",
    "plt.hist(data['living_area'], bins=100, range=(10, 70), color = \"green\")\n",
    "plt.title('Объекты недвжимости по жилой площади')\n",
    "plt.xlabel('Площадь в кв м')\n",
    "plt.ylabel('Общее число объектов');"
   ]
  },
  {
   "cell_type": "markdown",
   "metadata": {},
   "source": [
    "Во время предобработки данных мы заменили пустые значения на медианные,т.к. у нас стоит задача измерить влияние стоимости недвижимости на данный параметр, из-за этого на графике искажено количество квартир с жилой площадью в 30 кв.м."
   ]
  },
  {
   "cell_type": "code",
   "execution_count": 28,
   "metadata": {},
   "outputs": [
    {
     "data": {
      "image/png": "[encoded data removed]",
      "text/plain": [
       "<Figure size 576x576 with 1 Axes>"
      ]
     },
     "metadata": {},
     "output_type": "display_data"
    }
   ],
   "source": [
    "#Построим график на основе сводной таблицы, показывающей зависимость жилой площади и его цены. \n",
    "#Аномальные значения отсечем через query.\n",
    "(\n",
    "data.query('living_area > 10 and living_area < 70')\n",
    "    .pivot_table(index= 'living_area', values = 'last_price', aggfunc = 'median')\n",
    "    .plot(grid=True,  figsize=(8, 8), title='Зависимость жилой площади квартиры от цены', color = \"green\", style='o')\n",
    ");"
   ]
  },
  {
   "cell_type": "code",
   "execution_count": 29,
   "metadata": {},
   "outputs": [
    {
     "data": {
      "text/plain": [
       "0.5406077703823251"
      ]
     },
     "execution_count": 29,
     "metadata": {},
     "output_type": "execute_result"
    }
   ],
   "source": [
    "#Посчитаем коэффициент корреляции между двумя значениями living_area и last_price\n",
    "data['living_area'].corr(data['last_price'])"
   ]
  },
  {
   "cell_type": "markdown",
   "metadata": {},
   "source": [
    "Вывод: между значениями living_area и last_price также прослеживается умеренная зависимость: чем больше жилая площадь, тем больше цена."
   ]
  },
  {
   "cell_type": "markdown",
   "metadata": {},
   "source": [
    "### Площадь кухни."
   ]
  },
  {
   "cell_type": "code",
   "execution_count": 30,
   "metadata": {},
   "outputs": [
    {
     "data": {
      "text/plain": [
       "count    23565.000000\n",
       "mean        10.423234\n",
       "std          5.631746\n",
       "min          1.300000\n",
       "25%          7.300000\n",
       "50%          9.100000\n",
       "75%         11.410000\n",
       "max        112.000000\n",
       "Name: kitchen_area, dtype: float64"
      ]
     },
     "execution_count": 30,
     "metadata": {},
     "output_type": "execute_result"
    }
   ],
   "source": [
    "data['kitchen_area'].describe()"
   ]
  },
  {
   "cell_type": "code",
   "execution_count": 31,
   "metadata": {},
   "outputs": [
    {
     "data": {
      "image/png": "[encoded data removed]",
      "text/plain": [
       "<Figure size 432x288 with 1 Axes>"
      ]
     },
     "metadata": {},
     "output_type": "display_data"
    }
   ],
   "source": [
    "#Отсечем значения сильно выходящие за значения первого и четвертого квартиля \n",
    "plt.hist(data['kitchen_area'], bins=100, range=(5, 15), color = \"green\")\n",
    "plt.title('Объекты недвжимости по площади кухни')\n",
    "plt.xlabel('Площадь в кв м')\n",
    "plt.ylabel('Общее число объектов');"
   ]
  },
  {
   "cell_type": "markdown",
   "metadata": {},
   "source": [
    "Пик данных приходится на 9 кв.м, стандартный размер кухни в панельном жилье."
   ]
  },
  {
   "cell_type": "code",
   "execution_count": 32,
   "metadata": {},
   "outputs": [
    {
     "data": {
      "image/png": "[encoded data removed]",
      "text/plain": [
       "<Figure size 576x576 with 1 Axes>"
      ]
     },
     "metadata": {},
     "output_type": "display_data"
    }
   ],
   "source": [
    "#Построим график на основе сводной таблицы, показывающей зависимость жилой площади и его цены. \n",
    "#Аномальные значения отсечем через query.\n",
    "(\n",
    "data.query('kitchen_area > 5 and kitchen_area < 15')\n",
    "    .pivot_table(index= 'kitchen_area', values = 'last_price', aggfunc = 'median')\n",
    "    .plot(grid=True,  figsize=(8, 8), title='Зависимость площади кухни от цены', color = \"green\", style='o')\n",
    ");"
   ]
  },
  {
   "cell_type": "code",
   "execution_count": 33,
   "metadata": {},
   "outputs": [
    {
     "data": {
      "text/plain": [
       "0.440695080376819"
      ]
     },
     "execution_count": 33,
     "metadata": {},
     "output_type": "execute_result"
    }
   ],
   "source": [
    "#Посчитаем коэффициент корреляции между двумя значениями kitchen_area и last_price\n",
    "data['kitchen_area'].corr(data['last_price'])"
   ]
  },
  {
   "cell_type": "markdown",
   "metadata": {},
   "source": [
    "Между значениями kitchen_area и last_price также прослеживается определенная зависимость: но она слабее, чем зависимость от общей площади и жилой площади."
   ]
  },
  {
   "cell_type": "markdown",
   "metadata": {},
   "source": [
    "### Цена квартиры."
   ]
  },
  {
   "cell_type": "code",
   "execution_count": 34,
   "metadata": {},
   "outputs": [
    {
     "data": {
      "text/plain": [
       "count    2.356500e+04\n",
       "mean     6.540058e+06\n",
       "std      1.091093e+07\n",
       "min      1.219000e+04\n",
       "25%      3.400000e+06\n",
       "50%      4.646000e+06\n",
       "75%      6.790000e+06\n",
       "max      7.630000e+08\n",
       "Name: last_price, dtype: float64"
      ]
     },
     "execution_count": 34,
     "metadata": {},
     "output_type": "execute_result"
    }
   ],
   "source": [
    "data['last_price'].describe()"
   ]
  },
  {
   "cell_type": "code",
   "execution_count": 35,
   "metadata": {},
   "outputs": [
    {
     "data": {
      "image/png": "[encoded data removed]",
      "text/plain": [
       "<Figure size 432x288 with 1 Axes>"
      ]
     },
     "metadata": {},
     "output_type": "display_data"
    }
   ],
   "source": [
    "#Отсечем значения сильно выходящие за значения первого и четвертого квартиля\n",
    "plt.hist(data['last_price'], bins=100, range=(2.000000e+06, 7.090000e+06), color = \"green\")\n",
    "plt.title('Цена недвижимости')\n",
    "plt.xlabel('Стоимость недвижимости')\n",
    "plt.ylabel('Число квартир');"
   ]
  },
  {
   "cell_type": "markdown",
   "metadata": {},
   "source": [
    "Вывод: большая часть квартир стоит от 3 до 6 млн руб. Выглядит правдоподобно для стоимости недвижимости в этом регионе в прошлом десятилетии."
   ]
  },
  {
   "cell_type": "markdown",
   "metadata": {},
   "source": [
    "### Количество комнат."
   ]
  },
  {
   "cell_type": "code",
   "execution_count": 36,
   "metadata": {},
   "outputs": [
    {
     "data": {
      "text/plain": [
       "count    23565.000000\n",
       "mean         2.070656\n",
       "std          1.078591\n",
       "min          0.000000\n",
       "25%          1.000000\n",
       "50%          2.000000\n",
       "75%          3.000000\n",
       "max         19.000000\n",
       "Name: rooms, dtype: float64"
      ]
     },
     "execution_count": 36,
     "metadata": {},
     "output_type": "execute_result"
    }
   ],
   "source": [
    "data['rooms'].describe()"
   ]
  },
  {
   "cell_type": "code",
   "execution_count": 37,
   "metadata": {},
   "outputs": [
    {
     "data": {
      "image/png": "[encoded data removed]",
      "text/plain": [
       "<Figure size 432x288 with 1 Axes>"
      ]
     },
     "metadata": {},
     "output_type": "display_data"
    }
   ],
   "source": [
    "plt.hist(data['rooms'], bins=10, range=(1, 10), color = \"green\", ec='black')\n",
    "plt.title('Объекты недвижимости по кол-ву комнат')\n",
    "plt.xlabel('Количество комнат')\n",
    "plt.ylabel('Общее число объектов');"
   ]
  },
  {
   "cell_type": "markdown",
   "metadata": {},
   "source": [
    "Большая часть квартир имеет 1,2 и 3 комнаты. Вопросов к данным нет."
   ]
  },
  {
   "cell_type": "code",
   "execution_count": 38,
   "metadata": {},
   "outputs": [
    {
     "data": {
      "text/plain": [
       "<AxesSubplot:title={'center':'Зависимость кол-ва комнат от цены'}, xlabel='rooms'>"
      ]
     },
     "execution_count": 38,
     "metadata": {},
     "output_type": "execute_result"
    },
    {
     "data": {
      "image/png": "[encoded data removed]",
      "text/plain": [
       "<Figure size 576x576 with 1 Axes>"
      ]
     },
     "metadata": {},
     "output_type": "display_data"
    }
   ],
   "source": [
    "(\n",
    "data.query('rooms >= 1 and rooms < 8')\n",
    "    .pivot_table(index= 'rooms', values = 'last_price', aggfunc = 'median')\n",
    "    .plot(grid=True,  figsize=(8, 8), title='Зависимость кол-ва комнат от цены', color = \"green\", style='-o')\n",
    ")"
   ]
  },
  {
   "cell_type": "code",
   "execution_count": 39,
   "metadata": {},
   "outputs": [
    {
     "data": {
      "text/plain": [
       "0.3631905485065752"
      ]
     },
     "execution_count": 39,
     "metadata": {},
     "output_type": "execute_result"
    }
   ],
   "source": [
    "#Посчитаем коэффициент корреляции между двумя значениями rooms и last_price\n",
    "data['rooms'].corr(data['last_price'])"
   ]
  },
  {
   "cell_type": "markdown",
   "metadata": {},
   "source": [
    "Вывод: между rooms и last_price есть зависимость. При этом из графика видно, что с каждой дополнительной комнатой она становится сильнее."
   ]
  },
  {
   "cell_type": "markdown",
   "metadata": {},
   "source": [
    "### Высота потолков."
   ]
  },
  {
   "cell_type": "code",
   "execution_count": 40,
   "metadata": {},
   "outputs": [
    {
     "data": {
      "text/plain": [
       "count    23565.000000\n",
       "mean         2.698746\n",
       "std          0.253630\n",
       "min          1.000000\n",
       "25%          2.600000\n",
       "50%          2.650000\n",
       "75%          2.700000\n",
       "max         14.000000\n",
       "Name: ceiling_height, dtype: float64"
      ]
     },
     "execution_count": 40,
     "metadata": {},
     "output_type": "execute_result"
    }
   ],
   "source": [
    "data['ceiling_height'].describe()"
   ]
  },
  {
   "cell_type": "code",
   "execution_count": 41,
   "metadata": {},
   "outputs": [
    {
     "data": {
      "image/png": "[encoded data removed]",
      "text/plain": [
       "<Figure size 432x288 with 1 Axes>"
      ]
     },
     "metadata": {},
     "output_type": "display_data"
    }
   ],
   "source": [
    "#Отсечем значения сильно выходящие за значения первого и четвертого квартиля \n",
    "plt.hist(data['ceiling_height'], bins=5, range=(1,5), color = \"green\", ec='black')\n",
    "plt.title('Объекты недвижимости по высоте потолков')\n",
    "plt.xlabel('Высота потолков')\n",
    "plt.ylabel('Общее число объектов');"
   ]
  },
  {
   "cell_type": "markdown",
   "metadata": {},
   "source": [
    "Вывод: размеры потоко варьируются от 1,8 м до 3,3 м, что тоже вполне стандартно."
   ]
  },
  {
   "cell_type": "markdown",
   "metadata": {},
   "source": [
    "### Категоризация по этажам."
   ]
  },
  {
   "cell_type": "code",
   "execution_count": 42,
   "metadata": {},
   "outputs": [
    {
     "data": {
      "text/plain": [
       "count      23565\n",
       "unique         3\n",
       "top       другой\n",
       "freq       17326\n",
       "Name: category_by_floor, dtype: object"
      ]
     },
     "execution_count": 42,
     "metadata": {},
     "output_type": "execute_result"
    }
   ],
   "source": [
    "data['category_by_floor'].describe()"
   ]
  },
  {
   "cell_type": "code",
   "execution_count": 43,
   "metadata": {},
   "outputs": [
    {
     "data": {
      "image/png": "[encoded data removed]",
      "text/plain": [
       "<Figure size 432x288 with 1 Axes>"
      ]
     },
     "metadata": {},
     "output_type": "display_data"
    }
   ],
   "source": [
    "plt.hist(data['category_by_floor'], bins=3, range=(0, 3), color = \"green\", ec='black')\n",
    "plt.title('Объекты недвижимости по категориям')\n",
    "plt.xlabel('Категория этажа')\n",
    "plt.ylabel('Общее число объектов');"
   ]
  },
  {
   "cell_type": "code",
   "execution_count": 44,
   "metadata": {},
   "outputs": [
    {
     "data": {
      "image/png": "[encoded data removed]",
      "text/plain": [
       "<Figure size 576x576 with 1 Axes>"
      ]
     },
     "metadata": {},
     "output_type": "display_data"
    }
   ],
   "source": [
    "(\n",
    "data.pivot_table(index='category_by_floor', values ='last_price', aggfunc = 'median')\n",
    "    .plot(grid=True,  figsize=(8, 8), title='Зависимость расположения этажа от цены жилья', color = \"green\", style='-o')\n",
    ")\n",
    "plt.xlabel('Расположение этажа в доме')\n",
    "plt.ylabel('Цена жилья')\n",
    "plt.show()"
   ]
  },
  {
   "cell_type": "markdown",
   "metadata": {},
   "source": [
    "Вывод: жилье на первом и последнем этаже гораздо дешевле, чем на любом другом."
   ]
  },
  {
   "cell_type": "markdown",
   "metadata": {},
   "source": [
    "### Общее количество этажей в доме."
   ]
  },
  {
   "cell_type": "code",
   "execution_count": 45,
   "metadata": {},
   "outputs": [
    {
     "data": {
      "text/plain": [
       "count    23565.000000\n",
       "mean        10.675875\n",
       "std          6.594823\n",
       "min          1.000000\n",
       "25%          5.000000\n",
       "50%          9.000000\n",
       "75%         16.000000\n",
       "max         60.000000\n",
       "Name: floors_total, dtype: float64"
      ]
     },
     "execution_count": 45,
     "metadata": {},
     "output_type": "execute_result"
    }
   ],
   "source": [
    "data['floors_total'].describe()"
   ]
  },
  {
   "cell_type": "code",
   "execution_count": 46,
   "metadata": {},
   "outputs": [
    {
     "data": {
      "image/png": "[encoded data removed]",
      "text/plain": [
       "<Figure size 432x288 with 1 Axes>"
      ]
     },
     "metadata": {},
     "output_type": "display_data"
    }
   ],
   "source": [
    "plt.hist(data['floors_total'], bins=20, range=(0, 30), color = \"green\", ec='black')\n",
    "plt.title('Этажность домов')\n",
    "plt.xlabel('Количество этажей в доме')\n",
    "plt.ylabel('Общее число объектов');"
   ]
  },
  {
   "cell_type": "markdown",
   "metadata": {},
   "source": [
    "Вывод: Большая часть квартир располагается в домах с пятью и девятью этажами."
   ]
  },
  {
   "cell_type": "markdown",
   "metadata": {},
   "source": [
    "### Расстояние от центра города."
   ]
  },
  {
   "cell_type": "code",
   "execution_count": 47,
   "metadata": {},
   "outputs": [
    {
     "data": {
      "text/plain": [
       "count    18064.000000\n",
       "mean        14.186504\n",
       "std          8.621131\n",
       "min          0.000000\n",
       "25%          9.000000\n",
       "50%         13.000000\n",
       "75%         16.000000\n",
       "max         66.000000\n",
       "Name: city_center_distance, dtype: float64"
      ]
     },
     "execution_count": 47,
     "metadata": {},
     "output_type": "execute_result"
    }
   ],
   "source": [
    "data['city_center_distance'].describe()"
   ]
  },
  {
   "cell_type": "code",
   "execution_count": 48,
   "metadata": {},
   "outputs": [
    {
     "data": {
      "image/png": "[encoded data removed]",
      "text/plain": [
       "<Figure size 432x288 with 1 Axes>"
      ]
     },
     "metadata": {},
     "output_type": "display_data"
    }
   ],
   "source": [
    "plt.hist(data['city_center_distance'], bins=10, range=(0, 25), color = \"green\", ec='black')\n",
    "plt.title('Расстояние до центра города')\n",
    "plt.xlabel('Расстояние (в км)')\n",
    "plt.ylabel('Общее число объектов');"
   ]
  },
  {
   "cell_type": "markdown",
   "metadata": {},
   "source": [
    "Вывод: у большинства объектов недвижимости, по которым у нас есть данные, расстояние до центра составляет от 10 до 17 км."
   ]
  },
  {
   "cell_type": "markdown",
   "metadata": {},
   "source": [
    "### Расстояние до ближайшего парка."
   ]
  },
  {
   "cell_type": "code",
   "execution_count": 49,
   "metadata": {},
   "outputs": [
    {
     "data": {
      "text/plain": [
       "count    8030.000000\n",
       "mean      490.580448\n",
       "std       341.572956\n",
       "min         1.000000\n",
       "25%       288.000000\n",
       "50%       455.000000\n",
       "75%       612.000000\n",
       "max      3190.000000\n",
       "Name: parks_nearest, dtype: float64"
      ]
     },
     "execution_count": 49,
     "metadata": {},
     "output_type": "execute_result"
    }
   ],
   "source": [
    "data['parks_nearest'].describe()"
   ]
  },
  {
   "cell_type": "code",
   "execution_count": 50,
   "metadata": {},
   "outputs": [
    {
     "data": {
      "image/png": "[encoded data removed]",
      "text/plain": [
       "<Figure size 432x288 with 1 Axes>"
      ]
     },
     "metadata": {},
     "output_type": "display_data"
    }
   ],
   "source": [
    "plt.hist(data['parks_nearest'], bins=40, range=(50, 3190), color = \"green\", ec='black')\n",
    "plt.title('Расстояние до ближайшего парка')\n",
    "plt.xlabel('Расстояние (в м)')\n",
    "plt.ylabel('Общее число объектов');"
   ]
  },
  {
   "cell_type": "markdown",
   "metadata": {},
   "source": [
    "Вывод: у большинства объектов недвижимости, по которым у нас есть данные, расстояние до ближайшего парка составляет от 200 до 900 м."
   ]
  },
  {
   "cell_type": "markdown",
   "metadata": {},
   "source": [
    "<div class=\"alert alert-success\">\n",
    "<b>✔️ Комментарий ревьюера v1:</b> \n",
    "<br>Ты корректно подбираешь основные диапазоны, а также верно читаешь графики! \n",
    "</div>"
   ]
  },
  {
   "cell_type": "markdown",
   "metadata": {},
   "source": [
    "### Зависимость цены квартиры от даты размещения (день недели, месяц, год)."
   ]
  },
  {
   "cell_type": "code",
   "execution_count": 51,
   "metadata": {},
   "outputs": [
    {
     "data": {
      "image/png": "[encoded data removed]",
      "text/plain": [
       "<Figure size 864x576 with 1 Axes>"
      ]
     },
     "metadata": {},
     "output_type": "display_data"
    },
    {
     "data": {
      "image/png": "[encoded data removed]",
      "text/plain": [
       "<Figure size 864x576 with 1 Axes>"
      ]
     },
     "metadata": {},
     "output_type": "display_data"
    },
    {
     "data": {
      "image/png": "[encoded data removed]",
      "text/plain": [
       "<Figure size 864x576 with 1 Axes>"
      ]
     },
     "metadata": {},
     "output_type": "display_data"
    }
   ],
   "source": [
    "#Зависимость от дня\n",
    "(\n",
    "data.pivot_table(index='date_issued', values='last_price')\n",
    "    .plot(grid=True, figsize=(12, 8), color = \"green\", style='o-')\n",
    ")\n",
    "plt.show()\n",
    "#Зависимость от месяца\n",
    "(\n",
    "data.pivot_table(index='month_issued', values='last_price')\n",
    "    .plot(grid=True, figsize=(12, 8), color = \"green\", style='o-')\n",
    ")\n",
    "plt.show()\n",
    "#Зависимость от года\n",
    "(\n",
    "data.pivot_table(index='year_issued', values='last_price')\n",
    "    .plot(grid=True, figsize=(12, 8), color = \"green\", style='o-')\n",
    ")\n",
    "plt.show()"
   ]
  },
  {
   "cell_type": "markdown",
   "metadata": {},
   "source": [
    "Вывод: на вышеприведенных графиках видно, что:\n",
    "- В субботу и четверг опубликованы наиболее дорогие квартиры\n",
    "- В сентябре, апреле и декабре опубликованы объявления с наиболее дорогими объектами\n",
    "- Цены на квартиры снижались в 2015-2017 г, с 2018 начали расти"
   ]
  },
  {
   "cell_type": "markdown",
   "metadata": {},
   "source": [
    "### Задание «Изучите, как быстро продавались квартиры (столбец days_exposition)"
   ]
  },
  {
   "cell_type": "code",
   "execution_count": 52,
   "metadata": {},
   "outputs": [
    {
     "data": {
      "text/plain": [
       "count    20394.000000\n",
       "mean       180.741395\n",
       "std        219.732782\n",
       "min          1.000000\n",
       "25%         45.000000\n",
       "50%         95.000000\n",
       "75%        231.000000\n",
       "max       1580.000000\n",
       "Name: days_exposition, dtype: float64"
      ]
     },
     "execution_count": 52,
     "metadata": {},
     "output_type": "execute_result"
    }
   ],
   "source": [
    "#Посмотрим данные в столбце days_exposition\n",
    "data['days_exposition'].describe()"
   ]
  },
  {
   "cell_type": "markdown",
   "metadata": {},
   "source": [
    "Из данных выше видно, что количество дней между вторым и третьим квартилем варьируется от 45 до 95. При этом до 75% объектов были проданы в течение 231 дня. Составим график, установим значения от 30 до 300 дней и посмотрим на их распределение."
   ]
  },
  {
   "cell_type": "code",
   "execution_count": 53,
   "metadata": {},
   "outputs": [
    {
     "data": {
      "image/png": "[encoded data removed]",
      "text/plain": [
       "<Figure size 432x288 with 1 Axes>"
      ]
     },
     "metadata": {},
     "output_type": "display_data"
    }
   ],
   "source": [
    "# Строим гистограмму\n",
    "plt.hist(data['days_exposition'], bins=100, range=(30, 300), color = \"green\", ec='black')\n",
    "plt.title('Время продажи объектов')\n",
    "plt.xlabel('Время (в днях)')\n",
    "plt.ylabel('Общее число объектов');"
   ]
  },
  {
   "cell_type": "markdown",
   "metadata": {},
   "source": [
    "Вывод: наибольшее количество продаж приходится на период 40-60 дней. Быстрыми можно назвать продажи, состоявшиеся после 40-45 дней после размещения объявления, долгими - больше 231 дня после размещения объявления."
   ]
  },
  {
   "cell_type": "code",
   "execution_count": 54,
   "metadata": {},
   "outputs": [
    {
     "data": {
      "image/png": "[encoded data removed]",
      "text/plain": [
       "<Figure size 432x288 with 1 Axes>"
      ]
     },
     "metadata": {},
     "output_type": "display_data"
    }
   ],
   "source": [
    "# Строим гистограмму\n",
    "plt.hist(data['days_exposition'], bins=100, range=(0, 100), color = \"green\", ec='black')\n",
    "plt.title('Время продажи объектов')\n",
    "plt.xlabel('Время (в днях)')\n",
    "plt.ylabel('Общее число объектов');"
   ]
  },
  {
   "cell_type": "markdown",
   "metadata": {},
   "source": [
    "<div class=\"alert alert-info\">\n",
    "<b>Комментарий студента:</b>\n",
    "<br> Скорее всего объявление просто убиралось автоматически через 45 дней после публикации 🙂\n",
    "</div>"
   ]
  },
  {
   "cell_type": "markdown",
   "metadata": {},
   "source": [
    "### Посчитайте среднюю цену одного квадратного метра в 10 населённых пунктах с наибольшим числом объявлений"
   ]
  },
  {
   "cell_type": "code",
   "execution_count": 55,
   "metadata": {},
   "outputs": [
    {
     "data": {
      "text/plain": [
       "Санкт-Петербург    15651\n",
       "Мурино               586\n",
       "Кудрово              470\n",
       "Шушары               439\n",
       "Всеволожск           398\n",
       "Пушкин               369\n",
       "Колпино              338\n",
       "Парголово            327\n",
       "Гатчина              307\n",
       "Выборг               237\n",
       "Name: locality_name, dtype: int64"
      ]
     },
     "execution_count": 55,
     "metadata": {},
     "output_type": "execute_result"
    }
   ],
   "source": [
    "#Отсортируем данные в столбце locality_name по 10 пунктам с наибольшим числом объявлений\n",
    "data['locality_name'].value_counts().head(10)"
   ]
  },
  {
   "cell_type": "code",
   "execution_count": 56,
   "metadata": {},
   "outputs": [
    {
     "data": {
      "image/png": "[encoded data removed]",
      "text/plain": [
       "<Figure size 432x288 with 1 Axes>"
      ]
     },
     "metadata": {},
     "output_type": "display_data"
    }
   ],
   "source": [
    "#Методом query обратимся к самым популярным населенным пунктам выше, создадим сводную таблицу и отсортируем данные по убыванию\n",
    "(\n",
    "data.query('locality_name == [\"Санкт-Петербург\",\"Мурино\",\"Кудрово\",\"Шушары\",\"Всеволожск\",\"Пушкин\",\"Колпино\",\"Парголово\",\"Гатчина\",\"Выборг\"]')\n",
    "    .pivot_table(index='locality_name', values='sq_m_price')\n",
    "    .sort_values(by='sq_m_price', ascending = False)\n",
    "    .plot(kind='bar', legend=True, grid=True,color = \"green\", ec='black')\n",
    ");"
   ]
  },
  {
   "cell_type": "markdown",
   "metadata": {},
   "source": [
    "Вывод: наибольшая цена одного квадратного метра в г. Санкт-Петербург, в аутсайдерах - Гатчина, Всеволожск\tи Выборг."
   ]
  },
  {
   "cell_type": "markdown",
   "metadata": {},
   "source": [
    "#### Выделите квартиры в Санкт-Петербурге с помощью столбца locality_name и вычислите их среднюю стоимость на разном удалении от центра"
   ]
  },
  {
   "cell_type": "code",
   "execution_count": 57,
   "metadata": {},
   "outputs": [
    {
     "data": {
      "image/png": "[encoded data removed]",
      "text/plain": [
       "<Figure size 864x360 with 1 Axes>"
      ]
     },
     "metadata": {},
     "output_type": "display_data"
    }
   ],
   "source": [
    "#Переведем данные в столбце last_price в млн руб.\n",
    "data['last_price'] = data['last_price'] / 1000000\n",
    "#Методом query \n",
    "(\n",
    "data.query('locality_name == \"Санкт-Петербург\"')\n",
    "    .pivot_table(index='city_center_distance', values='last_price')\n",
    "    .plot(grid=True, figsize=(12, 5), color = \"green\", style='o-', legend=False)\n",
    ")\n",
    "plt.title('Стоимость на удалении от центра')\n",
    "plt.xlabel('Расстояние до центра в км')\n",
    "plt.ylabel('Цена в млн руб.');"
   ]
  },
  {
   "cell_type": "markdown",
   "metadata": {},
   "source": [
    "Вывод: удаление от центра города более, чем на 9 км уже не сильно влияет на цену недвижимости. Выброс в конце графика может говорить о жилье бизнес-класса и выше вне городской черты."
   ]
  },
  {
   "cell_type": "markdown",
   "metadata": {
    "id": "h7VpzkIDAwb-"
   },
   "source": [
    "## Общий вывод."
   ]
  },
  {
   "cell_type": "markdown",
   "metadata": {
    "id": "3H4lnp_KAwb-"
   },
   "source": [
    "В ходе исследования была проведена предобработка данных, добавлены новые параметры, исследованы параметры, характеризующие объекты недвижимости их влияние на ее стоимость.\n",
    "- Наибольшее влияние на цену объекта оказывает площадь недвижимости\n",
    "- Расстояние до центра города оказывает влияние на цену в радиусе 9 км\n",
    "- Квартиры в Санкт-Петербурге имеют гораздо большую цену кв. м., чем в окрестностях города\n",
    "- Срок продажи для большей части квартир не превышает 95 дней (~3 месяца)\n",
    "- Большая часть объектов представляют собой однокомнатные, двухкомнатные и трехкомнатные квартиры. Число комнат также влияет на конечную стоимость жилья.\n",
    "- Объекты, находящиеся на первом и последнем этаже продаются с дисконтом\n",
    "- Большая часть объектов являются квартирами в пятиэтажных и девятиэтажных домах."
   ]
  }
 ],
 "metadata": {
  "ExecuteTimeLog": [
   {
    "duration": 694,
    "start_time": "2024-03-02T14:37:43.598Z"
   },
   {
    "duration": 455,
    "start_time": "2024-03-02T14:37:56.210Z"
   },
   {
    "duration": 517,
    "start_time": "2024-03-02T14:38:18.150Z"
   },
   {
    "duration": 522,
    "start_time": "2024-03-02T14:39:06.645Z"
   },
   {
    "duration": 12,
    "start_time": "2024-03-02T14:39:07.168Z"
   },
   {
    "duration": 474,
    "start_time": "2024-03-02T14:40:47.529Z"
   },
   {
    "duration": 10,
    "start_time": "2024-03-02T14:40:48.005Z"
   },
   {
    "duration": 76,
    "start_time": "2024-03-02T14:41:16.533Z"
   },
   {
    "duration": 0,
    "start_time": "2024-03-02T14:41:16.611Z"
   },
   {
    "duration": 510,
    "start_time": "2024-03-02T14:41:33.551Z"
   },
   {
    "duration": 11,
    "start_time": "2024-03-02T14:41:34.063Z"
   },
   {
    "duration": 504,
    "start_time": "2024-03-02T14:42:21.461Z"
   },
   {
    "duration": 12,
    "start_time": "2024-03-02T14:42:21.967Z"
   },
   {
    "duration": 543,
    "start_time": "2024-03-02T14:43:00.735Z"
   },
   {
    "duration": 26,
    "start_time": "2024-03-02T14:43:01.280Z"
   },
   {
    "duration": 550,
    "start_time": "2024-03-02T14:43:12.828Z"
   },
   {
    "duration": 27,
    "start_time": "2024-03-02T14:43:13.380Z"
   },
   {
    "duration": 541,
    "start_time": "2024-03-02T14:44:23.532Z"
   },
   {
    "duration": 25,
    "start_time": "2024-03-02T14:44:24.075Z"
   },
   {
    "duration": 22,
    "start_time": "2024-03-02T14:44:24.102Z"
   },
   {
    "duration": 548,
    "start_time": "2024-03-02T14:46:18.541Z"
   },
   {
    "duration": 33,
    "start_time": "2024-03-02T14:46:19.091Z"
   },
   {
    "duration": 20,
    "start_time": "2024-03-02T14:46:19.125Z"
   },
   {
    "duration": 860,
    "start_time": "2024-03-02T14:46:19.147Z"
   },
   {
    "duration": 496,
    "start_time": "2024-03-02T14:47:23.893Z"
   },
   {
    "duration": 26,
    "start_time": "2024-03-02T14:47:24.391Z"
   },
   {
    "duration": 693,
    "start_time": "2024-03-02T14:47:24.420Z"
   },
   {
    "duration": 22,
    "start_time": "2024-03-02T14:47:25.115Z"
   },
   {
    "duration": 479,
    "start_time": "2024-03-02T15:03:57.718Z"
   },
   {
    "duration": 27,
    "start_time": "2024-03-02T15:03:58.198Z"
   },
   {
    "duration": 710,
    "start_time": "2024-03-02T15:03:58.226Z"
   },
   {
    "duration": 29,
    "start_time": "2024-03-02T15:03:58.938Z"
   },
   {
    "duration": 710,
    "start_time": "2024-03-02T15:41:57.791Z"
   },
   {
    "duration": 15,
    "start_time": "2024-03-02T15:41:58.503Z"
   },
   {
    "duration": 8,
    "start_time": "2024-03-02T15:41:58.522Z"
   },
   {
    "duration": 751,
    "start_time": "2024-03-02T15:42:23.978Z"
   },
   {
    "duration": 20,
    "start_time": "2024-03-02T15:42:24.731Z"
   },
   {
    "duration": 11,
    "start_time": "2024-03-02T15:42:24.753Z"
   },
   {
    "duration": 762,
    "start_time": "2024-03-02T16:29:17.661Z"
   },
   {
    "duration": 14,
    "start_time": "2024-03-02T16:29:18.425Z"
   },
   {
    "duration": 9,
    "start_time": "2024-03-02T16:29:18.441Z"
   },
   {
    "duration": 76,
    "start_time": "2024-03-02T16:29:18.452Z"
   },
   {
    "duration": 720,
    "start_time": "2024-03-02T16:29:32.124Z"
   },
   {
    "duration": 19,
    "start_time": "2024-03-02T16:29:32.846Z"
   },
   {
    "duration": 10,
    "start_time": "2024-03-02T16:29:32.867Z"
   },
   {
    "duration": 23,
    "start_time": "2024-03-02T16:29:32.878Z"
   },
   {
    "duration": 709,
    "start_time": "2024-03-02T16:50:27.104Z"
   },
   {
    "duration": 14,
    "start_time": "2024-03-02T16:50:27.814Z"
   },
   {
    "duration": 8,
    "start_time": "2024-03-02T16:50:27.830Z"
   },
   {
    "duration": 35,
    "start_time": "2024-03-02T16:50:27.840Z"
   },
   {
    "duration": 76,
    "start_time": "2024-03-02T16:50:27.877Z"
   },
   {
    "duration": 757,
    "start_time": "2024-03-02T16:51:17.133Z"
   },
   {
    "duration": 14,
    "start_time": "2024-03-02T16:51:17.891Z"
   },
   {
    "duration": 8,
    "start_time": "2024-03-02T16:51:17.907Z"
   },
   {
    "duration": 25,
    "start_time": "2024-03-02T16:51:17.916Z"
   },
   {
    "duration": 69,
    "start_time": "2024-03-02T16:51:17.943Z"
   },
   {
    "duration": 777,
    "start_time": "2024-03-02T16:53:13.246Z"
   },
   {
    "duration": 15,
    "start_time": "2024-03-02T16:53:14.025Z"
   },
   {
    "duration": 12,
    "start_time": "2024-03-02T16:53:14.042Z"
   },
   {
    "duration": 23,
    "start_time": "2024-03-02T16:53:14.065Z"
   },
   {
    "duration": 79,
    "start_time": "2024-03-02T16:53:14.090Z"
   },
   {
    "duration": 739,
    "start_time": "2024-03-02T16:53:23.183Z"
   },
   {
    "duration": 14,
    "start_time": "2024-03-02T16:53:23.924Z"
   },
   {
    "duration": 8,
    "start_time": "2024-03-02T16:53:23.942Z"
   },
   {
    "duration": 38,
    "start_time": "2024-03-02T16:53:23.952Z"
   },
   {
    "duration": 85,
    "start_time": "2024-03-02T16:53:23.991Z"
   },
   {
    "duration": 736,
    "start_time": "2024-03-02T16:53:50.089Z"
   },
   {
    "duration": 14,
    "start_time": "2024-03-02T16:53:50.828Z"
   },
   {
    "duration": 11,
    "start_time": "2024-03-02T16:53:50.844Z"
   },
   {
    "duration": 24,
    "start_time": "2024-03-02T16:53:50.866Z"
   },
   {
    "duration": 71,
    "start_time": "2024-03-02T16:53:50.892Z"
   },
   {
    "duration": 707,
    "start_time": "2024-03-02T16:56:28.818Z"
   },
   {
    "duration": 15,
    "start_time": "2024-03-02T16:56:29.527Z"
   },
   {
    "duration": 22,
    "start_time": "2024-03-02T16:56:29.543Z"
   },
   {
    "duration": 23,
    "start_time": "2024-03-02T16:56:29.567Z"
   },
   {
    "duration": 68,
    "start_time": "2024-03-02T16:56:29.592Z"
   },
   {
    "duration": 728,
    "start_time": "2024-03-02T16:57:14.514Z"
   },
   {
    "duration": 21,
    "start_time": "2024-03-02T16:57:15.244Z"
   },
   {
    "duration": 31,
    "start_time": "2024-03-02T16:57:15.267Z"
   },
   {
    "duration": 42,
    "start_time": "2024-03-02T16:57:15.300Z"
   },
   {
    "duration": 74,
    "start_time": "2024-03-02T16:57:15.344Z"
   },
   {
    "duration": 727,
    "start_time": "2024-03-02T16:58:06.563Z"
   },
   {
    "duration": 15,
    "start_time": "2024-03-02T16:58:07.292Z"
   },
   {
    "duration": 10,
    "start_time": "2024-03-02T16:58:07.309Z"
   },
   {
    "duration": 47,
    "start_time": "2024-03-02T16:58:07.321Z"
   },
   {
    "duration": 13,
    "start_time": "2024-03-02T16:58:07.370Z"
   },
   {
    "duration": 699,
    "start_time": "2024-03-02T16:58:34.216Z"
   },
   {
    "duration": 14,
    "start_time": "2024-03-02T16:58:34.917Z"
   },
   {
    "duration": 25,
    "start_time": "2024-03-02T16:58:34.932Z"
   },
   {
    "duration": 28,
    "start_time": "2024-03-02T16:58:34.959Z"
   },
   {
    "duration": 19,
    "start_time": "2024-03-02T16:58:34.989Z"
   },
   {
    "duration": 731,
    "start_time": "2024-03-02T17:03:13.305Z"
   },
   {
    "duration": 27,
    "start_time": "2024-03-02T17:03:14.038Z"
   },
   {
    "duration": 14,
    "start_time": "2024-03-02T17:03:14.067Z"
   },
   {
    "duration": 31,
    "start_time": "2024-03-02T17:03:14.083Z"
   },
   {
    "duration": 8,
    "start_time": "2024-03-02T17:03:14.115Z"
   },
   {
    "duration": 713,
    "start_time": "2024-03-02T17:05:17.478Z"
   },
   {
    "duration": 14,
    "start_time": "2024-03-02T17:05:18.193Z"
   },
   {
    "duration": 21,
    "start_time": "2024-03-02T17:05:18.209Z"
   },
   {
    "duration": 25,
    "start_time": "2024-03-02T17:05:18.231Z"
   },
   {
    "duration": 10,
    "start_time": "2024-03-02T17:05:18.258Z"
   },
   {
    "duration": 7,
    "start_time": "2024-03-02T17:05:18.270Z"
   },
   {
    "duration": 757,
    "start_time": "2024-03-02T17:12:07.764Z"
   },
   {
    "duration": 13,
    "start_time": "2024-03-02T17:12:08.523Z"
   },
   {
    "duration": 22,
    "start_time": "2024-03-02T17:12:08.538Z"
   },
   {
    "duration": 41,
    "start_time": "2024-03-02T17:12:08.561Z"
   },
   {
    "duration": 15,
    "start_time": "2024-03-02T17:12:08.604Z"
   },
   {
    "duration": 20,
    "start_time": "2024-03-02T17:12:08.620Z"
   },
   {
    "duration": 765,
    "start_time": "2024-03-02T17:17:55.115Z"
   },
   {
    "duration": 19,
    "start_time": "2024-03-02T17:17:55.884Z"
   },
   {
    "duration": 14,
    "start_time": "2024-03-02T17:17:55.905Z"
   },
   {
    "duration": 57,
    "start_time": "2024-03-02T17:17:55.920Z"
   },
   {
    "duration": 8,
    "start_time": "2024-03-02T17:17:55.980Z"
   },
   {
    "duration": 11,
    "start_time": "2024-03-02T17:17:55.990Z"
   },
   {
    "duration": 91,
    "start_time": "2024-03-02T17:17:56.003Z"
   },
   {
    "duration": 732,
    "start_time": "2024-03-02T17:18:23.203Z"
   },
   {
    "duration": 16,
    "start_time": "2024-03-02T17:18:23.937Z"
   },
   {
    "duration": 26,
    "start_time": "2024-03-02T17:18:23.955Z"
   },
   {
    "duration": 45,
    "start_time": "2024-03-02T17:18:23.983Z"
   },
   {
    "duration": 9,
    "start_time": "2024-03-02T17:18:24.030Z"
   },
   {
    "duration": 26,
    "start_time": "2024-03-02T17:18:24.040Z"
   },
   {
    "duration": 9,
    "start_time": "2024-03-02T17:18:24.068Z"
   },
   {
    "duration": 741,
    "start_time": "2024-03-02T17:22:51.910Z"
   },
   {
    "duration": 23,
    "start_time": "2024-03-02T17:22:52.653Z"
   },
   {
    "duration": 10,
    "start_time": "2024-03-02T17:22:52.677Z"
   },
   {
    "duration": 24,
    "start_time": "2024-03-02T17:22:52.689Z"
   },
   {
    "duration": 8,
    "start_time": "2024-03-02T17:22:52.715Z"
   },
   {
    "duration": 6,
    "start_time": "2024-03-02T17:22:52.725Z"
   },
   {
    "duration": 42,
    "start_time": "2024-03-02T17:22:52.733Z"
   },
   {
    "duration": 755,
    "start_time": "2024-03-02T17:23:53.034Z"
   },
   {
    "duration": 14,
    "start_time": "2024-03-02T17:23:53.792Z"
   },
   {
    "duration": 13,
    "start_time": "2024-03-02T17:23:53.808Z"
   },
   {
    "duration": 43,
    "start_time": "2024-03-02T17:23:53.823Z"
   },
   {
    "duration": 8,
    "start_time": "2024-03-02T17:23:53.868Z"
   },
   {
    "duration": 23,
    "start_time": "2024-03-02T17:23:53.878Z"
   },
   {
    "duration": 32,
    "start_time": "2024-03-02T17:23:53.903Z"
   },
   {
    "duration": 772,
    "start_time": "2024-03-02T17:24:06.733Z"
   },
   {
    "duration": 14,
    "start_time": "2024-03-02T17:24:07.507Z"
   },
   {
    "duration": 9,
    "start_time": "2024-03-02T17:24:07.522Z"
   },
   {
    "duration": 40,
    "start_time": "2024-03-02T17:24:07.532Z"
   },
   {
    "duration": 8,
    "start_time": "2024-03-02T17:24:07.574Z"
   },
   {
    "duration": 8,
    "start_time": "2024-03-02T17:24:07.584Z"
   },
   {
    "duration": 35,
    "start_time": "2024-03-02T17:24:07.593Z"
   },
   {
    "duration": 787,
    "start_time": "2024-03-02T17:25:08.373Z"
   },
   {
    "duration": 15,
    "start_time": "2024-03-02T17:25:09.165Z"
   },
   {
    "duration": 9,
    "start_time": "2024-03-02T17:25:09.181Z"
   },
   {
    "duration": 24,
    "start_time": "2024-03-02T17:25:09.192Z"
   },
   {
    "duration": 9,
    "start_time": "2024-03-02T17:25:09.218Z"
   },
   {
    "duration": 21,
    "start_time": "2024-03-02T17:25:09.228Z"
   },
   {
    "duration": 13,
    "start_time": "2024-03-02T17:25:09.265Z"
   },
   {
    "duration": 726,
    "start_time": "2024-03-02T17:25:27.808Z"
   },
   {
    "duration": 15,
    "start_time": "2024-03-02T17:25:28.537Z"
   },
   {
    "duration": 17,
    "start_time": "2024-03-02T17:25:28.554Z"
   },
   {
    "duration": 33,
    "start_time": "2024-03-02T17:25:28.572Z"
   },
   {
    "duration": 8,
    "start_time": "2024-03-02T17:25:28.607Z"
   },
   {
    "duration": 104,
    "start_time": "2024-03-02T17:25:28.617Z"
   },
   {
    "duration": 0,
    "start_time": "2024-03-02T17:25:28.723Z"
   },
   {
    "duration": 747,
    "start_time": "2024-03-02T17:27:02.797Z"
   },
   {
    "duration": 21,
    "start_time": "2024-03-02T17:27:03.545Z"
   },
   {
    "duration": 9,
    "start_time": "2024-03-02T17:27:03.568Z"
   },
   {
    "duration": 33,
    "start_time": "2024-03-02T17:27:03.578Z"
   },
   {
    "duration": 7,
    "start_time": "2024-03-02T17:27:03.613Z"
   },
   {
    "duration": 80,
    "start_time": "2024-03-02T17:27:03.622Z"
   },
   {
    "duration": 0,
    "start_time": "2024-03-02T17:27:03.703Z"
   },
   {
    "duration": 777,
    "start_time": "2024-03-02T17:27:11.747Z"
   },
   {
    "duration": 15,
    "start_time": "2024-03-02T17:27:12.526Z"
   },
   {
    "duration": 35,
    "start_time": "2024-03-02T17:27:12.542Z"
   },
   {
    "duration": 24,
    "start_time": "2024-03-02T17:27:12.579Z"
   },
   {
    "duration": 8,
    "start_time": "2024-03-02T17:27:12.605Z"
   },
   {
    "duration": 6,
    "start_time": "2024-03-02T17:27:12.614Z"
   },
   {
    "duration": 15,
    "start_time": "2024-03-02T17:27:12.622Z"
   },
   {
    "duration": 739,
    "start_time": "2024-03-02T17:28:01.226Z"
   },
   {
    "duration": 14,
    "start_time": "2024-03-02T17:28:01.967Z"
   },
   {
    "duration": 17,
    "start_time": "2024-03-02T17:28:01.982Z"
   },
   {
    "duration": 47,
    "start_time": "2024-03-02T17:28:02.000Z"
   },
   {
    "duration": 24,
    "start_time": "2024-03-02T17:28:02.049Z"
   },
   {
    "duration": 34,
    "start_time": "2024-03-02T17:28:02.074Z"
   },
   {
    "duration": 19,
    "start_time": "2024-03-02T17:28:02.109Z"
   },
   {
    "duration": 787,
    "start_time": "2024-03-02T17:28:15.051Z"
   },
   {
    "duration": 24,
    "start_time": "2024-03-02T17:28:15.841Z"
   },
   {
    "duration": 16,
    "start_time": "2024-03-02T17:28:15.867Z"
   },
   {
    "duration": 50,
    "start_time": "2024-03-02T17:28:15.885Z"
   },
   {
    "duration": 12,
    "start_time": "2024-03-02T17:28:15.938Z"
   },
   {
    "duration": 34,
    "start_time": "2024-03-02T17:28:15.952Z"
   },
   {
    "duration": 22,
    "start_time": "2024-03-02T17:28:15.988Z"
   },
   {
    "duration": 761,
    "start_time": "2024-03-02T17:33:03.690Z"
   },
   {
    "duration": 16,
    "start_time": "2024-03-02T17:33:04.453Z"
   },
   {
    "duration": 21,
    "start_time": "2024-03-02T17:33:04.471Z"
   },
   {
    "duration": 36,
    "start_time": "2024-03-02T17:33:04.494Z"
   },
   {
    "duration": 28,
    "start_time": "2024-03-02T17:33:04.532Z"
   },
   {
    "duration": 67,
    "start_time": "2024-03-02T17:33:04.561Z"
   },
   {
    "duration": 31,
    "start_time": "2024-03-02T17:33:04.630Z"
   },
   {
    "duration": 720,
    "start_time": "2024-03-02T17:33:36.508Z"
   },
   {
    "duration": 14,
    "start_time": "2024-03-02T17:33:37.230Z"
   },
   {
    "duration": 21,
    "start_time": "2024-03-02T17:33:37.245Z"
   },
   {
    "duration": 22,
    "start_time": "2024-03-02T17:33:37.268Z"
   },
   {
    "duration": 8,
    "start_time": "2024-03-02T17:33:37.292Z"
   },
   {
    "duration": 20,
    "start_time": "2024-03-02T17:33:37.301Z"
   },
   {
    "duration": 7,
    "start_time": "2024-03-02T17:33:37.323Z"
   },
   {
    "duration": 12,
    "start_time": "2024-03-02T17:33:37.331Z"
   },
   {
    "duration": 770,
    "start_time": "2024-03-02T17:38:08.514Z"
   },
   {
    "duration": 15,
    "start_time": "2024-03-02T17:38:09.286Z"
   },
   {
    "duration": 8,
    "start_time": "2024-03-02T17:38:09.303Z"
   },
   {
    "duration": 23,
    "start_time": "2024-03-02T17:38:09.313Z"
   },
   {
    "duration": 28,
    "start_time": "2024-03-02T17:38:09.338Z"
   },
   {
    "duration": 6,
    "start_time": "2024-03-02T17:38:09.368Z"
   },
   {
    "duration": 9,
    "start_time": "2024-03-02T17:38:09.375Z"
   },
   {
    "duration": 13,
    "start_time": "2024-03-02T17:38:09.386Z"
   },
   {
    "duration": 793,
    "start_time": "2024-03-02T17:54:21.148Z"
   },
   {
    "duration": 14,
    "start_time": "2024-03-02T17:54:21.943Z"
   },
   {
    "duration": 13,
    "start_time": "2024-03-02T17:54:21.959Z"
   },
   {
    "duration": 23,
    "start_time": "2024-03-02T17:54:21.973Z"
   },
   {
    "duration": 8,
    "start_time": "2024-03-02T17:54:21.999Z"
   },
   {
    "duration": 7,
    "start_time": "2024-03-02T17:54:22.008Z"
   },
   {
    "duration": 12,
    "start_time": "2024-03-02T17:54:22.016Z"
   },
   {
    "duration": 37,
    "start_time": "2024-03-02T17:54:22.030Z"
   },
   {
    "duration": 73,
    "start_time": "2024-03-02T17:54:22.068Z"
   },
   {
    "duration": 760,
    "start_time": "2024-03-02T17:58:27.774Z"
   },
   {
    "duration": 14,
    "start_time": "2024-03-02T17:58:28.537Z"
   },
   {
    "duration": 20,
    "start_time": "2024-03-02T17:58:28.553Z"
   },
   {
    "duration": 23,
    "start_time": "2024-03-02T17:58:28.574Z"
   },
   {
    "duration": 8,
    "start_time": "2024-03-02T17:58:28.599Z"
   },
   {
    "duration": 12,
    "start_time": "2024-03-02T17:58:28.608Z"
   },
   {
    "duration": 7,
    "start_time": "2024-03-02T17:58:28.621Z"
   },
   {
    "duration": 37,
    "start_time": "2024-03-02T17:58:28.629Z"
   },
   {
    "duration": 103,
    "start_time": "2024-03-02T17:58:28.668Z"
   },
   {
    "duration": 783,
    "start_time": "2024-03-02T17:59:32.175Z"
   },
   {
    "duration": 17,
    "start_time": "2024-03-02T17:59:32.961Z"
   },
   {
    "duration": 15,
    "start_time": "2024-03-02T17:59:32.979Z"
   },
   {
    "duration": 25,
    "start_time": "2024-03-02T17:59:32.995Z"
   },
   {
    "duration": 8,
    "start_time": "2024-03-02T17:59:33.021Z"
   },
   {
    "duration": 17,
    "start_time": "2024-03-02T17:59:33.030Z"
   },
   {
    "duration": 36,
    "start_time": "2024-03-02T17:59:33.048Z"
   },
   {
    "duration": 10,
    "start_time": "2024-03-02T17:59:33.085Z"
   },
   {
    "duration": 11,
    "start_time": "2024-03-02T17:59:33.097Z"
   },
   {
    "duration": 739,
    "start_time": "2024-03-02T18:00:05.610Z"
   },
   {
    "duration": 22,
    "start_time": "2024-03-02T18:00:06.351Z"
   },
   {
    "duration": 9,
    "start_time": "2024-03-02T18:00:06.375Z"
   },
   {
    "duration": 38,
    "start_time": "2024-03-02T18:00:06.386Z"
   },
   {
    "duration": 9,
    "start_time": "2024-03-02T18:00:06.426Z"
   },
   {
    "duration": 35,
    "start_time": "2024-03-02T18:00:06.436Z"
   },
   {
    "duration": 16,
    "start_time": "2024-03-02T18:00:06.473Z"
   },
   {
    "duration": 32,
    "start_time": "2024-03-02T18:00:06.491Z"
   },
   {
    "duration": 35,
    "start_time": "2024-03-02T18:00:06.525Z"
   },
   {
    "duration": 756,
    "start_time": "2024-03-02T18:28:22.045Z"
   },
   {
    "duration": 13,
    "start_time": "2024-03-02T18:28:22.803Z"
   },
   {
    "duration": 8,
    "start_time": "2024-03-02T18:28:22.819Z"
   },
   {
    "duration": 40,
    "start_time": "2024-03-02T18:28:22.829Z"
   },
   {
    "duration": 7,
    "start_time": "2024-03-02T18:28:22.871Z"
   },
   {
    "duration": 9,
    "start_time": "2024-03-02T18:28:22.879Z"
   },
   {
    "duration": 7,
    "start_time": "2024-03-02T18:28:22.889Z"
   },
   {
    "duration": 8,
    "start_time": "2024-03-02T18:28:22.897Z"
   },
   {
    "duration": 101,
    "start_time": "2024-03-02T18:28:22.907Z"
   },
   {
    "duration": 724,
    "start_time": "2024-03-02T18:28:43.602Z"
   },
   {
    "duration": 14,
    "start_time": "2024-03-02T18:28:44.327Z"
   },
   {
    "duration": 15,
    "start_time": "2024-03-02T18:28:44.342Z"
   },
   {
    "duration": 31,
    "start_time": "2024-03-02T18:28:44.358Z"
   },
   {
    "duration": 8,
    "start_time": "2024-03-02T18:28:44.391Z"
   },
   {
    "duration": 16,
    "start_time": "2024-03-02T18:28:44.400Z"
   },
   {
    "duration": 25,
    "start_time": "2024-03-02T18:28:44.418Z"
   },
   {
    "duration": 11,
    "start_time": "2024-03-02T18:28:44.445Z"
   },
   {
    "duration": 6,
    "start_time": "2024-03-02T18:28:44.457Z"
   },
   {
    "duration": 795,
    "start_time": "2024-03-02T18:28:57.862Z"
   },
   {
    "duration": 30,
    "start_time": "2024-03-02T18:28:58.666Z"
   },
   {
    "duration": 13,
    "start_time": "2024-03-02T18:28:58.698Z"
   },
   {
    "duration": 33,
    "start_time": "2024-03-02T18:28:58.713Z"
   },
   {
    "duration": 19,
    "start_time": "2024-03-02T18:28:58.749Z"
   },
   {
    "duration": 13,
    "start_time": "2024-03-02T18:28:58.770Z"
   },
   {
    "duration": 7,
    "start_time": "2024-03-02T18:28:58.784Z"
   },
   {
    "duration": 14,
    "start_time": "2024-03-02T18:28:58.792Z"
   },
   {
    "duration": 10,
    "start_time": "2024-03-02T18:28:58.807Z"
   },
   {
    "duration": 711,
    "start_time": "2024-03-02T18:41:39.105Z"
   },
   {
    "duration": 14,
    "start_time": "2024-03-02T18:41:39.818Z"
   },
   {
    "duration": 9,
    "start_time": "2024-03-02T18:41:39.835Z"
   },
   {
    "duration": 40,
    "start_time": "2024-03-02T18:41:39.846Z"
   },
   {
    "duration": 11,
    "start_time": "2024-03-02T18:41:39.888Z"
   },
   {
    "duration": 17,
    "start_time": "2024-03-02T18:41:39.900Z"
   },
   {
    "duration": 15,
    "start_time": "2024-03-02T18:41:39.918Z"
   },
   {
    "duration": 10,
    "start_time": "2024-03-02T18:41:39.934Z"
   },
   {
    "duration": 24,
    "start_time": "2024-03-02T18:41:39.946Z"
   },
   {
    "duration": 5,
    "start_time": "2024-03-02T18:41:39.972Z"
   },
   {
    "duration": 790,
    "start_time": "2024-03-02T18:41:56.385Z"
   },
   {
    "duration": 13,
    "start_time": "2024-03-02T18:41:57.177Z"
   },
   {
    "duration": 34,
    "start_time": "2024-03-02T18:41:57.191Z"
   },
   {
    "duration": 40,
    "start_time": "2024-03-02T18:41:57.226Z"
   },
   {
    "duration": 10,
    "start_time": "2024-03-02T18:41:57.269Z"
   },
   {
    "duration": 35,
    "start_time": "2024-03-02T18:41:57.280Z"
   },
   {
    "duration": 27,
    "start_time": "2024-03-02T18:41:57.317Z"
   },
   {
    "duration": 45,
    "start_time": "2024-03-02T18:41:57.346Z"
   },
   {
    "duration": 18,
    "start_time": "2024-03-02T18:41:57.392Z"
   },
   {
    "duration": 32,
    "start_time": "2024-03-02T18:41:57.412Z"
   },
   {
    "duration": 762,
    "start_time": "2024-03-02T18:42:38.724Z"
   },
   {
    "duration": 15,
    "start_time": "2024-03-02T18:42:39.488Z"
   },
   {
    "duration": 13,
    "start_time": "2024-03-02T18:42:39.513Z"
   },
   {
    "duration": 39,
    "start_time": "2024-03-02T18:42:39.528Z"
   },
   {
    "duration": 7,
    "start_time": "2024-03-02T18:42:39.569Z"
   },
   {
    "duration": 23,
    "start_time": "2024-03-02T18:42:39.577Z"
   },
   {
    "duration": 9,
    "start_time": "2024-03-02T18:42:39.602Z"
   },
   {
    "duration": 12,
    "start_time": "2024-03-02T18:42:39.613Z"
   },
   {
    "duration": 13,
    "start_time": "2024-03-02T18:42:39.627Z"
   },
   {
    "duration": 65,
    "start_time": "2024-03-02T18:42:39.642Z"
   },
   {
    "duration": 777,
    "start_time": "2024-03-02T18:43:25.037Z"
   },
   {
    "duration": 16,
    "start_time": "2024-03-02T18:43:25.817Z"
   },
   {
    "duration": 9,
    "start_time": "2024-03-02T18:43:25.835Z"
   },
   {
    "duration": 50,
    "start_time": "2024-03-02T18:43:25.846Z"
   },
   {
    "duration": 10,
    "start_time": "2024-03-02T18:43:25.898Z"
   },
   {
    "duration": 10,
    "start_time": "2024-03-02T18:43:25.910Z"
   },
   {
    "duration": 16,
    "start_time": "2024-03-02T18:43:25.922Z"
   },
   {
    "duration": 36,
    "start_time": "2024-03-02T18:43:25.939Z"
   },
   {
    "duration": 11,
    "start_time": "2024-03-02T18:43:25.976Z"
   },
   {
    "duration": 74,
    "start_time": "2024-03-02T18:43:25.988Z"
   },
   {
    "duration": 792,
    "start_time": "2024-03-02T18:48:36.754Z"
   },
   {
    "duration": 18,
    "start_time": "2024-03-02T18:48:37.548Z"
   },
   {
    "duration": 10,
    "start_time": "2024-03-02T18:48:37.570Z"
   },
   {
    "duration": 30,
    "start_time": "2024-03-02T18:48:37.581Z"
   },
   {
    "duration": 8,
    "start_time": "2024-03-02T18:48:37.612Z"
   },
   {
    "duration": 10,
    "start_time": "2024-03-02T18:48:37.622Z"
   },
   {
    "duration": 46,
    "start_time": "2024-03-02T18:48:37.634Z"
   },
   {
    "duration": 9,
    "start_time": "2024-03-02T18:48:37.682Z"
   },
   {
    "duration": 16,
    "start_time": "2024-03-02T18:48:37.692Z"
   },
   {
    "duration": 14,
    "start_time": "2024-03-02T18:48:37.710Z"
   },
   {
    "duration": 733,
    "start_time": "2024-03-02T18:49:54.605Z"
   },
   {
    "duration": 15,
    "start_time": "2024-03-02T18:49:55.340Z"
   },
   {
    "duration": 17,
    "start_time": "2024-03-02T18:49:55.356Z"
   },
   {
    "duration": 23,
    "start_time": "2024-03-02T18:49:55.374Z"
   },
   {
    "duration": 8,
    "start_time": "2024-03-02T18:49:55.399Z"
   },
   {
    "duration": 29,
    "start_time": "2024-03-02T18:49:55.409Z"
   },
   {
    "duration": 17,
    "start_time": "2024-03-02T18:49:55.440Z"
   },
   {
    "duration": 11,
    "start_time": "2024-03-02T18:49:55.458Z"
   },
   {
    "duration": 10,
    "start_time": "2024-03-02T18:49:55.470Z"
   },
   {
    "duration": 7,
    "start_time": "2024-03-02T18:49:55.482Z"
   },
   {
    "duration": 808,
    "start_time": "2024-03-02T18:50:06.764Z"
   },
   {
    "duration": 13,
    "start_time": "2024-03-02T18:50:07.574Z"
   },
   {
    "duration": 15,
    "start_time": "2024-03-02T18:50:07.589Z"
   },
   {
    "duration": 24,
    "start_time": "2024-03-02T18:50:07.605Z"
   },
   {
    "duration": 8,
    "start_time": "2024-03-02T18:50:07.631Z"
   },
   {
    "duration": 6,
    "start_time": "2024-03-02T18:50:07.665Z"
   },
   {
    "duration": 19,
    "start_time": "2024-03-02T18:50:07.673Z"
   },
   {
    "duration": 28,
    "start_time": "2024-03-02T18:50:07.694Z"
   },
   {
    "duration": 15,
    "start_time": "2024-03-02T18:50:07.724Z"
   },
   {
    "duration": 19,
    "start_time": "2024-03-02T18:50:07.740Z"
   },
   {
    "duration": 711,
    "start_time": "2024-03-02T18:54:08.900Z"
   },
   {
    "duration": 14,
    "start_time": "2024-03-02T18:54:09.613Z"
   },
   {
    "duration": 9,
    "start_time": "2024-03-02T18:54:09.628Z"
   },
   {
    "duration": 36,
    "start_time": "2024-03-02T18:54:09.639Z"
   },
   {
    "duration": 10,
    "start_time": "2024-03-02T18:54:09.677Z"
   },
   {
    "duration": 9,
    "start_time": "2024-03-02T18:54:09.689Z"
   },
   {
    "duration": 7,
    "start_time": "2024-03-02T18:54:09.699Z"
   },
   {
    "duration": 8,
    "start_time": "2024-03-02T18:54:09.708Z"
   },
   {
    "duration": 9,
    "start_time": "2024-03-02T18:54:09.718Z"
   },
   {
    "duration": 102,
    "start_time": "2024-03-02T18:54:09.729Z"
   },
   {
    "duration": 747,
    "start_time": "2024-03-02T18:54:16.277Z"
   },
   {
    "duration": 14,
    "start_time": "2024-03-02T18:54:17.026Z"
   },
   {
    "duration": 23,
    "start_time": "2024-03-02T18:54:17.042Z"
   },
   {
    "duration": 46,
    "start_time": "2024-03-02T18:54:17.067Z"
   },
   {
    "duration": 17,
    "start_time": "2024-03-02T18:54:17.115Z"
   },
   {
    "duration": 44,
    "start_time": "2024-03-02T18:54:17.133Z"
   },
   {
    "duration": 26,
    "start_time": "2024-03-02T18:54:17.179Z"
   },
   {
    "duration": 26,
    "start_time": "2024-03-02T18:54:17.206Z"
   },
   {
    "duration": 41,
    "start_time": "2024-03-02T18:54:17.234Z"
   },
   {
    "duration": 86,
    "start_time": "2024-03-02T18:54:17.277Z"
   },
   {
    "duration": 797,
    "start_time": "2024-03-02T18:54:25.342Z"
   },
   {
    "duration": 14,
    "start_time": "2024-03-02T18:54:26.141Z"
   },
   {
    "duration": 14,
    "start_time": "2024-03-02T18:54:26.156Z"
   },
   {
    "duration": 25,
    "start_time": "2024-03-02T18:54:26.171Z"
   },
   {
    "duration": 12,
    "start_time": "2024-03-02T18:54:26.199Z"
   },
   {
    "duration": 24,
    "start_time": "2024-03-02T18:54:26.212Z"
   },
   {
    "duration": 9,
    "start_time": "2024-03-02T18:54:26.237Z"
   },
   {
    "duration": 25,
    "start_time": "2024-03-02T18:54:26.248Z"
   },
   {
    "duration": 27,
    "start_time": "2024-03-02T18:54:26.274Z"
   },
   {
    "duration": 16,
    "start_time": "2024-03-02T18:54:26.303Z"
   },
   {
    "duration": 710,
    "start_time": "2024-03-02T18:54:50.615Z"
   },
   {
    "duration": 13,
    "start_time": "2024-03-02T18:54:51.327Z"
   },
   {
    "duration": 32,
    "start_time": "2024-03-02T18:54:51.342Z"
   },
   {
    "duration": 60,
    "start_time": "2024-03-02T18:54:51.376Z"
   },
   {
    "duration": 25,
    "start_time": "2024-03-02T18:54:51.438Z"
   },
   {
    "duration": 40,
    "start_time": "2024-03-02T18:54:51.465Z"
   },
   {
    "duration": 72,
    "start_time": "2024-03-02T18:54:51.507Z"
   },
   {
    "duration": 32,
    "start_time": "2024-03-02T18:54:51.581Z"
   },
   {
    "duration": 22,
    "start_time": "2024-03-02T18:54:51.614Z"
   },
   {
    "duration": 93,
    "start_time": "2024-03-02T18:54:51.638Z"
   },
   {
    "duration": 716,
    "start_time": "2024-03-02T18:55:02.122Z"
   },
   {
    "duration": 15,
    "start_time": "2024-03-02T18:55:02.840Z"
   },
   {
    "duration": 17,
    "start_time": "2024-03-02T18:55:02.857Z"
   },
   {
    "duration": 44,
    "start_time": "2024-03-02T18:55:02.876Z"
   },
   {
    "duration": 19,
    "start_time": "2024-03-02T18:55:02.922Z"
   },
   {
    "duration": 12,
    "start_time": "2024-03-02T18:55:02.943Z"
   },
   {
    "duration": 14,
    "start_time": "2024-03-02T18:55:02.957Z"
   },
   {
    "duration": 36,
    "start_time": "2024-03-02T18:55:02.972Z"
   },
   {
    "duration": 69,
    "start_time": "2024-03-02T18:55:03.010Z"
   },
   {
    "duration": 67,
    "start_time": "2024-03-02T18:55:03.081Z"
   },
   {
    "duration": 715,
    "start_time": "2024-03-02T19:03:08.010Z"
   },
   {
    "duration": 14,
    "start_time": "2024-03-02T19:03:08.727Z"
   },
   {
    "duration": 21,
    "start_time": "2024-03-02T19:03:08.745Z"
   },
   {
    "duration": 26,
    "start_time": "2024-03-02T19:03:08.768Z"
   },
   {
    "duration": 8,
    "start_time": "2024-03-02T19:03:08.796Z"
   },
   {
    "duration": 10,
    "start_time": "2024-03-02T19:03:08.806Z"
   },
   {
    "duration": 8,
    "start_time": "2024-03-02T19:03:08.818Z"
   },
   {
    "duration": 38,
    "start_time": "2024-03-02T19:03:08.827Z"
   },
   {
    "duration": 11,
    "start_time": "2024-03-02T19:03:08.867Z"
   },
   {
    "duration": 20,
    "start_time": "2024-03-02T19:03:08.880Z"
   },
   {
    "duration": 13,
    "start_time": "2024-03-02T19:03:08.902Z"
   },
   {
    "duration": 726,
    "start_time": "2024-03-02T19:05:01.416Z"
   },
   {
    "duration": 24,
    "start_time": "2024-03-02T19:05:02.144Z"
   },
   {
    "duration": 207,
    "start_time": "2024-03-02T19:05:02.169Z"
   },
   {
    "duration": 78,
    "start_time": "2024-03-02T19:05:02.377Z"
   },
   {
    "duration": 54,
    "start_time": "2024-03-02T19:05:02.457Z"
   },
   {
    "duration": 77,
    "start_time": "2024-03-02T19:05:02.514Z"
   },
   {
    "duration": 44,
    "start_time": "2024-03-02T19:05:02.593Z"
   },
   {
    "duration": 32,
    "start_time": "2024-03-02T19:05:02.638Z"
   },
   {
    "duration": 74,
    "start_time": "2024-03-02T19:05:02.672Z"
   },
   {
    "duration": 147,
    "start_time": "2024-03-02T19:05:02.748Z"
   },
   {
    "duration": 312,
    "start_time": "2024-03-02T19:05:02.897Z"
   },
   {
    "duration": 784,
    "start_time": "2024-03-02T19:06:14.915Z"
   },
   {
    "duration": 14,
    "start_time": "2024-03-02T19:06:15.701Z"
   },
   {
    "duration": 24,
    "start_time": "2024-03-02T19:06:15.716Z"
   },
   {
    "duration": 48,
    "start_time": "2024-03-02T19:06:15.741Z"
   },
   {
    "duration": 13,
    "start_time": "2024-03-02T19:06:15.791Z"
   },
   {
    "duration": 39,
    "start_time": "2024-03-02T19:06:15.806Z"
   },
   {
    "duration": 14,
    "start_time": "2024-03-02T19:06:15.847Z"
   },
   {
    "duration": 35,
    "start_time": "2024-03-02T19:06:15.863Z"
   },
   {
    "duration": 57,
    "start_time": "2024-03-02T19:06:15.899Z"
   },
   {
    "duration": 30,
    "start_time": "2024-03-02T19:06:15.958Z"
   },
   {
    "duration": 14,
    "start_time": "2024-03-02T19:06:15.990Z"
   },
   {
    "duration": 786,
    "start_time": "2024-03-02T19:06:39.335Z"
   },
   {
    "duration": 14,
    "start_time": "2024-03-02T19:06:40.123Z"
   },
   {
    "duration": 27,
    "start_time": "2024-03-02T19:06:40.138Z"
   },
   {
    "duration": 42,
    "start_time": "2024-03-02T19:06:40.166Z"
   },
   {
    "duration": 10,
    "start_time": "2024-03-02T19:06:40.211Z"
   },
   {
    "duration": 35,
    "start_time": "2024-03-02T19:06:40.223Z"
   },
   {
    "duration": 9,
    "start_time": "2024-03-02T19:06:40.259Z"
   },
   {
    "duration": 12,
    "start_time": "2024-03-02T19:06:40.269Z"
   },
   {
    "duration": 15,
    "start_time": "2024-03-02T19:06:40.283Z"
   },
   {
    "duration": 13,
    "start_time": "2024-03-02T19:06:40.300Z"
   },
   {
    "duration": 13,
    "start_time": "2024-03-02T19:06:40.316Z"
   },
   {
    "duration": 808,
    "start_time": "2024-03-02T19:06:51.462Z"
   },
   {
    "duration": 14,
    "start_time": "2024-03-02T19:06:52.271Z"
   },
   {
    "duration": 30,
    "start_time": "2024-03-02T19:06:52.287Z"
   },
   {
    "duration": 61,
    "start_time": "2024-03-02T19:06:52.319Z"
   },
   {
    "duration": 14,
    "start_time": "2024-03-02T19:06:52.382Z"
   },
   {
    "duration": 18,
    "start_time": "2024-03-02T19:06:52.397Z"
   },
   {
    "duration": 39,
    "start_time": "2024-03-02T19:06:52.417Z"
   },
   {
    "duration": 22,
    "start_time": "2024-03-02T19:06:52.457Z"
   },
   {
    "duration": 26,
    "start_time": "2024-03-02T19:06:52.481Z"
   },
   {
    "duration": 23,
    "start_time": "2024-03-02T19:06:52.509Z"
   },
   {
    "duration": 38,
    "start_time": "2024-03-02T19:06:52.534Z"
   },
   {
    "duration": 748,
    "start_time": "2024-03-02T19:07:05.622Z"
   },
   {
    "duration": 14,
    "start_time": "2024-03-02T19:07:06.371Z"
   },
   {
    "duration": 8,
    "start_time": "2024-03-02T19:07:06.388Z"
   },
   {
    "duration": 22,
    "start_time": "2024-03-02T19:07:06.398Z"
   },
   {
    "duration": 7,
    "start_time": "2024-03-02T19:07:06.422Z"
   },
   {
    "duration": 36,
    "start_time": "2024-03-02T19:07:06.430Z"
   },
   {
    "duration": 7,
    "start_time": "2024-03-02T19:07:06.468Z"
   },
   {
    "duration": 9,
    "start_time": "2024-03-02T19:07:06.476Z"
   },
   {
    "duration": 13,
    "start_time": "2024-03-02T19:07:06.487Z"
   },
   {
    "duration": 13,
    "start_time": "2024-03-02T19:07:06.502Z"
   },
   {
    "duration": 24,
    "start_time": "2024-03-02T19:07:06.516Z"
   },
   {
    "duration": 765,
    "start_time": "2024-03-02T19:07:30.856Z"
   },
   {
    "duration": 14,
    "start_time": "2024-03-02T19:07:31.623Z"
   },
   {
    "duration": 57,
    "start_time": "2024-03-02T19:07:31.638Z"
   },
   {
    "duration": 64,
    "start_time": "2024-03-02T19:07:31.697Z"
   },
   {
    "duration": 16,
    "start_time": "2024-03-02T19:07:31.763Z"
   },
   {
    "duration": 74,
    "start_time": "2024-03-02T19:07:31.781Z"
   },
   {
    "duration": 43,
    "start_time": "2024-03-02T19:07:31.857Z"
   },
   {
    "duration": 29,
    "start_time": "2024-03-02T19:07:31.902Z"
   },
   {
    "duration": 11,
    "start_time": "2024-03-02T19:07:31.933Z"
   },
   {
    "duration": 30,
    "start_time": "2024-03-02T19:07:31.946Z"
   },
   {
    "duration": 20,
    "start_time": "2024-03-02T19:07:31.978Z"
   },
   {
    "duration": 758,
    "start_time": "2024-03-02T19:10:19.570Z"
   },
   {
    "duration": 14,
    "start_time": "2024-03-02T19:10:20.330Z"
   },
   {
    "duration": 94,
    "start_time": "2024-03-02T19:10:20.345Z"
   },
   {
    "duration": 30,
    "start_time": "2024-03-02T19:10:20.441Z"
   },
   {
    "duration": 7,
    "start_time": "2024-03-02T19:10:20.474Z"
   },
   {
    "duration": 27,
    "start_time": "2024-03-02T19:10:20.483Z"
   },
   {
    "duration": 7,
    "start_time": "2024-03-02T19:10:20.511Z"
   },
   {
    "duration": 9,
    "start_time": "2024-03-02T19:10:20.520Z"
   },
   {
    "duration": 11,
    "start_time": "2024-03-02T19:10:20.531Z"
   },
   {
    "duration": 10,
    "start_time": "2024-03-02T19:10:20.544Z"
   },
   {
    "duration": 7,
    "start_time": "2024-03-02T19:10:20.566Z"
   },
   {
    "duration": 35,
    "start_time": "2024-03-02T19:10:20.575Z"
   },
   {
    "duration": 724,
    "start_time": "2024-03-02T19:20:31.500Z"
   },
   {
    "duration": 19,
    "start_time": "2024-03-02T19:20:32.226Z"
   },
   {
    "duration": 24,
    "start_time": "2024-03-02T19:20:32.247Z"
   },
   {
    "duration": 32,
    "start_time": "2024-03-02T19:20:32.272Z"
   },
   {
    "duration": 11,
    "start_time": "2024-03-02T19:20:32.307Z"
   },
   {
    "duration": 27,
    "start_time": "2024-03-02T19:20:32.320Z"
   },
   {
    "duration": 38,
    "start_time": "2024-03-02T19:20:32.348Z"
   },
   {
    "duration": 32,
    "start_time": "2024-03-02T19:20:32.387Z"
   },
   {
    "duration": 17,
    "start_time": "2024-03-02T19:20:32.421Z"
   },
   {
    "duration": 12,
    "start_time": "2024-03-02T19:20:32.440Z"
   },
   {
    "duration": 9,
    "start_time": "2024-03-02T19:20:32.454Z"
   },
   {
    "duration": 24,
    "start_time": "2024-03-02T19:20:32.465Z"
   },
   {
    "duration": 21,
    "start_time": "2024-03-02T19:20:32.491Z"
   },
   {
    "duration": 772,
    "start_time": "2024-03-02T19:20:47.246Z"
   },
   {
    "duration": 13,
    "start_time": "2024-03-02T19:20:48.019Z"
   },
   {
    "duration": 41,
    "start_time": "2024-03-02T19:20:48.034Z"
   },
   {
    "duration": 32,
    "start_time": "2024-03-02T19:20:48.077Z"
   },
   {
    "duration": 9,
    "start_time": "2024-03-02T19:20:48.111Z"
   },
   {
    "duration": 24,
    "start_time": "2024-03-02T19:20:48.121Z"
   },
   {
    "duration": 40,
    "start_time": "2024-03-02T19:20:48.146Z"
   },
   {
    "duration": 46,
    "start_time": "2024-03-02T19:20:48.188Z"
   },
   {
    "duration": 13,
    "start_time": "2024-03-02T19:20:48.236Z"
   },
   {
    "duration": 23,
    "start_time": "2024-03-02T19:20:48.251Z"
   },
   {
    "duration": 38,
    "start_time": "2024-03-02T19:20:48.276Z"
   },
   {
    "duration": 23,
    "start_time": "2024-03-02T19:20:48.316Z"
   },
   {
    "duration": 73,
    "start_time": "2024-03-02T19:20:48.341Z"
   },
   {
    "duration": 758,
    "start_time": "2024-03-02T19:20:56.790Z"
   },
   {
    "duration": 23,
    "start_time": "2024-03-02T19:20:57.550Z"
   },
   {
    "duration": 17,
    "start_time": "2024-03-02T19:20:57.575Z"
   },
   {
    "duration": 44,
    "start_time": "2024-03-02T19:20:57.594Z"
   },
   {
    "duration": 12,
    "start_time": "2024-03-02T19:20:57.641Z"
   },
   {
    "duration": 7,
    "start_time": "2024-03-02T19:20:57.666Z"
   },
   {
    "duration": 12,
    "start_time": "2024-03-02T19:20:57.675Z"
   },
   {
    "duration": 12,
    "start_time": "2024-03-02T19:20:57.690Z"
   },
   {
    "duration": 14,
    "start_time": "2024-03-02T19:20:57.704Z"
   },
   {
    "duration": 15,
    "start_time": "2024-03-02T19:20:57.719Z"
   },
   {
    "duration": 10,
    "start_time": "2024-03-02T19:20:57.765Z"
   },
   {
    "duration": 12,
    "start_time": "2024-03-02T19:20:57.776Z"
   },
   {
    "duration": 5,
    "start_time": "2024-03-02T19:20:57.789Z"
   },
   {
    "duration": 774,
    "start_time": "2024-03-02T19:21:53.926Z"
   },
   {
    "duration": 16,
    "start_time": "2024-03-02T19:21:54.702Z"
   },
   {
    "duration": 10,
    "start_time": "2024-03-02T19:21:54.720Z"
   },
   {
    "duration": 49,
    "start_time": "2024-03-02T19:21:54.731Z"
   },
   {
    "duration": 7,
    "start_time": "2024-03-02T19:21:54.782Z"
   },
   {
    "duration": 24,
    "start_time": "2024-03-02T19:21:54.790Z"
   },
   {
    "duration": 9,
    "start_time": "2024-03-02T19:21:54.815Z"
   },
   {
    "duration": 10,
    "start_time": "2024-03-02T19:21:54.825Z"
   },
   {
    "duration": 10,
    "start_time": "2024-03-02T19:21:54.836Z"
   },
   {
    "duration": 21,
    "start_time": "2024-03-02T19:21:54.848Z"
   },
   {
    "duration": 54,
    "start_time": "2024-03-02T19:21:54.871Z"
   },
   {
    "duration": 17,
    "start_time": "2024-03-02T19:21:54.926Z"
   },
   {
    "duration": 6,
    "start_time": "2024-03-02T19:21:54.944Z"
   },
   {
    "duration": 778,
    "start_time": "2024-03-02T19:22:11.634Z"
   },
   {
    "duration": 16,
    "start_time": "2024-03-02T19:22:12.414Z"
   },
   {
    "duration": 10,
    "start_time": "2024-03-02T19:22:12.432Z"
   },
   {
    "duration": 45,
    "start_time": "2024-03-02T19:22:12.444Z"
   },
   {
    "duration": 8,
    "start_time": "2024-03-02T19:22:12.492Z"
   },
   {
    "duration": 27,
    "start_time": "2024-03-02T19:22:12.502Z"
   },
   {
    "duration": 24,
    "start_time": "2024-03-02T19:22:12.530Z"
   },
   {
    "duration": 27,
    "start_time": "2024-03-02T19:22:12.556Z"
   },
   {
    "duration": 20,
    "start_time": "2024-03-02T19:22:12.585Z"
   },
   {
    "duration": 18,
    "start_time": "2024-03-02T19:22:12.607Z"
   },
   {
    "duration": 31,
    "start_time": "2024-03-02T19:22:12.627Z"
   },
   {
    "duration": 23,
    "start_time": "2024-03-02T19:22:12.659Z"
   },
   {
    "duration": 29,
    "start_time": "2024-03-02T19:22:12.683Z"
   },
   {
    "duration": 783,
    "start_time": "2024-03-02T19:22:34.054Z"
   },
   {
    "duration": 14,
    "start_time": "2024-03-02T19:22:34.839Z"
   },
   {
    "duration": 9,
    "start_time": "2024-03-02T19:22:34.865Z"
   },
   {
    "duration": 23,
    "start_time": "2024-03-02T19:22:34.876Z"
   },
   {
    "duration": 7,
    "start_time": "2024-03-02T19:22:34.901Z"
   },
   {
    "duration": 18,
    "start_time": "2024-03-02T19:22:34.909Z"
   },
   {
    "duration": 21,
    "start_time": "2024-03-02T19:22:34.929Z"
   },
   {
    "duration": 20,
    "start_time": "2024-03-02T19:22:34.951Z"
   },
   {
    "duration": 19,
    "start_time": "2024-03-02T19:22:34.973Z"
   },
   {
    "duration": 10,
    "start_time": "2024-03-02T19:22:34.994Z"
   },
   {
    "duration": 23,
    "start_time": "2024-03-02T19:22:35.006Z"
   },
   {
    "duration": 35,
    "start_time": "2024-03-02T19:22:35.031Z"
   },
   {
    "duration": 44,
    "start_time": "2024-03-02T19:22:35.069Z"
   },
   {
    "duration": 744,
    "start_time": "2024-03-02T19:22:53.047Z"
   },
   {
    "duration": 15,
    "start_time": "2024-03-02T19:22:53.794Z"
   },
   {
    "duration": 10,
    "start_time": "2024-03-02T19:22:53.811Z"
   },
   {
    "duration": 42,
    "start_time": "2024-03-02T19:22:53.823Z"
   },
   {
    "duration": 8,
    "start_time": "2024-03-02T19:22:53.868Z"
   },
   {
    "duration": 9,
    "start_time": "2024-03-02T19:22:53.878Z"
   },
   {
    "duration": 7,
    "start_time": "2024-03-02T19:22:53.889Z"
   },
   {
    "duration": 13,
    "start_time": "2024-03-02T19:22:53.897Z"
   },
   {
    "duration": 13,
    "start_time": "2024-03-02T19:22:53.912Z"
   },
   {
    "duration": 45,
    "start_time": "2024-03-02T19:22:53.926Z"
   },
   {
    "duration": 7,
    "start_time": "2024-03-02T19:22:53.972Z"
   },
   {
    "duration": 18,
    "start_time": "2024-03-02T19:22:53.980Z"
   },
   {
    "duration": 15,
    "start_time": "2024-03-02T19:22:54.000Z"
   },
   {
    "duration": 717,
    "start_time": "2024-03-02T19:23:10.784Z"
   },
   {
    "duration": 13,
    "start_time": "2024-03-02T19:23:11.503Z"
   },
   {
    "duration": 9,
    "start_time": "2024-03-02T19:23:11.518Z"
   },
   {
    "duration": 42,
    "start_time": "2024-03-02T19:23:11.528Z"
   },
   {
    "duration": 7,
    "start_time": "2024-03-02T19:23:11.572Z"
   },
   {
    "duration": 13,
    "start_time": "2024-03-02T19:23:11.580Z"
   },
   {
    "duration": 17,
    "start_time": "2024-03-02T19:23:11.594Z"
   },
   {
    "duration": 9,
    "start_time": "2024-03-02T19:23:11.613Z"
   },
   {
    "duration": 13,
    "start_time": "2024-03-02T19:23:11.624Z"
   },
   {
    "duration": 34,
    "start_time": "2024-03-02T19:23:11.639Z"
   },
   {
    "duration": 9,
    "start_time": "2024-03-02T19:23:11.674Z"
   },
   {
    "duration": 31,
    "start_time": "2024-03-02T19:23:11.685Z"
   },
   {
    "duration": 47,
    "start_time": "2024-03-02T19:23:11.717Z"
   },
   {
    "duration": 786,
    "start_time": "2024-03-02T19:23:31.040Z"
   },
   {
    "duration": 14,
    "start_time": "2024-03-02T19:23:31.828Z"
   },
   {
    "duration": 31,
    "start_time": "2024-03-02T19:23:31.843Z"
   },
   {
    "duration": 33,
    "start_time": "2024-03-02T19:23:31.875Z"
   },
   {
    "duration": 12,
    "start_time": "2024-03-02T19:23:31.910Z"
   },
   {
    "duration": 11,
    "start_time": "2024-03-02T19:23:31.923Z"
   },
   {
    "duration": 6,
    "start_time": "2024-03-02T19:23:31.936Z"
   },
   {
    "duration": 9,
    "start_time": "2024-03-02T19:23:31.943Z"
   },
   {
    "duration": 36,
    "start_time": "2024-03-02T19:23:31.954Z"
   },
   {
    "duration": 25,
    "start_time": "2024-03-02T19:23:31.992Z"
   },
   {
    "duration": 18,
    "start_time": "2024-03-02T19:23:32.019Z"
   },
   {
    "duration": 37,
    "start_time": "2024-03-02T19:23:32.039Z"
   },
   {
    "duration": 13,
    "start_time": "2024-03-02T19:23:32.077Z"
   },
   {
    "duration": 698,
    "start_time": "2024-03-02T19:26:50.907Z"
   },
   {
    "duration": 15,
    "start_time": "2024-03-02T19:26:51.606Z"
   },
   {
    "duration": 14,
    "start_time": "2024-03-02T19:26:51.623Z"
   },
   {
    "duration": 37,
    "start_time": "2024-03-02T19:26:51.639Z"
   },
   {
    "duration": 8,
    "start_time": "2024-03-02T19:26:51.678Z"
   },
   {
    "duration": 7,
    "start_time": "2024-03-02T19:26:51.687Z"
   },
   {
    "duration": 6,
    "start_time": "2024-03-02T19:26:51.696Z"
   },
   {
    "duration": 12,
    "start_time": "2024-03-02T19:26:51.704Z"
   },
   {
    "duration": 14,
    "start_time": "2024-03-02T19:26:51.718Z"
   },
   {
    "duration": 41,
    "start_time": "2024-03-02T19:26:51.734Z"
   },
   {
    "duration": 12,
    "start_time": "2024-03-02T19:26:51.776Z"
   },
   {
    "duration": 11,
    "start_time": "2024-03-02T19:26:51.790Z"
   },
   {
    "duration": 6,
    "start_time": "2024-03-02T19:26:51.803Z"
   },
   {
    "duration": 6,
    "start_time": "2024-03-02T19:26:51.811Z"
   },
   {
    "duration": 759,
    "start_time": "2024-03-02T19:40:01.086Z"
   },
   {
    "duration": 23,
    "start_time": "2024-03-02T19:40:01.847Z"
   },
   {
    "duration": 162,
    "start_time": "2024-03-02T19:40:01.871Z"
   },
   {
    "duration": 79,
    "start_time": "2024-03-02T19:40:02.035Z"
   },
   {
    "duration": 46,
    "start_time": "2024-03-02T19:40:02.116Z"
   },
   {
    "duration": 96,
    "start_time": "2024-03-02T19:40:02.164Z"
   },
   {
    "duration": 101,
    "start_time": "2024-03-02T19:40:02.261Z"
   },
   {
    "duration": 50,
    "start_time": "2024-03-02T19:40:02.363Z"
   },
   {
    "duration": 42,
    "start_time": "2024-03-02T19:40:02.415Z"
   },
   {
    "duration": 32,
    "start_time": "2024-03-02T19:40:02.459Z"
   },
   {
    "duration": 38,
    "start_time": "2024-03-02T19:40:02.493Z"
   },
   {
    "duration": 34,
    "start_time": "2024-03-02T19:40:02.532Z"
   },
   {
    "duration": 9,
    "start_time": "2024-03-02T19:40:02.567Z"
   },
   {
    "duration": 262,
    "start_time": "2024-03-02T19:40:02.579Z"
   },
   {
    "duration": 745,
    "start_time": "2024-03-02T19:40:21.417Z"
   },
   {
    "duration": 15,
    "start_time": "2024-03-02T19:40:22.164Z"
   },
   {
    "duration": 10,
    "start_time": "2024-03-02T19:40:22.180Z"
   },
   {
    "duration": 26,
    "start_time": "2024-03-02T19:40:22.191Z"
   },
   {
    "duration": 8,
    "start_time": "2024-03-02T19:40:22.219Z"
   },
   {
    "duration": 11,
    "start_time": "2024-03-02T19:40:22.229Z"
   },
   {
    "duration": 30,
    "start_time": "2024-03-02T19:40:22.241Z"
   },
   {
    "duration": 9,
    "start_time": "2024-03-02T19:40:22.273Z"
   },
   {
    "duration": 14,
    "start_time": "2024-03-02T19:40:22.283Z"
   },
   {
    "duration": 9,
    "start_time": "2024-03-02T19:40:22.299Z"
   },
   {
    "duration": 7,
    "start_time": "2024-03-02T19:40:22.310Z"
   },
   {
    "duration": 10,
    "start_time": "2024-03-02T19:40:22.318Z"
   },
   {
    "duration": 40,
    "start_time": "2024-03-02T19:40:22.330Z"
   },
   {
    "duration": 244,
    "start_time": "2024-03-02T19:40:22.373Z"
   },
   {
    "duration": 743,
    "start_time": "2024-03-02T19:40:50.286Z"
   },
   {
    "duration": 15,
    "start_time": "2024-03-02T19:40:51.031Z"
   },
   {
    "duration": 30,
    "start_time": "2024-03-02T19:40:51.047Z"
   },
   {
    "duration": 58,
    "start_time": "2024-03-02T19:40:51.079Z"
   },
   {
    "duration": 35,
    "start_time": "2024-03-02T19:40:51.139Z"
   },
   {
    "duration": 41,
    "start_time": "2024-03-02T19:40:51.175Z"
   },
   {
    "duration": 14,
    "start_time": "2024-03-02T19:40:51.217Z"
   },
   {
    "duration": 13,
    "start_time": "2024-03-02T19:40:51.232Z"
   },
   {
    "duration": 13,
    "start_time": "2024-03-02T19:40:51.247Z"
   },
   {
    "duration": 11,
    "start_time": "2024-03-02T19:40:51.261Z"
   },
   {
    "duration": 7,
    "start_time": "2024-03-02T19:40:51.274Z"
   },
   {
    "duration": 15,
    "start_time": "2024-03-02T19:40:51.282Z"
   },
   {
    "duration": 9,
    "start_time": "2024-03-02T19:40:51.299Z"
   },
   {
    "duration": 311,
    "start_time": "2024-03-02T19:40:51.310Z"
   },
   {
    "duration": 765,
    "start_time": "2024-03-02T19:41:04.556Z"
   },
   {
    "duration": 14,
    "start_time": "2024-03-02T19:41:05.323Z"
   },
   {
    "duration": 9,
    "start_time": "2024-03-02T19:41:05.340Z"
   },
   {
    "duration": 30,
    "start_time": "2024-03-02T19:41:05.366Z"
   },
   {
    "duration": 12,
    "start_time": "2024-03-02T19:41:05.397Z"
   },
   {
    "duration": 12,
    "start_time": "2024-03-02T19:41:05.411Z"
   },
   {
    "duration": 8,
    "start_time": "2024-03-02T19:41:05.424Z"
   },
   {
    "duration": 37,
    "start_time": "2024-03-02T19:41:05.433Z"
   },
   {
    "duration": 12,
    "start_time": "2024-03-02T19:41:05.472Z"
   },
   {
    "duration": 10,
    "start_time": "2024-03-02T19:41:05.486Z"
   },
   {
    "duration": 7,
    "start_time": "2024-03-02T19:41:05.497Z"
   },
   {
    "duration": 16,
    "start_time": "2024-03-02T19:41:05.505Z"
   },
   {
    "duration": 17,
    "start_time": "2024-03-02T19:41:05.524Z"
   },
   {
    "duration": 240,
    "start_time": "2024-03-02T19:41:05.542Z"
   },
   {
    "duration": 792,
    "start_time": "2024-03-02T19:42:05.835Z"
   },
   {
    "duration": 16,
    "start_time": "2024-03-02T19:42:06.629Z"
   },
   {
    "duration": 29,
    "start_time": "2024-03-02T19:42:06.647Z"
   },
   {
    "duration": 29,
    "start_time": "2024-03-02T19:42:06.679Z"
   },
   {
    "duration": 10,
    "start_time": "2024-03-02T19:42:06.710Z"
   },
   {
    "duration": 33,
    "start_time": "2024-03-02T19:42:06.722Z"
   },
   {
    "duration": 29,
    "start_time": "2024-03-02T19:42:06.756Z"
   },
   {
    "duration": 25,
    "start_time": "2024-03-02T19:42:06.786Z"
   },
   {
    "duration": 32,
    "start_time": "2024-03-02T19:42:06.813Z"
   },
   {
    "duration": 26,
    "start_time": "2024-03-02T19:42:06.848Z"
   },
   {
    "duration": 11,
    "start_time": "2024-03-02T19:42:06.875Z"
   },
   {
    "duration": 23,
    "start_time": "2024-03-02T19:42:06.888Z"
   },
   {
    "duration": 19,
    "start_time": "2024-03-02T19:42:06.913Z"
   },
   {
    "duration": 246,
    "start_time": "2024-03-02T19:42:06.933Z"
   },
   {
    "duration": 776,
    "start_time": "2024-03-02T19:42:56.253Z"
   },
   {
    "duration": 18,
    "start_time": "2024-03-02T19:42:57.031Z"
   },
   {
    "duration": 19,
    "start_time": "2024-03-02T19:42:57.052Z"
   },
   {
    "duration": 25,
    "start_time": "2024-03-02T19:42:57.073Z"
   },
   {
    "duration": 8,
    "start_time": "2024-03-02T19:42:57.100Z"
   },
   {
    "duration": 31,
    "start_time": "2024-03-02T19:42:57.109Z"
   },
   {
    "duration": 10,
    "start_time": "2024-03-02T19:42:57.142Z"
   },
   {
    "duration": 18,
    "start_time": "2024-03-02T19:42:57.154Z"
   },
   {
    "duration": 13,
    "start_time": "2024-03-02T19:42:57.174Z"
   },
   {
    "duration": 35,
    "start_time": "2024-03-02T19:42:57.189Z"
   },
   {
    "duration": 22,
    "start_time": "2024-03-02T19:42:57.225Z"
   },
   {
    "duration": 22,
    "start_time": "2024-03-02T19:42:57.249Z"
   },
   {
    "duration": 14,
    "start_time": "2024-03-02T19:42:57.273Z"
   },
   {
    "duration": 254,
    "start_time": "2024-03-02T19:42:57.289Z"
   },
   {
    "duration": 790,
    "start_time": "2024-03-02T20:24:25.683Z"
   },
   {
    "duration": 15,
    "start_time": "2024-03-02T20:24:26.474Z"
   },
   {
    "duration": 9,
    "start_time": "2024-03-02T20:24:26.491Z"
   },
   {
    "duration": 23,
    "start_time": "2024-03-02T20:24:26.501Z"
   },
   {
    "duration": 41,
    "start_time": "2024-03-02T20:24:26.526Z"
   },
   {
    "duration": 8,
    "start_time": "2024-03-02T20:24:26.569Z"
   },
   {
    "duration": 7,
    "start_time": "2024-03-02T20:24:26.579Z"
   },
   {
    "duration": 12,
    "start_time": "2024-03-02T20:24:26.587Z"
   },
   {
    "duration": 19,
    "start_time": "2024-03-02T20:24:26.601Z"
   },
   {
    "duration": 55,
    "start_time": "2024-03-02T20:24:26.622Z"
   },
   {
    "duration": 12,
    "start_time": "2024-03-02T20:24:26.679Z"
   },
   {
    "duration": 18,
    "start_time": "2024-03-02T20:24:26.693Z"
   },
   {
    "duration": 8,
    "start_time": "2024-03-02T20:24:26.713Z"
   },
   {
    "duration": 275,
    "start_time": "2024-03-02T20:24:26.723Z"
   },
   {
    "duration": 72,
    "start_time": "2024-03-02T20:24:27.001Z"
   },
   {
    "duration": 0,
    "start_time": "2024-03-02T20:24:27.076Z"
   },
   {
    "duration": 761,
    "start_time": "2024-03-02T20:24:52.175Z"
   },
   {
    "duration": 15,
    "start_time": "2024-03-02T20:24:52.938Z"
   },
   {
    "duration": 10,
    "start_time": "2024-03-02T20:24:52.965Z"
   },
   {
    "duration": 30,
    "start_time": "2024-03-02T20:24:52.976Z"
   },
   {
    "duration": 8,
    "start_time": "2024-03-02T20:24:53.009Z"
   },
   {
    "duration": 8,
    "start_time": "2024-03-02T20:24:53.018Z"
   },
   {
    "duration": 12,
    "start_time": "2024-03-02T20:24:53.028Z"
   },
   {
    "duration": 31,
    "start_time": "2024-03-02T20:24:53.041Z"
   },
   {
    "duration": 24,
    "start_time": "2024-03-02T20:24:53.074Z"
   },
   {
    "duration": 16,
    "start_time": "2024-03-02T20:24:53.099Z"
   },
   {
    "duration": 32,
    "start_time": "2024-03-02T20:24:53.117Z"
   },
   {
    "duration": 19,
    "start_time": "2024-03-02T20:24:53.150Z"
   },
   {
    "duration": 11,
    "start_time": "2024-03-02T20:24:53.170Z"
   },
   {
    "duration": 233,
    "start_time": "2024-03-02T20:24:53.184Z"
   },
   {
    "duration": 67,
    "start_time": "2024-03-02T20:24:53.419Z"
   },
   {
    "duration": 0,
    "start_time": "2024-03-02T20:24:53.488Z"
   },
   {
    "duration": 791,
    "start_time": "2024-03-02T20:26:14.251Z"
   },
   {
    "duration": 22,
    "start_time": "2024-03-02T20:26:15.044Z"
   },
   {
    "duration": 30,
    "start_time": "2024-03-02T20:26:15.067Z"
   },
   {
    "duration": 35,
    "start_time": "2024-03-02T20:26:15.098Z"
   },
   {
    "duration": 22,
    "start_time": "2024-03-02T20:26:15.135Z"
   },
   {
    "duration": 19,
    "start_time": "2024-03-02T20:26:15.159Z"
   },
   {
    "duration": 24,
    "start_time": "2024-03-02T20:26:15.180Z"
   },
   {
    "duration": 60,
    "start_time": "2024-03-02T20:26:15.206Z"
   },
   {
    "duration": 69,
    "start_time": "2024-03-02T20:26:15.267Z"
   },
   {
    "duration": 35,
    "start_time": "2024-03-02T20:26:15.337Z"
   },
   {
    "duration": 19,
    "start_time": "2024-03-02T20:26:15.374Z"
   },
   {
    "duration": 37,
    "start_time": "2024-03-02T20:26:15.395Z"
   },
   {
    "duration": 26,
    "start_time": "2024-03-02T20:26:15.434Z"
   },
   {
    "duration": 229,
    "start_time": "2024-03-02T20:26:15.463Z"
   },
   {
    "duration": 75,
    "start_time": "2024-03-02T20:26:15.694Z"
   },
   {
    "duration": 0,
    "start_time": "2024-03-02T20:26:15.770Z"
   },
   {
    "duration": 703,
    "start_time": "2024-03-02T20:28:22.899Z"
   },
   {
    "duration": 13,
    "start_time": "2024-03-02T20:28:23.604Z"
   },
   {
    "duration": 8,
    "start_time": "2024-03-02T20:28:23.619Z"
   },
   {
    "duration": 42,
    "start_time": "2024-03-02T20:28:23.629Z"
   },
   {
    "duration": 10,
    "start_time": "2024-03-02T20:28:23.674Z"
   },
   {
    "duration": 10,
    "start_time": "2024-03-02T20:28:23.685Z"
   },
   {
    "duration": 11,
    "start_time": "2024-03-02T20:28:23.697Z"
   },
   {
    "duration": 13,
    "start_time": "2024-03-02T20:28:23.710Z"
   },
   {
    "duration": 43,
    "start_time": "2024-03-02T20:28:23.725Z"
   },
   {
    "duration": 10,
    "start_time": "2024-03-02T20:28:23.770Z"
   },
   {
    "duration": 7,
    "start_time": "2024-03-02T20:28:23.782Z"
   },
   {
    "duration": 11,
    "start_time": "2024-03-02T20:28:23.791Z"
   },
   {
    "duration": 7,
    "start_time": "2024-03-02T20:28:23.804Z"
   },
   {
    "duration": 279,
    "start_time": "2024-03-02T20:28:23.814Z"
   },
   {
    "duration": 73,
    "start_time": "2024-03-02T20:28:24.094Z"
   },
   {
    "duration": 0,
    "start_time": "2024-03-02T20:28:24.168Z"
   },
   {
    "duration": 749,
    "start_time": "2024-03-02T20:28:57.880Z"
   },
   {
    "duration": 24,
    "start_time": "2024-03-02T20:28:58.632Z"
   },
   {
    "duration": 22,
    "start_time": "2024-03-02T20:28:58.666Z"
   },
   {
    "duration": 54,
    "start_time": "2024-03-02T20:28:58.690Z"
   },
   {
    "duration": 14,
    "start_time": "2024-03-02T20:28:58.746Z"
   },
   {
    "duration": 31,
    "start_time": "2024-03-02T20:28:58.765Z"
   },
   {
    "duration": 39,
    "start_time": "2024-03-02T20:28:58.798Z"
   },
   {
    "duration": 32,
    "start_time": "2024-03-02T20:28:58.839Z"
   },
   {
    "duration": 36,
    "start_time": "2024-03-02T20:28:58.873Z"
   },
   {
    "duration": 12,
    "start_time": "2024-03-02T20:28:58.911Z"
   },
   {
    "duration": 7,
    "start_time": "2024-03-02T20:28:58.925Z"
   },
   {
    "duration": 12,
    "start_time": "2024-03-02T20:28:58.934Z"
   },
   {
    "duration": 23,
    "start_time": "2024-03-02T20:28:58.948Z"
   },
   {
    "duration": 254,
    "start_time": "2024-03-02T20:28:58.974Z"
   },
   {
    "duration": 63,
    "start_time": "2024-03-02T20:28:59.229Z"
   },
   {
    "duration": 0,
    "start_time": "2024-03-02T20:28:59.294Z"
   },
   {
    "duration": 751,
    "start_time": "2024-03-02T20:29:26.475Z"
   },
   {
    "duration": 15,
    "start_time": "2024-03-02T20:29:27.227Z"
   },
   {
    "duration": 28,
    "start_time": "2024-03-02T20:29:27.245Z"
   },
   {
    "duration": 31,
    "start_time": "2024-03-02T20:29:27.276Z"
   },
   {
    "duration": 12,
    "start_time": "2024-03-02T20:29:27.308Z"
   },
   {
    "duration": 10,
    "start_time": "2024-03-02T20:29:27.322Z"
   },
   {
    "duration": 36,
    "start_time": "2024-03-02T20:29:27.336Z"
   },
   {
    "duration": 10,
    "start_time": "2024-03-02T20:29:27.374Z"
   },
   {
    "duration": 18,
    "start_time": "2024-03-02T20:29:27.386Z"
   },
   {
    "duration": 16,
    "start_time": "2024-03-02T20:29:27.406Z"
   },
   {
    "duration": 8,
    "start_time": "2024-03-02T20:29:27.424Z"
   },
   {
    "duration": 40,
    "start_time": "2024-03-02T20:29:27.434Z"
   },
   {
    "duration": 7,
    "start_time": "2024-03-02T20:29:27.476Z"
   },
   {
    "duration": 244,
    "start_time": "2024-03-02T20:29:27.484Z"
   },
   {
    "duration": 65,
    "start_time": "2024-03-02T20:29:27.729Z"
   },
   {
    "duration": 0,
    "start_time": "2024-03-02T20:29:27.795Z"
   },
   {
    "duration": 729,
    "start_time": "2024-03-02T20:29:42.779Z"
   },
   {
    "duration": 14,
    "start_time": "2024-03-02T20:29:43.510Z"
   },
   {
    "duration": 21,
    "start_time": "2024-03-02T20:29:43.526Z"
   },
   {
    "duration": 30,
    "start_time": "2024-03-02T20:29:43.548Z"
   },
   {
    "duration": 7,
    "start_time": "2024-03-02T20:29:43.580Z"
   },
   {
    "duration": 19,
    "start_time": "2024-03-02T20:29:43.588Z"
   },
   {
    "duration": 9,
    "start_time": "2024-03-02T20:29:43.609Z"
   },
   {
    "duration": 9,
    "start_time": "2024-03-02T20:29:43.619Z"
   },
   {
    "duration": 13,
    "start_time": "2024-03-02T20:29:43.629Z"
   },
   {
    "duration": 26,
    "start_time": "2024-03-02T20:29:43.643Z"
   },
   {
    "duration": 7,
    "start_time": "2024-03-02T20:29:43.671Z"
   },
   {
    "duration": 13,
    "start_time": "2024-03-02T20:29:43.679Z"
   },
   {
    "duration": 21,
    "start_time": "2024-03-02T20:29:43.693Z"
   },
   {
    "duration": 237,
    "start_time": "2024-03-02T20:29:43.716Z"
   },
   {
    "duration": 132,
    "start_time": "2024-03-02T20:29:43.954Z"
   },
   {
    "duration": 0,
    "start_time": "2024-03-02T20:29:44.088Z"
   },
   {
    "duration": 775,
    "start_time": "2024-03-02T20:30:18.650Z"
   },
   {
    "duration": 14,
    "start_time": "2024-03-02T20:30:19.427Z"
   },
   {
    "duration": 26,
    "start_time": "2024-03-02T20:30:19.443Z"
   },
   {
    "duration": 43,
    "start_time": "2024-03-02T20:30:19.470Z"
   },
   {
    "duration": 8,
    "start_time": "2024-03-02T20:30:19.515Z"
   },
   {
    "duration": 29,
    "start_time": "2024-03-02T20:30:19.524Z"
   },
   {
    "duration": 21,
    "start_time": "2024-03-02T20:30:19.554Z"
   },
   {
    "duration": 30,
    "start_time": "2024-03-02T20:30:19.576Z"
   },
   {
    "duration": 36,
    "start_time": "2024-03-02T20:30:19.607Z"
   },
   {
    "duration": 28,
    "start_time": "2024-03-02T20:30:19.644Z"
   },
   {
    "duration": 36,
    "start_time": "2024-03-02T20:30:19.674Z"
   },
   {
    "duration": 44,
    "start_time": "2024-03-02T20:30:19.711Z"
   },
   {
    "duration": 15,
    "start_time": "2024-03-02T20:30:19.757Z"
   },
   {
    "duration": 234,
    "start_time": "2024-03-02T20:30:19.774Z"
   },
   {
    "duration": 5,
    "start_time": "2024-03-02T20:30:20.009Z"
   },
   {
    "duration": 104,
    "start_time": "2024-03-02T20:30:20.016Z"
   },
   {
    "duration": 808,
    "start_time": "2024-03-02T20:30:30.939Z"
   },
   {
    "duration": 19,
    "start_time": "2024-03-02T20:30:31.749Z"
   },
   {
    "duration": 13,
    "start_time": "2024-03-02T20:30:31.770Z"
   },
   {
    "duration": 39,
    "start_time": "2024-03-02T20:30:31.785Z"
   },
   {
    "duration": 12,
    "start_time": "2024-03-02T20:30:31.826Z"
   },
   {
    "duration": 8,
    "start_time": "2024-03-02T20:30:31.866Z"
   },
   {
    "duration": 18,
    "start_time": "2024-03-02T20:30:31.876Z"
   },
   {
    "duration": 13,
    "start_time": "2024-03-02T20:30:31.896Z"
   },
   {
    "duration": 16,
    "start_time": "2024-03-02T20:30:31.911Z"
   },
   {
    "duration": 38,
    "start_time": "2024-03-02T20:30:31.929Z"
   },
   {
    "duration": 11,
    "start_time": "2024-03-02T20:30:31.969Z"
   },
   {
    "duration": 17,
    "start_time": "2024-03-02T20:30:31.982Z"
   },
   {
    "duration": 9,
    "start_time": "2024-03-02T20:30:32.001Z"
   },
   {
    "duration": 268,
    "start_time": "2024-03-02T20:30:32.013Z"
   },
   {
    "duration": 6,
    "start_time": "2024-03-02T20:30:32.282Z"
   },
   {
    "duration": 17,
    "start_time": "2024-03-02T20:30:32.289Z"
   },
   {
    "duration": 740,
    "start_time": "2024-03-02T20:31:56.944Z"
   },
   {
    "duration": 14,
    "start_time": "2024-03-02T20:31:57.686Z"
   },
   {
    "duration": 8,
    "start_time": "2024-03-02T20:31:57.701Z"
   },
   {
    "duration": 22,
    "start_time": "2024-03-02T20:31:57.710Z"
   },
   {
    "duration": 7,
    "start_time": "2024-03-02T20:31:57.734Z"
   },
   {
    "duration": 5,
    "start_time": "2024-03-02T20:31:57.767Z"
   },
   {
    "duration": 9,
    "start_time": "2024-03-02T20:31:57.773Z"
   },
   {
    "duration": 9,
    "start_time": "2024-03-02T20:31:57.783Z"
   },
   {
    "duration": 84,
    "start_time": "2024-03-02T20:31:57.793Z"
   },
   {
    "duration": 0,
    "start_time": "2024-03-02T20:31:57.878Z"
   },
   {
    "duration": 0,
    "start_time": "2024-03-02T20:31:57.879Z"
   },
   {
    "duration": 0,
    "start_time": "2024-03-02T20:31:57.880Z"
   },
   {
    "duration": 0,
    "start_time": "2024-03-02T20:31:57.881Z"
   },
   {
    "duration": 0,
    "start_time": "2024-03-02T20:31:57.882Z"
   },
   {
    "duration": 0,
    "start_time": "2024-03-02T20:31:57.883Z"
   },
   {
    "duration": 0,
    "start_time": "2024-03-02T20:31:57.884Z"
   },
   {
    "duration": 695,
    "start_time": "2024-03-02T20:32:33.418Z"
   },
   {
    "duration": 13,
    "start_time": "2024-03-02T20:32:34.115Z"
   },
   {
    "duration": 8,
    "start_time": "2024-03-02T20:32:34.130Z"
   },
   {
    "duration": 38,
    "start_time": "2024-03-02T20:32:34.139Z"
   },
   {
    "duration": 7,
    "start_time": "2024-03-02T20:32:34.179Z"
   },
   {
    "duration": 18,
    "start_time": "2024-03-02T20:32:34.187Z"
   },
   {
    "duration": 26,
    "start_time": "2024-03-02T20:32:34.207Z"
   },
   {
    "duration": 31,
    "start_time": "2024-03-02T20:32:34.234Z"
   },
   {
    "duration": 90,
    "start_time": "2024-03-02T20:32:34.266Z"
   },
   {
    "duration": 0,
    "start_time": "2024-03-02T20:32:34.358Z"
   },
   {
    "duration": 0,
    "start_time": "2024-03-02T20:32:34.359Z"
   },
   {
    "duration": 0,
    "start_time": "2024-03-02T20:32:34.360Z"
   },
   {
    "duration": 0,
    "start_time": "2024-03-02T20:32:34.361Z"
   },
   {
    "duration": 0,
    "start_time": "2024-03-02T20:32:34.362Z"
   },
   {
    "duration": 0,
    "start_time": "2024-03-02T20:32:34.363Z"
   },
   {
    "duration": 0,
    "start_time": "2024-03-02T20:32:34.364Z"
   },
   {
    "duration": 755,
    "start_time": "2024-03-02T20:33:39.843Z"
   },
   {
    "duration": 13,
    "start_time": "2024-03-02T20:33:40.600Z"
   },
   {
    "duration": 8,
    "start_time": "2024-03-02T20:33:40.615Z"
   },
   {
    "duration": 42,
    "start_time": "2024-03-02T20:33:40.624Z"
   },
   {
    "duration": 7,
    "start_time": "2024-03-02T20:33:40.669Z"
   },
   {
    "duration": 8,
    "start_time": "2024-03-02T20:33:40.677Z"
   },
   {
    "duration": 7,
    "start_time": "2024-03-02T20:33:40.687Z"
   },
   {
    "duration": 28,
    "start_time": "2024-03-02T20:33:40.696Z"
   },
   {
    "duration": 19,
    "start_time": "2024-03-02T20:33:40.725Z"
   },
   {
    "duration": 28,
    "start_time": "2024-03-02T20:33:40.746Z"
   },
   {
    "duration": 7,
    "start_time": "2024-03-02T20:33:40.776Z"
   },
   {
    "duration": 11,
    "start_time": "2024-03-02T20:33:40.784Z"
   },
   {
    "duration": 7,
    "start_time": "2024-03-02T20:33:40.797Z"
   },
   {
    "duration": 284,
    "start_time": "2024-03-02T20:33:40.806Z"
   },
   {
    "duration": 6,
    "start_time": "2024-03-02T20:33:41.091Z"
   },
   {
    "duration": 30,
    "start_time": "2024-03-02T20:33:41.098Z"
   },
   {
    "duration": 762,
    "start_time": "2024-03-02T20:50:56.843Z"
   },
   {
    "duration": 15,
    "start_time": "2024-03-02T20:50:57.607Z"
   },
   {
    "duration": 10,
    "start_time": "2024-03-02T20:50:57.623Z"
   },
   {
    "duration": 39,
    "start_time": "2024-03-02T20:50:57.634Z"
   },
   {
    "duration": 7,
    "start_time": "2024-03-02T20:50:57.675Z"
   },
   {
    "duration": 14,
    "start_time": "2024-03-02T20:50:57.683Z"
   },
   {
    "duration": 6,
    "start_time": "2024-03-02T20:50:57.699Z"
   },
   {
    "duration": 9,
    "start_time": "2024-03-02T20:50:57.707Z"
   },
   {
    "duration": 15,
    "start_time": "2024-03-02T20:50:57.717Z"
   },
   {
    "duration": 35,
    "start_time": "2024-03-02T20:50:57.734Z"
   },
   {
    "duration": 8,
    "start_time": "2024-03-02T20:50:57.770Z"
   },
   {
    "duration": 25,
    "start_time": "2024-03-02T20:50:57.780Z"
   },
   {
    "duration": 22,
    "start_time": "2024-03-02T20:50:57.806Z"
   },
   {
    "duration": 266,
    "start_time": "2024-03-02T20:50:57.830Z"
   },
   {
    "duration": 6,
    "start_time": "2024-03-02T20:50:58.097Z"
   },
   {
    "duration": 81,
    "start_time": "2024-03-02T20:50:58.105Z"
   },
   {
    "duration": 805,
    "start_time": "2024-03-02T20:51:14.142Z"
   },
   {
    "duration": 24,
    "start_time": "2024-03-02T20:51:14.949Z"
   },
   {
    "duration": 9,
    "start_time": "2024-03-02T20:51:14.978Z"
   },
   {
    "duration": 29,
    "start_time": "2024-03-02T20:51:14.989Z"
   },
   {
    "duration": 8,
    "start_time": "2024-03-02T20:51:15.019Z"
   },
   {
    "duration": 47,
    "start_time": "2024-03-02T20:51:15.028Z"
   },
   {
    "duration": 70,
    "start_time": "2024-03-02T20:51:15.077Z"
   },
   {
    "duration": 32,
    "start_time": "2024-03-02T20:51:15.149Z"
   },
   {
    "duration": 48,
    "start_time": "2024-03-02T20:51:15.183Z"
   },
   {
    "duration": 18,
    "start_time": "2024-03-02T20:51:15.233Z"
   },
   {
    "duration": 42,
    "start_time": "2024-03-02T20:51:15.253Z"
   },
   {
    "duration": 109,
    "start_time": "2024-03-02T20:51:15.296Z"
   },
   {
    "duration": 76,
    "start_time": "2024-03-02T20:51:15.408Z"
   },
   {
    "duration": 341,
    "start_time": "2024-03-02T20:51:15.486Z"
   },
   {
    "duration": 8,
    "start_time": "2024-03-02T20:51:15.829Z"
   },
   {
    "duration": 28,
    "start_time": "2024-03-02T20:51:15.839Z"
   },
   {
    "duration": 727,
    "start_time": "2024-03-02T20:56:17.871Z"
   },
   {
    "duration": 14,
    "start_time": "2024-03-02T20:56:18.600Z"
   },
   {
    "duration": 4,
    "start_time": "2024-03-02T20:56:18.615Z"
   },
   {
    "duration": 1919,
    "start_time": "2024-03-02T20:56:18.620Z"
   },
   {
    "duration": 11,
    "start_time": "2024-03-02T20:56:20.541Z"
   },
   {
    "duration": 25,
    "start_time": "2024-03-02T20:56:20.554Z"
   },
   {
    "duration": 8,
    "start_time": "2024-03-02T20:56:20.581Z"
   },
   {
    "duration": 13,
    "start_time": "2024-03-02T20:56:20.590Z"
   },
   {
    "duration": 7,
    "start_time": "2024-03-02T20:56:20.605Z"
   },
   {
    "duration": 10,
    "start_time": "2024-03-02T20:56:20.614Z"
   },
   {
    "duration": 41,
    "start_time": "2024-03-02T20:56:20.625Z"
   },
   {
    "duration": 12,
    "start_time": "2024-03-02T20:56:20.668Z"
   },
   {
    "duration": 8,
    "start_time": "2024-03-02T20:56:20.681Z"
   },
   {
    "duration": 11,
    "start_time": "2024-03-02T20:56:20.691Z"
   },
   {
    "duration": 6,
    "start_time": "2024-03-02T20:56:20.703Z"
   },
   {
    "duration": 289,
    "start_time": "2024-03-02T20:56:20.710Z"
   },
   {
    "duration": 5,
    "start_time": "2024-03-02T20:56:21.001Z"
   },
   {
    "duration": 9,
    "start_time": "2024-03-02T20:56:21.008Z"
   },
   {
    "duration": 745,
    "start_time": "2024-03-02T21:41:53.203Z"
   },
   {
    "duration": 16,
    "start_time": "2024-03-02T21:41:53.950Z"
   },
   {
    "duration": 8,
    "start_time": "2024-03-02T21:41:53.967Z"
   },
   {
    "duration": 1915,
    "start_time": "2024-03-02T21:41:53.976Z"
   },
   {
    "duration": 10,
    "start_time": "2024-03-02T21:41:55.894Z"
   },
   {
    "duration": 28,
    "start_time": "2024-03-02T21:41:55.905Z"
   },
   {
    "duration": 10,
    "start_time": "2024-03-02T21:41:55.935Z"
   },
   {
    "duration": 21,
    "start_time": "2024-03-02T21:41:55.947Z"
   },
   {
    "duration": 9,
    "start_time": "2024-03-02T21:41:55.970Z"
   },
   {
    "duration": 10,
    "start_time": "2024-03-02T21:41:55.980Z"
   },
   {
    "duration": 10,
    "start_time": "2024-03-02T21:41:55.992Z"
   },
   {
    "duration": 10,
    "start_time": "2024-03-02T21:41:56.003Z"
   },
   {
    "duration": 17,
    "start_time": "2024-03-02T21:41:56.015Z"
   },
   {
    "duration": 56,
    "start_time": "2024-03-02T21:41:56.035Z"
   },
   {
    "duration": 8,
    "start_time": "2024-03-02T21:41:56.093Z"
   },
   {
    "duration": 304,
    "start_time": "2024-03-02T21:41:56.103Z"
   },
   {
    "duration": 5,
    "start_time": "2024-03-02T21:41:56.408Z"
   },
   {
    "duration": 7,
    "start_time": "2024-03-02T21:41:56.415Z"
   },
   {
    "duration": 77,
    "start_time": "2024-03-02T21:41:56.423Z"
   },
   {
    "duration": 734,
    "start_time": "2024-03-02T21:42:26.526Z"
   },
   {
    "duration": 13,
    "start_time": "2024-03-02T21:42:27.265Z"
   },
   {
    "duration": 6,
    "start_time": "2024-03-02T21:42:27.280Z"
   },
   {
    "duration": 1939,
    "start_time": "2024-03-02T21:42:27.288Z"
   },
   {
    "duration": 10,
    "start_time": "2024-03-02T21:42:29.230Z"
   },
   {
    "duration": 30,
    "start_time": "2024-03-02T21:42:29.242Z"
   },
   {
    "duration": 8,
    "start_time": "2024-03-02T21:42:29.274Z"
   },
   {
    "duration": 25,
    "start_time": "2024-03-02T21:42:29.283Z"
   },
   {
    "duration": 41,
    "start_time": "2024-03-02T21:42:29.309Z"
   },
   {
    "duration": 25,
    "start_time": "2024-03-02T21:42:29.351Z"
   },
   {
    "duration": 17,
    "start_time": "2024-03-02T21:42:29.378Z"
   },
   {
    "duration": 18,
    "start_time": "2024-03-02T21:42:29.397Z"
   },
   {
    "duration": 28,
    "start_time": "2024-03-02T21:42:29.416Z"
   },
   {
    "duration": 25,
    "start_time": "2024-03-02T21:42:29.446Z"
   },
   {
    "duration": 32,
    "start_time": "2024-03-02T21:42:29.472Z"
   },
   {
    "duration": 305,
    "start_time": "2024-03-02T21:42:29.506Z"
   },
   {
    "duration": 7,
    "start_time": "2024-03-02T21:42:29.813Z"
   },
   {
    "duration": 30,
    "start_time": "2024-03-02T21:42:29.822Z"
   },
   {
    "duration": 66,
    "start_time": "2024-03-02T21:42:29.854Z"
   },
   {
    "duration": 769,
    "start_time": "2024-03-02T21:42:46.213Z"
   },
   {
    "duration": 15,
    "start_time": "2024-03-02T21:42:46.984Z"
   },
   {
    "duration": 4,
    "start_time": "2024-03-02T21:42:47.001Z"
   },
   {
    "duration": 2049,
    "start_time": "2024-03-02T21:42:47.006Z"
   },
   {
    "duration": 13,
    "start_time": "2024-03-02T21:42:49.058Z"
   },
   {
    "duration": 32,
    "start_time": "2024-03-02T21:42:49.072Z"
   },
   {
    "duration": 8,
    "start_time": "2024-03-02T21:42:49.105Z"
   },
   {
    "duration": 8,
    "start_time": "2024-03-02T21:42:49.114Z"
   },
   {
    "duration": 7,
    "start_time": "2024-03-02T21:42:49.123Z"
   },
   {
    "duration": 9,
    "start_time": "2024-03-02T21:42:49.132Z"
   },
   {
    "duration": 10,
    "start_time": "2024-03-02T21:42:49.166Z"
   },
   {
    "duration": 11,
    "start_time": "2024-03-02T21:42:49.177Z"
   },
   {
    "duration": 7,
    "start_time": "2024-03-02T21:42:49.189Z"
   },
   {
    "duration": 10,
    "start_time": "2024-03-02T21:42:49.198Z"
   },
   {
    "duration": 6,
    "start_time": "2024-03-02T21:42:49.210Z"
   },
   {
    "duration": 294,
    "start_time": "2024-03-02T21:42:49.217Z"
   },
   {
    "duration": 5,
    "start_time": "2024-03-02T21:42:49.513Z"
   },
   {
    "duration": 7,
    "start_time": "2024-03-02T21:42:49.520Z"
   },
   {
    "duration": 112,
    "start_time": "2024-03-02T21:42:49.528Z"
   },
   {
    "duration": 732,
    "start_time": "2024-03-02T21:43:11.708Z"
   },
   {
    "duration": 14,
    "start_time": "2024-03-02T21:43:12.442Z"
   },
   {
    "duration": 8,
    "start_time": "2024-03-02T21:43:12.458Z"
   },
   {
    "duration": 1959,
    "start_time": "2024-03-02T21:43:12.468Z"
   },
   {
    "duration": 10,
    "start_time": "2024-03-02T21:43:14.429Z"
   },
   {
    "duration": 24,
    "start_time": "2024-03-02T21:43:14.440Z"
   },
   {
    "duration": 7,
    "start_time": "2024-03-02T21:43:14.466Z"
   },
   {
    "duration": 6,
    "start_time": "2024-03-02T21:43:14.475Z"
   },
   {
    "duration": 8,
    "start_time": "2024-03-02T21:43:14.482Z"
   },
   {
    "duration": 13,
    "start_time": "2024-03-02T21:43:14.492Z"
   },
   {
    "duration": 11,
    "start_time": "2024-03-02T21:43:14.506Z"
   },
   {
    "duration": 10,
    "start_time": "2024-03-02T21:43:14.518Z"
   },
   {
    "duration": 39,
    "start_time": "2024-03-02T21:43:14.530Z"
   },
   {
    "duration": 11,
    "start_time": "2024-03-02T21:43:14.571Z"
   },
   {
    "duration": 6,
    "start_time": "2024-03-02T21:43:14.583Z"
   },
   {
    "duration": 289,
    "start_time": "2024-03-02T21:43:14.590Z"
   },
   {
    "duration": 5,
    "start_time": "2024-03-02T21:43:14.880Z"
   },
   {
    "duration": 8,
    "start_time": "2024-03-02T21:43:14.887Z"
   },
   {
    "duration": 109,
    "start_time": "2024-03-02T21:43:14.897Z"
   },
   {
    "duration": 690,
    "start_time": "2024-03-02T21:46:28.204Z"
   },
   {
    "duration": 14,
    "start_time": "2024-03-02T21:46:28.896Z"
   },
   {
    "duration": 10,
    "start_time": "2024-03-02T21:46:28.911Z"
   },
   {
    "duration": 1924,
    "start_time": "2024-03-02T21:46:28.922Z"
   },
   {
    "duration": 9,
    "start_time": "2024-03-02T21:46:30.848Z"
   },
   {
    "duration": 65,
    "start_time": "2024-03-02T21:46:30.858Z"
   },
   {
    "duration": 32,
    "start_time": "2024-03-02T21:46:30.925Z"
   },
   {
    "duration": 34,
    "start_time": "2024-03-02T21:46:30.959Z"
   },
   {
    "duration": 78,
    "start_time": "2024-03-02T21:46:30.995Z"
   },
   {
    "duration": 45,
    "start_time": "2024-03-02T21:46:31.074Z"
   },
   {
    "duration": 44,
    "start_time": "2024-03-02T21:46:31.121Z"
   },
   {
    "duration": 25,
    "start_time": "2024-03-02T21:46:31.166Z"
   },
   {
    "duration": 20,
    "start_time": "2024-03-02T21:46:31.193Z"
   },
   {
    "duration": 35,
    "start_time": "2024-03-02T21:46:31.215Z"
   },
   {
    "duration": 19,
    "start_time": "2024-03-02T21:46:31.252Z"
   },
   {
    "duration": 267,
    "start_time": "2024-03-02T21:46:31.272Z"
   },
   {
    "duration": 5,
    "start_time": "2024-03-02T21:46:31.540Z"
   },
   {
    "duration": 22,
    "start_time": "2024-03-02T21:46:31.547Z"
   },
   {
    "duration": 180,
    "start_time": "2024-03-02T21:46:31.571Z"
   },
   {
    "duration": 760,
    "start_time": "2024-03-02T21:47:07.549Z"
   },
   {
    "duration": 14,
    "start_time": "2024-03-02T21:47:08.311Z"
   },
   {
    "duration": 3,
    "start_time": "2024-03-02T21:47:08.327Z"
   },
   {
    "duration": 1839,
    "start_time": "2024-03-02T21:47:08.332Z"
   },
   {
    "duration": 11,
    "start_time": "2024-03-02T21:47:10.174Z"
   },
   {
    "duration": 24,
    "start_time": "2024-03-02T21:47:10.186Z"
   },
   {
    "duration": 9,
    "start_time": "2024-03-02T21:47:10.212Z"
   },
   {
    "duration": 7,
    "start_time": "2024-03-02T21:47:10.222Z"
   },
   {
    "duration": 39,
    "start_time": "2024-03-02T21:47:10.230Z"
   },
   {
    "duration": 9,
    "start_time": "2024-03-02T21:47:10.270Z"
   },
   {
    "duration": 10,
    "start_time": "2024-03-02T21:47:10.281Z"
   },
   {
    "duration": 11,
    "start_time": "2024-03-02T21:47:10.293Z"
   },
   {
    "duration": 8,
    "start_time": "2024-03-02T21:47:10.305Z"
   },
   {
    "duration": 10,
    "start_time": "2024-03-02T21:47:10.315Z"
   },
   {
    "duration": 43,
    "start_time": "2024-03-02T21:47:10.327Z"
   },
   {
    "duration": 286,
    "start_time": "2024-03-02T21:47:10.372Z"
   },
   {
    "duration": 6,
    "start_time": "2024-03-02T21:47:10.659Z"
   },
   {
    "duration": 9,
    "start_time": "2024-03-02T21:47:10.667Z"
   },
   {
    "duration": 422,
    "start_time": "2024-03-02T21:47:10.677Z"
   },
   {
    "duration": 766,
    "start_time": "2024-03-02T21:47:43.624Z"
   },
   {
    "duration": 17,
    "start_time": "2024-03-02T21:47:44.392Z"
   },
   {
    "duration": 4,
    "start_time": "2024-03-02T21:47:44.411Z"
   },
   {
    "duration": 1983,
    "start_time": "2024-03-02T21:47:44.416Z"
   },
   {
    "duration": 8,
    "start_time": "2024-03-02T21:47:46.401Z"
   },
   {
    "duration": 47,
    "start_time": "2024-03-02T21:47:46.411Z"
   },
   {
    "duration": 20,
    "start_time": "2024-03-02T21:47:46.460Z"
   },
   {
    "duration": 26,
    "start_time": "2024-03-02T21:47:46.481Z"
   },
   {
    "duration": 44,
    "start_time": "2024-03-02T21:47:46.508Z"
   },
   {
    "duration": 49,
    "start_time": "2024-03-02T21:47:46.553Z"
   },
   {
    "duration": 21,
    "start_time": "2024-03-02T21:47:46.604Z"
   },
   {
    "duration": 15,
    "start_time": "2024-03-02T21:47:46.627Z"
   },
   {
    "duration": 11,
    "start_time": "2024-03-02T21:47:46.644Z"
   },
   {
    "duration": 15,
    "start_time": "2024-03-02T21:47:46.658Z"
   },
   {
    "duration": 23,
    "start_time": "2024-03-02T21:47:46.675Z"
   },
   {
    "duration": 284,
    "start_time": "2024-03-02T21:47:46.700Z"
   },
   {
    "duration": 6,
    "start_time": "2024-03-02T21:47:46.986Z"
   },
   {
    "duration": 21,
    "start_time": "2024-03-02T21:47:46.994Z"
   },
   {
    "duration": 394,
    "start_time": "2024-03-02T21:47:47.017Z"
   },
   {
    "duration": 786,
    "start_time": "2024-03-02T21:48:21.251Z"
   },
   {
    "duration": 14,
    "start_time": "2024-03-02T21:48:22.039Z"
   },
   {
    "duration": 25,
    "start_time": "2024-03-02T21:48:22.054Z"
   },
   {
    "duration": 1959,
    "start_time": "2024-03-02T21:48:22.080Z"
   },
   {
    "duration": 9,
    "start_time": "2024-03-02T21:48:24.041Z"
   },
   {
    "duration": 35,
    "start_time": "2024-03-02T21:48:24.052Z"
   },
   {
    "duration": 11,
    "start_time": "2024-03-02T21:48:24.089Z"
   },
   {
    "duration": 42,
    "start_time": "2024-03-02T21:48:24.102Z"
   },
   {
    "duration": 34,
    "start_time": "2024-03-02T21:48:24.146Z"
   },
   {
    "duration": 26,
    "start_time": "2024-03-02T21:48:24.182Z"
   },
   {
    "duration": 32,
    "start_time": "2024-03-02T21:48:24.210Z"
   },
   {
    "duration": 10,
    "start_time": "2024-03-02T21:48:24.244Z"
   },
   {
    "duration": 21,
    "start_time": "2024-03-02T21:48:24.256Z"
   },
   {
    "duration": 32,
    "start_time": "2024-03-02T21:48:24.279Z"
   },
   {
    "duration": 42,
    "start_time": "2024-03-02T21:48:24.313Z"
   },
   {
    "duration": 298,
    "start_time": "2024-03-02T21:48:24.357Z"
   },
   {
    "duration": 9,
    "start_time": "2024-03-02T21:48:24.657Z"
   },
   {
    "duration": 35,
    "start_time": "2024-03-02T21:48:24.667Z"
   },
   {
    "duration": 369,
    "start_time": "2024-03-02T21:48:24.704Z"
   },
   {
    "duration": 53,
    "start_time": "2024-03-03T07:54:49.886Z"
   },
   {
    "duration": 1111,
    "start_time": "2024-03-03T07:54:53.347Z"
   },
   {
    "duration": 16,
    "start_time": "2024-03-03T07:54:54.460Z"
   },
   {
    "duration": 11,
    "start_time": "2024-03-03T07:54:54.478Z"
   },
   {
    "duration": 2035,
    "start_time": "2024-03-03T07:54:54.491Z"
   },
   {
    "duration": 10,
    "start_time": "2024-03-03T07:54:56.528Z"
   },
   {
    "duration": 36,
    "start_time": "2024-03-03T07:54:56.539Z"
   },
   {
    "duration": 8,
    "start_time": "2024-03-03T07:54:56.577Z"
   },
   {
    "duration": 9,
    "start_time": "2024-03-03T07:54:56.587Z"
   },
   {
    "duration": 23,
    "start_time": "2024-03-03T07:54:56.598Z"
   },
   {
    "duration": 10,
    "start_time": "2024-03-03T07:54:56.623Z"
   },
   {
    "duration": 11,
    "start_time": "2024-03-03T07:54:56.635Z"
   },
   {
    "duration": 11,
    "start_time": "2024-03-03T07:54:56.674Z"
   },
   {
    "duration": 10,
    "start_time": "2024-03-03T07:54:56.687Z"
   },
   {
    "duration": 15,
    "start_time": "2024-03-03T07:54:56.700Z"
   },
   {
    "duration": 8,
    "start_time": "2024-03-03T07:54:56.718Z"
   },
   {
    "duration": 336,
    "start_time": "2024-03-03T07:54:56.730Z"
   },
   {
    "duration": 7,
    "start_time": "2024-03-03T07:54:57.072Z"
   },
   {
    "duration": 15,
    "start_time": "2024-03-03T07:54:57.081Z"
   },
   {
    "duration": 392,
    "start_time": "2024-03-03T07:54:57.098Z"
   },
   {
    "duration": 858,
    "start_time": "2024-03-03T08:04:17.464Z"
   },
   {
    "duration": 17,
    "start_time": "2024-03-03T08:04:18.324Z"
   },
   {
    "duration": 4,
    "start_time": "2024-03-03T08:04:18.346Z"
   },
   {
    "duration": 2225,
    "start_time": "2024-03-03T08:04:18.353Z"
   },
   {
    "duration": 11,
    "start_time": "2024-03-03T08:04:20.579Z"
   },
   {
    "duration": 38,
    "start_time": "2024-03-03T08:04:20.591Z"
   },
   {
    "duration": 10,
    "start_time": "2024-03-03T08:04:20.630Z"
   },
   {
    "duration": 27,
    "start_time": "2024-03-03T08:04:20.641Z"
   },
   {
    "duration": 38,
    "start_time": "2024-03-03T08:04:20.672Z"
   },
   {
    "duration": 11,
    "start_time": "2024-03-03T08:04:20.712Z"
   },
   {
    "duration": 12,
    "start_time": "2024-03-03T08:04:20.725Z"
   },
   {
    "duration": 15,
    "start_time": "2024-03-03T08:04:20.739Z"
   },
   {
    "duration": 8,
    "start_time": "2024-03-03T08:04:20.758Z"
   },
   {
    "duration": 14,
    "start_time": "2024-03-03T08:04:20.774Z"
   },
   {
    "duration": 9,
    "start_time": "2024-03-03T08:04:20.790Z"
   },
   {
    "duration": 310,
    "start_time": "2024-03-03T08:04:20.800Z"
   },
   {
    "duration": 6,
    "start_time": "2024-03-03T08:04:21.112Z"
   },
   {
    "duration": 12,
    "start_time": "2024-03-03T08:04:21.120Z"
   },
   {
    "duration": 405,
    "start_time": "2024-03-03T08:04:21.134Z"
   },
   {
    "duration": 2893,
    "start_time": "2024-03-03T08:34:58.828Z"
   },
   {
    "duration": 798,
    "start_time": "2024-03-03T08:35:15.822Z"
   },
   {
    "duration": 20,
    "start_time": "2024-03-03T08:35:16.622Z"
   },
   {
    "duration": 23,
    "start_time": "2024-03-03T08:35:16.644Z"
   },
   {
    "duration": 2109,
    "start_time": "2024-03-03T08:35:16.669Z"
   },
   {
    "duration": 10,
    "start_time": "2024-03-03T08:35:18.780Z"
   },
   {
    "duration": 27,
    "start_time": "2024-03-03T08:35:18.792Z"
   },
   {
    "duration": 9,
    "start_time": "2024-03-03T08:35:18.821Z"
   },
   {
    "duration": 15,
    "start_time": "2024-03-03T08:35:18.831Z"
   },
   {
    "duration": 27,
    "start_time": "2024-03-03T08:35:18.848Z"
   },
   {
    "duration": 12,
    "start_time": "2024-03-03T08:35:18.877Z"
   },
   {
    "duration": 12,
    "start_time": "2024-03-03T08:35:18.891Z"
   },
   {
    "duration": 11,
    "start_time": "2024-03-03T08:35:18.905Z"
   },
   {
    "duration": 11,
    "start_time": "2024-03-03T08:35:18.918Z"
   },
   {
    "duration": 53,
    "start_time": "2024-03-03T08:35:18.932Z"
   },
   {
    "duration": 9,
    "start_time": "2024-03-03T08:35:18.987Z"
   },
   {
    "duration": 340,
    "start_time": "2024-03-03T08:35:18.998Z"
   },
   {
    "duration": 7,
    "start_time": "2024-03-03T08:35:19.340Z"
   },
   {
    "duration": 25,
    "start_time": "2024-03-03T08:35:19.349Z"
   },
   {
    "duration": 406,
    "start_time": "2024-03-03T08:35:19.375Z"
   },
   {
    "duration": 159,
    "start_time": "2024-03-03T08:57:56.584Z"
   },
   {
    "duration": 97,
    "start_time": "2024-03-03T08:58:17.606Z"
   },
   {
    "duration": 95,
    "start_time": "2024-03-03T08:58:18.660Z"
   },
   {
    "duration": 846,
    "start_time": "2024-03-03T08:58:22.760Z"
   },
   {
    "duration": 17,
    "start_time": "2024-03-03T08:58:23.608Z"
   },
   {
    "duration": 4,
    "start_time": "2024-03-03T08:58:23.627Z"
   },
   {
    "duration": 2192,
    "start_time": "2024-03-03T08:58:23.633Z"
   },
   {
    "duration": 13,
    "start_time": "2024-03-03T08:58:25.828Z"
   },
   {
    "duration": 34,
    "start_time": "2024-03-03T08:58:25.843Z"
   },
   {
    "duration": 10,
    "start_time": "2024-03-03T08:58:25.879Z"
   },
   {
    "duration": 23,
    "start_time": "2024-03-03T08:58:25.890Z"
   },
   {
    "duration": 10,
    "start_time": "2024-03-03T08:58:25.916Z"
   },
   {
    "duration": 11,
    "start_time": "2024-03-03T08:58:25.928Z"
   },
   {
    "duration": 26,
    "start_time": "2024-03-03T08:58:25.941Z"
   },
   {
    "duration": 14,
    "start_time": "2024-03-03T08:58:25.969Z"
   },
   {
    "duration": 10,
    "start_time": "2024-03-03T08:58:25.985Z"
   },
   {
    "duration": 12,
    "start_time": "2024-03-03T08:58:25.999Z"
   },
   {
    "duration": 7,
    "start_time": "2024-03-03T08:58:26.013Z"
   },
   {
    "duration": 339,
    "start_time": "2024-03-03T08:58:26.022Z"
   },
   {
    "duration": 16,
    "start_time": "2024-03-03T08:58:26.363Z"
   },
   {
    "duration": 11,
    "start_time": "2024-03-03T08:58:26.381Z"
   },
   {
    "duration": 436,
    "start_time": "2024-03-03T08:58:26.394Z"
   },
   {
    "duration": 106,
    "start_time": "2024-03-03T08:58:26.832Z"
   },
   {
    "duration": 95,
    "start_time": "2024-03-03T08:59:19.254Z"
   },
   {
    "duration": 178,
    "start_time": "2024-03-03T08:59:21.266Z"
   },
   {
    "duration": 97,
    "start_time": "2024-03-03T09:00:18.937Z"
   },
   {
    "duration": 790,
    "start_time": "2024-03-03T09:03:04.702Z"
   },
   {
    "duration": 17,
    "start_time": "2024-03-03T09:03:05.494Z"
   },
   {
    "duration": 5,
    "start_time": "2024-03-03T09:03:05.513Z"
   },
   {
    "duration": 2217,
    "start_time": "2024-03-03T09:03:05.520Z"
   },
   {
    "duration": 11,
    "start_time": "2024-03-03T09:03:07.740Z"
   },
   {
    "duration": 27,
    "start_time": "2024-03-03T09:03:07.753Z"
   },
   {
    "duration": 10,
    "start_time": "2024-03-03T09:03:07.781Z"
   },
   {
    "duration": 11,
    "start_time": "2024-03-03T09:03:07.793Z"
   },
   {
    "duration": 8,
    "start_time": "2024-03-03T09:03:07.807Z"
   },
   {
    "duration": 18,
    "start_time": "2024-03-03T09:03:07.816Z"
   },
   {
    "duration": 13,
    "start_time": "2024-03-03T09:03:07.835Z"
   },
   {
    "duration": 12,
    "start_time": "2024-03-03T09:03:07.873Z"
   },
   {
    "duration": 45,
    "start_time": "2024-03-03T09:03:07.887Z"
   },
   {
    "duration": 34,
    "start_time": "2024-03-03T09:03:07.935Z"
   },
   {
    "duration": 40,
    "start_time": "2024-03-03T09:03:07.971Z"
   },
   {
    "duration": 314,
    "start_time": "2024-03-03T09:03:08.013Z"
   },
   {
    "duration": 6,
    "start_time": "2024-03-03T09:03:08.329Z"
   },
   {
    "duration": 9,
    "start_time": "2024-03-03T09:03:08.337Z"
   },
   {
    "duration": 409,
    "start_time": "2024-03-03T09:03:08.347Z"
   },
   {
    "duration": 277,
    "start_time": "2024-03-03T09:03:08.757Z"
   },
   {
    "duration": 872,
    "start_time": "2024-03-03T09:04:31.462Z"
   },
   {
    "duration": 18,
    "start_time": "2024-03-03T09:04:32.336Z"
   },
   {
    "duration": 19,
    "start_time": "2024-03-03T09:04:32.356Z"
   },
   {
    "duration": 2296,
    "start_time": "2024-03-03T09:04:32.378Z"
   },
   {
    "duration": 15,
    "start_time": "2024-03-03T09:04:34.677Z"
   },
   {
    "duration": 42,
    "start_time": "2024-03-03T09:04:34.694Z"
   },
   {
    "duration": 9,
    "start_time": "2024-03-03T09:04:34.738Z"
   },
   {
    "duration": 31,
    "start_time": "2024-03-03T09:04:34.749Z"
   },
   {
    "duration": 15,
    "start_time": "2024-03-03T09:04:34.782Z"
   },
   {
    "duration": 10,
    "start_time": "2024-03-03T09:04:34.799Z"
   },
   {
    "duration": 12,
    "start_time": "2024-03-03T09:04:34.811Z"
   },
   {
    "duration": 15,
    "start_time": "2024-03-03T09:04:34.825Z"
   },
   {
    "duration": 9,
    "start_time": "2024-03-03T09:04:34.841Z"
   },
   {
    "duration": 12,
    "start_time": "2024-03-03T09:04:34.874Z"
   },
   {
    "duration": 8,
    "start_time": "2024-03-03T09:04:34.887Z"
   },
   {
    "duration": 306,
    "start_time": "2024-03-03T09:04:34.896Z"
   },
   {
    "duration": 6,
    "start_time": "2024-03-03T09:04:35.203Z"
   },
   {
    "duration": 20,
    "start_time": "2024-03-03T09:04:35.211Z"
   },
   {
    "duration": 408,
    "start_time": "2024-03-03T09:04:35.233Z"
   },
   {
    "duration": 9,
    "start_time": "2024-03-03T09:04:35.643Z"
   },
   {
    "duration": 252,
    "start_time": "2024-03-03T09:04:35.672Z"
   },
   {
    "duration": 834,
    "start_time": "2024-03-03T09:06:50.331Z"
   },
   {
    "duration": 24,
    "start_time": "2024-03-03T09:06:51.167Z"
   },
   {
    "duration": 6,
    "start_time": "2024-03-03T09:06:51.192Z"
   },
   {
    "duration": 2202,
    "start_time": "2024-03-03T09:06:51.200Z"
   },
   {
    "duration": 11,
    "start_time": "2024-03-03T09:06:53.405Z"
   },
   {
    "duration": 40,
    "start_time": "2024-03-03T09:06:53.418Z"
   },
   {
    "duration": 10,
    "start_time": "2024-03-03T09:06:53.460Z"
   },
   {
    "duration": 16,
    "start_time": "2024-03-03T09:06:53.472Z"
   },
   {
    "duration": 10,
    "start_time": "2024-03-03T09:06:53.489Z"
   },
   {
    "duration": 13,
    "start_time": "2024-03-03T09:06:53.501Z"
   },
   {
    "duration": 29,
    "start_time": "2024-03-03T09:06:53.515Z"
   },
   {
    "duration": 13,
    "start_time": "2024-03-03T09:06:53.546Z"
   },
   {
    "duration": 18,
    "start_time": "2024-03-03T09:06:53.561Z"
   },
   {
    "duration": 12,
    "start_time": "2024-03-03T09:06:53.582Z"
   },
   {
    "duration": 8,
    "start_time": "2024-03-03T09:06:53.596Z"
   },
   {
    "duration": 332,
    "start_time": "2024-03-03T09:06:53.605Z"
   },
   {
    "duration": 6,
    "start_time": "2024-03-03T09:06:53.939Z"
   },
   {
    "duration": 26,
    "start_time": "2024-03-03T09:06:53.948Z"
   },
   {
    "duration": 449,
    "start_time": "2024-03-03T09:06:53.976Z"
   },
   {
    "duration": 9,
    "start_time": "2024-03-03T09:06:54.427Z"
   },
   {
    "duration": 269,
    "start_time": "2024-03-03T09:06:54.438Z"
   },
   {
    "duration": 875,
    "start_time": "2024-03-03T09:07:08.985Z"
   },
   {
    "duration": 16,
    "start_time": "2024-03-03T09:07:09.862Z"
   },
   {
    "duration": 4,
    "start_time": "2024-03-03T09:07:09.879Z"
   },
   {
    "duration": 2329,
    "start_time": "2024-03-03T09:07:09.885Z"
   },
   {
    "duration": 12,
    "start_time": "2024-03-03T09:07:12.216Z"
   },
   {
    "duration": 41,
    "start_time": "2024-03-03T09:07:12.230Z"
   },
   {
    "duration": 13,
    "start_time": "2024-03-03T09:07:12.273Z"
   },
   {
    "duration": 12,
    "start_time": "2024-03-03T09:07:12.288Z"
   },
   {
    "duration": 16,
    "start_time": "2024-03-03T09:07:12.302Z"
   },
   {
    "duration": 11,
    "start_time": "2024-03-03T09:07:12.320Z"
   },
   {
    "duration": 41,
    "start_time": "2024-03-03T09:07:12.333Z"
   },
   {
    "duration": 15,
    "start_time": "2024-03-03T09:07:12.376Z"
   },
   {
    "duration": 11,
    "start_time": "2024-03-03T09:07:12.394Z"
   },
   {
    "duration": 28,
    "start_time": "2024-03-03T09:07:12.409Z"
   },
   {
    "duration": 8,
    "start_time": "2024-03-03T09:07:12.439Z"
   },
   {
    "duration": 307,
    "start_time": "2024-03-03T09:07:12.472Z"
   },
   {
    "duration": 8,
    "start_time": "2024-03-03T09:07:12.781Z"
   },
   {
    "duration": 8,
    "start_time": "2024-03-03T09:07:12.791Z"
   },
   {
    "duration": 410,
    "start_time": "2024-03-03T09:07:12.801Z"
   },
   {
    "duration": 9,
    "start_time": "2024-03-03T09:07:13.212Z"
   },
   {
    "duration": 298,
    "start_time": "2024-03-03T09:07:13.223Z"
   },
   {
    "duration": 853,
    "start_time": "2024-03-03T09:07:42.355Z"
   },
   {
    "duration": 18,
    "start_time": "2024-03-03T09:07:43.210Z"
   },
   {
    "duration": 6,
    "start_time": "2024-03-03T09:07:43.232Z"
   },
   {
    "duration": 2214,
    "start_time": "2024-03-03T09:07:43.240Z"
   },
   {
    "duration": 16,
    "start_time": "2024-03-03T09:07:45.456Z"
   },
   {
    "duration": 42,
    "start_time": "2024-03-03T09:07:45.474Z"
   },
   {
    "duration": 14,
    "start_time": "2024-03-03T09:07:45.518Z"
   },
   {
    "duration": 30,
    "start_time": "2024-03-03T09:07:45.534Z"
   },
   {
    "duration": 27,
    "start_time": "2024-03-03T09:07:45.566Z"
   },
   {
    "duration": 15,
    "start_time": "2024-03-03T09:07:45.596Z"
   },
   {
    "duration": 20,
    "start_time": "2024-03-03T09:07:45.614Z"
   },
   {
    "duration": 17,
    "start_time": "2024-03-03T09:07:45.636Z"
   },
   {
    "duration": 17,
    "start_time": "2024-03-03T09:07:45.656Z"
   },
   {
    "duration": 15,
    "start_time": "2024-03-03T09:07:45.674Z"
   },
   {
    "duration": 9,
    "start_time": "2024-03-03T09:07:45.691Z"
   },
   {
    "duration": 312,
    "start_time": "2024-03-03T09:07:45.702Z"
   },
   {
    "duration": 7,
    "start_time": "2024-03-03T09:07:46.015Z"
   },
   {
    "duration": 9,
    "start_time": "2024-03-03T09:07:46.023Z"
   },
   {
    "duration": 432,
    "start_time": "2024-03-03T09:07:46.034Z"
   },
   {
    "duration": 11,
    "start_time": "2024-03-03T09:07:46.468Z"
   },
   {
    "duration": 430,
    "start_time": "2024-03-03T09:07:46.480Z"
   },
   {
    "duration": 403,
    "start_time": "2024-03-03T09:42:01.551Z"
   },
   {
    "duration": 299,
    "start_time": "2024-03-03T09:44:29.894Z"
   },
   {
    "duration": 316,
    "start_time": "2024-03-03T09:45:04.086Z"
   },
   {
    "duration": 365,
    "start_time": "2024-03-03T09:47:24.191Z"
   },
   {
    "duration": 273,
    "start_time": "2024-03-03T09:47:33.278Z"
   },
   {
    "duration": 11,
    "start_time": "2024-03-03T09:51:13.519Z"
   },
   {
    "duration": 366,
    "start_time": "2024-03-03T09:53:52.214Z"
   },
   {
    "duration": 276,
    "start_time": "2024-03-03T09:55:02.077Z"
   },
   {
    "duration": 276,
    "start_time": "2024-03-03T09:55:52.139Z"
   },
   {
    "duration": 275,
    "start_time": "2024-03-03T09:56:03.747Z"
   },
   {
    "duration": 293,
    "start_time": "2024-03-03T09:57:44.956Z"
   },
   {
    "duration": 283,
    "start_time": "2024-03-03T09:58:23.612Z"
   },
   {
    "duration": 456,
    "start_time": "2024-03-03T09:59:15.959Z"
   },
   {
    "duration": 283,
    "start_time": "2024-03-03T09:59:26.493Z"
   },
   {
    "duration": 285,
    "start_time": "2024-03-03T10:00:02.219Z"
   },
   {
    "duration": 11,
    "start_time": "2024-03-03T10:07:15.448Z"
   },
   {
    "duration": 783,
    "start_time": "2024-03-03T10:07:20.824Z"
   },
   {
    "duration": 15,
    "start_time": "2024-03-03T10:07:21.609Z"
   },
   {
    "duration": 4,
    "start_time": "2024-03-03T10:07:21.626Z"
   },
   {
    "duration": 2115,
    "start_time": "2024-03-03T10:07:21.631Z"
   },
   {
    "duration": 11,
    "start_time": "2024-03-03T10:07:23.749Z"
   },
   {
    "duration": 33,
    "start_time": "2024-03-03T10:07:23.762Z"
   },
   {
    "duration": 9,
    "start_time": "2024-03-03T10:07:23.797Z"
   },
   {
    "duration": 10,
    "start_time": "2024-03-03T10:07:23.807Z"
   },
   {
    "duration": 16,
    "start_time": "2024-03-03T10:07:23.818Z"
   },
   {
    "duration": 10,
    "start_time": "2024-03-03T10:07:23.836Z"
   },
   {
    "duration": 28,
    "start_time": "2024-03-03T10:07:23.848Z"
   },
   {
    "duration": 81,
    "start_time": "2024-03-03T10:07:23.878Z"
   },
   {
    "duration": 0,
    "start_time": "2024-03-03T10:07:23.961Z"
   },
   {
    "duration": 0,
    "start_time": "2024-03-03T10:07:23.973Z"
   },
   {
    "duration": 0,
    "start_time": "2024-03-03T10:07:23.974Z"
   },
   {
    "duration": 0,
    "start_time": "2024-03-03T10:07:23.975Z"
   },
   {
    "duration": 0,
    "start_time": "2024-03-03T10:07:23.976Z"
   },
   {
    "duration": 0,
    "start_time": "2024-03-03T10:07:23.977Z"
   },
   {
    "duration": 0,
    "start_time": "2024-03-03T10:07:23.978Z"
   },
   {
    "duration": 0,
    "start_time": "2024-03-03T10:07:23.979Z"
   },
   {
    "duration": 0,
    "start_time": "2024-03-03T10:07:23.980Z"
   },
   {
    "duration": 0,
    "start_time": "2024-03-03T10:07:23.982Z"
   },
   {
    "duration": 0,
    "start_time": "2024-03-03T10:07:23.983Z"
   },
   {
    "duration": 9,
    "start_time": "2024-03-03T10:07:39.595Z"
   },
   {
    "duration": 797,
    "start_time": "2024-03-03T10:07:49.086Z"
   },
   {
    "duration": 14,
    "start_time": "2024-03-03T10:07:49.885Z"
   },
   {
    "duration": 8,
    "start_time": "2024-03-03T10:07:49.901Z"
   },
   {
    "duration": 2122,
    "start_time": "2024-03-03T10:07:49.911Z"
   },
   {
    "duration": 10,
    "start_time": "2024-03-03T10:07:52.035Z"
   },
   {
    "duration": 36,
    "start_time": "2024-03-03T10:07:52.046Z"
   },
   {
    "duration": 9,
    "start_time": "2024-03-03T10:07:52.084Z"
   },
   {
    "duration": 27,
    "start_time": "2024-03-03T10:07:52.095Z"
   },
   {
    "duration": 16,
    "start_time": "2024-03-03T10:07:52.124Z"
   },
   {
    "duration": 13,
    "start_time": "2024-03-03T10:07:52.141Z"
   },
   {
    "duration": 11,
    "start_time": "2024-03-03T10:07:52.156Z"
   },
   {
    "duration": 76,
    "start_time": "2024-03-03T10:07:52.169Z"
   },
   {
    "duration": 0,
    "start_time": "2024-03-03T10:07:52.247Z"
   },
   {
    "duration": 0,
    "start_time": "2024-03-03T10:07:52.248Z"
   },
   {
    "duration": 0,
    "start_time": "2024-03-03T10:07:52.249Z"
   },
   {
    "duration": 0,
    "start_time": "2024-03-03T10:07:52.250Z"
   },
   {
    "duration": 0,
    "start_time": "2024-03-03T10:07:52.251Z"
   },
   {
    "duration": 0,
    "start_time": "2024-03-03T10:07:52.252Z"
   },
   {
    "duration": 0,
    "start_time": "2024-03-03T10:07:52.253Z"
   },
   {
    "duration": 0,
    "start_time": "2024-03-03T10:07:52.255Z"
   },
   {
    "duration": 0,
    "start_time": "2024-03-03T10:07:52.255Z"
   },
   {
    "duration": 0,
    "start_time": "2024-03-03T10:07:52.256Z"
   },
   {
    "duration": 0,
    "start_time": "2024-03-03T10:07:52.273Z"
   },
   {
    "duration": 11,
    "start_time": "2024-03-03T10:08:37.975Z"
   },
   {
    "duration": 756,
    "start_time": "2024-03-03T10:09:08.622Z"
   },
   {
    "duration": 17,
    "start_time": "2024-03-03T10:09:09.380Z"
   },
   {
    "duration": 4,
    "start_time": "2024-03-03T10:09:09.399Z"
   },
   {
    "duration": 2088,
    "start_time": "2024-03-03T10:09:09.405Z"
   },
   {
    "duration": 9,
    "start_time": "2024-03-03T10:09:11.496Z"
   },
   {
    "duration": 26,
    "start_time": "2024-03-03T10:09:11.507Z"
   },
   {
    "duration": 8,
    "start_time": "2024-03-03T10:09:11.534Z"
   },
   {
    "duration": 8,
    "start_time": "2024-03-03T10:09:11.543Z"
   },
   {
    "duration": 23,
    "start_time": "2024-03-03T10:09:11.552Z"
   },
   {
    "duration": 9,
    "start_time": "2024-03-03T10:09:11.577Z"
   },
   {
    "duration": 10,
    "start_time": "2024-03-03T10:09:11.588Z"
   },
   {
    "duration": 10,
    "start_time": "2024-03-03T10:09:11.600Z"
   },
   {
    "duration": 27,
    "start_time": "2024-03-03T10:09:11.612Z"
   },
   {
    "duration": 30,
    "start_time": "2024-03-03T10:09:11.641Z"
   },
   {
    "duration": 7,
    "start_time": "2024-03-03T10:09:11.672Z"
   },
   {
    "duration": 348,
    "start_time": "2024-03-03T10:09:11.680Z"
   },
   {
    "duration": 5,
    "start_time": "2024-03-03T10:09:12.029Z"
   },
   {
    "duration": 27,
    "start_time": "2024-03-03T10:09:12.036Z"
   },
   {
    "duration": 384,
    "start_time": "2024-03-03T10:09:12.065Z"
   },
   {
    "duration": 9,
    "start_time": "2024-03-03T10:09:12.451Z"
   },
   {
    "duration": 283,
    "start_time": "2024-03-03T10:09:12.462Z"
   },
   {
    "duration": 10,
    "start_time": "2024-03-03T10:09:12.747Z"
   },
   {
    "duration": 335,
    "start_time": "2024-03-03T10:09:12.773Z"
   },
   {
    "duration": 10,
    "start_time": "2024-03-03T10:11:15.756Z"
   },
   {
    "duration": 255,
    "start_time": "2024-03-03T10:12:52.541Z"
   },
   {
    "duration": 243,
    "start_time": "2024-03-03T10:13:06.621Z"
   },
   {
    "duration": 249,
    "start_time": "2024-03-03T10:13:33.162Z"
   },
   {
    "duration": 10,
    "start_time": "2024-03-03T10:23:26.487Z"
   },
   {
    "duration": 11,
    "start_time": "2024-03-03T10:24:47.401Z"
   },
   {
    "duration": 10,
    "start_time": "2024-03-03T10:24:51.239Z"
   },
   {
    "duration": 9,
    "start_time": "2024-03-03T10:25:04.094Z"
   },
   {
    "duration": 17,
    "start_time": "2024-03-03T10:25:57.252Z"
   },
   {
    "duration": 3,
    "start_time": "2024-03-03T10:26:10.047Z"
   },
   {
    "duration": 8,
    "start_time": "2024-03-03T10:26:23.992Z"
   },
   {
    "duration": 281,
    "start_time": "2024-03-03T10:29:51.778Z"
   },
   {
    "duration": 283,
    "start_time": "2024-03-03T10:30:09.958Z"
   },
   {
    "duration": 377,
    "start_time": "2024-03-03T10:30:29.565Z"
   },
   {
    "duration": 277,
    "start_time": "2024-03-03T10:30:55.050Z"
   },
   {
    "duration": 271,
    "start_time": "2024-03-03T10:31:19.209Z"
   },
   {
    "duration": 271,
    "start_time": "2024-03-03T10:31:35.383Z"
   },
   {
    "duration": 11,
    "start_time": "2024-03-03T10:33:07.100Z"
   },
   {
    "duration": 10,
    "start_time": "2024-03-03T10:33:41.325Z"
   },
   {
    "duration": 10,
    "start_time": "2024-03-03T10:33:49.033Z"
   },
   {
    "duration": 272,
    "start_time": "2024-03-03T10:34:01.525Z"
   },
   {
    "duration": 11,
    "start_time": "2024-03-03T10:34:14.993Z"
   },
   {
    "duration": 10,
    "start_time": "2024-03-03T10:34:26.154Z"
   },
   {
    "duration": 10,
    "start_time": "2024-03-03T10:34:39.652Z"
   },
   {
    "duration": 15,
    "start_time": "2024-03-03T10:34:47.057Z"
   },
   {
    "duration": 81,
    "start_time": "2024-03-03T10:35:11.028Z"
   },
   {
    "duration": 53,
    "start_time": "2024-03-03T10:35:22.284Z"
   },
   {
    "duration": 244,
    "start_time": "2024-03-03T10:38:01.265Z"
   },
   {
    "duration": 86,
    "start_time": "2024-03-03T10:38:09.019Z"
   },
   {
    "duration": 96,
    "start_time": "2024-03-03T10:38:14.658Z"
   },
   {
    "duration": 823,
    "start_time": "2024-03-03T10:38:19.375Z"
   },
   {
    "duration": 16,
    "start_time": "2024-03-03T10:38:20.200Z"
   },
   {
    "duration": 4,
    "start_time": "2024-03-03T10:38:20.218Z"
   },
   {
    "duration": 2279,
    "start_time": "2024-03-03T10:38:20.224Z"
   },
   {
    "duration": 12,
    "start_time": "2024-03-03T10:38:22.505Z"
   },
   {
    "duration": 27,
    "start_time": "2024-03-03T10:38:22.519Z"
   },
   {
    "duration": 9,
    "start_time": "2024-03-03T10:38:22.547Z"
   },
   {
    "duration": 15,
    "start_time": "2024-03-03T10:38:22.557Z"
   },
   {
    "duration": 8,
    "start_time": "2024-03-03T10:38:22.575Z"
   },
   {
    "duration": 29,
    "start_time": "2024-03-03T10:38:22.585Z"
   },
   {
    "duration": 13,
    "start_time": "2024-03-03T10:38:22.615Z"
   },
   {
    "duration": 12,
    "start_time": "2024-03-03T10:38:22.629Z"
   },
   {
    "duration": 8,
    "start_time": "2024-03-03T10:38:22.642Z"
   },
   {
    "duration": 13,
    "start_time": "2024-03-03T10:38:22.672Z"
   },
   {
    "duration": 8,
    "start_time": "2024-03-03T10:38:22.687Z"
   },
   {
    "duration": 318,
    "start_time": "2024-03-03T10:38:22.697Z"
   },
   {
    "duration": 7,
    "start_time": "2024-03-03T10:38:23.017Z"
   },
   {
    "duration": 23,
    "start_time": "2024-03-03T10:38:23.026Z"
   },
   {
    "duration": 425,
    "start_time": "2024-03-03T10:38:23.051Z"
   },
   {
    "duration": 13,
    "start_time": "2024-03-03T10:38:23.478Z"
   },
   {
    "duration": 326,
    "start_time": "2024-03-03T10:38:23.493Z"
   },
   {
    "duration": 12,
    "start_time": "2024-03-03T10:38:23.821Z"
   },
   {
    "duration": 368,
    "start_time": "2024-03-03T10:38:23.835Z"
   },
   {
    "duration": 10,
    "start_time": "2024-03-03T10:38:24.204Z"
   },
   {
    "duration": 280,
    "start_time": "2024-03-03T10:38:24.216Z"
   },
   {
    "duration": 92,
    "start_time": "2024-03-03T10:38:24.498Z"
   },
   {
    "duration": 284,
    "start_time": "2024-03-03T10:38:24.592Z"
   },
   {
    "duration": 101,
    "start_time": "2024-03-03T10:38:46.627Z"
   },
   {
    "duration": 260,
    "start_time": "2024-03-03T10:38:48.774Z"
   },
   {
    "duration": 564,
    "start_time": "2024-03-03T10:39:13.007Z"
   },
   {
    "duration": 9,
    "start_time": "2024-03-03T10:39:21.439Z"
   },
   {
    "duration": 844,
    "start_time": "2024-03-03T10:39:25.540Z"
   },
   {
    "duration": 17,
    "start_time": "2024-03-03T10:39:26.386Z"
   },
   {
    "duration": 5,
    "start_time": "2024-03-03T10:39:26.404Z"
   },
   {
    "duration": 2115,
    "start_time": "2024-03-03T10:39:26.410Z"
   },
   {
    "duration": 9,
    "start_time": "2024-03-03T10:39:28.528Z"
   },
   {
    "duration": 29,
    "start_time": "2024-03-03T10:39:28.539Z"
   },
   {
    "duration": 8,
    "start_time": "2024-03-03T10:39:28.570Z"
   },
   {
    "duration": 8,
    "start_time": "2024-03-03T10:39:28.579Z"
   },
   {
    "duration": 8,
    "start_time": "2024-03-03T10:39:28.590Z"
   },
   {
    "duration": 11,
    "start_time": "2024-03-03T10:39:28.599Z"
   },
   {
    "duration": 12,
    "start_time": "2024-03-03T10:39:28.612Z"
   },
   {
    "duration": 11,
    "start_time": "2024-03-03T10:39:28.626Z"
   },
   {
    "duration": 40,
    "start_time": "2024-03-03T10:39:28.639Z"
   },
   {
    "duration": 19,
    "start_time": "2024-03-03T10:39:28.682Z"
   },
   {
    "duration": 7,
    "start_time": "2024-03-03T10:39:28.703Z"
   },
   {
    "duration": 313,
    "start_time": "2024-03-03T10:39:28.711Z"
   },
   {
    "duration": 5,
    "start_time": "2024-03-03T10:39:29.026Z"
   },
   {
    "duration": 20,
    "start_time": "2024-03-03T10:39:29.032Z"
   },
   {
    "duration": 402,
    "start_time": "2024-03-03T10:39:29.054Z"
   },
   {
    "duration": 8,
    "start_time": "2024-03-03T10:39:29.458Z"
   },
   {
    "duration": 288,
    "start_time": "2024-03-03T10:39:29.473Z"
   },
   {
    "duration": 17,
    "start_time": "2024-03-03T10:39:29.762Z"
   },
   {
    "duration": 341,
    "start_time": "2024-03-03T10:39:29.781Z"
   },
   {
    "duration": 11,
    "start_time": "2024-03-03T10:39:30.123Z"
   },
   {
    "duration": 328,
    "start_time": "2024-03-03T10:39:30.135Z"
   },
   {
    "duration": 10,
    "start_time": "2024-03-03T10:39:30.464Z"
   },
   {
    "duration": 367,
    "start_time": "2024-03-03T10:39:30.475Z"
   },
   {
    "duration": 9,
    "start_time": "2024-03-03T10:41:03.776Z"
   },
   {
    "duration": 126,
    "start_time": "2024-03-03T10:41:36.408Z"
   },
   {
    "duration": 155,
    "start_time": "2024-03-03T10:42:05.474Z"
   },
   {
    "duration": 18,
    "start_time": "2024-03-03T10:45:10.467Z"
   },
   {
    "duration": 141,
    "start_time": "2024-03-03T10:46:08.406Z"
   },
   {
    "duration": 198,
    "start_time": "2024-03-03T10:46:26.094Z"
   },
   {
    "duration": 165,
    "start_time": "2024-03-03T10:46:32.186Z"
   },
   {
    "duration": 166,
    "start_time": "2024-03-03T10:46:37.237Z"
   },
   {
    "duration": 93,
    "start_time": "2024-03-03T10:47:21.323Z"
   },
   {
    "duration": 112,
    "start_time": "2024-03-03T11:02:19.728Z"
   },
   {
    "duration": 13,
    "start_time": "2024-03-03T11:40:30.776Z"
   },
   {
    "duration": 459,
    "start_time": "2024-03-03T11:43:27.640Z"
   },
   {
    "duration": 15,
    "start_time": "2024-03-03T11:46:35.715Z"
   },
   {
    "duration": 403,
    "start_time": "2024-03-03T11:51:26.654Z"
   },
   {
    "duration": 229,
    "start_time": "2024-03-03T12:03:01.574Z"
   },
   {
    "duration": 129,
    "start_time": "2024-03-03T12:03:22.732Z"
   },
   {
    "duration": 131,
    "start_time": "2024-03-03T12:05:06.423Z"
   },
   {
    "duration": 126,
    "start_time": "2024-03-03T12:05:10.856Z"
   },
   {
    "duration": 134,
    "start_time": "2024-03-03T12:06:12.115Z"
   },
   {
    "duration": 178,
    "start_time": "2024-03-03T12:06:19.375Z"
   },
   {
    "duration": 130,
    "start_time": "2024-03-03T12:07:26.513Z"
   },
   {
    "duration": 836,
    "start_time": "2024-03-03T12:08:16.910Z"
   },
   {
    "duration": 24,
    "start_time": "2024-03-03T12:08:17.748Z"
   },
   {
    "duration": 5,
    "start_time": "2024-03-03T12:08:17.774Z"
   },
   {
    "duration": 2203,
    "start_time": "2024-03-03T12:08:17.780Z"
   },
   {
    "duration": 10,
    "start_time": "2024-03-03T12:08:19.986Z"
   },
   {
    "duration": 57,
    "start_time": "2024-03-03T12:08:19.997Z"
   },
   {
    "duration": 25,
    "start_time": "2024-03-03T12:08:20.057Z"
   },
   {
    "duration": 46,
    "start_time": "2024-03-03T12:08:20.086Z"
   },
   {
    "duration": 23,
    "start_time": "2024-03-03T12:08:20.135Z"
   },
   {
    "duration": 13,
    "start_time": "2024-03-03T12:08:20.160Z"
   },
   {
    "duration": 15,
    "start_time": "2024-03-03T12:08:20.174Z"
   },
   {
    "duration": 18,
    "start_time": "2024-03-03T12:08:20.190Z"
   },
   {
    "duration": 29,
    "start_time": "2024-03-03T12:08:20.209Z"
   },
   {
    "duration": 27,
    "start_time": "2024-03-03T12:08:20.241Z"
   },
   {
    "duration": 7,
    "start_time": "2024-03-03T12:08:20.270Z"
   },
   {
    "duration": 355,
    "start_time": "2024-03-03T12:08:20.279Z"
   },
   {
    "duration": 6,
    "start_time": "2024-03-03T12:08:20.635Z"
   },
   {
    "duration": 16,
    "start_time": "2024-03-03T12:08:20.643Z"
   },
   {
    "duration": 432,
    "start_time": "2024-03-03T12:08:20.661Z"
   },
   {
    "duration": 10,
    "start_time": "2024-03-03T12:08:21.095Z"
   },
   {
    "duration": 291,
    "start_time": "2024-03-03T12:08:21.106Z"
   },
   {
    "duration": 9,
    "start_time": "2024-03-03T12:08:21.399Z"
   },
   {
    "duration": 357,
    "start_time": "2024-03-03T12:08:21.409Z"
   },
   {
    "duration": 12,
    "start_time": "2024-03-03T12:08:21.772Z"
   },
   {
    "duration": 295,
    "start_time": "2024-03-03T12:08:21.786Z"
   },
   {
    "duration": 11,
    "start_time": "2024-03-03T12:08:22.082Z"
   },
   {
    "duration": 287,
    "start_time": "2024-03-03T12:08:22.094Z"
   },
   {
    "duration": 8,
    "start_time": "2024-03-03T12:08:22.383Z"
   },
   {
    "duration": 177,
    "start_time": "2024-03-03T12:08:22.393Z"
   },
   {
    "duration": 9,
    "start_time": "2024-03-03T12:08:22.572Z"
   },
   {
    "duration": 181,
    "start_time": "2024-03-03T12:08:22.582Z"
   },
   {
    "duration": 9,
    "start_time": "2024-03-03T12:08:22.773Z"
   },
   {
    "duration": 146,
    "start_time": "2024-03-03T12:08:22.784Z"
   },
   {
    "duration": 793,
    "start_time": "2024-03-03T12:08:54.934Z"
   },
   {
    "duration": 15,
    "start_time": "2024-03-03T12:08:55.729Z"
   },
   {
    "duration": 9,
    "start_time": "2024-03-03T12:08:55.746Z"
   },
   {
    "duration": 2225,
    "start_time": "2024-03-03T12:08:55.757Z"
   },
   {
    "duration": 16,
    "start_time": "2024-03-03T12:08:57.985Z"
   },
   {
    "duration": 28,
    "start_time": "2024-03-03T12:08:58.003Z"
   },
   {
    "duration": 9,
    "start_time": "2024-03-03T12:08:58.033Z"
   },
   {
    "duration": 9,
    "start_time": "2024-03-03T12:08:58.043Z"
   },
   {
    "duration": 25,
    "start_time": "2024-03-03T12:08:58.054Z"
   },
   {
    "duration": 14,
    "start_time": "2024-03-03T12:08:58.081Z"
   },
   {
    "duration": 12,
    "start_time": "2024-03-03T12:08:58.098Z"
   },
   {
    "duration": 16,
    "start_time": "2024-03-03T12:08:58.113Z"
   },
   {
    "duration": 45,
    "start_time": "2024-03-03T12:08:58.132Z"
   },
   {
    "duration": 15,
    "start_time": "2024-03-03T12:08:58.181Z"
   },
   {
    "duration": 8,
    "start_time": "2024-03-03T12:08:58.198Z"
   },
   {
    "duration": 344,
    "start_time": "2024-03-03T12:08:58.208Z"
   },
   {
    "duration": 6,
    "start_time": "2024-03-03T12:08:58.554Z"
   },
   {
    "duration": 14,
    "start_time": "2024-03-03T12:08:58.572Z"
   },
   {
    "duration": 411,
    "start_time": "2024-03-03T12:08:58.588Z"
   },
   {
    "duration": 9,
    "start_time": "2024-03-03T12:08:59.001Z"
   },
   {
    "duration": 284,
    "start_time": "2024-03-03T12:08:59.012Z"
   },
   {
    "duration": 11,
    "start_time": "2024-03-03T12:08:59.299Z"
   },
   {
    "duration": 384,
    "start_time": "2024-03-03T12:08:59.312Z"
   },
   {
    "duration": 13,
    "start_time": "2024-03-03T12:08:59.698Z"
   },
   {
    "duration": 328,
    "start_time": "2024-03-03T12:08:59.713Z"
   },
   {
    "duration": 9,
    "start_time": "2024-03-03T12:09:00.043Z"
   },
   {
    "duration": 294,
    "start_time": "2024-03-03T12:09:00.054Z"
   },
   {
    "duration": 8,
    "start_time": "2024-03-03T12:09:00.350Z"
   },
   {
    "duration": 307,
    "start_time": "2024-03-03T12:09:00.372Z"
   },
   {
    "duration": 9,
    "start_time": "2024-03-03T12:09:00.681Z"
   },
   {
    "duration": 236,
    "start_time": "2024-03-03T12:09:00.693Z"
   },
   {
    "duration": 10,
    "start_time": "2024-03-03T12:09:00.931Z"
   },
   {
    "duration": 223,
    "start_time": "2024-03-03T12:09:00.943Z"
   },
   {
    "duration": 214,
    "start_time": "2024-03-03T13:04:56.668Z"
   },
   {
    "duration": 86,
    "start_time": "2024-03-03T13:05:09.783Z"
   },
   {
    "duration": 188,
    "start_time": "2024-03-03T13:05:36.139Z"
   },
   {
    "duration": 184,
    "start_time": "2024-03-03T13:05:40.343Z"
   },
   {
    "duration": 858,
    "start_time": "2024-03-03T13:05:44.938Z"
   },
   {
    "duration": 17,
    "start_time": "2024-03-03T13:05:45.798Z"
   },
   {
    "duration": 4,
    "start_time": "2024-03-03T13:05:45.817Z"
   },
   {
    "duration": 2136,
    "start_time": "2024-03-03T13:05:45.822Z"
   },
   {
    "duration": 12,
    "start_time": "2024-03-03T13:05:47.961Z"
   },
   {
    "duration": 30,
    "start_time": "2024-03-03T13:05:47.975Z"
   },
   {
    "duration": 13,
    "start_time": "2024-03-03T13:05:48.006Z"
   },
   {
    "duration": 17,
    "start_time": "2024-03-03T13:05:48.021Z"
   },
   {
    "duration": 25,
    "start_time": "2024-03-03T13:05:48.039Z"
   },
   {
    "duration": 19,
    "start_time": "2024-03-03T13:05:48.066Z"
   },
   {
    "duration": 14,
    "start_time": "2024-03-03T13:05:48.087Z"
   },
   {
    "duration": 15,
    "start_time": "2024-03-03T13:05:48.103Z"
   },
   {
    "duration": 14,
    "start_time": "2024-03-03T13:05:48.120Z"
   },
   {
    "duration": 39,
    "start_time": "2024-03-03T13:05:48.138Z"
   },
   {
    "duration": 9,
    "start_time": "2024-03-03T13:05:48.178Z"
   },
   {
    "duration": 307,
    "start_time": "2024-03-03T13:05:48.189Z"
   },
   {
    "duration": 7,
    "start_time": "2024-03-03T13:05:48.498Z"
   },
   {
    "duration": 26,
    "start_time": "2024-03-03T13:05:48.507Z"
   },
   {
    "duration": 391,
    "start_time": "2024-03-03T13:05:48.535Z"
   },
   {
    "duration": 10,
    "start_time": "2024-03-03T13:05:48.928Z"
   },
   {
    "duration": 311,
    "start_time": "2024-03-03T13:05:48.939Z"
   },
   {
    "duration": 304,
    "start_time": "2024-03-03T13:05:49.252Z"
   },
   {
    "duration": 0,
    "start_time": "2024-03-03T13:05:49.558Z"
   },
   {
    "duration": 0,
    "start_time": "2024-03-03T13:05:49.559Z"
   },
   {
    "duration": 0,
    "start_time": "2024-03-03T13:05:49.560Z"
   },
   {
    "duration": 0,
    "start_time": "2024-03-03T13:05:49.573Z"
   },
   {
    "duration": 0,
    "start_time": "2024-03-03T13:05:49.575Z"
   },
   {
    "duration": 1,
    "start_time": "2024-03-03T13:05:49.576Z"
   },
   {
    "duration": 0,
    "start_time": "2024-03-03T13:05:49.578Z"
   },
   {
    "duration": 0,
    "start_time": "2024-03-03T13:05:49.578Z"
   },
   {
    "duration": 0,
    "start_time": "2024-03-03T13:05:49.579Z"
   },
   {
    "duration": 0,
    "start_time": "2024-03-03T13:05:49.581Z"
   },
   {
    "duration": 0,
    "start_time": "2024-03-03T13:05:49.581Z"
   },
   {
    "duration": 0,
    "start_time": "2024-03-03T13:05:49.583Z"
   },
   {
    "duration": 20,
    "start_time": "2024-03-03T13:08:08.829Z"
   },
   {
    "duration": 112,
    "start_time": "2024-03-03T13:09:20.450Z"
   },
   {
    "duration": 111,
    "start_time": "2024-03-03T13:09:49.956Z"
   },
   {
    "duration": 135,
    "start_time": "2024-03-03T13:10:30.010Z"
   },
   {
    "duration": 301,
    "start_time": "2024-03-03T13:10:51.489Z"
   },
   {
    "duration": 236,
    "start_time": "2024-03-03T13:12:37.096Z"
   },
   {
    "duration": 194,
    "start_time": "2024-03-03T13:13:02.657Z"
   },
   {
    "duration": 183,
    "start_time": "2024-03-03T13:13:20.562Z"
   },
   {
    "duration": 198,
    "start_time": "2024-03-03T13:13:47.425Z"
   },
   {
    "duration": 206,
    "start_time": "2024-03-03T13:15:43.654Z"
   },
   {
    "duration": 798,
    "start_time": "2024-03-03T13:18:52.188Z"
   },
   {
    "duration": 20,
    "start_time": "2024-03-03T13:18:52.988Z"
   },
   {
    "duration": 4,
    "start_time": "2024-03-03T13:18:53.010Z"
   },
   {
    "duration": 2098,
    "start_time": "2024-03-03T13:18:53.016Z"
   },
   {
    "duration": 9,
    "start_time": "2024-03-03T13:18:55.116Z"
   },
   {
    "duration": 30,
    "start_time": "2024-03-03T13:18:55.127Z"
   },
   {
    "duration": 8,
    "start_time": "2024-03-03T13:18:55.158Z"
   },
   {
    "duration": 9,
    "start_time": "2024-03-03T13:18:55.168Z"
   },
   {
    "duration": 19,
    "start_time": "2024-03-03T13:18:55.178Z"
   },
   {
    "duration": 9,
    "start_time": "2024-03-03T13:18:55.199Z"
   },
   {
    "duration": 12,
    "start_time": "2024-03-03T13:18:55.209Z"
   },
   {
    "duration": 15,
    "start_time": "2024-03-03T13:18:55.223Z"
   },
   {
    "duration": 10,
    "start_time": "2024-03-03T13:18:55.239Z"
   },
   {
    "duration": 31,
    "start_time": "2024-03-03T13:18:55.251Z"
   },
   {
    "duration": 8,
    "start_time": "2024-03-03T13:18:55.283Z"
   },
   {
    "duration": 308,
    "start_time": "2024-03-03T13:18:55.293Z"
   },
   {
    "duration": 5,
    "start_time": "2024-03-03T13:18:55.603Z"
   },
   {
    "duration": 29,
    "start_time": "2024-03-03T13:18:55.609Z"
   },
   {
    "duration": 375,
    "start_time": "2024-03-03T13:18:55.639Z"
   },
   {
    "duration": 10,
    "start_time": "2024-03-03T13:18:56.016Z"
   },
   {
    "duration": 281,
    "start_time": "2024-03-03T13:18:56.027Z"
   },
   {
    "duration": 214,
    "start_time": "2024-03-03T13:18:56.309Z"
   },
   {
    "duration": 10,
    "start_time": "2024-03-03T13:18:56.525Z"
   },
   {
    "duration": 351,
    "start_time": "2024-03-03T13:18:56.536Z"
   },
   {
    "duration": 10,
    "start_time": "2024-03-03T13:18:56.889Z"
   },
   {
    "duration": 283,
    "start_time": "2024-03-03T13:18:56.901Z"
   },
   {
    "duration": 9,
    "start_time": "2024-03-03T13:18:57.185Z"
   },
   {
    "duration": 280,
    "start_time": "2024-03-03T13:18:57.195Z"
   },
   {
    "duration": 8,
    "start_time": "2024-03-03T13:18:57.476Z"
   },
   {
    "duration": 162,
    "start_time": "2024-03-03T13:18:57.485Z"
   },
   {
    "duration": 9,
    "start_time": "2024-03-03T13:18:57.648Z"
   },
   {
    "duration": 168,
    "start_time": "2024-03-03T13:18:57.658Z"
   },
   {
    "duration": 10,
    "start_time": "2024-03-03T13:18:57.828Z"
   },
   {
    "duration": 170,
    "start_time": "2024-03-03T13:18:57.840Z"
   },
   {
    "duration": 202,
    "start_time": "2024-03-03T13:20:21.044Z"
   },
   {
    "duration": 197,
    "start_time": "2024-03-03T13:20:26.917Z"
   },
   {
    "duration": 279,
    "start_time": "2024-03-03T13:21:46.358Z"
   },
   {
    "duration": 185,
    "start_time": "2024-03-03T13:25:32.953Z"
   },
   {
    "duration": 171,
    "start_time": "2024-03-03T13:25:45.306Z"
   },
   {
    "duration": 172,
    "start_time": "2024-03-03T13:26:51.742Z"
   },
   {
    "duration": 167,
    "start_time": "2024-03-03T13:27:27.625Z"
   },
   {
    "duration": 193,
    "start_time": "2024-03-03T13:27:39.234Z"
   },
   {
    "duration": 209,
    "start_time": "2024-03-03T13:27:46.274Z"
   },
   {
    "duration": 198,
    "start_time": "2024-03-03T13:27:49.325Z"
   },
   {
    "duration": 173,
    "start_time": "2024-03-03T13:32:34.031Z"
   },
   {
    "duration": 281,
    "start_time": "2024-03-03T13:32:42.431Z"
   },
   {
    "duration": 202,
    "start_time": "2024-03-03T13:33:27.401Z"
   },
   {
    "duration": 103,
    "start_time": "2024-03-03T13:41:56.071Z"
   },
   {
    "duration": 181,
    "start_time": "2024-03-03T13:43:48.751Z"
   },
   {
    "duration": 175,
    "start_time": "2024-03-03T13:44:56.247Z"
   },
   {
    "duration": 169,
    "start_time": "2024-03-03T13:45:14.652Z"
   },
   {
    "duration": 91,
    "start_time": "2024-03-03T13:45:30.535Z"
   },
   {
    "duration": 18,
    "start_time": "2024-03-03T13:45:38.609Z"
   },
   {
    "duration": 202,
    "start_time": "2024-03-03T13:45:43.854Z"
   },
   {
    "duration": 183,
    "start_time": "2024-03-03T13:46:15.976Z"
   },
   {
    "duration": 100,
    "start_time": "2024-03-03T13:46:56.267Z"
   },
   {
    "duration": 140,
    "start_time": "2024-03-03T13:47:03.319Z"
   },
   {
    "duration": 177,
    "start_time": "2024-03-03T13:47:09.268Z"
   },
   {
    "duration": 190,
    "start_time": "2024-03-03T13:47:41.259Z"
   },
   {
    "duration": 190,
    "start_time": "2024-03-03T13:47:54.027Z"
   },
   {
    "duration": 176,
    "start_time": "2024-03-03T13:49:06.187Z"
   },
   {
    "duration": 188,
    "start_time": "2024-03-03T13:49:56.876Z"
   },
   {
    "duration": 177,
    "start_time": "2024-03-03T13:50:16.431Z"
   },
   {
    "duration": 172,
    "start_time": "2024-03-03T13:51:10.756Z"
   },
   {
    "duration": 173,
    "start_time": "2024-03-03T13:51:19.618Z"
   },
   {
    "duration": 172,
    "start_time": "2024-03-03T13:55:08.130Z"
   },
   {
    "duration": 10,
    "start_time": "2024-03-03T14:19:26.028Z"
   },
   {
    "duration": 165,
    "start_time": "2024-03-03T14:21:33.312Z"
   },
   {
    "duration": 197,
    "start_time": "2024-03-03T14:22:14.759Z"
   },
   {
    "duration": 200,
    "start_time": "2024-03-03T14:22:28.376Z"
   },
   {
    "duration": 215,
    "start_time": "2024-03-03T14:22:59.912Z"
   },
   {
    "duration": 208,
    "start_time": "2024-03-03T14:23:17.719Z"
   },
   {
    "duration": 179,
    "start_time": "2024-03-03T14:24:04.180Z"
   },
   {
    "duration": 103,
    "start_time": "2024-03-03T14:24:17.808Z"
   },
   {
    "duration": 19,
    "start_time": "2024-03-03T14:24:26.299Z"
   },
   {
    "duration": 198,
    "start_time": "2024-03-03T14:24:40.378Z"
   },
   {
    "duration": 179,
    "start_time": "2024-03-03T14:26:04.961Z"
   },
   {
    "duration": 372,
    "start_time": "2024-03-03T14:27:08.528Z"
   },
   {
    "duration": 183,
    "start_time": "2024-03-03T14:27:49.130Z"
   },
   {
    "duration": 182,
    "start_time": "2024-03-03T14:28:10.203Z"
   },
   {
    "duration": 174,
    "start_time": "2024-03-03T14:28:33.658Z"
   },
   {
    "duration": 10,
    "start_time": "2024-03-03T14:35:09.074Z"
   },
   {
    "duration": 159,
    "start_time": "2024-03-03T14:38:35.724Z"
   },
   {
    "duration": 182,
    "start_time": "2024-03-03T14:38:54.585Z"
   },
   {
    "duration": 183,
    "start_time": "2024-03-03T14:39:02.871Z"
   },
   {
    "duration": 161,
    "start_time": "2024-03-03T14:46:54.317Z"
   },
   {
    "duration": 165,
    "start_time": "2024-03-03T14:47:02.619Z"
   },
   {
    "duration": 1463,
    "start_time": "2024-03-03T14:47:25.160Z"
   },
   {
    "duration": 148,
    "start_time": "2024-03-03T14:48:13.603Z"
   },
   {
    "duration": 10,
    "start_time": "2024-03-03T14:59:33.371Z"
   },
   {
    "duration": 166,
    "start_time": "2024-03-03T15:00:26.077Z"
   },
   {
    "duration": 183,
    "start_time": "2024-03-03T15:00:34.271Z"
   },
   {
    "duration": 189,
    "start_time": "2024-03-03T15:00:43.746Z"
   },
   {
    "duration": 18,
    "start_time": "2024-03-03T15:16:40.460Z"
   },
   {
    "duration": 532,
    "start_time": "2024-03-03T15:16:56.671Z"
   },
   {
    "duration": 539,
    "start_time": "2024-03-03T15:18:16.452Z"
   },
   {
    "duration": 568,
    "start_time": "2024-03-03T15:21:06.897Z"
   },
   {
    "duration": 725,
    "start_time": "2024-03-03T15:21:21.128Z"
   },
   {
    "duration": 550,
    "start_time": "2024-03-03T15:21:56.341Z"
   },
   {
    "duration": 558,
    "start_time": "2024-03-03T15:23:54.822Z"
   },
   {
    "duration": 6,
    "start_time": "2024-03-03T20:15:49.844Z"
   },
   {
    "duration": 6,
    "start_time": "2024-03-03T20:18:10.421Z"
   },
   {
    "duration": 5,
    "start_time": "2024-03-03T20:19:37.909Z"
   },
   {
    "duration": 287,
    "start_time": "2024-03-03T20:22:27.917Z"
   },
   {
    "duration": 299,
    "start_time": "2024-03-03T20:22:54.117Z"
   },
   {
    "duration": 277,
    "start_time": "2024-03-03T20:24:41.994Z"
   },
   {
    "duration": 263,
    "start_time": "2024-03-03T20:25:19.887Z"
   },
   {
    "duration": 281,
    "start_time": "2024-03-03T20:25:48.094Z"
   },
   {
    "duration": 169,
    "start_time": "2024-03-03T20:27:29.756Z"
   },
   {
    "duration": 128,
    "start_time": "2024-03-03T20:28:08.873Z"
   },
   {
    "duration": 130,
    "start_time": "2024-03-03T20:28:19.389Z"
   },
   {
    "duration": 164,
    "start_time": "2024-03-03T20:28:45.908Z"
   },
   {
    "duration": 377,
    "start_time": "2024-03-03T20:28:52.271Z"
   },
   {
    "duration": 194,
    "start_time": "2024-03-03T20:28:57.047Z"
   },
   {
    "duration": 6,
    "start_time": "2024-03-03T20:29:39.616Z"
   },
   {
    "duration": 19,
    "start_time": "2024-03-03T20:30:01.791Z"
   },
   {
    "duration": 116,
    "start_time": "2024-03-03T20:30:08.590Z"
   },
   {
    "duration": 112,
    "start_time": "2024-03-03T20:30:23.050Z"
   },
   {
    "duration": 21,
    "start_time": "2024-03-03T20:30:39.300Z"
   },
   {
    "duration": 21,
    "start_time": "2024-03-03T20:30:46.937Z"
   },
   {
    "duration": 21,
    "start_time": "2024-03-03T20:32:18.175Z"
   },
   {
    "duration": 7,
    "start_time": "2024-03-03T20:32:49.116Z"
   },
   {
    "duration": 9,
    "start_time": "2024-03-03T20:36:56.497Z"
   },
   {
    "duration": 10,
    "start_time": "2024-03-03T20:37:04.517Z"
   },
   {
    "duration": 8,
    "start_time": "2024-03-03T20:37:12.326Z"
   },
   {
    "duration": 7,
    "start_time": "2024-03-03T20:37:43.115Z"
   },
   {
    "duration": 10,
    "start_time": "2024-03-03T20:56:03.063Z"
   },
   {
    "duration": 262,
    "start_time": "2024-03-03T20:59:38.249Z"
   },
   {
    "duration": 282,
    "start_time": "2024-03-03T20:59:54.070Z"
   },
   {
    "duration": 258,
    "start_time": "2024-03-03T21:14:07.179Z"
   },
   {
    "duration": 837,
    "start_time": "2024-03-03T21:14:12.878Z"
   },
   {
    "duration": 17,
    "start_time": "2024-03-03T21:14:13.716Z"
   },
   {
    "duration": 4,
    "start_time": "2024-03-03T21:14:13.735Z"
   },
   {
    "duration": 2111,
    "start_time": "2024-03-03T21:14:13.742Z"
   },
   {
    "duration": 11,
    "start_time": "2024-03-03T21:14:15.855Z"
   },
   {
    "duration": 46,
    "start_time": "2024-03-03T21:14:15.867Z"
   },
   {
    "duration": 13,
    "start_time": "2024-03-03T21:14:15.915Z"
   },
   {
    "duration": 29,
    "start_time": "2024-03-03T21:14:15.929Z"
   },
   {
    "duration": 9,
    "start_time": "2024-03-03T21:14:15.959Z"
   },
   {
    "duration": 13,
    "start_time": "2024-03-03T21:14:15.972Z"
   },
   {
    "duration": 16,
    "start_time": "2024-03-03T21:14:15.987Z"
   },
   {
    "duration": 18,
    "start_time": "2024-03-03T21:14:16.005Z"
   },
   {
    "duration": 9,
    "start_time": "2024-03-03T21:14:16.025Z"
   },
   {
    "duration": 43,
    "start_time": "2024-03-03T21:14:16.036Z"
   },
   {
    "duration": 8,
    "start_time": "2024-03-03T21:14:16.081Z"
   },
   {
    "duration": 310,
    "start_time": "2024-03-03T21:14:16.091Z"
   },
   {
    "duration": 7,
    "start_time": "2024-03-03T21:14:16.403Z"
   },
   {
    "duration": 26,
    "start_time": "2024-03-03T21:14:16.411Z"
   },
   {
    "duration": 398,
    "start_time": "2024-03-03T21:14:16.438Z"
   },
   {
    "duration": 8,
    "start_time": "2024-03-03T21:14:16.838Z"
   },
   {
    "duration": 332,
    "start_time": "2024-03-03T21:14:16.848Z"
   },
   {
    "duration": 241,
    "start_time": "2024-03-03T21:14:17.182Z"
   },
   {
    "duration": 6,
    "start_time": "2024-03-03T21:14:17.425Z"
   },
   {
    "duration": 10,
    "start_time": "2024-03-03T21:14:17.433Z"
   },
   {
    "duration": 378,
    "start_time": "2024-03-03T21:14:17.444Z"
   },
   {
    "duration": 196,
    "start_time": "2024-03-03T21:14:17.824Z"
   },
   {
    "duration": 5,
    "start_time": "2024-03-03T21:14:18.022Z"
   },
   {
    "duration": 8,
    "start_time": "2024-03-03T21:14:18.031Z"
   },
   {
    "duration": 304,
    "start_time": "2024-03-03T21:14:18.041Z"
   },
   {
    "duration": 187,
    "start_time": "2024-03-03T21:14:18.347Z"
   },
   {
    "duration": 6,
    "start_time": "2024-03-03T21:14:18.536Z"
   },
   {
    "duration": 33,
    "start_time": "2024-03-03T21:14:18.543Z"
   },
   {
    "duration": 298,
    "start_time": "2024-03-03T21:14:18.578Z"
   },
   {
    "duration": 9,
    "start_time": "2024-03-03T21:14:18.877Z"
   },
   {
    "duration": 176,
    "start_time": "2024-03-03T21:14:18.887Z"
   },
   {
    "duration": 211,
    "start_time": "2024-03-03T21:14:19.065Z"
   },
   {
    "duration": 7,
    "start_time": "2024-03-03T21:14:19.278Z"
   },
   {
    "duration": 11,
    "start_time": "2024-03-03T21:14:19.287Z"
   },
   {
    "duration": 190,
    "start_time": "2024-03-03T21:14:19.300Z"
   },
   {
    "duration": 11,
    "start_time": "2024-03-03T21:14:19.492Z"
   },
   {
    "duration": 245,
    "start_time": "2024-03-03T21:14:19.504Z"
   },
   {
    "duration": 187,
    "start_time": "2024-03-03T21:14:19.750Z"
   },
   {
    "duration": 8,
    "start_time": "2024-03-03T21:14:19.939Z"
   },
   {
    "duration": 185,
    "start_time": "2024-03-03T21:14:19.949Z"
   },
   {
    "duration": 9,
    "start_time": "2024-03-03T21:14:20.136Z"
   },
   {
    "duration": 178,
    "start_time": "2024-03-03T21:14:20.147Z"
   },
   {
    "duration": 9,
    "start_time": "2024-03-03T21:14:20.327Z"
   },
   {
    "duration": 199,
    "start_time": "2024-03-03T21:14:20.338Z"
   },
   {
    "duration": 583,
    "start_time": "2024-03-03T21:14:20.539Z"
   },
   {
    "duration": 11,
    "start_time": "2024-03-03T21:14:21.124Z"
   },
   {
    "duration": 273,
    "start_time": "2024-03-03T21:14:21.137Z"
   },
   {
    "duration": 7,
    "start_time": "2024-03-03T21:45:39.855Z"
   },
   {
    "duration": 8,
    "start_time": "2024-03-03T21:45:53.749Z"
   },
   {
    "duration": 7,
    "start_time": "2024-03-03T21:46:48.368Z"
   },
   {
    "duration": 9,
    "start_time": "2024-03-03T21:47:09.427Z"
   },
   {
    "duration": 79,
    "start_time": "2024-03-03T21:48:56.328Z"
   },
   {
    "duration": 11,
    "start_time": "2024-03-03T21:49:45.728Z"
   },
   {
    "duration": 26,
    "start_time": "2024-03-03T21:53:20.534Z"
   },
   {
    "duration": 20,
    "start_time": "2024-03-03T21:53:44.276Z"
   },
   {
    "duration": 24,
    "start_time": "2024-03-03T21:53:50.216Z"
   },
   {
    "duration": 23,
    "start_time": "2024-03-03T21:54:23.497Z"
   },
   {
    "duration": 24,
    "start_time": "2024-03-03T21:54:29.742Z"
   },
   {
    "duration": 22,
    "start_time": "2024-03-03T21:57:22.709Z"
   },
   {
    "duration": 20,
    "start_time": "2024-03-03T21:58:05.718Z"
   },
   {
    "duration": 31,
    "start_time": "2024-03-03T22:00:21.949Z"
   },
   {
    "duration": 16,
    "start_time": "2024-03-03T22:00:40.577Z"
   },
   {
    "duration": 18,
    "start_time": "2024-03-03T22:01:24.707Z"
   },
   {
    "duration": 29,
    "start_time": "2024-03-03T22:01:28.573Z"
   },
   {
    "duration": 16,
    "start_time": "2024-03-03T22:01:54.872Z"
   },
   {
    "duration": 17,
    "start_time": "2024-03-03T22:02:12.670Z"
   },
   {
    "duration": 39,
    "start_time": "2024-03-03T22:02:52.591Z"
   },
   {
    "duration": 114,
    "start_time": "2024-03-03T22:03:01.603Z"
   },
   {
    "duration": 102,
    "start_time": "2024-03-03T22:03:44.318Z"
   },
   {
    "duration": 6,
    "start_time": "2024-03-03T22:04:17.688Z"
   },
   {
    "duration": 6,
    "start_time": "2024-03-03T22:04:46.179Z"
   },
   {
    "duration": 6,
    "start_time": "2024-03-03T22:04:48.956Z"
   },
   {
    "duration": 861,
    "start_time": "2024-03-03T22:04:52.961Z"
   },
   {
    "duration": 16,
    "start_time": "2024-03-03T22:04:53.825Z"
   },
   {
    "duration": 31,
    "start_time": "2024-03-03T22:04:53.843Z"
   },
   {
    "duration": 2238,
    "start_time": "2024-03-03T22:04:53.876Z"
   },
   {
    "duration": 14,
    "start_time": "2024-03-03T22:04:56.117Z"
   },
   {
    "duration": 57,
    "start_time": "2024-03-03T22:04:56.133Z"
   },
   {
    "duration": 12,
    "start_time": "2024-03-03T22:04:56.192Z"
   },
   {
    "duration": 8,
    "start_time": "2024-03-03T22:04:56.207Z"
   },
   {
    "duration": 11,
    "start_time": "2024-03-03T22:04:56.217Z"
   },
   {
    "duration": 12,
    "start_time": "2024-03-03T22:04:56.230Z"
   },
   {
    "duration": 38,
    "start_time": "2024-03-03T22:04:56.244Z"
   },
   {
    "duration": 14,
    "start_time": "2024-03-03T22:04:56.284Z"
   },
   {
    "duration": 9,
    "start_time": "2024-03-03T22:04:56.299Z"
   },
   {
    "duration": 14,
    "start_time": "2024-03-03T22:04:56.311Z"
   },
   {
    "duration": 8,
    "start_time": "2024-03-03T22:04:56.326Z"
   },
   {
    "duration": 394,
    "start_time": "2024-03-03T22:04:56.336Z"
   },
   {
    "duration": 6,
    "start_time": "2024-03-03T22:04:56.732Z"
   },
   {
    "duration": 12,
    "start_time": "2024-03-03T22:04:56.739Z"
   },
   {
    "duration": 425,
    "start_time": "2024-03-03T22:04:56.753Z"
   },
   {
    "duration": 11,
    "start_time": "2024-03-03T22:04:57.180Z"
   },
   {
    "duration": 300,
    "start_time": "2024-03-03T22:04:57.195Z"
   },
   {
    "duration": 237,
    "start_time": "2024-03-03T22:04:57.497Z"
   },
   {
    "duration": 7,
    "start_time": "2024-03-03T22:04:57.735Z"
   },
   {
    "duration": 25,
    "start_time": "2024-03-03T22:04:57.743Z"
   },
   {
    "duration": 396,
    "start_time": "2024-03-03T22:04:57.770Z"
   },
   {
    "duration": 207,
    "start_time": "2024-03-03T22:04:58.168Z"
   },
   {
    "duration": 5,
    "start_time": "2024-03-03T22:04:58.377Z"
   },
   {
    "duration": 9,
    "start_time": "2024-03-03T22:04:58.384Z"
   },
   {
    "duration": 293,
    "start_time": "2024-03-03T22:04:58.394Z"
   },
   {
    "duration": 232,
    "start_time": "2024-03-03T22:04:58.688Z"
   },
   {
    "duration": 7,
    "start_time": "2024-03-03T22:04:58.922Z"
   },
   {
    "duration": 26,
    "start_time": "2024-03-03T22:04:58.931Z"
   },
   {
    "duration": 287,
    "start_time": "2024-03-03T22:04:58.960Z"
   },
   {
    "duration": 9,
    "start_time": "2024-03-03T22:04:59.249Z"
   },
   {
    "duration": 168,
    "start_time": "2024-03-03T22:04:59.259Z"
   },
   {
    "duration": 178,
    "start_time": "2024-03-03T22:04:59.428Z"
   },
   {
    "duration": 4,
    "start_time": "2024-03-03T22:04:59.608Z"
   },
   {
    "duration": 9,
    "start_time": "2024-03-03T22:04:59.613Z"
   },
   {
    "duration": 176,
    "start_time": "2024-03-03T22:04:59.623Z"
   },
   {
    "duration": 9,
    "start_time": "2024-03-03T22:04:59.800Z"
   },
   {
    "duration": 254,
    "start_time": "2024-03-03T22:04:59.813Z"
   },
   {
    "duration": 182,
    "start_time": "2024-03-03T22:05:00.072Z"
   },
   {
    "duration": 17,
    "start_time": "2024-03-03T22:05:00.256Z"
   },
   {
    "duration": 265,
    "start_time": "2024-03-03T22:05:00.274Z"
   },
   {
    "duration": 10,
    "start_time": "2024-03-03T22:05:00.540Z"
   },
   {
    "duration": 202,
    "start_time": "2024-03-03T22:05:00.552Z"
   },
   {
    "duration": 9,
    "start_time": "2024-03-03T22:05:00.755Z"
   },
   {
    "duration": 246,
    "start_time": "2024-03-03T22:05:00.765Z"
   },
   {
    "duration": 598,
    "start_time": "2024-03-03T22:05:01.013Z"
   },
   {
    "duration": 9,
    "start_time": "2024-03-03T22:05:01.613Z"
   },
   {
    "duration": 403,
    "start_time": "2024-03-03T22:05:01.624Z"
   },
   {
    "duration": 6,
    "start_time": "2024-03-03T22:05:02.028Z"
   },
   {
    "duration": 99,
    "start_time": "2024-03-03T22:05:02.035Z"
   },
   {
    "duration": 9,
    "start_time": "2024-03-03T22:05:13.810Z"
   },
   {
    "duration": 10,
    "start_time": "2024-03-03T22:05:49.030Z"
   },
   {
    "duration": 118,
    "start_time": "2024-03-03T22:05:51.793Z"
   },
   {
    "duration": 8,
    "start_time": "2024-03-03T22:06:25.389Z"
   },
   {
    "duration": 104,
    "start_time": "2024-03-03T22:09:02.393Z"
   },
   {
    "duration": 104,
    "start_time": "2024-03-03T22:09:24.564Z"
   },
   {
    "duration": 96,
    "start_time": "2024-03-03T22:09:38.737Z"
   },
   {
    "duration": 100,
    "start_time": "2024-03-03T22:10:50.723Z"
   },
   {
    "duration": 102,
    "start_time": "2024-03-03T22:10:59.906Z"
   },
   {
    "duration": 23,
    "start_time": "2024-03-03T22:11:14.046Z"
   },
   {
    "duration": 20,
    "start_time": "2024-03-03T22:17:09.482Z"
   },
   {
    "duration": 78,
    "start_time": "2024-03-03T22:25:33.297Z"
   },
   {
    "duration": 10,
    "start_time": "2024-03-03T22:25:48.069Z"
   },
   {
    "duration": 114,
    "start_time": "2024-03-03T22:30:30.029Z"
   },
   {
    "duration": 196,
    "start_time": "2024-03-03T22:30:33.867Z"
   },
   {
    "duration": 172,
    "start_time": "2024-03-03T22:33:21.025Z"
   },
   {
    "duration": 178,
    "start_time": "2024-03-03T22:34:15.366Z"
   },
   {
    "duration": 11,
    "start_time": "2024-03-03T22:35:33.507Z"
   },
   {
    "duration": 179,
    "start_time": "2024-03-03T22:35:56.579Z"
   },
   {
    "duration": 448,
    "start_time": "2024-03-03T22:36:13.588Z"
   },
   {
    "duration": 177,
    "start_time": "2024-03-03T22:36:18.465Z"
   },
   {
    "duration": 292,
    "start_time": "2024-03-03T22:38:15.602Z"
   },
   {
    "duration": 153,
    "start_time": "2024-03-03T22:38:41.525Z"
   },
   {
    "duration": 158,
    "start_time": "2024-03-03T22:40:18.526Z"
   },
   {
    "duration": 162,
    "start_time": "2024-03-03T22:41:28.438Z"
   },
   {
    "duration": 160,
    "start_time": "2024-03-03T22:41:35.228Z"
   },
   {
    "duration": 165,
    "start_time": "2024-03-03T22:41:51.902Z"
   },
   {
    "duration": 177,
    "start_time": "2024-03-03T22:44:10.102Z"
   },
   {
    "duration": 175,
    "start_time": "2024-03-03T22:44:19.902Z"
   },
   {
    "duration": 174,
    "start_time": "2024-03-03T22:45:14.154Z"
   },
   {
    "duration": 171,
    "start_time": "2024-03-03T22:45:26.606Z"
   },
   {
    "duration": 169,
    "start_time": "2024-03-03T22:45:42.208Z"
   },
   {
    "duration": 215,
    "start_time": "2024-03-03T22:46:13.311Z"
   },
   {
    "duration": 791,
    "start_time": "2024-03-03T22:46:19.398Z"
   },
   {
    "duration": 16,
    "start_time": "2024-03-03T22:46:20.191Z"
   },
   {
    "duration": 14,
    "start_time": "2024-03-03T22:46:20.208Z"
   },
   {
    "duration": 2086,
    "start_time": "2024-03-03T22:46:20.224Z"
   },
   {
    "duration": 10,
    "start_time": "2024-03-03T22:46:22.312Z"
   },
   {
    "duration": 26,
    "start_time": "2024-03-03T22:46:22.324Z"
   },
   {
    "duration": 9,
    "start_time": "2024-03-03T22:46:22.351Z"
   },
   {
    "duration": 13,
    "start_time": "2024-03-03T22:46:22.361Z"
   },
   {
    "duration": 7,
    "start_time": "2024-03-03T22:46:22.375Z"
   },
   {
    "duration": 10,
    "start_time": "2024-03-03T22:46:22.383Z"
   },
   {
    "duration": 13,
    "start_time": "2024-03-03T22:46:22.394Z"
   },
   {
    "duration": 11,
    "start_time": "2024-03-03T22:46:22.408Z"
   },
   {
    "duration": 8,
    "start_time": "2024-03-03T22:46:22.421Z"
   },
   {
    "duration": 47,
    "start_time": "2024-03-03T22:46:22.432Z"
   },
   {
    "duration": 7,
    "start_time": "2024-03-03T22:46:22.480Z"
   },
   {
    "duration": 296,
    "start_time": "2024-03-03T22:46:22.489Z"
   },
   {
    "duration": 6,
    "start_time": "2024-03-03T22:46:22.786Z"
   },
   {
    "duration": 8,
    "start_time": "2024-03-03T22:46:22.794Z"
   },
   {
    "duration": 403,
    "start_time": "2024-03-03T22:46:22.803Z"
   },
   {
    "duration": 8,
    "start_time": "2024-03-03T22:46:23.208Z"
   },
   {
    "duration": 317,
    "start_time": "2024-03-03T22:46:23.217Z"
   },
   {
    "duration": 211,
    "start_time": "2024-03-03T22:46:23.536Z"
   },
   {
    "duration": 6,
    "start_time": "2024-03-03T22:46:23.748Z"
   },
   {
    "duration": 29,
    "start_time": "2024-03-03T22:46:23.755Z"
   },
   {
    "duration": 335,
    "start_time": "2024-03-03T22:46:23.785Z"
   },
   {
    "duration": 192,
    "start_time": "2024-03-03T22:46:24.121Z"
   },
   {
    "duration": 4,
    "start_time": "2024-03-03T22:46:24.315Z"
   },
   {
    "duration": 14,
    "start_time": "2024-03-03T22:46:24.321Z"
   },
   {
    "duration": 272,
    "start_time": "2024-03-03T22:46:24.336Z"
   },
   {
    "duration": 173,
    "start_time": "2024-03-03T22:46:24.610Z"
   },
   {
    "duration": 4,
    "start_time": "2024-03-03T22:46:24.785Z"
   },
   {
    "duration": 15,
    "start_time": "2024-03-03T22:46:24.790Z"
   },
   {
    "duration": 277,
    "start_time": "2024-03-03T22:46:24.806Z"
   },
   {
    "duration": 8,
    "start_time": "2024-03-03T22:46:25.085Z"
   },
   {
    "duration": 169,
    "start_time": "2024-03-03T22:46:25.095Z"
   },
   {
    "duration": 187,
    "start_time": "2024-03-03T22:46:25.266Z"
   },
   {
    "duration": 5,
    "start_time": "2024-03-03T22:46:25.455Z"
   },
   {
    "duration": 18,
    "start_time": "2024-03-03T22:46:25.461Z"
   },
   {
    "duration": 171,
    "start_time": "2024-03-03T22:46:25.481Z"
   },
   {
    "duration": 9,
    "start_time": "2024-03-03T22:46:25.654Z"
   },
   {
    "duration": 223,
    "start_time": "2024-03-03T22:46:25.674Z"
   },
   {
    "duration": 179,
    "start_time": "2024-03-03T22:46:25.898Z"
   },
   {
    "duration": 8,
    "start_time": "2024-03-03T22:46:26.079Z"
   },
   {
    "duration": 187,
    "start_time": "2024-03-03T22:46:26.089Z"
   },
   {
    "duration": 9,
    "start_time": "2024-03-03T22:46:26.278Z"
   },
   {
    "duration": 169,
    "start_time": "2024-03-03T22:46:26.288Z"
   },
   {
    "duration": 18,
    "start_time": "2024-03-03T22:46:26.459Z"
   },
   {
    "duration": 187,
    "start_time": "2024-03-03T22:46:26.479Z"
   },
   {
    "duration": 579,
    "start_time": "2024-03-03T22:46:26.672Z"
   },
   {
    "duration": 9,
    "start_time": "2024-03-03T22:46:27.253Z"
   },
   {
    "duration": 275,
    "start_time": "2024-03-03T22:46:27.263Z"
   },
   {
    "duration": 8,
    "start_time": "2024-03-03T22:46:27.540Z"
   },
   {
    "duration": 35,
    "start_time": "2024-03-03T22:46:27.550Z"
   },
   {
    "duration": 179,
    "start_time": "2024-03-03T22:46:27.587Z"
   },
   {
    "duration": 110,
    "start_time": "2024-03-04T19:16:06.662Z"
   },
   {
    "duration": 45,
    "start_time": "2024-03-04T19:16:11.322Z"
   },
   {
    "duration": 1086,
    "start_time": "2024-03-04T19:16:22.748Z"
   },
   {
    "duration": 18,
    "start_time": "2024-03-04T19:16:23.836Z"
   },
   {
    "duration": 5,
    "start_time": "2024-03-04T19:16:23.856Z"
   },
   {
    "duration": 2163,
    "start_time": "2024-03-04T19:16:23.862Z"
   },
   {
    "duration": 9,
    "start_time": "2024-03-04T19:16:26.028Z"
   },
   {
    "duration": 26,
    "start_time": "2024-03-04T19:16:26.039Z"
   },
   {
    "duration": 16,
    "start_time": "2024-03-04T19:16:26.066Z"
   },
   {
    "duration": 28,
    "start_time": "2024-03-04T19:16:26.084Z"
   },
   {
    "duration": 16,
    "start_time": "2024-03-04T19:16:26.114Z"
   },
   {
    "duration": 11,
    "start_time": "2024-03-04T19:16:26.132Z"
   },
   {
    "duration": 12,
    "start_time": "2024-03-04T19:16:26.144Z"
   },
   {
    "duration": 11,
    "start_time": "2024-03-04T19:16:26.157Z"
   },
   {
    "duration": 14,
    "start_time": "2024-03-04T19:16:26.169Z"
   },
   {
    "duration": 14,
    "start_time": "2024-03-04T19:16:26.186Z"
   },
   {
    "duration": 7,
    "start_time": "2024-03-04T19:16:26.201Z"
   },
   {
    "duration": 23,
    "start_time": "2024-03-04T19:16:26.210Z"
   },
   {
    "duration": 300,
    "start_time": "2024-03-04T19:16:26.235Z"
   },
   {
    "duration": 7,
    "start_time": "2024-03-04T19:16:26.538Z"
   },
   {
    "duration": 13,
    "start_time": "2024-03-04T19:16:26.547Z"
   },
   {
    "duration": 430,
    "start_time": "2024-03-04T19:16:26.561Z"
   },
   {
    "duration": 10,
    "start_time": "2024-03-04T19:16:26.992Z"
   },
   {
    "duration": 310,
    "start_time": "2024-03-04T19:16:27.004Z"
   },
   {
    "duration": 296,
    "start_time": "2024-03-04T19:16:27.316Z"
   },
   {
    "duration": 6,
    "start_time": "2024-03-04T19:16:27.614Z"
   },
   {
    "duration": 25,
    "start_time": "2024-03-04T19:16:27.621Z"
   },
   {
    "duration": 260,
    "start_time": "2024-03-04T19:16:27.647Z"
   },
   {
    "duration": 196,
    "start_time": "2024-03-04T19:16:27.909Z"
   },
   {
    "duration": 5,
    "start_time": "2024-03-04T19:16:28.107Z"
   },
   {
    "duration": 22,
    "start_time": "2024-03-04T19:16:28.113Z"
   },
   {
    "duration": 272,
    "start_time": "2024-03-04T19:16:28.136Z"
   },
   {
    "duration": 192,
    "start_time": "2024-03-04T19:16:28.410Z"
   },
   {
    "duration": 5,
    "start_time": "2024-03-04T19:16:28.604Z"
   },
   {
    "duration": 27,
    "start_time": "2024-03-04T19:16:28.611Z"
   },
   {
    "duration": 299,
    "start_time": "2024-03-04T19:16:28.641Z"
   },
   {
    "duration": 9,
    "start_time": "2024-03-04T19:16:28.942Z"
   },
   {
    "duration": 168,
    "start_time": "2024-03-04T19:16:28.952Z"
   },
   {
    "duration": 190,
    "start_time": "2024-03-04T19:16:29.122Z"
   },
   {
    "duration": 4,
    "start_time": "2024-03-04T19:16:29.314Z"
   },
   {
    "duration": 15,
    "start_time": "2024-03-04T19:16:29.320Z"
   },
   {
    "duration": 280,
    "start_time": "2024-03-04T19:16:29.337Z"
   },
   {
    "duration": 10,
    "start_time": "2024-03-04T19:16:29.622Z"
   },
   {
    "duration": 173,
    "start_time": "2024-03-04T19:16:29.635Z"
   },
   {
    "duration": 190,
    "start_time": "2024-03-04T19:16:29.810Z"
   },
   {
    "duration": 9,
    "start_time": "2024-03-04T19:16:30.002Z"
   },
   {
    "duration": 233,
    "start_time": "2024-03-04T19:16:30.012Z"
   },
   {
    "duration": 10,
    "start_time": "2024-03-04T19:16:30.247Z"
   },
   {
    "duration": 249,
    "start_time": "2024-03-04T19:16:30.259Z"
   },
   {
    "duration": 11,
    "start_time": "2024-03-04T19:16:30.510Z"
   },
   {
    "duration": 240,
    "start_time": "2024-03-04T19:16:30.523Z"
   },
   {
    "duration": 567,
    "start_time": "2024-03-04T19:16:30.765Z"
   },
   {
    "duration": 9,
    "start_time": "2024-03-04T19:16:31.334Z"
   },
   {
    "duration": 372,
    "start_time": "2024-03-04T19:16:31.345Z"
   },
   {
    "duration": 9,
    "start_time": "2024-03-04T19:16:31.719Z"
   },
   {
    "duration": 219,
    "start_time": "2024-03-04T19:16:31.729Z"
   },
   {
    "duration": 264,
    "start_time": "2024-03-04T19:16:31.949Z"
   },
   {
    "duration": 218,
    "start_time": "2024-03-04T19:30:12.571Z"
   },
   {
    "duration": 25,
    "start_time": "2024-03-04T19:44:35.296Z"
   },
   {
    "duration": 192,
    "start_time": "2024-03-04T19:46:19.379Z"
   },
   {
    "duration": 169,
    "start_time": "2024-03-04T19:46:27.217Z"
   },
   {
    "duration": 312,
    "start_time": "2024-03-04T19:46:35.009Z"
   },
   {
    "duration": 176,
    "start_time": "2024-03-04T19:46:41.770Z"
   },
   {
    "duration": 178,
    "start_time": "2024-03-04T20:34:14.961Z"
   },
   {
    "duration": 838,
    "start_time": "2024-03-04T20:55:42.484Z"
   },
   {
    "duration": 17,
    "start_time": "2024-03-04T20:55:43.325Z"
   },
   {
    "duration": 5,
    "start_time": "2024-03-04T20:55:43.343Z"
   },
   {
    "duration": 2124,
    "start_time": "2024-03-04T20:55:43.350Z"
   },
   {
    "duration": 12,
    "start_time": "2024-03-04T20:55:45.477Z"
   },
   {
    "duration": 65,
    "start_time": "2024-03-04T20:55:45.490Z"
   },
   {
    "duration": 9,
    "start_time": "2024-03-04T20:55:45.557Z"
   },
   {
    "duration": 15,
    "start_time": "2024-03-04T20:55:45.568Z"
   },
   {
    "duration": 27,
    "start_time": "2024-03-04T20:55:45.585Z"
   },
   {
    "duration": 40,
    "start_time": "2024-03-04T20:55:45.613Z"
   },
   {
    "duration": 21,
    "start_time": "2024-03-04T20:55:45.654Z"
   },
   {
    "duration": 36,
    "start_time": "2024-03-04T20:55:45.677Z"
   },
   {
    "duration": 13,
    "start_time": "2024-03-04T20:55:45.715Z"
   },
   {
    "duration": 17,
    "start_time": "2024-03-04T20:55:45.731Z"
   },
   {
    "duration": 30,
    "start_time": "2024-03-04T20:55:45.749Z"
   },
   {
    "duration": 15,
    "start_time": "2024-03-04T20:55:45.781Z"
   },
   {
    "duration": 315,
    "start_time": "2024-03-04T20:55:45.798Z"
   },
   {
    "duration": 7,
    "start_time": "2024-03-04T20:55:46.115Z"
   },
   {
    "duration": 9,
    "start_time": "2024-03-04T20:55:46.123Z"
   },
   {
    "duration": 433,
    "start_time": "2024-03-04T20:55:46.134Z"
   },
   {
    "duration": 17,
    "start_time": "2024-03-04T20:55:46.569Z"
   },
   {
    "duration": 275,
    "start_time": "2024-03-04T20:55:46.588Z"
   },
   {
    "duration": 206,
    "start_time": "2024-03-04T20:55:46.865Z"
   },
   {
    "duration": 5,
    "start_time": "2024-03-04T20:55:47.079Z"
   },
   {
    "duration": 15,
    "start_time": "2024-03-04T20:55:47.086Z"
   },
   {
    "duration": 335,
    "start_time": "2024-03-04T20:55:47.103Z"
   },
   {
    "duration": 185,
    "start_time": "2024-03-04T20:55:47.440Z"
   },
   {
    "duration": 5,
    "start_time": "2024-03-04T20:55:47.627Z"
   },
   {
    "duration": 10,
    "start_time": "2024-03-04T20:55:47.633Z"
   },
   {
    "duration": 272,
    "start_time": "2024-03-04T20:55:47.644Z"
   },
   {
    "duration": 180,
    "start_time": "2024-03-04T20:55:47.918Z"
   },
   {
    "duration": 6,
    "start_time": "2024-03-04T20:55:48.100Z"
   },
   {
    "duration": 19,
    "start_time": "2024-03-04T20:55:48.108Z"
   },
   {
    "duration": 272,
    "start_time": "2024-03-04T20:55:48.129Z"
   },
   {
    "duration": 8,
    "start_time": "2024-03-04T20:55:48.402Z"
   },
   {
    "duration": 176,
    "start_time": "2024-03-04T20:55:48.412Z"
   },
   {
    "duration": 202,
    "start_time": "2024-03-04T20:55:48.590Z"
   },
   {
    "duration": 7,
    "start_time": "2024-03-04T20:55:48.794Z"
   },
   {
    "duration": 10,
    "start_time": "2024-03-04T20:55:48.802Z"
   },
   {
    "duration": 184,
    "start_time": "2024-03-04T20:55:48.814Z"
   },
   {
    "duration": 10,
    "start_time": "2024-03-04T20:55:49.003Z"
   },
   {
    "duration": 252,
    "start_time": "2024-03-04T20:55:49.015Z"
   },
   {
    "duration": 190,
    "start_time": "2024-03-04T20:55:49.269Z"
   },
   {
    "duration": 8,
    "start_time": "2024-03-04T20:55:49.461Z"
   },
   {
    "duration": 182,
    "start_time": "2024-03-04T20:55:49.480Z"
   },
   {
    "duration": 18,
    "start_time": "2024-03-04T20:55:49.663Z"
   },
   {
    "duration": 153,
    "start_time": "2024-03-04T20:55:49.682Z"
   },
   {
    "duration": 10,
    "start_time": "2024-03-04T20:55:49.836Z"
   },
   {
    "duration": 203,
    "start_time": "2024-03-04T20:55:49.847Z"
   },
   {
    "duration": 570,
    "start_time": "2024-03-04T20:55:50.052Z"
   },
   {
    "duration": 10,
    "start_time": "2024-03-04T20:55:50.623Z"
   },
   {
    "duration": 276,
    "start_time": "2024-03-04T20:55:50.635Z"
   },
   {
    "duration": 9,
    "start_time": "2024-03-04T20:55:50.912Z"
   },
   {
    "duration": 22,
    "start_time": "2024-03-04T20:55:50.923Z"
   },
   {
    "duration": 199,
    "start_time": "2024-03-04T20:55:50.947Z"
   },
   {
    "duration": 1054,
    "start_time": "2024-03-05T05:22:03.431Z"
   },
   {
    "duration": 13,
    "start_time": "2024-03-05T05:22:04.486Z"
   },
   {
    "duration": 12,
    "start_time": "2024-03-05T05:22:04.501Z"
   },
   {
    "duration": 1649,
    "start_time": "2024-03-05T05:22:04.515Z"
   },
   {
    "duration": 8,
    "start_time": "2024-03-05T05:22:06.166Z"
   },
   {
    "duration": 34,
    "start_time": "2024-03-05T05:22:06.175Z"
   },
   {
    "duration": 6,
    "start_time": "2024-03-05T05:22:06.211Z"
   },
   {
    "duration": 12,
    "start_time": "2024-03-05T05:22:06.218Z"
   },
   {
    "duration": 18,
    "start_time": "2024-03-05T05:22:06.231Z"
   },
   {
    "duration": 22,
    "start_time": "2024-03-05T05:22:06.250Z"
   },
   {
    "duration": 9,
    "start_time": "2024-03-05T05:22:06.273Z"
   },
   {
    "duration": 9,
    "start_time": "2024-03-05T05:22:06.283Z"
   },
   {
    "duration": 9,
    "start_time": "2024-03-05T05:22:06.294Z"
   },
   {
    "duration": 11,
    "start_time": "2024-03-05T05:22:06.306Z"
   },
   {
    "duration": 6,
    "start_time": "2024-03-05T05:22:06.319Z"
   },
   {
    "duration": 6,
    "start_time": "2024-03-05T05:22:06.327Z"
   },
   {
    "duration": 251,
    "start_time": "2024-03-05T05:22:06.335Z"
   },
   {
    "duration": 13,
    "start_time": "2024-03-05T05:22:06.588Z"
   },
   {
    "duration": 8,
    "start_time": "2024-03-05T05:22:06.603Z"
   },
   {
    "duration": 323,
    "start_time": "2024-03-05T05:22:06.613Z"
   },
   {
    "duration": 8,
    "start_time": "2024-03-05T05:22:06.937Z"
   },
   {
    "duration": 212,
    "start_time": "2024-03-05T05:22:06.947Z"
   },
   {
    "duration": 179,
    "start_time": "2024-03-05T05:22:07.161Z"
   },
   {
    "duration": 4,
    "start_time": "2024-03-05T05:22:07.342Z"
   },
   {
    "duration": 8,
    "start_time": "2024-03-05T05:22:07.347Z"
   },
   {
    "duration": 253,
    "start_time": "2024-03-05T05:22:07.356Z"
   },
   {
    "duration": 158,
    "start_time": "2024-03-05T05:22:07.610Z"
   },
   {
    "duration": 3,
    "start_time": "2024-03-05T05:22:07.770Z"
   },
   {
    "duration": 7,
    "start_time": "2024-03-05T05:22:07.774Z"
   },
   {
    "duration": 211,
    "start_time": "2024-03-05T05:22:07.782Z"
   },
   {
    "duration": 143,
    "start_time": "2024-03-05T05:22:07.995Z"
   },
   {
    "duration": 4,
    "start_time": "2024-03-05T05:22:08.140Z"
   },
   {
    "duration": 14,
    "start_time": "2024-03-05T05:22:08.146Z"
   },
   {
    "duration": 202,
    "start_time": "2024-03-05T05:22:08.162Z"
   },
   {
    "duration": 7,
    "start_time": "2024-03-05T05:22:08.366Z"
   },
   {
    "duration": 128,
    "start_time": "2024-03-05T05:22:08.375Z"
   },
   {
    "duration": 150,
    "start_time": "2024-03-05T05:22:08.505Z"
   },
   {
    "duration": 5,
    "start_time": "2024-03-05T05:22:08.657Z"
   },
   {
    "duration": 79,
    "start_time": "2024-03-05T05:22:08.664Z"
   },
   {
    "duration": 159,
    "start_time": "2024-03-05T05:22:08.744Z"
   },
   {
    "duration": 8,
    "start_time": "2024-03-05T05:22:08.907Z"
   },
   {
    "duration": 186,
    "start_time": "2024-03-05T05:22:08.917Z"
   },
   {
    "duration": 147,
    "start_time": "2024-03-05T05:22:09.104Z"
   },
   {
    "duration": 6,
    "start_time": "2024-03-05T05:22:09.253Z"
   },
   {
    "duration": 143,
    "start_time": "2024-03-05T05:22:09.260Z"
   },
   {
    "duration": 8,
    "start_time": "2024-03-05T05:22:09.404Z"
   },
   {
    "duration": 129,
    "start_time": "2024-03-05T05:22:09.414Z"
   },
   {
    "duration": 8,
    "start_time": "2024-03-05T05:22:09.544Z"
   },
   {
    "duration": 163,
    "start_time": "2024-03-05T05:22:09.553Z"
   },
   {
    "duration": 447,
    "start_time": "2024-03-05T05:22:09.717Z"
   },
   {
    "duration": 7,
    "start_time": "2024-03-05T05:22:10.165Z"
   },
   {
    "duration": 221,
    "start_time": "2024-03-05T05:22:10.173Z"
   },
   {
    "duration": 7,
    "start_time": "2024-03-05T05:22:10.401Z"
   },
   {
    "duration": 28,
    "start_time": "2024-03-05T05:22:10.410Z"
   },
   {
    "duration": 144,
    "start_time": "2024-03-05T05:22:10.439Z"
   },
   {
    "duration": 5,
    "start_time": "2024-03-05T05:27:16.505Z"
   },
   {
    "duration": 73,
    "start_time": "2024-03-05T05:27:52.649Z"
   },
   {
    "duration": 755,
    "start_time": "2024-03-05T18:19:29.969Z"
   },
   {
    "duration": 316,
    "start_time": "2024-03-05T18:19:31.820Z"
   },
   {
    "duration": 92,
    "start_time": "2024-03-05T18:19:41.506Z"
   },
   {
    "duration": 74,
    "start_time": "2024-03-05T18:20:38.443Z"
   },
   {
    "duration": 73,
    "start_time": "2024-03-05T18:20:46.529Z"
   },
   {
    "duration": 63,
    "start_time": "2024-03-05T18:20:49.571Z"
   },
   {
    "duration": 75,
    "start_time": "2024-03-05T18:21:05.044Z"
   },
   {
    "duration": 1582,
    "start_time": "2024-03-05T18:24:29.630Z"
   },
   {
    "duration": 80,
    "start_time": "2024-03-05T18:27:48.363Z"
   },
   {
    "duration": 92,
    "start_time": "2024-03-05T18:49:18.826Z"
   },
   {
    "duration": 591,
    "start_time": "2024-03-05T18:49:27.196Z"
   },
   {
    "duration": 109,
    "start_time": "2024-03-05T18:49:27.789Z"
   },
   {
    "duration": 13,
    "start_time": "2024-03-05T18:49:27.899Z"
   },
   {
    "duration": 5,
    "start_time": "2024-03-05T18:49:27.914Z"
   },
   {
    "duration": 1559,
    "start_time": "2024-03-05T18:49:27.921Z"
   },
   {
    "duration": 7,
    "start_time": "2024-03-05T18:49:29.481Z"
   },
   {
    "duration": 26,
    "start_time": "2024-03-05T18:49:29.489Z"
   },
   {
    "duration": 6,
    "start_time": "2024-03-05T18:49:29.516Z"
   },
   {
    "duration": 9,
    "start_time": "2024-03-05T18:49:29.524Z"
   },
   {
    "duration": 5,
    "start_time": "2024-03-05T18:49:29.535Z"
   },
   {
    "duration": 7,
    "start_time": "2024-03-05T18:49:29.541Z"
   },
   {
    "duration": 8,
    "start_time": "2024-03-05T18:49:29.550Z"
   },
   {
    "duration": 11,
    "start_time": "2024-03-05T18:49:29.559Z"
   },
   {
    "duration": 6,
    "start_time": "2024-03-05T18:49:29.572Z"
   },
   {
    "duration": 9,
    "start_time": "2024-03-05T18:49:29.601Z"
   },
   {
    "duration": 17,
    "start_time": "2024-03-05T18:49:29.611Z"
   },
   {
    "duration": 13,
    "start_time": "2024-03-05T18:49:29.629Z"
   },
   {
    "duration": 221,
    "start_time": "2024-03-05T18:49:29.643Z"
   },
   {
    "duration": 6,
    "start_time": "2024-03-05T18:49:29.865Z"
   },
   {
    "duration": 15,
    "start_time": "2024-03-05T18:49:29.872Z"
   },
   {
    "duration": 313,
    "start_time": "2024-03-05T18:49:29.889Z"
   },
   {
    "duration": 7,
    "start_time": "2024-03-05T18:49:30.203Z"
   },
   {
    "duration": 248,
    "start_time": "2024-03-05T18:49:30.210Z"
   },
   {
    "duration": 162,
    "start_time": "2024-03-05T18:49:30.460Z"
   },
   {
    "duration": 3,
    "start_time": "2024-03-05T18:49:30.624Z"
   },
   {
    "duration": 31,
    "start_time": "2024-03-05T18:49:30.629Z"
   },
   {
    "duration": 272,
    "start_time": "2024-03-05T18:49:30.662Z"
   },
   {
    "duration": 159,
    "start_time": "2024-03-05T18:49:30.935Z"
   },
   {
    "duration": 8,
    "start_time": "2024-03-05T18:49:31.096Z"
   },
   {
    "duration": 34,
    "start_time": "2024-03-05T18:49:31.106Z"
   },
   {
    "duration": 227,
    "start_time": "2024-03-05T18:49:31.141Z"
   },
   {
    "duration": 148,
    "start_time": "2024-03-05T18:49:31.369Z"
   },
   {
    "duration": 4,
    "start_time": "2024-03-05T18:49:31.518Z"
   },
   {
    "duration": 31,
    "start_time": "2024-03-05T18:49:31.523Z"
   },
   {
    "duration": 230,
    "start_time": "2024-03-05T18:49:31.556Z"
   },
   {
    "duration": 8,
    "start_time": "2024-03-05T18:49:31.787Z"
   },
   {
    "duration": 145,
    "start_time": "2024-03-05T18:49:31.796Z"
   },
   {
    "duration": 141,
    "start_time": "2024-03-05T18:49:31.942Z"
   },
   {
    "duration": 4,
    "start_time": "2024-03-05T18:49:32.084Z"
   },
   {
    "duration": 26,
    "start_time": "2024-03-05T18:49:32.089Z"
   },
   {
    "duration": 131,
    "start_time": "2024-03-05T18:49:32.118Z"
   },
   {
    "duration": 7,
    "start_time": "2024-03-05T18:49:32.250Z"
   },
   {
    "duration": 166,
    "start_time": "2024-03-05T18:49:32.259Z"
   },
   {
    "duration": 139,
    "start_time": "2024-03-05T18:49:32.426Z"
   },
   {
    "duration": 6,
    "start_time": "2024-03-05T18:49:32.566Z"
   },
   {
    "duration": 145,
    "start_time": "2024-03-05T18:49:32.573Z"
   },
   {
    "duration": 7,
    "start_time": "2024-03-05T18:49:32.719Z"
   },
   {
    "duration": 123,
    "start_time": "2024-03-05T18:49:32.727Z"
   },
   {
    "duration": 8,
    "start_time": "2024-03-05T18:49:32.851Z"
   },
   {
    "duration": 144,
    "start_time": "2024-03-05T18:49:32.860Z"
   },
   {
    "duration": 446,
    "start_time": "2024-03-05T18:49:33.005Z"
   },
   {
    "duration": 8,
    "start_time": "2024-03-05T18:49:33.452Z"
   },
   {
    "duration": 197,
    "start_time": "2024-03-05T18:49:33.461Z"
   },
   {
    "duration": 6,
    "start_time": "2024-03-05T18:49:33.659Z"
   },
   {
    "duration": 20,
    "start_time": "2024-03-05T18:49:33.666Z"
   },
   {
    "duration": 139,
    "start_time": "2024-03-05T18:49:33.687Z"
   },
   {
    "duration": 262,
    "start_time": "2024-03-05T19:00:09.460Z"
   },
   {
    "duration": 131,
    "start_time": "2024-03-05T19:09:53.232Z"
   },
   {
    "duration": 608,
    "start_time": "2024-03-05T19:12:39.976Z"
   },
   {
    "duration": 103,
    "start_time": "2024-03-05T19:12:40.586Z"
   },
   {
    "duration": 11,
    "start_time": "2024-03-05T19:12:40.690Z"
   },
   {
    "duration": 3,
    "start_time": "2024-03-05T19:12:40.704Z"
   },
   {
    "duration": 1536,
    "start_time": "2024-03-05T19:12:40.708Z"
   },
   {
    "duration": 7,
    "start_time": "2024-03-05T19:12:42.245Z"
   },
   {
    "duration": 23,
    "start_time": "2024-03-05T19:12:42.253Z"
   },
   {
    "duration": 23,
    "start_time": "2024-03-05T19:12:42.278Z"
   },
   {
    "duration": 5,
    "start_time": "2024-03-05T19:12:42.302Z"
   },
   {
    "duration": 7,
    "start_time": "2024-03-05T19:12:42.309Z"
   },
   {
    "duration": 8,
    "start_time": "2024-03-05T19:12:42.317Z"
   },
   {
    "duration": 8,
    "start_time": "2024-03-05T19:12:42.326Z"
   },
   {
    "duration": 8,
    "start_time": "2024-03-05T19:12:42.336Z"
   },
   {
    "duration": 6,
    "start_time": "2024-03-05T19:12:42.345Z"
   },
   {
    "duration": 11,
    "start_time": "2024-03-05T19:12:42.352Z"
   },
   {
    "duration": 9,
    "start_time": "2024-03-05T19:12:42.364Z"
   },
   {
    "duration": 5,
    "start_time": "2024-03-05T19:12:42.375Z"
   },
   {
    "duration": 217,
    "start_time": "2024-03-05T19:12:42.381Z"
   },
   {
    "duration": 6,
    "start_time": "2024-03-05T19:12:42.599Z"
   },
   {
    "duration": 8,
    "start_time": "2024-03-05T19:12:42.606Z"
   },
   {
    "duration": 436,
    "start_time": "2024-03-05T19:12:42.615Z"
   },
   {
    "duration": 7,
    "start_time": "2024-03-05T19:12:43.052Z"
   },
   {
    "duration": 215,
    "start_time": "2024-03-05T19:12:43.060Z"
   },
   {
    "duration": 165,
    "start_time": "2024-03-05T19:12:43.277Z"
   },
   {
    "duration": 5,
    "start_time": "2024-03-05T19:12:43.443Z"
   },
   {
    "duration": 13,
    "start_time": "2024-03-05T19:12:43.449Z"
   },
   {
    "duration": 308,
    "start_time": "2024-03-05T19:12:43.463Z"
   },
   {
    "duration": 160,
    "start_time": "2024-03-05T19:12:43.775Z"
   },
   {
    "duration": 4,
    "start_time": "2024-03-05T19:12:43.936Z"
   },
   {
    "duration": 7,
    "start_time": "2024-03-05T19:12:43.942Z"
   },
   {
    "duration": 204,
    "start_time": "2024-03-05T19:12:43.951Z"
   },
   {
    "duration": 135,
    "start_time": "2024-03-05T19:12:44.156Z"
   },
   {
    "duration": 9,
    "start_time": "2024-03-05T19:12:44.293Z"
   },
   {
    "duration": 20,
    "start_time": "2024-03-05T19:12:44.303Z"
   },
   {
    "duration": 191,
    "start_time": "2024-03-05T19:12:44.324Z"
   },
   {
    "duration": 7,
    "start_time": "2024-03-05T19:12:44.517Z"
   },
   {
    "duration": 195,
    "start_time": "2024-03-05T19:12:44.525Z"
   },
   {
    "duration": 154,
    "start_time": "2024-03-05T19:12:44.722Z"
   },
   {
    "duration": 4,
    "start_time": "2024-03-05T19:12:44.877Z"
   },
   {
    "duration": 21,
    "start_time": "2024-03-05T19:12:44.883Z"
   },
   {
    "duration": 138,
    "start_time": "2024-03-05T19:12:44.905Z"
   },
   {
    "duration": 8,
    "start_time": "2024-03-05T19:12:45.044Z"
   },
   {
    "duration": 184,
    "start_time": "2024-03-05T19:12:45.054Z"
   },
   {
    "duration": 144,
    "start_time": "2024-03-05T19:12:45.240Z"
   },
   {
    "duration": 16,
    "start_time": "2024-03-05T19:12:45.386Z"
   },
   {
    "duration": 143,
    "start_time": "2024-03-05T19:12:45.403Z"
   },
   {
    "duration": 7,
    "start_time": "2024-03-05T19:12:45.548Z"
   },
   {
    "duration": 117,
    "start_time": "2024-03-05T19:12:45.557Z"
   },
   {
    "duration": 8,
    "start_time": "2024-03-05T19:12:45.675Z"
   },
   {
    "duration": 151,
    "start_time": "2024-03-05T19:12:45.684Z"
   },
   {
    "duration": 444,
    "start_time": "2024-03-05T19:12:45.836Z"
   },
   {
    "duration": 8,
    "start_time": "2024-03-05T19:12:46.282Z"
   },
   {
    "duration": 197,
    "start_time": "2024-03-05T19:12:46.301Z"
   },
   {
    "duration": 249,
    "start_time": "2024-03-05T19:12:46.501Z"
   },
   {
    "duration": 7,
    "start_time": "2024-03-05T19:12:46.751Z"
   },
   {
    "duration": 21,
    "start_time": "2024-03-05T19:12:46.760Z"
   },
   {
    "duration": 142,
    "start_time": "2024-03-05T19:12:46.782Z"
   },
   {
    "duration": 76,
    "start_time": "2024-03-05T19:14:36.663Z"
   },
   {
    "duration": 147,
    "start_time": "2024-03-05T19:14:43.282Z"
   },
   {
    "duration": 69,
    "start_time": "2024-03-05T19:15:38.692Z"
   },
   {
    "duration": 86,
    "start_time": "2024-03-05T19:16:13.096Z"
   },
   {
    "duration": 150,
    "start_time": "2024-03-05T19:16:19.805Z"
   },
   {
    "duration": 599,
    "start_time": "2024-03-05T19:17:22.081Z"
   },
   {
    "duration": 103,
    "start_time": "2024-03-05T19:17:22.681Z"
   },
   {
    "duration": 12,
    "start_time": "2024-03-05T19:17:22.785Z"
   },
   {
    "duration": 3,
    "start_time": "2024-03-05T19:17:22.801Z"
   },
   {
    "duration": 1603,
    "start_time": "2024-03-05T19:17:22.805Z"
   },
   {
    "duration": 9,
    "start_time": "2024-03-05T19:17:24.409Z"
   },
   {
    "duration": 36,
    "start_time": "2024-03-05T19:17:24.419Z"
   },
   {
    "duration": 6,
    "start_time": "2024-03-05T19:17:24.456Z"
   },
   {
    "duration": 10,
    "start_time": "2024-03-05T19:17:24.464Z"
   },
   {
    "duration": 6,
    "start_time": "2024-03-05T19:17:24.476Z"
   },
   {
    "duration": 23,
    "start_time": "2024-03-05T19:17:24.483Z"
   },
   {
    "duration": 10,
    "start_time": "2024-03-05T19:17:24.507Z"
   },
   {
    "duration": 12,
    "start_time": "2024-03-05T19:17:24.519Z"
   },
   {
    "duration": 11,
    "start_time": "2024-03-05T19:17:24.532Z"
   },
   {
    "duration": 26,
    "start_time": "2024-03-05T19:17:24.544Z"
   },
   {
    "duration": 9,
    "start_time": "2024-03-05T19:17:24.572Z"
   },
   {
    "duration": 19,
    "start_time": "2024-03-05T19:17:24.583Z"
   },
   {
    "duration": 245,
    "start_time": "2024-03-05T19:17:24.604Z"
   },
   {
    "duration": 5,
    "start_time": "2024-03-05T19:17:24.851Z"
   },
   {
    "duration": 26,
    "start_time": "2024-03-05T19:17:24.857Z"
   },
   {
    "duration": 337,
    "start_time": "2024-03-05T19:17:24.884Z"
   },
   {
    "duration": 6,
    "start_time": "2024-03-05T19:17:25.223Z"
   },
   {
    "duration": 217,
    "start_time": "2024-03-05T19:17:25.230Z"
   },
   {
    "duration": 174,
    "start_time": "2024-03-05T19:17:25.448Z"
   },
   {
    "duration": 4,
    "start_time": "2024-03-05T19:17:25.624Z"
   },
   {
    "duration": 35,
    "start_time": "2024-03-05T19:17:25.629Z"
   },
   {
    "duration": 264,
    "start_time": "2024-03-05T19:17:25.665Z"
   },
   {
    "duration": 156,
    "start_time": "2024-03-05T19:17:25.932Z"
   },
   {
    "duration": 4,
    "start_time": "2024-03-05T19:17:26.089Z"
   },
   {
    "duration": 6,
    "start_time": "2024-03-05T19:17:26.102Z"
   },
   {
    "duration": 199,
    "start_time": "2024-03-05T19:17:26.109Z"
   },
   {
    "duration": 137,
    "start_time": "2024-03-05T19:17:26.309Z"
   },
   {
    "duration": 4,
    "start_time": "2024-03-05T19:17:26.448Z"
   },
   {
    "duration": 12,
    "start_time": "2024-03-05T19:17:26.453Z"
   },
   {
    "duration": 201,
    "start_time": "2024-03-05T19:17:26.466Z"
   },
   {
    "duration": 7,
    "start_time": "2024-03-05T19:17:26.668Z"
   },
   {
    "duration": 127,
    "start_time": "2024-03-05T19:17:26.676Z"
   },
   {
    "duration": 146,
    "start_time": "2024-03-05T19:17:26.804Z"
   },
   {
    "duration": 4,
    "start_time": "2024-03-05T19:17:26.951Z"
   },
   {
    "duration": 26,
    "start_time": "2024-03-05T19:17:26.956Z"
   },
   {
    "duration": 122,
    "start_time": "2024-03-05T19:17:26.984Z"
   },
   {
    "duration": 7,
    "start_time": "2024-03-05T19:17:27.107Z"
   },
   {
    "duration": 191,
    "start_time": "2024-03-05T19:17:27.116Z"
   },
   {
    "duration": 151,
    "start_time": "2024-03-05T19:17:27.308Z"
   },
   {
    "duration": 7,
    "start_time": "2024-03-05T19:17:27.460Z"
   },
   {
    "duration": 133,
    "start_time": "2024-03-05T19:17:27.468Z"
   },
   {
    "duration": 8,
    "start_time": "2024-03-05T19:17:27.602Z"
   },
   {
    "duration": 122,
    "start_time": "2024-03-05T19:17:27.611Z"
   },
   {
    "duration": 7,
    "start_time": "2024-03-05T19:17:27.735Z"
   },
   {
    "duration": 152,
    "start_time": "2024-03-05T19:17:27.743Z"
   },
   {
    "duration": 441,
    "start_time": "2024-03-05T19:17:27.896Z"
   },
   {
    "duration": 10,
    "start_time": "2024-03-05T19:17:28.338Z"
   },
   {
    "duration": 215,
    "start_time": "2024-03-05T19:17:28.350Z"
   },
   {
    "duration": 229,
    "start_time": "2024-03-05T19:17:28.566Z"
   },
   {
    "duration": 10,
    "start_time": "2024-03-05T19:17:28.796Z"
   },
   {
    "duration": 157,
    "start_time": "2024-03-05T19:17:28.807Z"
   },
   {
    "duration": 136,
    "start_time": "2024-03-05T19:17:28.966Z"
   },
   {
    "duration": 72,
    "start_time": "2024-03-05T19:32:05.247Z"
   },
   {
    "duration": 13,
    "start_time": "2024-03-05T19:32:56.492Z"
   },
   {
    "duration": 7,
    "start_time": "2024-03-05T19:33:11.803Z"
   },
   {
    "duration": 419,
    "start_time": "2024-03-05T19:34:02.302Z"
   },
   {
    "duration": 5,
    "start_time": "2024-03-05T19:34:30.939Z"
   },
   {
    "duration": 6,
    "start_time": "2024-03-05T19:35:09.342Z"
   },
   {
    "duration": 6,
    "start_time": "2024-03-05T19:36:16.579Z"
   },
   {
    "duration": 1057,
    "start_time": "2024-03-05T19:36:48.865Z"
   },
   {
    "duration": 104,
    "start_time": "2024-03-05T19:36:49.924Z"
   },
   {
    "duration": 12,
    "start_time": "2024-03-05T19:36:50.029Z"
   },
   {
    "duration": 3,
    "start_time": "2024-03-05T19:36:50.043Z"
   },
   {
    "duration": 1845,
    "start_time": "2024-03-05T19:36:50.047Z"
   },
   {
    "duration": 8,
    "start_time": "2024-03-05T19:36:51.893Z"
   },
   {
    "duration": 34,
    "start_time": "2024-03-05T19:36:51.902Z"
   },
   {
    "duration": 7,
    "start_time": "2024-03-05T19:36:51.937Z"
   },
   {
    "duration": 9,
    "start_time": "2024-03-05T19:36:51.945Z"
   },
   {
    "duration": 7,
    "start_time": "2024-03-05T19:36:51.956Z"
   },
   {
    "duration": 7,
    "start_time": "2024-03-05T19:36:51.964Z"
   },
   {
    "duration": 8,
    "start_time": "2024-03-05T19:36:51.972Z"
   },
   {
    "duration": 27,
    "start_time": "2024-03-05T19:36:51.981Z"
   },
   {
    "duration": 6,
    "start_time": "2024-03-05T19:36:52.009Z"
   },
   {
    "duration": 14,
    "start_time": "2024-03-05T19:36:52.016Z"
   },
   {
    "duration": 5,
    "start_time": "2024-03-05T19:36:52.032Z"
   },
   {
    "duration": 5,
    "start_time": "2024-03-05T19:36:52.038Z"
   },
   {
    "duration": 246,
    "start_time": "2024-03-05T19:36:52.044Z"
   },
   {
    "duration": 9,
    "start_time": "2024-03-05T19:36:52.292Z"
   },
   {
    "duration": 34,
    "start_time": "2024-03-05T19:36:52.302Z"
   },
   {
    "duration": 312,
    "start_time": "2024-03-05T19:36:52.337Z"
   },
   {
    "duration": 7,
    "start_time": "2024-03-05T19:36:52.650Z"
   },
   {
    "duration": 238,
    "start_time": "2024-03-05T19:36:52.658Z"
   },
   {
    "duration": 181,
    "start_time": "2024-03-05T19:36:52.897Z"
   },
   {
    "duration": 4,
    "start_time": "2024-03-05T19:36:53.080Z"
   },
   {
    "duration": 17,
    "start_time": "2024-03-05T19:36:53.085Z"
   },
   {
    "duration": 228,
    "start_time": "2024-03-05T19:36:53.103Z"
   },
   {
    "duration": 162,
    "start_time": "2024-03-05T19:36:53.334Z"
   },
   {
    "duration": 4,
    "start_time": "2024-03-05T19:36:53.501Z"
   },
   {
    "duration": 18,
    "start_time": "2024-03-05T19:36:53.506Z"
   },
   {
    "duration": 295,
    "start_time": "2024-03-05T19:36:53.526Z"
   },
   {
    "duration": 150,
    "start_time": "2024-03-05T19:36:53.822Z"
   },
   {
    "duration": 4,
    "start_time": "2024-03-05T19:36:53.974Z"
   },
   {
    "duration": 7,
    "start_time": "2024-03-05T19:36:53.980Z"
   },
   {
    "duration": 224,
    "start_time": "2024-03-05T19:36:54.001Z"
   },
   {
    "duration": 8,
    "start_time": "2024-03-05T19:36:54.226Z"
   },
   {
    "duration": 174,
    "start_time": "2024-03-05T19:36:54.236Z"
   },
   {
    "duration": 161,
    "start_time": "2024-03-05T19:36:54.411Z"
   },
   {
    "duration": 4,
    "start_time": "2024-03-05T19:36:54.573Z"
   },
   {
    "duration": 9,
    "start_time": "2024-03-05T19:36:54.578Z"
   },
   {
    "duration": 158,
    "start_time": "2024-03-05T19:36:54.588Z"
   },
   {
    "duration": 8,
    "start_time": "2024-03-05T19:36:54.747Z"
   },
   {
    "duration": 118,
    "start_time": "2024-03-05T19:36:54.756Z"
   },
   {
    "duration": 154,
    "start_time": "2024-03-05T19:36:54.875Z"
   },
   {
    "duration": 7,
    "start_time": "2024-03-05T19:36:55.030Z"
   },
   {
    "duration": 150,
    "start_time": "2024-03-05T19:36:55.038Z"
   },
   {
    "duration": 16,
    "start_time": "2024-03-05T19:36:55.189Z"
   },
   {
    "duration": 135,
    "start_time": "2024-03-05T19:36:55.207Z"
   },
   {
    "duration": 8,
    "start_time": "2024-03-05T19:36:55.343Z"
   },
   {
    "duration": 251,
    "start_time": "2024-03-05T19:36:55.352Z"
   },
   {
    "duration": 510,
    "start_time": "2024-03-05T19:36:55.605Z"
   },
   {
    "duration": 989,
    "start_time": "2024-03-05T19:38:16.056Z"
   },
   {
    "duration": 104,
    "start_time": "2024-03-05T19:38:17.047Z"
   },
   {
    "duration": 13,
    "start_time": "2024-03-05T19:38:17.153Z"
   },
   {
    "duration": 3,
    "start_time": "2024-03-05T19:38:17.167Z"
   },
   {
    "duration": 1785,
    "start_time": "2024-03-05T19:38:17.171Z"
   },
   {
    "duration": 7,
    "start_time": "2024-03-05T19:38:18.957Z"
   },
   {
    "duration": 30,
    "start_time": "2024-03-05T19:38:18.965Z"
   },
   {
    "duration": 7,
    "start_time": "2024-03-05T19:38:18.996Z"
   },
   {
    "duration": 18,
    "start_time": "2024-03-05T19:38:19.004Z"
   },
   {
    "duration": 6,
    "start_time": "2024-03-05T19:38:19.025Z"
   },
   {
    "duration": 9,
    "start_time": "2024-03-05T19:38:19.033Z"
   },
   {
    "duration": 27,
    "start_time": "2024-03-05T19:38:19.043Z"
   },
   {
    "duration": 8,
    "start_time": "2024-03-05T19:38:19.071Z"
   },
   {
    "duration": 6,
    "start_time": "2024-03-05T19:38:19.080Z"
   },
   {
    "duration": 17,
    "start_time": "2024-03-05T19:38:19.087Z"
   },
   {
    "duration": 9,
    "start_time": "2024-03-05T19:38:19.106Z"
   },
   {
    "duration": 9,
    "start_time": "2024-03-05T19:38:19.116Z"
   },
   {
    "duration": 283,
    "start_time": "2024-03-05T19:38:19.126Z"
   },
   {
    "duration": 6,
    "start_time": "2024-03-05T19:38:19.411Z"
   },
   {
    "duration": 7,
    "start_time": "2024-03-05T19:38:19.418Z"
   },
   {
    "duration": 340,
    "start_time": "2024-03-05T19:38:19.427Z"
   },
   {
    "duration": 7,
    "start_time": "2024-03-05T19:38:19.768Z"
   },
   {
    "duration": 247,
    "start_time": "2024-03-05T19:38:19.776Z"
   },
   {
    "duration": 190,
    "start_time": "2024-03-05T19:38:20.024Z"
   },
   {
    "duration": 4,
    "start_time": "2024-03-05T19:38:20.216Z"
   },
   {
    "duration": 25,
    "start_time": "2024-03-05T19:38:20.221Z"
   },
   {
    "duration": 257,
    "start_time": "2024-03-05T19:38:20.247Z"
   },
   {
    "duration": 182,
    "start_time": "2024-03-05T19:38:20.507Z"
   },
   {
    "duration": 5,
    "start_time": "2024-03-05T19:38:20.691Z"
   },
   {
    "duration": 7,
    "start_time": "2024-03-05T19:38:20.701Z"
   },
   {
    "duration": 304,
    "start_time": "2024-03-05T19:38:20.709Z"
   },
   {
    "duration": 144,
    "start_time": "2024-03-05T19:38:21.014Z"
   },
   {
    "duration": 4,
    "start_time": "2024-03-05T19:38:21.160Z"
   },
   {
    "duration": 7,
    "start_time": "2024-03-05T19:38:21.165Z"
   },
   {
    "duration": 233,
    "start_time": "2024-03-05T19:38:21.174Z"
   },
   {
    "duration": 6,
    "start_time": "2024-03-05T19:38:21.409Z"
   },
   {
    "duration": 140,
    "start_time": "2024-03-05T19:38:21.416Z"
   },
   {
    "duration": 174,
    "start_time": "2024-03-05T19:38:21.558Z"
   },
   {
    "duration": 4,
    "start_time": "2024-03-05T19:38:21.733Z"
   },
   {
    "duration": 19,
    "start_time": "2024-03-05T19:38:21.738Z"
   },
   {
    "duration": 158,
    "start_time": "2024-03-05T19:38:21.758Z"
   },
   {
    "duration": 7,
    "start_time": "2024-03-05T19:38:21.917Z"
   },
   {
    "duration": 119,
    "start_time": "2024-03-05T19:38:21.925Z"
   },
   {
    "duration": 159,
    "start_time": "2024-03-05T19:38:22.046Z"
   },
   {
    "duration": 8,
    "start_time": "2024-03-05T19:38:22.207Z"
   },
   {
    "duration": 155,
    "start_time": "2024-03-05T19:38:22.217Z"
   },
   {
    "duration": 8,
    "start_time": "2024-03-05T19:38:22.373Z"
   },
   {
    "duration": 136,
    "start_time": "2024-03-05T19:38:22.382Z"
   },
   {
    "duration": 7,
    "start_time": "2024-03-05T19:38:22.520Z"
   },
   {
    "duration": 217,
    "start_time": "2024-03-05T19:38:22.528Z"
   },
   {
    "duration": 496,
    "start_time": "2024-03-05T19:38:22.746Z"
   },
   {
    "duration": 92,
    "start_time": "2024-03-05T19:38:23.243Z"
   },
   {
    "duration": 0,
    "start_time": "2024-03-05T19:38:23.337Z"
   },
   {
    "duration": 0,
    "start_time": "2024-03-05T19:38:23.338Z"
   },
   {
    "duration": 0,
    "start_time": "2024-03-05T19:38:23.338Z"
   },
   {
    "duration": 0,
    "start_time": "2024-03-05T19:38:23.339Z"
   },
   {
    "duration": 0,
    "start_time": "2024-03-05T19:38:23.340Z"
   },
   {
    "duration": 0,
    "start_time": "2024-03-05T19:38:23.341Z"
   },
   {
    "duration": 983,
    "start_time": "2024-03-05T19:38:57.654Z"
   },
   {
    "duration": 102,
    "start_time": "2024-03-05T19:38:58.639Z"
   },
   {
    "duration": 11,
    "start_time": "2024-03-05T19:38:58.744Z"
   },
   {
    "duration": 2,
    "start_time": "2024-03-05T19:38:58.757Z"
   },
   {
    "duration": 1828,
    "start_time": "2024-03-05T19:38:58.760Z"
   },
   {
    "duration": 8,
    "start_time": "2024-03-05T19:39:00.589Z"
   },
   {
    "duration": 31,
    "start_time": "2024-03-05T19:39:00.598Z"
   },
   {
    "duration": 16,
    "start_time": "2024-03-05T19:39:00.630Z"
   },
   {
    "duration": 26,
    "start_time": "2024-03-05T19:39:00.648Z"
   },
   {
    "duration": 50,
    "start_time": "2024-03-05T19:39:00.675Z"
   },
   {
    "duration": 27,
    "start_time": "2024-03-05T19:39:00.727Z"
   },
   {
    "duration": 42,
    "start_time": "2024-03-05T19:39:00.755Z"
   },
   {
    "duration": 43,
    "start_time": "2024-03-05T19:39:00.798Z"
   },
   {
    "duration": 14,
    "start_time": "2024-03-05T19:39:00.842Z"
   },
   {
    "duration": 37,
    "start_time": "2024-03-05T19:39:00.857Z"
   },
   {
    "duration": 21,
    "start_time": "2024-03-05T19:39:00.895Z"
   },
   {
    "duration": 40,
    "start_time": "2024-03-05T19:39:00.918Z"
   },
   {
    "duration": 252,
    "start_time": "2024-03-05T19:39:00.959Z"
   },
   {
    "duration": 6,
    "start_time": "2024-03-05T19:39:01.213Z"
   },
   {
    "duration": 30,
    "start_time": "2024-03-05T19:39:01.220Z"
   },
   {
    "duration": 390,
    "start_time": "2024-03-05T19:39:01.251Z"
   },
   {
    "duration": 7,
    "start_time": "2024-03-05T19:39:01.642Z"
   },
   {
    "duration": 279,
    "start_time": "2024-03-05T19:39:01.650Z"
   },
   {
    "duration": 184,
    "start_time": "2024-03-05T19:39:01.930Z"
   },
   {
    "duration": 5,
    "start_time": "2024-03-05T19:39:02.115Z"
   },
   {
    "duration": 39,
    "start_time": "2024-03-05T19:39:02.121Z"
   },
   {
    "duration": 221,
    "start_time": "2024-03-05T19:39:02.163Z"
   },
   {
    "duration": 162,
    "start_time": "2024-03-05T19:39:02.385Z"
   },
   {
    "duration": 5,
    "start_time": "2024-03-05T19:39:02.548Z"
   },
   {
    "duration": 25,
    "start_time": "2024-03-05T19:39:02.554Z"
   },
   {
    "duration": 316,
    "start_time": "2024-03-05T19:39:02.580Z"
   },
   {
    "duration": 155,
    "start_time": "2024-03-05T19:39:02.897Z"
   },
   {
    "duration": 4,
    "start_time": "2024-03-05T19:39:03.054Z"
   },
   {
    "duration": 12,
    "start_time": "2024-03-05T19:39:03.059Z"
   },
   {
    "duration": 222,
    "start_time": "2024-03-05T19:39:03.072Z"
   },
   {
    "duration": 12,
    "start_time": "2024-03-05T19:39:03.295Z"
   },
   {
    "duration": 140,
    "start_time": "2024-03-05T19:39:03.309Z"
   },
   {
    "duration": 160,
    "start_time": "2024-03-05T19:39:03.450Z"
   },
   {
    "duration": 4,
    "start_time": "2024-03-05T19:39:03.611Z"
   },
   {
    "duration": 6,
    "start_time": "2024-03-05T19:39:03.616Z"
   },
   {
    "duration": 157,
    "start_time": "2024-03-05T19:39:03.624Z"
   },
   {
    "duration": 7,
    "start_time": "2024-03-05T19:39:03.782Z"
   },
   {
    "duration": 113,
    "start_time": "2024-03-05T19:39:03.790Z"
   },
   {
    "duration": 159,
    "start_time": "2024-03-05T19:39:03.904Z"
   },
   {
    "duration": 6,
    "start_time": "2024-03-05T19:39:04.064Z"
   },
   {
    "duration": 159,
    "start_time": "2024-03-05T19:39:04.071Z"
   },
   {
    "duration": 9,
    "start_time": "2024-03-05T19:39:04.231Z"
   },
   {
    "duration": 140,
    "start_time": "2024-03-05T19:39:04.241Z"
   },
   {
    "duration": 7,
    "start_time": "2024-03-05T19:39:04.383Z"
   },
   {
    "duration": 226,
    "start_time": "2024-03-05T19:39:04.391Z"
   },
   {
    "duration": 491,
    "start_time": "2024-03-05T19:39:04.618Z"
   },
   {
    "duration": 983,
    "start_time": "2024-03-05T19:40:32.260Z"
   },
   {
    "duration": 104,
    "start_time": "2024-03-05T19:40:33.244Z"
   },
   {
    "duration": 12,
    "start_time": "2024-03-05T19:40:33.350Z"
   },
   {
    "duration": 7,
    "start_time": "2024-03-05T19:40:33.363Z"
   },
   {
    "duration": 1817,
    "start_time": "2024-03-05T19:40:33.371Z"
   },
   {
    "duration": 11,
    "start_time": "2024-03-05T19:40:35.190Z"
   },
   {
    "duration": 22,
    "start_time": "2024-03-05T19:40:35.202Z"
   },
   {
    "duration": 6,
    "start_time": "2024-03-05T19:40:35.225Z"
   },
   {
    "duration": 7,
    "start_time": "2024-03-05T19:40:35.233Z"
   },
   {
    "duration": 6,
    "start_time": "2024-03-05T19:40:35.242Z"
   },
   {
    "duration": 9,
    "start_time": "2024-03-05T19:40:35.249Z"
   },
   {
    "duration": 10,
    "start_time": "2024-03-05T19:40:35.259Z"
   },
   {
    "duration": 39,
    "start_time": "2024-03-05T19:40:35.270Z"
   },
   {
    "duration": 7,
    "start_time": "2024-03-05T19:40:35.310Z"
   },
   {
    "duration": 19,
    "start_time": "2024-03-05T19:40:35.318Z"
   },
   {
    "duration": 6,
    "start_time": "2024-03-05T19:40:35.339Z"
   },
   {
    "duration": 6,
    "start_time": "2024-03-05T19:40:35.346Z"
   },
   {
    "duration": 254,
    "start_time": "2024-03-05T19:40:35.353Z"
   },
   {
    "duration": 6,
    "start_time": "2024-03-05T19:40:35.608Z"
   },
   {
    "duration": 7,
    "start_time": "2024-03-05T19:40:35.615Z"
   },
   {
    "duration": 326,
    "start_time": "2024-03-05T19:40:35.624Z"
   },
   {
    "duration": 6,
    "start_time": "2024-03-05T19:40:35.951Z"
   },
   {
    "duration": 235,
    "start_time": "2024-03-05T19:40:35.958Z"
   },
   {
    "duration": 186,
    "start_time": "2024-03-05T19:40:36.194Z"
   },
   {
    "duration": 4,
    "start_time": "2024-03-05T19:40:36.382Z"
   },
   {
    "duration": 18,
    "start_time": "2024-03-05T19:40:36.387Z"
   },
   {
    "duration": 226,
    "start_time": "2024-03-05T19:40:36.406Z"
   },
   {
    "duration": 168,
    "start_time": "2024-03-05T19:40:36.635Z"
   },
   {
    "duration": 4,
    "start_time": "2024-03-05T19:40:36.804Z"
   },
   {
    "duration": 7,
    "start_time": "2024-03-05T19:40:36.809Z"
   },
   {
    "duration": 311,
    "start_time": "2024-03-05T19:40:36.817Z"
   },
   {
    "duration": 152,
    "start_time": "2024-03-05T19:40:37.129Z"
   },
   {
    "duration": 4,
    "start_time": "2024-03-05T19:40:37.283Z"
   },
   {
    "duration": 18,
    "start_time": "2024-03-05T19:40:37.288Z"
   },
   {
    "duration": 226,
    "start_time": "2024-03-05T19:40:37.308Z"
   },
   {
    "duration": 6,
    "start_time": "2024-03-05T19:40:37.535Z"
   },
   {
    "duration": 141,
    "start_time": "2024-03-05T19:40:37.542Z"
   },
   {
    "duration": 179,
    "start_time": "2024-03-05T19:40:37.685Z"
   },
   {
    "duration": 4,
    "start_time": "2024-03-05T19:40:37.866Z"
   },
   {
    "duration": 9,
    "start_time": "2024-03-05T19:40:37.871Z"
   },
   {
    "duration": 160,
    "start_time": "2024-03-05T19:40:37.881Z"
   },
   {
    "duration": 7,
    "start_time": "2024-03-05T19:40:38.042Z"
   },
   {
    "duration": 114,
    "start_time": "2024-03-05T19:40:38.050Z"
   },
   {
    "duration": 158,
    "start_time": "2024-03-05T19:40:38.165Z"
   },
   {
    "duration": 7,
    "start_time": "2024-03-05T19:40:38.324Z"
   },
   {
    "duration": 151,
    "start_time": "2024-03-05T19:40:38.332Z"
   },
   {
    "duration": 7,
    "start_time": "2024-03-05T19:40:38.485Z"
   },
   {
    "duration": 145,
    "start_time": "2024-03-05T19:40:38.493Z"
   },
   {
    "duration": 8,
    "start_time": "2024-03-05T19:40:38.639Z"
   },
   {
    "duration": 224,
    "start_time": "2024-03-05T19:40:38.648Z"
   },
   {
    "duration": 520,
    "start_time": "2024-03-05T19:40:38.873Z"
   },
   {
    "duration": 1063,
    "start_time": "2024-03-05T19:46:24.392Z"
   },
   {
    "duration": 110,
    "start_time": "2024-03-05T19:46:25.457Z"
   },
   {
    "duration": 11,
    "start_time": "2024-03-05T19:46:25.569Z"
   },
   {
    "duration": 3,
    "start_time": "2024-03-05T19:46:25.581Z"
   },
   {
    "duration": 1850,
    "start_time": "2024-03-05T19:46:25.586Z"
   },
   {
    "duration": 9,
    "start_time": "2024-03-05T19:46:27.438Z"
   },
   {
    "duration": 24,
    "start_time": "2024-03-05T19:46:27.448Z"
   },
   {
    "duration": 7,
    "start_time": "2024-03-05T19:46:27.474Z"
   },
   {
    "duration": 22,
    "start_time": "2024-03-05T19:46:27.482Z"
   },
   {
    "duration": 7,
    "start_time": "2024-03-05T19:46:27.505Z"
   },
   {
    "duration": 8,
    "start_time": "2024-03-05T19:46:27.514Z"
   },
   {
    "duration": 10,
    "start_time": "2024-03-05T19:46:27.524Z"
   },
   {
    "duration": 9,
    "start_time": "2024-03-05T19:46:27.535Z"
   },
   {
    "duration": 6,
    "start_time": "2024-03-05T19:46:27.548Z"
   },
   {
    "duration": 12,
    "start_time": "2024-03-05T19:46:27.555Z"
   },
   {
    "duration": 38,
    "start_time": "2024-03-05T19:46:27.568Z"
   },
   {
    "duration": 28,
    "start_time": "2024-03-05T19:46:27.608Z"
   },
   {
    "duration": 220,
    "start_time": "2024-03-05T19:46:27.637Z"
   },
   {
    "duration": 7,
    "start_time": "2024-03-05T19:46:27.858Z"
   },
   {
    "duration": 10,
    "start_time": "2024-03-05T19:46:27.867Z"
   },
   {
    "duration": 349,
    "start_time": "2024-03-05T19:46:27.878Z"
   },
   {
    "duration": 6,
    "start_time": "2024-03-05T19:46:28.228Z"
   },
   {
    "duration": 235,
    "start_time": "2024-03-05T19:46:28.236Z"
   },
   {
    "duration": 190,
    "start_time": "2024-03-05T19:46:28.472Z"
   },
   {
    "duration": 5,
    "start_time": "2024-03-05T19:46:28.663Z"
   },
   {
    "duration": 17,
    "start_time": "2024-03-05T19:46:28.669Z"
   },
   {
    "duration": 226,
    "start_time": "2024-03-05T19:46:28.688Z"
   },
   {
    "duration": 178,
    "start_time": "2024-03-05T19:46:28.915Z"
   },
   {
    "duration": 4,
    "start_time": "2024-03-05T19:46:29.094Z"
   },
   {
    "duration": 22,
    "start_time": "2024-03-05T19:46:29.100Z"
   },
   {
    "duration": 302,
    "start_time": "2024-03-05T19:46:29.123Z"
   },
   {
    "duration": 149,
    "start_time": "2024-03-05T19:46:29.427Z"
   },
   {
    "duration": 4,
    "start_time": "2024-03-05T19:46:29.577Z"
   },
   {
    "duration": 20,
    "start_time": "2024-03-05T19:46:29.582Z"
   },
   {
    "duration": 216,
    "start_time": "2024-03-05T19:46:29.603Z"
   },
   {
    "duration": 6,
    "start_time": "2024-03-05T19:46:29.821Z"
   },
   {
    "duration": 138,
    "start_time": "2024-03-05T19:46:29.828Z"
   },
   {
    "duration": 181,
    "start_time": "2024-03-05T19:46:29.967Z"
   },
   {
    "duration": 4,
    "start_time": "2024-03-05T19:46:30.150Z"
   },
   {
    "duration": 31,
    "start_time": "2024-03-05T19:46:30.155Z"
   },
   {
    "duration": 191,
    "start_time": "2024-03-05T19:46:30.190Z"
   },
   {
    "duration": 9,
    "start_time": "2024-03-05T19:46:30.383Z"
   },
   {
    "duration": 158,
    "start_time": "2024-03-05T19:46:30.394Z"
   },
   {
    "duration": 162,
    "start_time": "2024-03-05T19:46:30.555Z"
   },
   {
    "duration": 7,
    "start_time": "2024-03-05T19:46:30.718Z"
   },
   {
    "duration": 169,
    "start_time": "2024-03-05T19:46:30.726Z"
   },
   {
    "duration": 9,
    "start_time": "2024-03-05T19:46:30.897Z"
   },
   {
    "duration": 167,
    "start_time": "2024-03-05T19:46:30.908Z"
   },
   {
    "duration": 7,
    "start_time": "2024-03-05T19:46:31.076Z"
   },
   {
    "duration": 246,
    "start_time": "2024-03-05T19:46:31.084Z"
   },
   {
    "duration": 516,
    "start_time": "2024-03-05T19:46:31.331Z"
   },
   {
    "duration": 9,
    "start_time": "2024-03-05T19:46:31.848Z"
   },
   {
    "duration": 225,
    "start_time": "2024-03-05T19:46:31.858Z"
   },
   {
    "duration": 215,
    "start_time": "2024-03-05T19:46:32.084Z"
   },
   {
    "duration": 7,
    "start_time": "2024-03-05T19:46:32.301Z"
   },
   {
    "duration": 176,
    "start_time": "2024-03-05T19:46:32.310Z"
   },
   {
    "duration": 149,
    "start_time": "2024-03-05T19:46:32.488Z"
   },
   {
    "duration": 1020,
    "start_time": "2024-03-05T19:49:17.231Z"
   },
   {
    "duration": 107,
    "start_time": "2024-03-05T19:49:18.253Z"
   },
   {
    "duration": 13,
    "start_time": "2024-03-05T19:49:18.362Z"
   },
   {
    "duration": 3,
    "start_time": "2024-03-05T19:49:18.377Z"
   },
   {
    "duration": 1885,
    "start_time": "2024-03-05T19:49:18.382Z"
   },
   {
    "duration": 10,
    "start_time": "2024-03-05T19:49:20.268Z"
   },
   {
    "duration": 24,
    "start_time": "2024-03-05T19:49:20.280Z"
   },
   {
    "duration": 11,
    "start_time": "2024-03-05T19:49:20.306Z"
   },
   {
    "duration": 11,
    "start_time": "2024-03-05T19:49:20.318Z"
   },
   {
    "duration": 9,
    "start_time": "2024-03-05T19:49:20.332Z"
   },
   {
    "duration": 102,
    "start_time": "2024-03-05T19:49:20.342Z"
   },
   {
    "duration": 11,
    "start_time": "2024-03-05T19:49:20.445Z"
   },
   {
    "duration": 10,
    "start_time": "2024-03-05T19:49:20.458Z"
   },
   {
    "duration": 8,
    "start_time": "2024-03-05T19:49:20.469Z"
   },
   {
    "duration": 32,
    "start_time": "2024-03-05T19:49:20.479Z"
   },
   {
    "duration": 8,
    "start_time": "2024-03-05T19:49:20.513Z"
   },
   {
    "duration": 6,
    "start_time": "2024-03-05T19:49:20.522Z"
   },
   {
    "duration": 246,
    "start_time": "2024-03-05T19:49:20.529Z"
   },
   {
    "duration": 6,
    "start_time": "2024-03-05T19:49:20.777Z"
   },
   {
    "duration": 18,
    "start_time": "2024-03-05T19:49:20.784Z"
   },
   {
    "duration": 362,
    "start_time": "2024-03-05T19:49:20.804Z"
   },
   {
    "duration": 7,
    "start_time": "2024-03-05T19:49:21.168Z"
   },
   {
    "duration": 253,
    "start_time": "2024-03-05T19:49:21.177Z"
   },
   {
    "duration": 184,
    "start_time": "2024-03-05T19:49:21.431Z"
   },
   {
    "duration": 5,
    "start_time": "2024-03-05T19:49:21.617Z"
   },
   {
    "duration": 8,
    "start_time": "2024-03-05T19:49:21.624Z"
   },
   {
    "duration": 239,
    "start_time": "2024-03-05T19:49:21.634Z"
   },
   {
    "duration": 176,
    "start_time": "2024-03-05T19:49:21.877Z"
   },
   {
    "duration": 4,
    "start_time": "2024-03-05T19:49:22.055Z"
   },
   {
    "duration": 9,
    "start_time": "2024-03-05T19:49:22.060Z"
   },
   {
    "duration": 232,
    "start_time": "2024-03-05T19:49:22.071Z"
   },
   {
    "duration": 223,
    "start_time": "2024-03-05T19:49:22.305Z"
   },
   {
    "duration": 5,
    "start_time": "2024-03-05T19:49:22.530Z"
   },
   {
    "duration": 9,
    "start_time": "2024-03-05T19:49:22.536Z"
   },
   {
    "duration": 232,
    "start_time": "2024-03-05T19:49:22.547Z"
   },
   {
    "duration": 6,
    "start_time": "2024-03-05T19:49:22.781Z"
   },
   {
    "duration": 144,
    "start_time": "2024-03-05T19:49:22.789Z"
   },
   {
    "duration": 169,
    "start_time": "2024-03-05T19:49:22.934Z"
   },
   {
    "duration": 4,
    "start_time": "2024-03-05T19:49:23.105Z"
   },
   {
    "duration": 8,
    "start_time": "2024-03-05T19:49:23.111Z"
   },
   {
    "duration": 167,
    "start_time": "2024-03-05T19:49:23.120Z"
   },
   {
    "duration": 7,
    "start_time": "2024-03-05T19:49:23.289Z"
   },
   {
    "duration": 106,
    "start_time": "2024-03-05T19:49:23.307Z"
   },
   {
    "duration": 160,
    "start_time": "2024-03-05T19:49:23.414Z"
   },
   {
    "duration": 7,
    "start_time": "2024-03-05T19:49:23.575Z"
   },
   {
    "duration": 153,
    "start_time": "2024-03-05T19:49:23.583Z"
   },
   {
    "duration": 8,
    "start_time": "2024-03-05T19:49:23.737Z"
   },
   {
    "duration": 146,
    "start_time": "2024-03-05T19:49:23.746Z"
   },
   {
    "duration": 9,
    "start_time": "2024-03-05T19:49:23.893Z"
   },
   {
    "duration": 160,
    "start_time": "2024-03-05T19:49:23.904Z"
   },
   {
    "duration": 559,
    "start_time": "2024-03-05T19:49:24.065Z"
   },
   {
    "duration": 8,
    "start_time": "2024-03-05T19:49:24.625Z"
   },
   {
    "duration": 226,
    "start_time": "2024-03-05T19:49:24.634Z"
   },
   {
    "duration": 212,
    "start_time": "2024-03-05T19:49:24.862Z"
   },
   {
    "duration": 6,
    "start_time": "2024-03-05T19:49:25.075Z"
   },
   {
    "duration": 173,
    "start_time": "2024-03-05T19:49:25.082Z"
   },
   {
    "duration": 165,
    "start_time": "2024-03-05T19:49:25.256Z"
   },
   {
    "duration": 2081,
    "start_time": "2024-03-06T05:33:51.916Z"
   },
   {
    "duration": 270,
    "start_time": "2024-03-06T05:33:53.999Z"
   },
   {
    "duration": 14,
    "start_time": "2024-03-06T05:33:54.271Z"
   },
   {
    "duration": 4,
    "start_time": "2024-03-06T05:33:54.287Z"
   },
   {
    "duration": 4708,
    "start_time": "2024-03-06T05:33:54.292Z"
   },
   {
    "duration": 10,
    "start_time": "2024-03-06T05:33:59.002Z"
   },
   {
    "duration": 71,
    "start_time": "2024-03-06T05:33:59.014Z"
   },
   {
    "duration": 9,
    "start_time": "2024-03-06T05:33:59.086Z"
   },
   {
    "duration": 7,
    "start_time": "2024-03-06T05:33:59.096Z"
   },
   {
    "duration": 8,
    "start_time": "2024-03-06T05:33:59.166Z"
   },
   {
    "duration": 11,
    "start_time": "2024-03-06T05:33:59.175Z"
   },
   {
    "duration": 11,
    "start_time": "2024-03-06T05:33:59.187Z"
   },
   {
    "duration": 74,
    "start_time": "2024-03-06T05:33:59.200Z"
   },
   {
    "duration": 9,
    "start_time": "2024-03-06T05:33:59.277Z"
   },
   {
    "duration": 11,
    "start_time": "2024-03-06T05:33:59.287Z"
   },
   {
    "duration": 70,
    "start_time": "2024-03-06T05:33:59.299Z"
   },
   {
    "duration": 17,
    "start_time": "2024-03-06T05:33:59.371Z"
   },
   {
    "duration": 593,
    "start_time": "2024-03-06T05:33:59.389Z"
   },
   {
    "duration": 6,
    "start_time": "2024-03-06T05:33:59.984Z"
   },
   {
    "duration": 7,
    "start_time": "2024-03-06T05:33:59.991Z"
   },
   {
    "duration": 774,
    "start_time": "2024-03-06T05:33:59.999Z"
   },
   {
    "duration": 10,
    "start_time": "2024-03-06T05:34:00.775Z"
   },
   {
    "duration": 580,
    "start_time": "2024-03-06T05:34:00.787Z"
   },
   {
    "duration": 409,
    "start_time": "2024-03-06T05:34:01.369Z"
   },
   {
    "duration": 6,
    "start_time": "2024-03-06T05:34:01.780Z"
   },
   {
    "duration": 83,
    "start_time": "2024-03-06T05:34:01.788Z"
   },
   {
    "duration": 536,
    "start_time": "2024-03-06T05:34:01.873Z"
   },
   {
    "duration": 471,
    "start_time": "2024-03-06T05:34:02.411Z"
   },
   {
    "duration": 5,
    "start_time": "2024-03-06T05:34:02.883Z"
   },
   {
    "duration": 8,
    "start_time": "2024-03-06T05:34:02.889Z"
   },
   {
    "duration": 869,
    "start_time": "2024-03-06T05:34:02.899Z"
   },
   {
    "duration": 338,
    "start_time": "2024-03-06T05:34:03.770Z"
   },
   {
    "duration": 59,
    "start_time": "2024-03-06T05:34:04.109Z"
   },
   {
    "duration": 9,
    "start_time": "2024-03-06T05:34:04.170Z"
   },
   {
    "duration": 607,
    "start_time": "2024-03-06T05:34:04.181Z"
   },
   {
    "duration": 8,
    "start_time": "2024-03-06T05:34:04.790Z"
   },
   {
    "duration": 310,
    "start_time": "2024-03-06T05:34:04.800Z"
   },
   {
    "duration": 385,
    "start_time": "2024-03-06T05:34:05.111Z"
   },
   {
    "duration": 4,
    "start_time": "2024-03-06T05:34:05.498Z"
   },
   {
    "duration": 63,
    "start_time": "2024-03-06T05:34:05.504Z"
   },
   {
    "duration": 320,
    "start_time": "2024-03-06T05:34:05.570Z"
   },
   {
    "duration": 9,
    "start_time": "2024-03-06T05:34:05.891Z"
   },
   {
    "duration": 294,
    "start_time": "2024-03-06T05:34:05.902Z"
   },
   {
    "duration": 378,
    "start_time": "2024-03-06T05:34:06.198Z"
   },
   {
    "duration": 8,
    "start_time": "2024-03-06T05:34:06.578Z"
   },
   {
    "duration": 396,
    "start_time": "2024-03-06T05:34:06.587Z"
   },
   {
    "duration": 9,
    "start_time": "2024-03-06T05:34:06.984Z"
   },
   {
    "duration": 404,
    "start_time": "2024-03-06T05:34:06.994Z"
   },
   {
    "duration": 69,
    "start_time": "2024-03-06T05:34:07.400Z"
   },
   {
    "duration": 468,
    "start_time": "2024-03-06T05:34:07.471Z"
   },
   {
    "duration": 576,
    "start_time": "2024-03-06T05:34:07.941Z"
   },
   {
    "duration": 9,
    "start_time": "2024-03-06T05:34:08.519Z"
   },
   {
    "duration": 261,
    "start_time": "2024-03-06T05:34:08.529Z"
   },
   {
    "duration": 292,
    "start_time": "2024-03-06T05:34:08.792Z"
   },
   {
    "duration": 7,
    "start_time": "2024-03-06T05:34:09.085Z"
   },
   {
    "duration": 183,
    "start_time": "2024-03-06T05:34:09.094Z"
   },
   {
    "duration": 169,
    "start_time": "2024-03-06T05:34:09.278Z"
   }
  ],
  "colab": {
   "provenance": []
  },
  "kernelspec": {
   "display_name": "Python 3 (ipykernel)",
   "language": "python",
   "name": "python3"
  },
  "language_info": {
   "codemirror_mode": {
    "name": "ipython",
    "version": 3
   },
   "file_extension": ".py",
   "mimetype": "text/x-python",
   "name": "python",
   "nbconvert_exporter": "python",
   "pygments_lexer": "ipython3",
   "version": "3.12.7"
  },
  "toc": {
   "base_numbering": 1,
   "nav_menu": {},
   "number_sections": true,
   "sideBar": true,
   "skip_h1_title": true,
   "title_cell": "Table of Contents",
   "title_sidebar": "Contents",
   "toc_cell": false,
   "toc_position": {
    "height": "calc(100% - 180px)",
    "left": "10px",
    "top": "150px",
    "width": "568.889px"
   },
   "toc_section_display": true,
   "toc_window_display": false
  }
 },
 "nbformat": 4,
 "nbformat_minor": 4
}
